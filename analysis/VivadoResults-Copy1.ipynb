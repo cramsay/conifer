{
 "cells": [
  {
   "cell_type": "code",
   "execution_count": 1,
   "metadata": {},
   "outputs": [],
   "source": [
    "from random import *\n",
    "from math   import *\n",
    "import enum\n",
    "from textwrap import dedent\n",
    "import numpy as np\n",
    "from scipy.signal import firwin, firwin2, minimum_phase\n",
    "import pandas as pd\n",
    "import fileinput"
   ]
  },
  {
   "cell_type": "code",
   "execution_count": 2,
   "metadata": {},
   "outputs": [],
   "source": [
    "class FiltType(enum.Enum):\n",
    "   LP = 1\n",
    "   BP = 2\n",
    "   HP = 3\n",
    "\n",
    "class Coeffs():\n",
    "    def __init__(self, filt_type, taps, cutoffs, width, min_phase=False, type1=False, half_band=False):\n",
    "        self.filt_type = filt_type\n",
    "        self.min_phase = min_phase\n",
    "        self.half_band = half_band\n",
    "        self.type1 = type1\n",
    "        self.taps = int(taps)\n",
    "        self.cutoffs = cutoffs\n",
    "        self.width = int(width)\n",
    "    \n",
    "    @property\n",
    "    def coeffs(self):\n",
    "        if self.filt_type == FiltType.LP:\n",
    "            amps = [1,1,0,0]\n",
    "            asym = False\n",
    "        elif self.filt_type == FiltType.HP:\n",
    "            amps = [0,0,1,1]\n",
    "            asym = True\n",
    "        elif self.filt_type == FiltType.BP:\n",
    "            amps = [0,0,1,1,0,0]\n",
    "            asym = True\n",
    "\n",
    "        if self.min_phase:\n",
    "            ws = minimum_phase(firwin2(self.taps*2, self.cutoffs, amps, antisymmetric=asym))\n",
    "        elif self.type1:\n",
    "            ws = firwin2(self.taps-1, self.cutoffs, amps, antisymmetric=asym)\n",
    "            ws = np.append(ws, [0])\n",
    "        elif self.half_band:\n",
    "            ws = firwin(self.taps+1, 0.5)[1:]\n",
    "        else:\n",
    "            ws = firwin2(self.taps, self.cutoffs, amps, antisymmetric=asym)\n",
    "        return np.round(ws * (2**(self.width-1)-1)).astype(int)\n",
    "    \n",
    "    @property\n",
    "    def coeffs_vec(self):\n",
    "        return '(' + ':>'.join([f'({c})' for c in self.coeffs]) + \\\n",
    "               f':> Nil :: Vec {len(self.coeffs)} (Signed {self.width}) )'\n",
    "    \n",
    "    @property\n",
    "    def coeffs_coe(self):\n",
    "        return 'RADIX = 10;\\n' + \\\n",
    "               'COEFDATA = ' + ','.join([str(c) for c in self.coeffs]) + ';'\n",
    "    \n",
    "    @property\n",
    "    def name(self):\n",
    "        return self.filt_type.name + \\\n",
    "               '_N' + str(self.taps) + \\\n",
    "               '_F' + '-'.join(str(f) for f in self.cutoffs) + \\\n",
    "               '_CB' + str(self.width)\n",
    "\n",
    "class FiltStructure(enum.Enum):\n",
    "   PolyDir = 1\n",
    "   PolyMcm = 2\n",
    "   FfaDir  = 3\n",
    "   FfaMcm  = 4\n",
    "\n",
    "class FiltSpec():\n",
    "    def __init__(self, structure, parallelism, width, coeffs):\n",
    "        self.structure = structure\n",
    "        self.p = parallelism\n",
    "        self.width = width\n",
    "        self.coeffs = coeffs\n",
    "    \n",
    "    @property\n",
    "    def name(self):\n",
    "        return self.structure.name + \\\n",
    "               '_P' + str(self.p) + \\\n",
    "               '_IB' + str(self.width) + \\\n",
    "               '_' + self.coeffs.name\n",
    "    \n",
    "    @property\n",
    "    def subfilt_taps(self):\n",
    "        return int(self.coeffs.taps / self.p)\n",
    "    \n",
    "    @property\n",
    "    def _f_src(self):\n",
    "        \n",
    "        if self.structure == FiltStructure.PolyDir:\n",
    "            return f\"\"\"\n",
    "                   fir :: HiddenClockResetEnable dom\n",
    "                       => Signal dom (Vec {self.p} (Signed {self.width}))\n",
    "                       -> Signal dom (Vec {self.p} (Signed ({self.width} + {self.coeffs.width} + CLog 2 {self.subfilt_taps} + CLog 2 {self.p})))\n",
    "                   fir xs = polyphase (SNat :: SNat {self.p}) firDirect (map resize $ {self.coeffs.coeffs_vec}) (fmap (map resize) xs)\n",
    "                   \"\"\"\n",
    "        \n",
    "        elif self.structure == FiltStructure.PolyMcm:\n",
    "            return f\"\"\"\n",
    "                   fir :: HiddenClockResetEnable dom\n",
    "                       => Signal dom (Vec {self.p} (Signed {self.width}))\n",
    "                       -> Signal dom (Vec {self.p} (Signed ({self.width} + {self.coeffs.width} + CLog 2 {self.subfilt_taps} + CLog 2 {self.p})))\n",
    "                   fir xs = polyphase_MCM\n",
    "                              (SNat :: SNat {self.p})\n",
    "                              $(mcmPipelinedDepthHwTH HcubShallow 3 (toList $ map fromIntegral {self.coeffs.coeffs_vec}))\n",
    "                              (fmap (map resize) xs)\n",
    "                   \"\"\"\n",
    "        elif self.structure == FiltStructure.FfaDir:\n",
    "            return f\"\"\"\n",
    "                   fir :: HiddenClockResetEnable dom\n",
    "                       => Signal dom (Vec {self.p} (Signed {self.width}))\n",
    "                       -> Signal dom (Vec {self.p} (Signed ({self.width} + {self.coeffs.width} + CLog 2 {self.subfilt_taps}+ 4*(CLog 2 {self.p}))))\n",
    "                   fir xs = $(genFFA (SNat :: SNat {self.p}))\n",
    "                                firDirect\n",
    "                                (map resize {self.coeffs.coeffs_vec})\n",
    "                                (fmap (map resize) xs)\n",
    "                   \"\"\"\n",
    "        elif self.structure == FiltStructure.FfaMcm:\n",
    "            return f\"\"\"\n",
    "                   fir :: HiddenClockResetEnable dom\n",
    "                       => Signal dom (Vec {self.p} (Signed {self.width}))\n",
    "                       -> Signal dom (Vec {self.p} (Signed ({self.width} + {self.coeffs.width} + CLog 2 {self.subfilt_taps}+ 4*(CLog 2 {self.p}))))\n",
    "                   fir xs = $(genFFA_MCM (mcmPipelinedDepthHwTH HcubShallow 3)\n",
    "                                         (SNat :: SNat {self.p})\n",
    "                                         (map fromIntegral {self.coeffs.coeffs_vec})\n",
    "                            ) (fmap (map resize) xs)\n",
    "                   \"\"\"\n",
    "\n",
    "    @property\n",
    "    def src(self):\n",
    "        return dedent(\"\"\"\n",
    "               import Clash.Prelude\n",
    "               import Filter.FFA\n",
    "               import Filter.Serial\n",
    "               import Filter.Polyphase\n",
    "               import Graph.MCM\n",
    "               \n",
    "               createDomain vSystem{vName=\"SystemNR\", vResetPolarity=ActiveLow}\n",
    "               \n",
    "               \"\"\") + dedent(self._f_src) + dedent(\"\"\"\n",
    "               {-# ANN topEntity\n",
    "                 (Synthesize\n",
    "                   { t_name   = \"fir_dut\"\n",
    "                   , t_inputs = [ PortName \"clk\"\n",
    "                                , PortName \"rst\"\n",
    "                                , PortName \"x\" ]\n",
    "                   , t_output = PortName \"y\"\n",
    "                   }) #-}\n",
    "               topEntity c r x = exposeClockResetEnable (fir @SystemNR x) c r (toEnable $ pure True)\n",
    "               \"\"\")"
   ]
  },
  {
   "cell_type": "code",
   "execution_count": 3,
   "metadata": {},
   "outputs": [],
   "source": [
    "def run_synth(test_group, fir, src_exist=False):\n",
    "    print(f'Starting {test_group}/{fir.name}')\n",
    "    synth_dir = f'./outputs/{test_group}/{fir.name}'\n",
    "    if not src_exist:\n",
    "        !mkdir -p {synth_dir}\n",
    "        !cp -r ../synth/* {synth_dir}/\n",
    "        with open(f'{synth_dir}/Filter.hs', 'w') as f:\n",
    "                f.write(fir.src)\n",
    "    !nix-shell --command 'make -C {synth_dir}' ../shell.nix &> {synth_dir}/build.log"
   ]
  },
  {
   "cell_type": "code",
   "execution_count": 6,
   "metadata": {
    "collapsed": true,
    "jupyter": {
     "outputs_hidden": true,
     "source_hidden": true
    },
    "tags": []
   },
   "outputs": [
    {
     "name": "stdout",
     "output_type": "stream",
     "text": [
      "Starting all_strucs_all_par_taps32_linphase/PolyDir_P2_IB16_LP_N32_F0-0.3-0.4-1.0_CB16\n",
      "Starting all_strucs_all_par_taps32_linphase/PolyMcm_P2_IB16_LP_N32_F0-0.3-0.4-1.0_CB16\n",
      "Starting all_strucs_all_par_taps32_linphase/FfaDir_P2_IB16_LP_N32_F0-0.3-0.4-1.0_CB16\n",
      "Starting all_strucs_all_par_taps32_linphase/FfaMcm_P2_IB16_LP_N32_F0-0.3-0.4-1.0_CB16\n",
      "Starting all_strucs_all_par_taps32_linphase/PolyDir_P4_IB16_LP_N32_F0-0.3-0.4-1.0_CB16\n",
      "Starting all_strucs_all_par_taps32_linphase/PolyMcm_P4_IB16_LP_N32_F0-0.3-0.4-1.0_CB16\n",
      "Starting all_strucs_all_par_taps32_linphase/FfaDir_P4_IB16_LP_N32_F0-0.3-0.4-1.0_CB16\n",
      "Starting all_strucs_all_par_taps32_linphase/FfaMcm_P4_IB16_LP_N32_F0-0.3-0.4-1.0_CB16\n",
      "Starting all_strucs_all_par_taps32_linphase/PolyDir_P8_IB16_LP_N32_F0-0.3-0.4-1.0_CB16\n",
      "Starting all_strucs_all_par_taps32_linphase/PolyMcm_P8_IB16_LP_N32_F0-0.3-0.4-1.0_CB16\n",
      "Starting all_strucs_all_par_taps32_linphase/FfaDir_P8_IB16_LP_N32_F0-0.3-0.4-1.0_CB16\n",
      "Starting all_strucs_all_par_taps32_linphase/FfaMcm_P8_IB16_LP_N32_F0-0.3-0.4-1.0_CB16\n",
      "Starting all_strucs_all_par_taps32_linphase/PolyDir_P16_IB16_LP_N32_F0-0.3-0.4-1.0_CB16\n",
      "Starting all_strucs_all_par_taps32_linphase/PolyMcm_P16_IB16_LP_N32_F0-0.3-0.4-1.0_CB16\n",
      "Starting all_strucs_all_par_taps32_linphase/FfaDir_P16_IB16_LP_N32_F0-0.3-0.4-1.0_CB16\n",
      "Starting all_strucs_all_par_taps32_linphase/FfaMcm_P16_IB16_LP_N32_F0-0.3-0.4-1.0_CB16\n"
     ]
    }
   ],
   "source": [
    "# First test where we loop through all the filtTypes and parallelisms for 64 coeffs\n",
    "for parallelism in [2,4,8,16]:\n",
    "    for filtStruct in FiltStructure:\n",
    "        ws = Coeffs(FiltType.LP, 32, [0,0.3,0.4,1.0], 16)\n",
    "        fir = FiltSpec(filtStruct, parallelism, 16, ws)\n",
    "        run_synth('all_strucs_all_par_taps32_linphase', fir)"
   ]
  },
  {
   "cell_type": "code",
   "execution_count": 45,
   "metadata": {
    "collapsed": true,
    "jupyter": {
     "outputs_hidden": true
    },
    "tags": []
   },
   "outputs": [
    {
     "name": "stdout",
     "output_type": "stream",
     "text": [
      "Starting all_strucs_var_taps_par16_minphase/PolyDir_P16_IB16_LP_N16_F0-0.3-0.4-1.0_CB16\n",
      "Starting all_strucs_var_taps_par16_minphase/PolyMcm_P16_IB16_LP_N16_F0-0.3-0.4-1.0_CB16\n",
      "Starting all_strucs_var_taps_par16_minphase/FfaDir_P16_IB16_LP_N16_F0-0.3-0.4-1.0_CB16\n",
      "Starting all_strucs_var_taps_par16_minphase/FfaMcm_P16_IB16_LP_N16_F0-0.3-0.4-1.0_CB16\n",
      "Starting all_strucs_var_taps_par16_minphase/PolyDir_P16_IB16_LP_N32_F0-0.3-0.4-1.0_CB16\n",
      "Starting all_strucs_var_taps_par16_minphase/PolyMcm_P16_IB16_LP_N32_F0-0.3-0.4-1.0_CB16\n",
      "Starting all_strucs_var_taps_par16_minphase/FfaDir_P16_IB16_LP_N32_F0-0.3-0.4-1.0_CB16\n",
      "Starting all_strucs_var_taps_par16_minphase/FfaMcm_P16_IB16_LP_N32_F0-0.3-0.4-1.0_CB16\n",
      "Starting all_strucs_var_taps_par16_minphase/PolyDir_P16_IB16_LP_N64_F0-0.3-0.4-1.0_CB16\n",
      "Starting all_strucs_var_taps_par16_minphase/PolyMcm_P16_IB16_LP_N64_F0-0.3-0.4-1.0_CB16\n",
      "Starting all_strucs_var_taps_par16_minphase/FfaDir_P16_IB16_LP_N64_F0-0.3-0.4-1.0_CB16\n",
      "Starting all_strucs_var_taps_par16_minphase/FfaMcm_P16_IB16_LP_N64_F0-0.3-0.4-1.0_CB16\n",
      "Starting all_strucs_var_taps_par16_minphase/PolyDir_P16_IB16_LP_N128_F0-0.3-0.4-1.0_CB16\n",
      "Starting all_strucs_var_taps_par16_minphase/PolyMcm_P16_IB16_LP_N128_F0-0.3-0.4-1.0_CB16\n",
      "Starting all_strucs_var_taps_par16_minphase/FfaDir_P16_IB16_LP_N128_F0-0.3-0.4-1.0_CB16\n",
      "Starting all_strucs_var_taps_par16_minphase/FfaMcm_P16_IB16_LP_N128_F0-0.3-0.4-1.0_CB16\n"
     ]
    }
   ],
   "source": [
    "for parallelism in [2,4,8,16]:\n",
    "    for taps in [2,4,8,16,32,64,128]:\n",
    "        if parallelism > taps:\n",
    "            continue\n",
    "        for filtStruct in FiltStructure:\n",
    "            ws = Coeffs(FiltType.LP, taps, [0,0.3,0.4,1.0], 16, min_phase=True)\n",
    "            fir = FiltSpec(filtStruct, parallelism, 16, ws)\n",
    "            run_synth(f'all_strucs_var_taps_par{parallelism}_minphase', fir)"
   ]
  },
  {
   "cell_type": "code",
   "execution_count": null,
   "metadata": {},
   "outputs": [],
   "source": [
    "for parallelism in [2,4,8,16]:\n",
    "    for taps in [2,4,8,16,32,64,128]:\n",
    "        if parallelism > taps:\n",
    "            continue\n",
    "        for filtStruct in FiltStructure:\n",
    "            ws = Coeffs(FiltType.LP, taps, [0,0.3,0.4,1.0], 16)\n",
    "            fir = FiltSpec(filtStruct, parallelism, 16, ws)\n",
    "            run_synth(f'all_strucs_var_taps_par{parallelism}_linphase', fir) #Really type II..."
   ]
  },
  {
   "cell_type": "code",
   "execution_count": 46,
   "metadata": {
    "collapsed": true,
    "jupyter": {
     "outputs_hidden": true
    },
    "tags": []
   },
   "outputs": [
    {
     "name": "stdout",
     "output_type": "stream",
     "text": [
      "Starting all_strucs_var_taps_par2_type1/PolyDir_P2_IB16_LP_N2_F0-0.3-0.4-1.0_CB16\n",
      "Starting all_strucs_var_taps_par2_type1/PolyMcm_P2_IB16_LP_N2_F0-0.3-0.4-1.0_CB16\n",
      "Starting all_strucs_var_taps_par2_type1/FfaDir_P2_IB16_LP_N2_F0-0.3-0.4-1.0_CB16\n",
      "Starting all_strucs_var_taps_par2_type1/FfaMcm_P2_IB16_LP_N2_F0-0.3-0.4-1.0_CB16\n",
      "Starting all_strucs_var_taps_par2_type1/PolyDir_P2_IB16_LP_N4_F0-0.3-0.4-1.0_CB16\n",
      "Starting all_strucs_var_taps_par2_type1/PolyMcm_P2_IB16_LP_N4_F0-0.3-0.4-1.0_CB16\n",
      "Starting all_strucs_var_taps_par2_type1/FfaDir_P2_IB16_LP_N4_F0-0.3-0.4-1.0_CB16\n",
      "Starting all_strucs_var_taps_par2_type1/FfaMcm_P2_IB16_LP_N4_F0-0.3-0.4-1.0_CB16\n",
      "Starting all_strucs_var_taps_par2_type1/PolyDir_P2_IB16_LP_N8_F0-0.3-0.4-1.0_CB16\n",
      "Starting all_strucs_var_taps_par2_type1/PolyMcm_P2_IB16_LP_N8_F0-0.3-0.4-1.0_CB16\n",
      "Starting all_strucs_var_taps_par2_type1/FfaDir_P2_IB16_LP_N8_F0-0.3-0.4-1.0_CB16\n",
      "Starting all_strucs_var_taps_par2_type1/FfaMcm_P2_IB16_LP_N8_F0-0.3-0.4-1.0_CB16\n",
      "Starting all_strucs_var_taps_par2_type1/PolyDir_P2_IB16_LP_N16_F0-0.3-0.4-1.0_CB16\n",
      "Starting all_strucs_var_taps_par2_type1/PolyMcm_P2_IB16_LP_N16_F0-0.3-0.4-1.0_CB16\n",
      "Starting all_strucs_var_taps_par2_type1/FfaDir_P2_IB16_LP_N16_F0-0.3-0.4-1.0_CB16\n",
      "Starting all_strucs_var_taps_par2_type1/FfaMcm_P2_IB16_LP_N16_F0-0.3-0.4-1.0_CB16\n",
      "Starting all_strucs_var_taps_par2_type1/PolyDir_P2_IB16_LP_N32_F0-0.3-0.4-1.0_CB16\n",
      "Starting all_strucs_var_taps_par2_type1/PolyMcm_P2_IB16_LP_N32_F0-0.3-0.4-1.0_CB16\n",
      "Starting all_strucs_var_taps_par2_type1/FfaDir_P2_IB16_LP_N32_F0-0.3-0.4-1.0_CB16\n",
      "Starting all_strucs_var_taps_par2_type1/FfaMcm_P2_IB16_LP_N32_F0-0.3-0.4-1.0_CB16\n",
      "Starting all_strucs_var_taps_par2_type1/PolyDir_P2_IB16_LP_N64_F0-0.3-0.4-1.0_CB16\n",
      "Starting all_strucs_var_taps_par2_type1/PolyMcm_P2_IB16_LP_N64_F0-0.3-0.4-1.0_CB16\n",
      "Starting all_strucs_var_taps_par2_type1/FfaDir_P2_IB16_LP_N64_F0-0.3-0.4-1.0_CB16\n",
      "Starting all_strucs_var_taps_par2_type1/FfaMcm_P2_IB16_LP_N64_F0-0.3-0.4-1.0_CB16\n",
      "Starting all_strucs_var_taps_par2_type1/PolyDir_P2_IB16_LP_N128_F0-0.3-0.4-1.0_CB16\n",
      "Starting all_strucs_var_taps_par2_type1/PolyMcm_P2_IB16_LP_N128_F0-0.3-0.4-1.0_CB16\n",
      "Starting all_strucs_var_taps_par2_type1/FfaDir_P2_IB16_LP_N128_F0-0.3-0.4-1.0_CB16\n",
      "Starting all_strucs_var_taps_par2_type1/FfaMcm_P2_IB16_LP_N128_F0-0.3-0.4-1.0_CB16\n",
      "Starting all_strucs_var_taps_par4_type1/PolyDir_P4_IB16_LP_N4_F0-0.3-0.4-1.0_CB16\n",
      "Starting all_strucs_var_taps_par4_type1/PolyMcm_P4_IB16_LP_N4_F0-0.3-0.4-1.0_CB16\n",
      "Starting all_strucs_var_taps_par4_type1/FfaDir_P4_IB16_LP_N4_F0-0.3-0.4-1.0_CB16\n",
      "Starting all_strucs_var_taps_par4_type1/FfaMcm_P4_IB16_LP_N4_F0-0.3-0.4-1.0_CB16\n",
      "Starting all_strucs_var_taps_par4_type1/PolyDir_P4_IB16_LP_N8_F0-0.3-0.4-1.0_CB16\n",
      "Starting all_strucs_var_taps_par4_type1/PolyMcm_P4_IB16_LP_N8_F0-0.3-0.4-1.0_CB16\n",
      "Starting all_strucs_var_taps_par4_type1/FfaDir_P4_IB16_LP_N8_F0-0.3-0.4-1.0_CB16\n",
      "Starting all_strucs_var_taps_par4_type1/FfaMcm_P4_IB16_LP_N8_F0-0.3-0.4-1.0_CB16\n",
      "Starting all_strucs_var_taps_par4_type1/PolyDir_P4_IB16_LP_N16_F0-0.3-0.4-1.0_CB16\n",
      "Starting all_strucs_var_taps_par4_type1/PolyMcm_P4_IB16_LP_N16_F0-0.3-0.4-1.0_CB16\n",
      "Starting all_strucs_var_taps_par4_type1/FfaDir_P4_IB16_LP_N16_F0-0.3-0.4-1.0_CB16\n",
      "Starting all_strucs_var_taps_par4_type1/FfaMcm_P4_IB16_LP_N16_F0-0.3-0.4-1.0_CB16\n",
      "Starting all_strucs_var_taps_par4_type1/PolyDir_P4_IB16_LP_N32_F0-0.3-0.4-1.0_CB16\n",
      "Starting all_strucs_var_taps_par4_type1/PolyMcm_P4_IB16_LP_N32_F0-0.3-0.4-1.0_CB16\n",
      "Starting all_strucs_var_taps_par4_type1/FfaDir_P4_IB16_LP_N32_F0-0.3-0.4-1.0_CB16\n",
      "Starting all_strucs_var_taps_par4_type1/FfaMcm_P4_IB16_LP_N32_F0-0.3-0.4-1.0_CB16\n",
      "Starting all_strucs_var_taps_par4_type1/PolyDir_P4_IB16_LP_N64_F0-0.3-0.4-1.0_CB16\n",
      "Starting all_strucs_var_taps_par4_type1/PolyMcm_P4_IB16_LP_N64_F0-0.3-0.4-1.0_CB16\n",
      "Starting all_strucs_var_taps_par4_type1/FfaDir_P4_IB16_LP_N64_F0-0.3-0.4-1.0_CB16\n",
      "Starting all_strucs_var_taps_par4_type1/FfaMcm_P4_IB16_LP_N64_F0-0.3-0.4-1.0_CB16\n",
      "Starting all_strucs_var_taps_par4_type1/PolyDir_P4_IB16_LP_N128_F0-0.3-0.4-1.0_CB16\n",
      "Starting all_strucs_var_taps_par4_type1/PolyMcm_P4_IB16_LP_N128_F0-0.3-0.4-1.0_CB16\n",
      "Starting all_strucs_var_taps_par4_type1/FfaDir_P4_IB16_LP_N128_F0-0.3-0.4-1.0_CB16\n",
      "Starting all_strucs_var_taps_par4_type1/FfaMcm_P4_IB16_LP_N128_F0-0.3-0.4-1.0_CB16\n",
      "Starting all_strucs_var_taps_par8_type1/PolyDir_P8_IB16_LP_N8_F0-0.3-0.4-1.0_CB16\n",
      "Starting all_strucs_var_taps_par8_type1/PolyMcm_P8_IB16_LP_N8_F0-0.3-0.4-1.0_CB16\n",
      "Starting all_strucs_var_taps_par8_type1/FfaDir_P8_IB16_LP_N8_F0-0.3-0.4-1.0_CB16\n",
      "Starting all_strucs_var_taps_par8_type1/FfaMcm_P8_IB16_LP_N8_F0-0.3-0.4-1.0_CB16\n",
      "Starting all_strucs_var_taps_par8_type1/PolyDir_P8_IB16_LP_N16_F0-0.3-0.4-1.0_CB16\n",
      "Starting all_strucs_var_taps_par8_type1/PolyMcm_P8_IB16_LP_N16_F0-0.3-0.4-1.0_CB16\n",
      "Starting all_strucs_var_taps_par8_type1/FfaDir_P8_IB16_LP_N16_F0-0.3-0.4-1.0_CB16\n",
      "Starting all_strucs_var_taps_par8_type1/FfaMcm_P8_IB16_LP_N16_F0-0.3-0.4-1.0_CB16\n",
      "Starting all_strucs_var_taps_par8_type1/PolyDir_P8_IB16_LP_N32_F0-0.3-0.4-1.0_CB16\n",
      "Starting all_strucs_var_taps_par8_type1/PolyMcm_P8_IB16_LP_N32_F0-0.3-0.4-1.0_CB16\n",
      "Starting all_strucs_var_taps_par8_type1/FfaDir_P8_IB16_LP_N32_F0-0.3-0.4-1.0_CB16\n",
      "Starting all_strucs_var_taps_par8_type1/FfaMcm_P8_IB16_LP_N32_F0-0.3-0.4-1.0_CB16\n",
      "Starting all_strucs_var_taps_par8_type1/PolyDir_P8_IB16_LP_N64_F0-0.3-0.4-1.0_CB16\n",
      "Starting all_strucs_var_taps_par8_type1/PolyMcm_P8_IB16_LP_N64_F0-0.3-0.4-1.0_CB16\n",
      "Starting all_strucs_var_taps_par8_type1/FfaDir_P8_IB16_LP_N64_F0-0.3-0.4-1.0_CB16\n",
      "Starting all_strucs_var_taps_par8_type1/FfaMcm_P8_IB16_LP_N64_F0-0.3-0.4-1.0_CB16\n",
      "Starting all_strucs_var_taps_par8_type1/PolyDir_P8_IB16_LP_N128_F0-0.3-0.4-1.0_CB16\n",
      "Starting all_strucs_var_taps_par8_type1/PolyMcm_P8_IB16_LP_N128_F0-0.3-0.4-1.0_CB16\n",
      "Starting all_strucs_var_taps_par8_type1/FfaDir_P8_IB16_LP_N128_F0-0.3-0.4-1.0_CB16\n",
      "Starting all_strucs_var_taps_par8_type1/FfaMcm_P8_IB16_LP_N128_F0-0.3-0.4-1.0_CB16\n",
      "Starting all_strucs_var_taps_par16_type1/PolyDir_P16_IB16_LP_N16_F0-0.3-0.4-1.0_CB16\n",
      "Starting all_strucs_var_taps_par16_type1/PolyMcm_P16_IB16_LP_N16_F0-0.3-0.4-1.0_CB16\n",
      "Starting all_strucs_var_taps_par16_type1/FfaDir_P16_IB16_LP_N16_F0-0.3-0.4-1.0_CB16\n",
      "Starting all_strucs_var_taps_par16_type1/FfaMcm_P16_IB16_LP_N16_F0-0.3-0.4-1.0_CB16\n",
      "Starting all_strucs_var_taps_par16_type1/PolyDir_P16_IB16_LP_N32_F0-0.3-0.4-1.0_CB16\n",
      "Starting all_strucs_var_taps_par16_type1/PolyMcm_P16_IB16_LP_N32_F0-0.3-0.4-1.0_CB16\n",
      "Starting all_strucs_var_taps_par16_type1/FfaDir_P16_IB16_LP_N32_F0-0.3-0.4-1.0_CB16\n",
      "Starting all_strucs_var_taps_par16_type1/FfaMcm_P16_IB16_LP_N32_F0-0.3-0.4-1.0_CB16\n",
      "Starting all_strucs_var_taps_par16_type1/PolyDir_P16_IB16_LP_N64_F0-0.3-0.4-1.0_CB16\n",
      "Starting all_strucs_var_taps_par16_type1/PolyMcm_P16_IB16_LP_N64_F0-0.3-0.4-1.0_CB16\n",
      "Starting all_strucs_var_taps_par16_type1/FfaDir_P16_IB16_LP_N64_F0-0.3-0.4-1.0_CB16\n",
      "Starting all_strucs_var_taps_par16_type1/FfaMcm_P16_IB16_LP_N64_F0-0.3-0.4-1.0_CB16\n",
      "Starting all_strucs_var_taps_par16_type1/PolyDir_P16_IB16_LP_N128_F0-0.3-0.4-1.0_CB16\n",
      "Starting all_strucs_var_taps_par16_type1/PolyMcm_P16_IB16_LP_N128_F0-0.3-0.4-1.0_CB16\n",
      "Starting all_strucs_var_taps_par16_type1/FfaDir_P16_IB16_LP_N128_F0-0.3-0.4-1.0_CB16\n",
      "Starting all_strucs_var_taps_par16_type1/FfaMcm_P16_IB16_LP_N128_F0-0.3-0.4-1.0_CB16\n"
     ]
    }
   ],
   "source": [
    "for parallelism in [2,4,8,16]:\n",
    "    for taps in [2,4,8,16,32,64,128]:\n",
    "        if parallelism > taps:\n",
    "            continue\n",
    "        for filtStruct in FiltStructure:\n",
    "            ws = Coeffs(FiltType.LP, taps, [0,0.3,0.4,1.0], 16, type1=True)\n",
    "            fir = FiltSpec(filtStruct, parallelism, 16, ws)\n",
    "            run_synth(f'all_strucs_var_taps_par{parallelism}_type1', fir)"
   ]
  },
  {
   "cell_type": "code",
   "execution_count": 5,
   "metadata": {
    "collapsed": true,
    "jupyter": {
     "outputs_hidden": true
    },
    "tags": []
   },
   "outputs": [
    {
     "name": "stdout",
     "output_type": "stream",
     "text": [
      "Starting all_strucs_var_taps_par2_hb/PolyDir_P2_IB16_LP_N2_F0-0.3-0.4-1.0_CB16\n",
      "Starting all_strucs_var_taps_par2_hb/PolyMcm_P2_IB16_LP_N2_F0-0.3-0.4-1.0_CB16\n",
      "Starting all_strucs_var_taps_par2_hb/FfaDir_P2_IB16_LP_N2_F0-0.3-0.4-1.0_CB16\n",
      "Starting all_strucs_var_taps_par2_hb/FfaMcm_P2_IB16_LP_N2_F0-0.3-0.4-1.0_CB16\n",
      "Starting all_strucs_var_taps_par2_hb/PolyDir_P2_IB16_LP_N4_F0-0.3-0.4-1.0_CB16\n",
      "Starting all_strucs_var_taps_par2_hb/PolyMcm_P2_IB16_LP_N4_F0-0.3-0.4-1.0_CB16\n",
      "Starting all_strucs_var_taps_par2_hb/FfaDir_P2_IB16_LP_N4_F0-0.3-0.4-1.0_CB16\n",
      "Starting all_strucs_var_taps_par2_hb/FfaMcm_P2_IB16_LP_N4_F0-0.3-0.4-1.0_CB16\n",
      "Starting all_strucs_var_taps_par2_hb/PolyDir_P2_IB16_LP_N8_F0-0.3-0.4-1.0_CB16\n",
      "Starting all_strucs_var_taps_par2_hb/PolyMcm_P2_IB16_LP_N8_F0-0.3-0.4-1.0_CB16\n",
      "Starting all_strucs_var_taps_par2_hb/FfaDir_P2_IB16_LP_N8_F0-0.3-0.4-1.0_CB16\n",
      "Starting all_strucs_var_taps_par2_hb/FfaMcm_P2_IB16_LP_N8_F0-0.3-0.4-1.0_CB16\n",
      "Starting all_strucs_var_taps_par2_hb/PolyDir_P2_IB16_LP_N16_F0-0.3-0.4-1.0_CB16\n",
      "Starting all_strucs_var_taps_par2_hb/PolyMcm_P2_IB16_LP_N16_F0-0.3-0.4-1.0_CB16\n",
      "Starting all_strucs_var_taps_par2_hb/FfaDir_P2_IB16_LP_N16_F0-0.3-0.4-1.0_CB16\n",
      "Starting all_strucs_var_taps_par2_hb/FfaMcm_P2_IB16_LP_N16_F0-0.3-0.4-1.0_CB16\n",
      "Starting all_strucs_var_taps_par2_hb/PolyDir_P2_IB16_LP_N32_F0-0.3-0.4-1.0_CB16\n",
      "Starting all_strucs_var_taps_par2_hb/PolyMcm_P2_IB16_LP_N32_F0-0.3-0.4-1.0_CB16\n",
      "Starting all_strucs_var_taps_par2_hb/FfaDir_P2_IB16_LP_N32_F0-0.3-0.4-1.0_CB16\n",
      "Starting all_strucs_var_taps_par2_hb/FfaMcm_P2_IB16_LP_N32_F0-0.3-0.4-1.0_CB16\n",
      "Starting all_strucs_var_taps_par2_hb/PolyDir_P2_IB16_LP_N64_F0-0.3-0.4-1.0_CB16\n",
      "Starting all_strucs_var_taps_par2_hb/PolyMcm_P2_IB16_LP_N64_F0-0.3-0.4-1.0_CB16\n",
      "Starting all_strucs_var_taps_par2_hb/FfaDir_P2_IB16_LP_N64_F0-0.3-0.4-1.0_CB16\n",
      "Starting all_strucs_var_taps_par2_hb/FfaMcm_P2_IB16_LP_N64_F0-0.3-0.4-1.0_CB16\n",
      "Starting all_strucs_var_taps_par2_hb/PolyDir_P2_IB16_LP_N128_F0-0.3-0.4-1.0_CB16\n",
      "Starting all_strucs_var_taps_par2_hb/PolyMcm_P2_IB16_LP_N128_F0-0.3-0.4-1.0_CB16\n",
      "Starting all_strucs_var_taps_par2_hb/FfaDir_P2_IB16_LP_N128_F0-0.3-0.4-1.0_CB16\n",
      "Starting all_strucs_var_taps_par2_hb/FfaMcm_P2_IB16_LP_N128_F0-0.3-0.4-1.0_CB16\n",
      "Starting all_strucs_var_taps_par4_hb/PolyDir_P4_IB16_LP_N4_F0-0.3-0.4-1.0_CB16\n",
      "Starting all_strucs_var_taps_par4_hb/PolyMcm_P4_IB16_LP_N4_F0-0.3-0.4-1.0_CB16\n",
      "Starting all_strucs_var_taps_par4_hb/FfaDir_P4_IB16_LP_N4_F0-0.3-0.4-1.0_CB16\n",
      "Starting all_strucs_var_taps_par4_hb/FfaMcm_P4_IB16_LP_N4_F0-0.3-0.4-1.0_CB16\n",
      "Starting all_strucs_var_taps_par4_hb/PolyDir_P4_IB16_LP_N8_F0-0.3-0.4-1.0_CB16\n",
      "Starting all_strucs_var_taps_par4_hb/PolyMcm_P4_IB16_LP_N8_F0-0.3-0.4-1.0_CB16\n",
      "Starting all_strucs_var_taps_par4_hb/FfaDir_P4_IB16_LP_N8_F0-0.3-0.4-1.0_CB16\n",
      "Starting all_strucs_var_taps_par4_hb/FfaMcm_P4_IB16_LP_N8_F0-0.3-0.4-1.0_CB16\n",
      "Starting all_strucs_var_taps_par4_hb/PolyDir_P4_IB16_LP_N16_F0-0.3-0.4-1.0_CB16\n",
      "Starting all_strucs_var_taps_par4_hb/PolyMcm_P4_IB16_LP_N16_F0-0.3-0.4-1.0_CB16\n",
      "Starting all_strucs_var_taps_par4_hb/FfaDir_P4_IB16_LP_N16_F0-0.3-0.4-1.0_CB16\n",
      "Starting all_strucs_var_taps_par4_hb/FfaMcm_P4_IB16_LP_N16_F0-0.3-0.4-1.0_CB16\n",
      "Starting all_strucs_var_taps_par4_hb/PolyDir_P4_IB16_LP_N32_F0-0.3-0.4-1.0_CB16\n",
      "Starting all_strucs_var_taps_par4_hb/PolyMcm_P4_IB16_LP_N32_F0-0.3-0.4-1.0_CB16\n",
      "Starting all_strucs_var_taps_par4_hb/FfaDir_P4_IB16_LP_N32_F0-0.3-0.4-1.0_CB16\n",
      "Starting all_strucs_var_taps_par4_hb/FfaMcm_P4_IB16_LP_N32_F0-0.3-0.4-1.0_CB16\n",
      "Starting all_strucs_var_taps_par4_hb/PolyDir_P4_IB16_LP_N64_F0-0.3-0.4-1.0_CB16\n",
      "Starting all_strucs_var_taps_par4_hb/PolyMcm_P4_IB16_LP_N64_F0-0.3-0.4-1.0_CB16\n",
      "Starting all_strucs_var_taps_par4_hb/FfaDir_P4_IB16_LP_N64_F0-0.3-0.4-1.0_CB16\n",
      "Starting all_strucs_var_taps_par4_hb/FfaMcm_P4_IB16_LP_N64_F0-0.3-0.4-1.0_CB16\n",
      "Starting all_strucs_var_taps_par4_hb/PolyDir_P4_IB16_LP_N128_F0-0.3-0.4-1.0_CB16\n",
      "Starting all_strucs_var_taps_par4_hb/PolyMcm_P4_IB16_LP_N128_F0-0.3-0.4-1.0_CB16\n",
      "Starting all_strucs_var_taps_par4_hb/FfaDir_P4_IB16_LP_N128_F0-0.3-0.4-1.0_CB16\n",
      "Starting all_strucs_var_taps_par4_hb/FfaMcm_P4_IB16_LP_N128_F0-0.3-0.4-1.0_CB16\n",
      "Starting all_strucs_var_taps_par8_hb/PolyDir_P8_IB16_LP_N8_F0-0.3-0.4-1.0_CB16\n",
      "Starting all_strucs_var_taps_par8_hb/PolyMcm_P8_IB16_LP_N8_F0-0.3-0.4-1.0_CB16\n",
      "Starting all_strucs_var_taps_par8_hb/FfaDir_P8_IB16_LP_N8_F0-0.3-0.4-1.0_CB16\n",
      "Starting all_strucs_var_taps_par8_hb/FfaMcm_P8_IB16_LP_N8_F0-0.3-0.4-1.0_CB16\n",
      "Starting all_strucs_var_taps_par8_hb/PolyDir_P8_IB16_LP_N16_F0-0.3-0.4-1.0_CB16\n",
      "Starting all_strucs_var_taps_par8_hb/PolyMcm_P8_IB16_LP_N16_F0-0.3-0.4-1.0_CB16\n",
      "Starting all_strucs_var_taps_par8_hb/FfaDir_P8_IB16_LP_N16_F0-0.3-0.4-1.0_CB16\n",
      "Starting all_strucs_var_taps_par8_hb/FfaMcm_P8_IB16_LP_N16_F0-0.3-0.4-1.0_CB16\n",
      "Starting all_strucs_var_taps_par8_hb/PolyDir_P8_IB16_LP_N32_F0-0.3-0.4-1.0_CB16\n",
      "Starting all_strucs_var_taps_par8_hb/PolyMcm_P8_IB16_LP_N32_F0-0.3-0.4-1.0_CB16\n",
      "Starting all_strucs_var_taps_par8_hb/FfaDir_P8_IB16_LP_N32_F0-0.3-0.4-1.0_CB16\n",
      "Starting all_strucs_var_taps_par8_hb/FfaMcm_P8_IB16_LP_N32_F0-0.3-0.4-1.0_CB16\n",
      "Starting all_strucs_var_taps_par8_hb/PolyDir_P8_IB16_LP_N64_F0-0.3-0.4-1.0_CB16\n",
      "Starting all_strucs_var_taps_par8_hb/PolyMcm_P8_IB16_LP_N64_F0-0.3-0.4-1.0_CB16\n",
      "Starting all_strucs_var_taps_par8_hb/FfaDir_P8_IB16_LP_N64_F0-0.3-0.4-1.0_CB16\n",
      "Starting all_strucs_var_taps_par8_hb/FfaMcm_P8_IB16_LP_N64_F0-0.3-0.4-1.0_CB16\n",
      "Starting all_strucs_var_taps_par8_hb/PolyDir_P8_IB16_LP_N128_F0-0.3-0.4-1.0_CB16\n",
      "Starting all_strucs_var_taps_par8_hb/PolyMcm_P8_IB16_LP_N128_F0-0.3-0.4-1.0_CB16\n",
      "Starting all_strucs_var_taps_par8_hb/FfaDir_P8_IB16_LP_N128_F0-0.3-0.4-1.0_CB16\n",
      "Starting all_strucs_var_taps_par8_hb/FfaMcm_P8_IB16_LP_N128_F0-0.3-0.4-1.0_CB16\n",
      "Starting all_strucs_var_taps_par16_hb/PolyDir_P16_IB16_LP_N16_F0-0.3-0.4-1.0_CB16\n",
      "Starting all_strucs_var_taps_par16_hb/PolyMcm_P16_IB16_LP_N16_F0-0.3-0.4-1.0_CB16\n",
      "Starting all_strucs_var_taps_par16_hb/FfaDir_P16_IB16_LP_N16_F0-0.3-0.4-1.0_CB16\n",
      "Starting all_strucs_var_taps_par16_hb/FfaMcm_P16_IB16_LP_N16_F0-0.3-0.4-1.0_CB16\n",
      "Starting all_strucs_var_taps_par16_hb/PolyDir_P16_IB16_LP_N32_F0-0.3-0.4-1.0_CB16\n",
      "Starting all_strucs_var_taps_par16_hb/PolyMcm_P16_IB16_LP_N32_F0-0.3-0.4-1.0_CB16\n",
      "Starting all_strucs_var_taps_par16_hb/FfaDir_P16_IB16_LP_N32_F0-0.3-0.4-1.0_CB16\n",
      "Starting all_strucs_var_taps_par16_hb/FfaMcm_P16_IB16_LP_N32_F0-0.3-0.4-1.0_CB16\n",
      "Starting all_strucs_var_taps_par16_hb/PolyDir_P16_IB16_LP_N64_F0-0.3-0.4-1.0_CB16\n",
      "Starting all_strucs_var_taps_par16_hb/PolyMcm_P16_IB16_LP_N64_F0-0.3-0.4-1.0_CB16\n",
      "Starting all_strucs_var_taps_par16_hb/FfaDir_P16_IB16_LP_N64_F0-0.3-0.4-1.0_CB16\n",
      "Starting all_strucs_var_taps_par16_hb/FfaMcm_P16_IB16_LP_N64_F0-0.3-0.4-1.0_CB16\n",
      "Starting all_strucs_var_taps_par16_hb/PolyDir_P16_IB16_LP_N128_F0-0.3-0.4-1.0_CB16\n",
      "Starting all_strucs_var_taps_par16_hb/PolyMcm_P16_IB16_LP_N128_F0-0.3-0.4-1.0_CB16\n",
      "Starting all_strucs_var_taps_par16_hb/FfaDir_P16_IB16_LP_N128_F0-0.3-0.4-1.0_CB16\n",
      "Starting all_strucs_var_taps_par16_hb/FfaMcm_P16_IB16_LP_N128_F0-0.3-0.4-1.0_CB16\n"
     ]
    }
   ],
   "source": [
    "for parallelism in [2,4,8,16]:\n",
    "    for taps in [2,4,8,16,32,64,128]:\n",
    "        if parallelism > taps:\n",
    "            continue\n",
    "        for filtStruct in FiltStructure:\n",
    "            ws = Coeffs(FiltType.LP, taps, [0,0.3,0.4,1.0], 16, half_band=True)\n",
    "            fir = FiltSpec(filtStruct, parallelism, 16, ws)\n",
    "            run_synth(f'all_strucs_var_taps_par{parallelism}_hb', fir)"
   ]
  },
  {
   "cell_type": "code",
   "execution_count": 6,
   "metadata": {
    "tags": []
   },
   "outputs": [
    {
     "name": "stdout",
     "output_type": "stream",
     "text": [
      "Couldn't parse result for PolyMcm_P8_IB16_LP_N16_F0-0.3-0.4-1.0_CB16. Did it fail synthesis?\n",
      "Rerunning now\n",
      "Starting all_strucs_var_taps_par8_hb/PolyMcm_P8_IB16_LP_N16_F0-0.3-0.4-1.0_CB16\n"
     ]
    }
   ],
   "source": [
    "slice_regs = []\n",
    "\n",
    "for parallelism in [2,4,8,16]:\n",
    "    for taps in [2,4,8,16,32,64,128]:\n",
    "        if parallelism > taps:\n",
    "            continue\n",
    "        #if taps > 8*parallelism:\n",
    "        #    continue\n",
    "        for filtStruct in FiltStructure:\n",
    "            ws = Coeffs(FiltType.LP, taps, [0,0.3,0.4,1.0], 16, half_band=True)\n",
    "            fir = FiltSpec(filtStruct, parallelism, 16, ws)\n",
    "            \n",
    "            group = f'all_strucs_var_taps_par{parallelism}_hb'\n",
    "            results_dir = f'./outputs/{group}/{fir.name}'\n",
    "            \n",
    "            lut_cmd = f'grep \"CLB LUTs\" {results_dir}/post_route_util.rpt | cut -d\"|\" -f3'\n",
    "            lut_result=!$lut_cmd\n",
    "            reg_cmd = f'grep \"CLB Registers\" {results_dir}/post_route_util.rpt | head -n 1 | cut -d\"|\" -f3'\n",
    "            reg_result=!$reg_cmd\n",
    "            clb_cmd = f'grep \"| CLB  \" {results_dir}/post_route_util.rpt | head -n 1 | cut -d\"|\" -f3'\n",
    "            clb_result=!$clb_cmd\n",
    "            dsp_cmd = f'grep \"| DSPs  \" {results_dir}/post_route_util.rpt | head -n 1 | cut -d\"|\" -f3'\n",
    "            dsp_result=!$dsp_cmd\n",
    "\n",
    "            try:\n",
    "                slice_regs.append({\n",
    "                    'group': group,\n",
    "                    'name': fir.name,\n",
    "                    'filt_type': fir.coeffs.filt_type.name,\n",
    "                    'in_width': fir.width,\n",
    "                    'f_ranges': fir.coeffs.cutoffs,\n",
    "                    'c_width': fir.coeffs.width,\n",
    "                    'structure': fir.structure.name,\n",
    "                    'parallelism': fir.p,\n",
    "                    'taps': fir.coeffs.taps,\n",
    "                    'luts' : int(lut_result.s),\n",
    "                    'regs' : int(reg_result.s),\n",
    "                    'clbs' : int(clb_result.s),\n",
    "                    'dsps' : int(dsp_result.s),\n",
    "                })\n",
    "            except:\n",
    "                print(f\"Couldn't parse result for {fir.name}. Did it fail synthesis?\")\n",
    "                print(f\"Rerunning now\")\n",
    "                run_synth(group, fir, src_exist=True)\n",
    "\n",
    "df = pd.DataFrame(slice_regs)"
   ]
  },
  {
   "cell_type": "code",
   "execution_count": 45,
   "metadata": {},
   "outputs": [
    {
     "data": {
      "application/vnd.plotly.v1+json": {
       "config": {
        "plotlyServerURL": "https://plot.ly"
       },
       "data": [
        {
         "hovertemplate": "structure=PolyDir<br>parallelism=2<br>taps=%{x}<br>clbs=%{y}<extra></extra>",
         "legendgroup": "PolyDir",
         "line": {
          "color": "#636efa",
          "dash": "solid"
         },
         "mode": "lines",
         "name": "PolyDir",
         "orientation": "v",
         "showlegend": true,
         "type": "scatter",
         "visible": "legendonly",
         "x": [
          2,
          4,
          8,
          16
         ],
         "xaxis": "x",
         "y": [
          10,
          71,
          247,
          564
         ],
         "yaxis": "y"
        },
        {
         "hovertemplate": "structure=PolyDir<br>parallelism=4<br>taps=%{x}<br>clbs=%{y}<extra></extra>",
         "legendgroup": "PolyDir",
         "line": {
          "color": "#636efa",
          "dash": "solid"
         },
         "mode": "lines",
         "name": "PolyDir",
         "orientation": "v",
         "showlegend": false,
         "type": "scatter",
         "visible": "legendonly",
         "x": [
          4,
          8,
          16,
          32
         ],
         "xaxis": "x2",
         "y": [
          31,
          344,
          985,
          1961
         ],
         "yaxis": "y2"
        },
        {
         "hovertemplate": "structure=PolyDir<br>parallelism=8<br>taps=%{x}<br>clbs=%{y}<extra></extra>",
         "legendgroup": "PolyDir",
         "line": {
          "color": "#636efa",
          "dash": "solid"
         },
         "mode": "lines",
         "name": "PolyDir",
         "orientation": "v",
         "showlegend": false,
         "type": "scatter",
         "visible": "legendonly",
         "x": [
          8,
          16,
          32,
          64
         ],
         "xaxis": "x3",
         "y": [
          139,
          1327,
          3261,
          7525
         ],
         "yaxis": "y3"
        },
        {
         "hovertemplate": "structure=PolyDir<br>parallelism=16<br>taps=%{x}<br>clbs=%{y}<extra></extra>",
         "legendgroup": "PolyDir",
         "line": {
          "color": "#636efa",
          "dash": "solid"
         },
         "mode": "lines",
         "name": "PolyDir",
         "orientation": "v",
         "showlegend": false,
         "type": "scatter",
         "visible": "legendonly",
         "x": [
          16,
          32,
          64,
          128
         ],
         "xaxis": "x4",
         "y": [
          680,
          4110,
          13050,
          23967
         ],
         "yaxis": "y4"
        },
        {
         "hovertemplate": "structure=PolyMcm<br>parallelism=2<br>taps=%{x}<br>clbs=%{y}<extra></extra>",
         "legendgroup": "PolyMcm",
         "line": {
          "color": "#EF553B",
          "dash": "solid"
         },
         "mode": "lines",
         "name": "PolyMcm",
         "orientation": "v",
         "showlegend": true,
         "type": "scatter",
         "x": [
          2,
          4,
          8,
          16
         ],
         "xaxis": "x",
         "y": [
          81,
          128,
          233,
          409
         ],
         "yaxis": "y"
        },
        {
         "hovertemplate": "structure=PolyMcm<br>parallelism=4<br>taps=%{x}<br>clbs=%{y}<extra></extra>",
         "legendgroup": "PolyMcm",
         "line": {
          "color": "#EF553B",
          "dash": "solid"
         },
         "mode": "lines",
         "name": "PolyMcm",
         "orientation": "v",
         "showlegend": false,
         "type": "scatter",
         "x": [
          4,
          8,
          16,
          32
         ],
         "xaxis": "x2",
         "y": [
          270,
          512,
          852,
          1472
         ],
         "yaxis": "y2"
        },
        {
         "hovertemplate": "structure=PolyMcm<br>parallelism=8<br>taps=%{x}<br>clbs=%{y}<extra></extra>",
         "legendgroup": "PolyMcm",
         "line": {
          "color": "#EF553B",
          "dash": "solid"
         },
         "mode": "lines",
         "name": "PolyMcm",
         "orientation": "v",
         "showlegend": false,
         "type": "scatter",
         "x": [
          8,
          16,
          32,
          64
         ],
         "xaxis": "x3",
         "y": [
          1093,
          1933,
          3184,
          5391
         ],
         "yaxis": "y3"
        },
        {
         "hovertemplate": "structure=PolyMcm<br>parallelism=16<br>taps=%{x}<br>clbs=%{y}<extra></extra>",
         "legendgroup": "PolyMcm",
         "line": {
          "color": "#EF553B",
          "dash": "solid"
         },
         "mode": "lines",
         "name": "PolyMcm",
         "orientation": "v",
         "showlegend": false,
         "type": "scatter",
         "x": [
          16,
          32,
          64,
          128
         ],
         "xaxis": "x4",
         "y": [
          4174,
          6583,
          11271,
          20133
         ],
         "yaxis": "y4"
        },
        {
         "hovertemplate": "structure=FfaDir<br>parallelism=2<br>taps=%{x}<br>clbs=%{y}<extra></extra>",
         "legendgroup": "FfaDir",
         "line": {
          "color": "#00cc96",
          "dash": "solid"
         },
         "mode": "lines",
         "name": "FfaDir",
         "orientation": "v",
         "showlegend": true,
         "type": "scatter",
         "visible": "legendonly",
         "x": [
          2,
          4,
          8,
          16
         ],
         "xaxis": "x",
         "y": [
          105,
          195,
          307,
          684
         ],
         "yaxis": "y"
        },
        {
         "hovertemplate": "structure=FfaDir<br>parallelism=4<br>taps=%{x}<br>clbs=%{y}<extra></extra>",
         "legendgroup": "FfaDir",
         "line": {
          "color": "#00cc96",
          "dash": "solid"
         },
         "mode": "lines",
         "name": "FfaDir",
         "orientation": "v",
         "showlegend": false,
         "type": "scatter",
         "visible": "legendonly",
         "x": [
          4,
          8,
          16,
          32
         ],
         "xaxis": "x2",
         "y": [
          387,
          577,
          1225,
          1975
         ],
         "yaxis": "y2"
        },
        {
         "hovertemplate": "structure=FfaDir<br>parallelism=8<br>taps=%{x}<br>clbs=%{y}<extra></extra>",
         "legendgroup": "FfaDir",
         "line": {
          "color": "#00cc96",
          "dash": "solid"
         },
         "mode": "lines",
         "name": "FfaDir",
         "orientation": "v",
         "showlegend": false,
         "type": "scatter",
         "visible": "legendonly",
         "x": [
          8,
          16,
          32,
          64
         ],
         "xaxis": "x3",
         "y": [
          1229,
          2324,
          3810,
          6451
         ],
         "yaxis": "y3"
        },
        {
         "hovertemplate": "structure=FfaDir<br>parallelism=16<br>taps=%{x}<br>clbs=%{y}<extra></extra>",
         "legendgroup": "FfaDir",
         "line": {
          "color": "#00cc96",
          "dash": "solid"
         },
         "mode": "lines",
         "name": "FfaDir",
         "orientation": "v",
         "showlegend": false,
         "type": "scatter",
         "visible": "legendonly",
         "x": [
          16,
          32,
          64,
          128
         ],
         "xaxis": "x4",
         "y": [
          4307,
          7139,
          11356,
          18296
         ],
         "yaxis": "y4"
        },
        {
         "hovertemplate": "structure=FfaMcm<br>parallelism=2<br>taps=%{x}<br>clbs=%{y}<extra></extra>",
         "legendgroup": "FfaMcm",
         "line": {
          "color": "#ab63fa",
          "dash": "solid"
         },
         "mode": "lines",
         "name": "FfaMcm",
         "orientation": "v",
         "showlegend": true,
         "type": "scatter",
         "x": [
          2,
          4,
          8,
          16
         ],
         "xaxis": "x",
         "y": [
          74,
          122,
          223,
          370
         ],
         "yaxis": "y"
        },
        {
         "hovertemplate": "structure=FfaMcm<br>parallelism=4<br>taps=%{x}<br>clbs=%{y}<extra></extra>",
         "legendgroup": "FfaMcm",
         "line": {
          "color": "#ab63fa",
          "dash": "solid"
         },
         "mode": "lines",
         "name": "FfaMcm",
         "orientation": "v",
         "showlegend": false,
         "type": "scatter",
         "x": [
          4,
          8,
          16,
          32
         ],
         "xaxis": "x2",
         "y": [
          265,
          469,
          739,
          1194
         ],
         "yaxis": "y2"
        },
        {
         "hovertemplate": "structure=FfaMcm<br>parallelism=8<br>taps=%{x}<br>clbs=%{y}<extra></extra>",
         "legendgroup": "FfaMcm",
         "line": {
          "color": "#ab63fa",
          "dash": "solid"
         },
         "mode": "lines",
         "name": "FfaMcm",
         "orientation": "v",
         "showlegend": false,
         "type": "scatter",
         "x": [
          8,
          16,
          32,
          64
         ],
         "xaxis": "x3",
         "y": [
          1026,
          1558,
          2457,
          4166
         ],
         "yaxis": "y3"
        },
        {
         "hovertemplate": "structure=FfaMcm<br>parallelism=16<br>taps=%{x}<br>clbs=%{y}<extra></extra>",
         "legendgroup": "FfaMcm",
         "line": {
          "color": "#ab63fa",
          "dash": "solid"
         },
         "mode": "lines",
         "name": "FfaMcm",
         "orientation": "v",
         "showlegend": false,
         "type": "scatter",
         "x": [
          16,
          32,
          64,
          128
         ],
         "xaxis": "x4",
         "y": [
          3717,
          5443,
          8185,
          12251
         ],
         "yaxis": "y4"
        }
       ],
       "layout": {
        "annotations": [
         {
          "font": {},
          "showarrow": false,
          "text": "parallelism=2",
          "x": 0.1175,
          "xanchor": "center",
          "xref": "paper",
          "y": 1,
          "yanchor": "bottom",
          "yref": "paper"
         },
         {
          "font": {},
          "showarrow": false,
          "text": "parallelism=4",
          "x": 0.3725,
          "xanchor": "center",
          "xref": "paper",
          "y": 1,
          "yanchor": "bottom",
          "yref": "paper"
         },
         {
          "font": {},
          "showarrow": false,
          "text": "parallelism=8",
          "x": 0.6275,
          "xanchor": "center",
          "xref": "paper",
          "y": 1,
          "yanchor": "bottom",
          "yref": "paper"
         },
         {
          "font": {},
          "showarrow": false,
          "text": "parallelism=16",
          "x": 0.8824999999999998,
          "xanchor": "center",
          "xref": "paper",
          "y": 1,
          "yanchor": "bottom",
          "yref": "paper"
         }
        ],
        "autosize": true,
        "legend": {
         "title": {
          "text": "structure"
         },
         "tracegroupgap": 0
        },
        "margin": {
         "t": 60
        },
        "template": {
         "data": {
          "bar": [
           {
            "error_x": {
             "color": "#2a3f5f"
            },
            "error_y": {
             "color": "#2a3f5f"
            },
            "marker": {
             "line": {
              "color": "#E5ECF6",
              "width": 0.5
             }
            },
            "type": "bar"
           }
          ],
          "barpolar": [
           {
            "marker": {
             "line": {
              "color": "#E5ECF6",
              "width": 0.5
             }
            },
            "type": "barpolar"
           }
          ],
          "carpet": [
           {
            "aaxis": {
             "endlinecolor": "#2a3f5f",
             "gridcolor": "white",
             "linecolor": "white",
             "minorgridcolor": "white",
             "startlinecolor": "#2a3f5f"
            },
            "baxis": {
             "endlinecolor": "#2a3f5f",
             "gridcolor": "white",
             "linecolor": "white",
             "minorgridcolor": "white",
             "startlinecolor": "#2a3f5f"
            },
            "type": "carpet"
           }
          ],
          "choropleth": [
           {
            "colorbar": {
             "outlinewidth": 0,
             "ticks": ""
            },
            "type": "choropleth"
           }
          ],
          "contour": [
           {
            "colorbar": {
             "outlinewidth": 0,
             "ticks": ""
            },
            "colorscale": [
             [
              0,
              "#0d0887"
             ],
             [
              0.1111111111111111,
              "#46039f"
             ],
             [
              0.2222222222222222,
              "#7201a8"
             ],
             [
              0.3333333333333333,
              "#9c179e"
             ],
             [
              0.4444444444444444,
              "#bd3786"
             ],
             [
              0.5555555555555556,
              "#d8576b"
             ],
             [
              0.6666666666666666,
              "#ed7953"
             ],
             [
              0.7777777777777778,
              "#fb9f3a"
             ],
             [
              0.8888888888888888,
              "#fdca26"
             ],
             [
              1,
              "#f0f921"
             ]
            ],
            "type": "contour"
           }
          ],
          "contourcarpet": [
           {
            "colorbar": {
             "outlinewidth": 0,
             "ticks": ""
            },
            "type": "contourcarpet"
           }
          ],
          "heatmap": [
           {
            "colorbar": {
             "outlinewidth": 0,
             "ticks": ""
            },
            "colorscale": [
             [
              0,
              "#0d0887"
             ],
             [
              0.1111111111111111,
              "#46039f"
             ],
             [
              0.2222222222222222,
              "#7201a8"
             ],
             [
              0.3333333333333333,
              "#9c179e"
             ],
             [
              0.4444444444444444,
              "#bd3786"
             ],
             [
              0.5555555555555556,
              "#d8576b"
             ],
             [
              0.6666666666666666,
              "#ed7953"
             ],
             [
              0.7777777777777778,
              "#fb9f3a"
             ],
             [
              0.8888888888888888,
              "#fdca26"
             ],
             [
              1,
              "#f0f921"
             ]
            ],
            "type": "heatmap"
           }
          ],
          "heatmapgl": [
           {
            "colorbar": {
             "outlinewidth": 0,
             "ticks": ""
            },
            "colorscale": [
             [
              0,
              "#0d0887"
             ],
             [
              0.1111111111111111,
              "#46039f"
             ],
             [
              0.2222222222222222,
              "#7201a8"
             ],
             [
              0.3333333333333333,
              "#9c179e"
             ],
             [
              0.4444444444444444,
              "#bd3786"
             ],
             [
              0.5555555555555556,
              "#d8576b"
             ],
             [
              0.6666666666666666,
              "#ed7953"
             ],
             [
              0.7777777777777778,
              "#fb9f3a"
             ],
             [
              0.8888888888888888,
              "#fdca26"
             ],
             [
              1,
              "#f0f921"
             ]
            ],
            "type": "heatmapgl"
           }
          ],
          "histogram": [
           {
            "marker": {
             "colorbar": {
              "outlinewidth": 0,
              "ticks": ""
             }
            },
            "type": "histogram"
           }
          ],
          "histogram2d": [
           {
            "colorbar": {
             "outlinewidth": 0,
             "ticks": ""
            },
            "colorscale": [
             [
              0,
              "#0d0887"
             ],
             [
              0.1111111111111111,
              "#46039f"
             ],
             [
              0.2222222222222222,
              "#7201a8"
             ],
             [
              0.3333333333333333,
              "#9c179e"
             ],
             [
              0.4444444444444444,
              "#bd3786"
             ],
             [
              0.5555555555555556,
              "#d8576b"
             ],
             [
              0.6666666666666666,
              "#ed7953"
             ],
             [
              0.7777777777777778,
              "#fb9f3a"
             ],
             [
              0.8888888888888888,
              "#fdca26"
             ],
             [
              1,
              "#f0f921"
             ]
            ],
            "type": "histogram2d"
           }
          ],
          "histogram2dcontour": [
           {
            "colorbar": {
             "outlinewidth": 0,
             "ticks": ""
            },
            "colorscale": [
             [
              0,
              "#0d0887"
             ],
             [
              0.1111111111111111,
              "#46039f"
             ],
             [
              0.2222222222222222,
              "#7201a8"
             ],
             [
              0.3333333333333333,
              "#9c179e"
             ],
             [
              0.4444444444444444,
              "#bd3786"
             ],
             [
              0.5555555555555556,
              "#d8576b"
             ],
             [
              0.6666666666666666,
              "#ed7953"
             ],
             [
              0.7777777777777778,
              "#fb9f3a"
             ],
             [
              0.8888888888888888,
              "#fdca26"
             ],
             [
              1,
              "#f0f921"
             ]
            ],
            "type": "histogram2dcontour"
           }
          ],
          "mesh3d": [
           {
            "colorbar": {
             "outlinewidth": 0,
             "ticks": ""
            },
            "type": "mesh3d"
           }
          ],
          "parcoords": [
           {
            "line": {
             "colorbar": {
              "outlinewidth": 0,
              "ticks": ""
             }
            },
            "type": "parcoords"
           }
          ],
          "pie": [
           {
            "automargin": true,
            "type": "pie"
           }
          ],
          "scatter": [
           {
            "marker": {
             "colorbar": {
              "outlinewidth": 0,
              "ticks": ""
             }
            },
            "type": "scatter"
           }
          ],
          "scatter3d": [
           {
            "line": {
             "colorbar": {
              "outlinewidth": 0,
              "ticks": ""
             }
            },
            "marker": {
             "colorbar": {
              "outlinewidth": 0,
              "ticks": ""
             }
            },
            "type": "scatter3d"
           }
          ],
          "scattercarpet": [
           {
            "marker": {
             "colorbar": {
              "outlinewidth": 0,
              "ticks": ""
             }
            },
            "type": "scattercarpet"
           }
          ],
          "scattergeo": [
           {
            "marker": {
             "colorbar": {
              "outlinewidth": 0,
              "ticks": ""
             }
            },
            "type": "scattergeo"
           }
          ],
          "scattergl": [
           {
            "marker": {
             "colorbar": {
              "outlinewidth": 0,
              "ticks": ""
             }
            },
            "type": "scattergl"
           }
          ],
          "scattermapbox": [
           {
            "marker": {
             "colorbar": {
              "outlinewidth": 0,
              "ticks": ""
             }
            },
            "type": "scattermapbox"
           }
          ],
          "scatterpolar": [
           {
            "marker": {
             "colorbar": {
              "outlinewidth": 0,
              "ticks": ""
             }
            },
            "type": "scatterpolar"
           }
          ],
          "scatterpolargl": [
           {
            "marker": {
             "colorbar": {
              "outlinewidth": 0,
              "ticks": ""
             }
            },
            "type": "scatterpolargl"
           }
          ],
          "scatterternary": [
           {
            "marker": {
             "colorbar": {
              "outlinewidth": 0,
              "ticks": ""
             }
            },
            "type": "scatterternary"
           }
          ],
          "surface": [
           {
            "colorbar": {
             "outlinewidth": 0,
             "ticks": ""
            },
            "colorscale": [
             [
              0,
              "#0d0887"
             ],
             [
              0.1111111111111111,
              "#46039f"
             ],
             [
              0.2222222222222222,
              "#7201a8"
             ],
             [
              0.3333333333333333,
              "#9c179e"
             ],
             [
              0.4444444444444444,
              "#bd3786"
             ],
             [
              0.5555555555555556,
              "#d8576b"
             ],
             [
              0.6666666666666666,
              "#ed7953"
             ],
             [
              0.7777777777777778,
              "#fb9f3a"
             ],
             [
              0.8888888888888888,
              "#fdca26"
             ],
             [
              1,
              "#f0f921"
             ]
            ],
            "type": "surface"
           }
          ],
          "table": [
           {
            "cells": {
             "fill": {
              "color": "#EBF0F8"
             },
             "line": {
              "color": "white"
             }
            },
            "header": {
             "fill": {
              "color": "#C8D4E3"
             },
             "line": {
              "color": "white"
             }
            },
            "type": "table"
           }
          ]
         },
         "layout": {
          "annotationdefaults": {
           "arrowcolor": "#2a3f5f",
           "arrowhead": 0,
           "arrowwidth": 1
          },
          "autotypenumbers": "strict",
          "coloraxis": {
           "colorbar": {
            "outlinewidth": 0,
            "ticks": ""
           }
          },
          "colorscale": {
           "diverging": [
            [
             0,
             "#8e0152"
            ],
            [
             0.1,
             "#c51b7d"
            ],
            [
             0.2,
             "#de77ae"
            ],
            [
             0.3,
             "#f1b6da"
            ],
            [
             0.4,
             "#fde0ef"
            ],
            [
             0.5,
             "#f7f7f7"
            ],
            [
             0.6,
             "#e6f5d0"
            ],
            [
             0.7,
             "#b8e186"
            ],
            [
             0.8,
             "#7fbc41"
            ],
            [
             0.9,
             "#4d9221"
            ],
            [
             1,
             "#276419"
            ]
           ],
           "sequential": [
            [
             0,
             "#0d0887"
            ],
            [
             0.1111111111111111,
             "#46039f"
            ],
            [
             0.2222222222222222,
             "#7201a8"
            ],
            [
             0.3333333333333333,
             "#9c179e"
            ],
            [
             0.4444444444444444,
             "#bd3786"
            ],
            [
             0.5555555555555556,
             "#d8576b"
            ],
            [
             0.6666666666666666,
             "#ed7953"
            ],
            [
             0.7777777777777778,
             "#fb9f3a"
            ],
            [
             0.8888888888888888,
             "#fdca26"
            ],
            [
             1,
             "#f0f921"
            ]
           ],
           "sequentialminus": [
            [
             0,
             "#0d0887"
            ],
            [
             0.1111111111111111,
             "#46039f"
            ],
            [
             0.2222222222222222,
             "#7201a8"
            ],
            [
             0.3333333333333333,
             "#9c179e"
            ],
            [
             0.4444444444444444,
             "#bd3786"
            ],
            [
             0.5555555555555556,
             "#d8576b"
            ],
            [
             0.6666666666666666,
             "#ed7953"
            ],
            [
             0.7777777777777778,
             "#fb9f3a"
            ],
            [
             0.8888888888888888,
             "#fdca26"
            ],
            [
             1,
             "#f0f921"
            ]
           ]
          },
          "colorway": [
           "#636efa",
           "#EF553B",
           "#00cc96",
           "#ab63fa",
           "#FFA15A",
           "#19d3f3",
           "#FF6692",
           "#B6E880",
           "#FF97FF",
           "#FECB52"
          ],
          "font": {
           "color": "#2a3f5f"
          },
          "geo": {
           "bgcolor": "white",
           "lakecolor": "white",
           "landcolor": "#E5ECF6",
           "showlakes": true,
           "showland": true,
           "subunitcolor": "white"
          },
          "hoverlabel": {
           "align": "left"
          },
          "hovermode": "closest",
          "mapbox": {
           "style": "light"
          },
          "paper_bgcolor": "white",
          "plot_bgcolor": "#E5ECF6",
          "polar": {
           "angularaxis": {
            "gridcolor": "white",
            "linecolor": "white",
            "ticks": ""
           },
           "bgcolor": "#E5ECF6",
           "radialaxis": {
            "gridcolor": "white",
            "linecolor": "white",
            "ticks": ""
           }
          },
          "scene": {
           "xaxis": {
            "backgroundcolor": "#E5ECF6",
            "gridcolor": "white",
            "gridwidth": 2,
            "linecolor": "white",
            "showbackground": true,
            "ticks": "",
            "zerolinecolor": "white"
           },
           "yaxis": {
            "backgroundcolor": "#E5ECF6",
            "gridcolor": "white",
            "gridwidth": 2,
            "linecolor": "white",
            "showbackground": true,
            "ticks": "",
            "zerolinecolor": "white"
           },
           "zaxis": {
            "backgroundcolor": "#E5ECF6",
            "gridcolor": "white",
            "gridwidth": 2,
            "linecolor": "white",
            "showbackground": true,
            "ticks": "",
            "zerolinecolor": "white"
           }
          },
          "shapedefaults": {
           "line": {
            "color": "#2a3f5f"
           }
          },
          "ternary": {
           "aaxis": {
            "gridcolor": "white",
            "linecolor": "white",
            "ticks": ""
           },
           "baxis": {
            "gridcolor": "white",
            "linecolor": "white",
            "ticks": ""
           },
           "bgcolor": "#E5ECF6",
           "caxis": {
            "gridcolor": "white",
            "linecolor": "white",
            "ticks": ""
           }
          },
          "title": {
           "x": 0.05
          },
          "xaxis": {
           "automargin": true,
           "gridcolor": "white",
           "linecolor": "white",
           "ticks": "",
           "title": {
            "standoff": 15
           },
           "zerolinecolor": "white",
           "zerolinewidth": 2
          },
          "yaxis": {
           "automargin": true,
           "gridcolor": "white",
           "linecolor": "white",
           "ticks": "",
           "title": {
            "standoff": 15
           },
           "zerolinecolor": "white",
           "zerolinewidth": 2
          }
         }
        },
        "xaxis": {
         "anchor": "y",
         "autorange": true,
         "domain": [
          0,
          0.235
         ],
         "range": [
          0.30102999566398114,
          2.107209969647868
         ],
         "title": {
          "text": "taps"
         },
         "type": "log"
        },
        "xaxis2": {
         "anchor": "y2",
         "autorange": true,
         "domain": [
          0.255,
          0.49
         ],
         "matches": "x",
         "range": [
          0.30102999566398114,
          2.107209969647868
         ],
         "title": {
          "text": "taps"
         },
         "type": "log"
        },
        "xaxis3": {
         "anchor": "y3",
         "autorange": true,
         "domain": [
          0.51,
          0.745
         ],
         "matches": "x",
         "range": [
          0.30102999566398114,
          2.107209969647868
         ],
         "title": {
          "text": "taps"
         },
         "type": "log"
        },
        "xaxis4": {
         "anchor": "y4",
         "autorange": true,
         "domain": [
          0.7649999999999999,
          0.9999999999999999
         ],
         "matches": "x",
         "range": [
          0.30102999566398114,
          2.107209969647868
         ],
         "title": {
          "text": "taps"
         },
         "type": "log"
        },
        "yaxis": {
         "anchor": "x",
         "autorange": true,
         "domain": [
          0,
          1
         ],
         "range": [
          -1040.388888888889,
          21247.38888888889
         ],
         "title": {
          "text": "clbs"
         },
         "type": "linear"
        },
        "yaxis2": {
         "anchor": "x2",
         "autorange": true,
         "domain": [
          0,
          1
         ],
         "matches": "y",
         "range": [
          -1040.388888888889,
          21247.38888888889
         ],
         "showticklabels": false,
         "type": "linear"
        },
        "yaxis3": {
         "anchor": "x3",
         "autorange": true,
         "domain": [
          0,
          1
         ],
         "matches": "y",
         "range": [
          -1040.388888888889,
          21247.38888888889
         ],
         "showticklabels": false,
         "type": "linear"
        },
        "yaxis4": {
         "anchor": "x4",
         "autorange": true,
         "domain": [
          0,
          1
         ],
         "matches": "y",
         "range": [
          -1040.388888888889,
          21247.38888888889
         ],
         "showticklabels": false,
         "type": "linear"
        }
       }
      },
      "image/png": "[encoded data removed]",
      "text/html": [
       "<div>                            <div id=\"6b3d9433-af64-447c-810b-f948ba682e7d\" class=\"plotly-graph-div\" style=\"height:525px; width:100%;\"></div>            <script type=\"text/javascript\">                require([\"plotly\"], function(Plotly) {                    window.PLOTLYENV=window.PLOTLYENV || {};                                    if (document.getElementById(\"6b3d9433-af64-447c-810b-f948ba682e7d\")) {                    Plotly.newPlot(                        \"6b3d9433-af64-447c-810b-f948ba682e7d\",                        [{\"hovertemplate\": \"structure=PolyDir<br>parallelism=2<br>taps=%{x}<br>clbs=%{y}<extra></extra>\", \"legendgroup\": \"PolyDir\", \"line\": {\"color\": \"#636efa\", \"dash\": \"solid\"}, \"mode\": \"lines\", \"name\": \"PolyDir\", \"orientation\": \"v\", \"showlegend\": true, \"type\": \"scatter\", \"x\": [2, 4, 8, 16], \"xaxis\": \"x\", \"y\": [10, 71, 247, 564], \"yaxis\": \"y\"}, {\"hovertemplate\": \"structure=PolyDir<br>parallelism=4<br>taps=%{x}<br>clbs=%{y}<extra></extra>\", \"legendgroup\": \"PolyDir\", \"line\": {\"color\": \"#636efa\", \"dash\": \"solid\"}, \"mode\": \"lines\", \"name\": \"PolyDir\", \"orientation\": \"v\", \"showlegend\": false, \"type\": \"scatter\", \"x\": [4, 8, 16, 32], \"xaxis\": \"x2\", \"y\": [31, 344, 985, 1961], \"yaxis\": \"y2\"}, {\"hovertemplate\": \"structure=PolyDir<br>parallelism=8<br>taps=%{x}<br>clbs=%{y}<extra></extra>\", \"legendgroup\": \"PolyDir\", \"line\": {\"color\": \"#636efa\", \"dash\": \"solid\"}, \"mode\": \"lines\", \"name\": \"PolyDir\", \"orientation\": \"v\", \"showlegend\": false, \"type\": \"scatter\", \"x\": [8, 16, 32, 64], \"xaxis\": \"x3\", \"y\": [139, 1327, 3261, 7525], \"yaxis\": \"y3\"}, {\"hovertemplate\": \"structure=PolyDir<br>parallelism=16<br>taps=%{x}<br>clbs=%{y}<extra></extra>\", \"legendgroup\": \"PolyDir\", \"line\": {\"color\": \"#636efa\", \"dash\": \"solid\"}, \"mode\": \"lines\", \"name\": \"PolyDir\", \"orientation\": \"v\", \"showlegend\": false, \"type\": \"scatter\", \"x\": [16, 32, 64, 128], \"xaxis\": \"x4\", \"y\": [680, 4110, 13050, 23967], \"yaxis\": \"y4\"}, {\"hovertemplate\": \"structure=PolyMcm<br>parallelism=2<br>taps=%{x}<br>clbs=%{y}<extra></extra>\", \"legendgroup\": \"PolyMcm\", \"line\": {\"color\": \"#EF553B\", \"dash\": \"solid\"}, \"mode\": \"lines\", \"name\": \"PolyMcm\", \"orientation\": \"v\", \"showlegend\": true, \"type\": \"scatter\", \"x\": [2, 4, 8, 16], \"xaxis\": \"x\", \"y\": [81, 128, 233, 409], \"yaxis\": \"y\"}, {\"hovertemplate\": \"structure=PolyMcm<br>parallelism=4<br>taps=%{x}<br>clbs=%{y}<extra></extra>\", \"legendgroup\": \"PolyMcm\", \"line\": {\"color\": \"#EF553B\", \"dash\": \"solid\"}, \"mode\": \"lines\", \"name\": \"PolyMcm\", \"orientation\": \"v\", \"showlegend\": false, \"type\": \"scatter\", \"x\": [4, 8, 16, 32], \"xaxis\": \"x2\", \"y\": [270, 512, 852, 1472], \"yaxis\": \"y2\"}, {\"hovertemplate\": \"structure=PolyMcm<br>parallelism=8<br>taps=%{x}<br>clbs=%{y}<extra></extra>\", \"legendgroup\": \"PolyMcm\", \"line\": {\"color\": \"#EF553B\", \"dash\": \"solid\"}, \"mode\": \"lines\", \"name\": \"PolyMcm\", \"orientation\": \"v\", \"showlegend\": false, \"type\": \"scatter\", \"x\": [8, 16, 32, 64], \"xaxis\": \"x3\", \"y\": [1093, 1933, 3184, 5391], \"yaxis\": \"y3\"}, {\"hovertemplate\": \"structure=PolyMcm<br>parallelism=16<br>taps=%{x}<br>clbs=%{y}<extra></extra>\", \"legendgroup\": \"PolyMcm\", \"line\": {\"color\": \"#EF553B\", \"dash\": \"solid\"}, \"mode\": \"lines\", \"name\": \"PolyMcm\", \"orientation\": \"v\", \"showlegend\": false, \"type\": \"scatter\", \"x\": [16, 32, 64, 128], \"xaxis\": \"x4\", \"y\": [4174, 6583, 11271, 20133], \"yaxis\": \"y4\"}, {\"hovertemplate\": \"structure=FfaDir<br>parallelism=2<br>taps=%{x}<br>clbs=%{y}<extra></extra>\", \"legendgroup\": \"FfaDir\", \"line\": {\"color\": \"#00cc96\", \"dash\": \"solid\"}, \"mode\": \"lines\", \"name\": \"FfaDir\", \"orientation\": \"v\", \"showlegend\": true, \"type\": \"scatter\", \"x\": [2, 4, 8, 16], \"xaxis\": \"x\", \"y\": [105, 195, 307, 684], \"yaxis\": \"y\"}, {\"hovertemplate\": \"structure=FfaDir<br>parallelism=4<br>taps=%{x}<br>clbs=%{y}<extra></extra>\", \"legendgroup\": \"FfaDir\", \"line\": {\"color\": \"#00cc96\", \"dash\": \"solid\"}, \"mode\": \"lines\", \"name\": \"FfaDir\", \"orientation\": \"v\", \"showlegend\": false, \"type\": \"scatter\", \"x\": [4, 8, 16, 32], \"xaxis\": \"x2\", \"y\": [387, 577, 1225, 1975], \"yaxis\": \"y2\"}, {\"hovertemplate\": \"structure=FfaDir<br>parallelism=8<br>taps=%{x}<br>clbs=%{y}<extra></extra>\", \"legendgroup\": \"FfaDir\", \"line\": {\"color\": \"#00cc96\", \"dash\": \"solid\"}, \"mode\": \"lines\", \"name\": \"FfaDir\", \"orientation\": \"v\", \"showlegend\": false, \"type\": \"scatter\", \"x\": [8, 16, 32, 64], \"xaxis\": \"x3\", \"y\": [1229, 2324, 3810, 6451], \"yaxis\": \"y3\"}, {\"hovertemplate\": \"structure=FfaDir<br>parallelism=16<br>taps=%{x}<br>clbs=%{y}<extra></extra>\", \"legendgroup\": \"FfaDir\", \"line\": {\"color\": \"#00cc96\", \"dash\": \"solid\"}, \"mode\": \"lines\", \"name\": \"FfaDir\", \"orientation\": \"v\", \"showlegend\": false, \"type\": \"scatter\", \"x\": [16, 32, 64, 128], \"xaxis\": \"x4\", \"y\": [4307, 7139, 11356, 18296], \"yaxis\": \"y4\"}, {\"hovertemplate\": \"structure=FfaMcm<br>parallelism=2<br>taps=%{x}<br>clbs=%{y}<extra></extra>\", \"legendgroup\": \"FfaMcm\", \"line\": {\"color\": \"#ab63fa\", \"dash\": \"solid\"}, \"mode\": \"lines\", \"name\": \"FfaMcm\", \"orientation\": \"v\", \"showlegend\": true, \"type\": \"scatter\", \"x\": [2, 4, 8, 16], \"xaxis\": \"x\", \"y\": [74, 122, 223, 370], \"yaxis\": \"y\"}, {\"hovertemplate\": \"structure=FfaMcm<br>parallelism=4<br>taps=%{x}<br>clbs=%{y}<extra></extra>\", \"legendgroup\": \"FfaMcm\", \"line\": {\"color\": \"#ab63fa\", \"dash\": \"solid\"}, \"mode\": \"lines\", \"name\": \"FfaMcm\", \"orientation\": \"v\", \"showlegend\": false, \"type\": \"scatter\", \"x\": [4, 8, 16, 32], \"xaxis\": \"x2\", \"y\": [265, 469, 739, 1194], \"yaxis\": \"y2\"}, {\"hovertemplate\": \"structure=FfaMcm<br>parallelism=8<br>taps=%{x}<br>clbs=%{y}<extra></extra>\", \"legendgroup\": \"FfaMcm\", \"line\": {\"color\": \"#ab63fa\", \"dash\": \"solid\"}, \"mode\": \"lines\", \"name\": \"FfaMcm\", \"orientation\": \"v\", \"showlegend\": false, \"type\": \"scatter\", \"x\": [8, 16, 32, 64], \"xaxis\": \"x3\", \"y\": [1026, 1558, 2457, 4166], \"yaxis\": \"y3\"}, {\"hovertemplate\": \"structure=FfaMcm<br>parallelism=16<br>taps=%{x}<br>clbs=%{y}<extra></extra>\", \"legendgroup\": \"FfaMcm\", \"line\": {\"color\": \"#ab63fa\", \"dash\": \"solid\"}, \"mode\": \"lines\", \"name\": \"FfaMcm\", \"orientation\": \"v\", \"showlegend\": false, \"type\": \"scatter\", \"x\": [16, 32, 64, 128], \"xaxis\": \"x4\", \"y\": [3717, 5443, 8185, 12251], \"yaxis\": \"y4\"}],                        {\"annotations\": [{\"font\": {}, \"showarrow\": false, \"text\": \"parallelism=2\", \"x\": 0.1175, \"xanchor\": \"center\", \"xref\": \"paper\", \"y\": 1.0, \"yanchor\": \"bottom\", \"yref\": \"paper\"}, {\"font\": {}, \"showarrow\": false, \"text\": \"parallelism=4\", \"x\": 0.3725, \"xanchor\": \"center\", \"xref\": \"paper\", \"y\": 1.0, \"yanchor\": \"bottom\", \"yref\": \"paper\"}, {\"font\": {}, \"showarrow\": false, \"text\": \"parallelism=8\", \"x\": 0.6275, \"xanchor\": \"center\", \"xref\": \"paper\", \"y\": 1.0, \"yanchor\": \"bottom\", \"yref\": \"paper\"}, {\"font\": {}, \"showarrow\": false, \"text\": \"parallelism=16\", \"x\": 0.8824999999999998, \"xanchor\": \"center\", \"xref\": \"paper\", \"y\": 1.0, \"yanchor\": \"bottom\", \"yref\": \"paper\"}], \"legend\": {\"title\": {\"text\": \"structure\"}, \"tracegroupgap\": 0}, \"margin\": {\"t\": 60}, \"template\": {\"data\": {\"bar\": [{\"error_x\": {\"color\": \"#2a3f5f\"}, \"error_y\": {\"color\": \"#2a3f5f\"}, \"marker\": {\"line\": {\"color\": \"#E5ECF6\", \"width\": 0.5}}, \"type\": \"bar\"}], \"barpolar\": [{\"marker\": {\"line\": {\"color\": \"#E5ECF6\", \"width\": 0.5}}, \"type\": \"barpolar\"}], \"carpet\": [{\"aaxis\": {\"endlinecolor\": \"#2a3f5f\", \"gridcolor\": \"white\", \"linecolor\": \"white\", \"minorgridcolor\": \"white\", \"startlinecolor\": \"#2a3f5f\"}, \"baxis\": {\"endlinecolor\": \"#2a3f5f\", \"gridcolor\": \"white\", \"linecolor\": \"white\", \"minorgridcolor\": \"white\", \"startlinecolor\": \"#2a3f5f\"}, \"type\": \"carpet\"}], \"choropleth\": [{\"colorbar\": {\"outlinewidth\": 0, \"ticks\": \"\"}, \"type\": \"choropleth\"}], \"contour\": [{\"colorbar\": {\"outlinewidth\": 0, \"ticks\": \"\"}, \"colorscale\": [[0.0, \"#0d0887\"], [0.1111111111111111, \"#46039f\"], [0.2222222222222222, \"#7201a8\"], [0.3333333333333333, \"#9c179e\"], [0.4444444444444444, \"#bd3786\"], [0.5555555555555556, \"#d8576b\"], [0.6666666666666666, \"#ed7953\"], [0.7777777777777778, \"#fb9f3a\"], [0.8888888888888888, \"#fdca26\"], [1.0, \"#f0f921\"]], \"type\": \"contour\"}], \"contourcarpet\": [{\"colorbar\": {\"outlinewidth\": 0, \"ticks\": \"\"}, \"type\": \"contourcarpet\"}], \"heatmap\": [{\"colorbar\": {\"outlinewidth\": 0, \"ticks\": \"\"}, \"colorscale\": [[0.0, \"#0d0887\"], [0.1111111111111111, \"#46039f\"], [0.2222222222222222, \"#7201a8\"], [0.3333333333333333, \"#9c179e\"], [0.4444444444444444, \"#bd3786\"], [0.5555555555555556, \"#d8576b\"], [0.6666666666666666, \"#ed7953\"], [0.7777777777777778, \"#fb9f3a\"], [0.8888888888888888, \"#fdca26\"], [1.0, \"#f0f921\"]], \"type\": \"heatmap\"}], \"heatmapgl\": [{\"colorbar\": {\"outlinewidth\": 0, \"ticks\": \"\"}, \"colorscale\": [[0.0, \"#0d0887\"], [0.1111111111111111, \"#46039f\"], [0.2222222222222222, \"#7201a8\"], [0.3333333333333333, \"#9c179e\"], [0.4444444444444444, \"#bd3786\"], [0.5555555555555556, \"#d8576b\"], [0.6666666666666666, \"#ed7953\"], [0.7777777777777778, \"#fb9f3a\"], [0.8888888888888888, \"#fdca26\"], [1.0, \"#f0f921\"]], \"type\": \"heatmapgl\"}], \"histogram\": [{\"marker\": {\"colorbar\": {\"outlinewidth\": 0, \"ticks\": \"\"}}, \"type\": \"histogram\"}], \"histogram2d\": [{\"colorbar\": {\"outlinewidth\": 0, \"ticks\": \"\"}, \"colorscale\": [[0.0, \"#0d0887\"], [0.1111111111111111, \"#46039f\"], [0.2222222222222222, \"#7201a8\"], [0.3333333333333333, \"#9c179e\"], [0.4444444444444444, \"#bd3786\"], [0.5555555555555556, \"#d8576b\"], [0.6666666666666666, \"#ed7953\"], [0.7777777777777778, \"#fb9f3a\"], [0.8888888888888888, \"#fdca26\"], [1.0, \"#f0f921\"]], \"type\": \"histogram2d\"}], \"histogram2dcontour\": [{\"colorbar\": {\"outlinewidth\": 0, \"ticks\": \"\"}, \"colorscale\": [[0.0, \"#0d0887\"], [0.1111111111111111, \"#46039f\"], [0.2222222222222222, \"#7201a8\"], [0.3333333333333333, \"#9c179e\"], [0.4444444444444444, \"#bd3786\"], [0.5555555555555556, \"#d8576b\"], [0.6666666666666666, \"#ed7953\"], [0.7777777777777778, \"#fb9f3a\"], [0.8888888888888888, \"#fdca26\"], [1.0, \"#f0f921\"]], \"type\": \"histogram2dcontour\"}], \"mesh3d\": [{\"colorbar\": {\"outlinewidth\": 0, \"ticks\": \"\"}, \"type\": \"mesh3d\"}], \"parcoords\": [{\"line\": {\"colorbar\": {\"outlinewidth\": 0, \"ticks\": \"\"}}, \"type\": \"parcoords\"}], \"pie\": [{\"automargin\": true, \"type\": \"pie\"}], \"scatter\": [{\"marker\": {\"colorbar\": {\"outlinewidth\": 0, \"ticks\": \"\"}}, \"type\": \"scatter\"}], \"scatter3d\": [{\"line\": {\"colorbar\": {\"outlinewidth\": 0, \"ticks\": \"\"}}, \"marker\": {\"colorbar\": {\"outlinewidth\": 0, \"ticks\": \"\"}}, \"type\": \"scatter3d\"}], \"scattercarpet\": [{\"marker\": {\"colorbar\": {\"outlinewidth\": 0, \"ticks\": \"\"}}, \"type\": \"scattercarpet\"}], \"scattergeo\": [{\"marker\": {\"colorbar\": {\"outlinewidth\": 0, \"ticks\": \"\"}}, \"type\": \"scattergeo\"}], \"scattergl\": [{\"marker\": {\"colorbar\": {\"outlinewidth\": 0, \"ticks\": \"\"}}, \"type\": \"scattergl\"}], \"scattermapbox\": [{\"marker\": {\"colorbar\": {\"outlinewidth\": 0, \"ticks\": \"\"}}, \"type\": \"scattermapbox\"}], \"scatterpolar\": [{\"marker\": {\"colorbar\": {\"outlinewidth\": 0, \"ticks\": \"\"}}, \"type\": \"scatterpolar\"}], \"scatterpolargl\": [{\"marker\": {\"colorbar\": {\"outlinewidth\": 0, \"ticks\": \"\"}}, \"type\": \"scatterpolargl\"}], \"scatterternary\": [{\"marker\": {\"colorbar\": {\"outlinewidth\": 0, \"ticks\": \"\"}}, \"type\": \"scatterternary\"}], \"surface\": [{\"colorbar\": {\"outlinewidth\": 0, \"ticks\": \"\"}, \"colorscale\": [[0.0, \"#0d0887\"], [0.1111111111111111, \"#46039f\"], [0.2222222222222222, \"#7201a8\"], [0.3333333333333333, \"#9c179e\"], [0.4444444444444444, \"#bd3786\"], [0.5555555555555556, \"#d8576b\"], [0.6666666666666666, \"#ed7953\"], [0.7777777777777778, \"#fb9f3a\"], [0.8888888888888888, \"#fdca26\"], [1.0, \"#f0f921\"]], \"type\": \"surface\"}], \"table\": [{\"cells\": {\"fill\": {\"color\": \"#EBF0F8\"}, \"line\": {\"color\": \"white\"}}, \"header\": {\"fill\": {\"color\": \"#C8D4E3\"}, \"line\": {\"color\": \"white\"}}, \"type\": \"table\"}]}, \"layout\": {\"annotationdefaults\": {\"arrowcolor\": \"#2a3f5f\", \"arrowhead\": 0, \"arrowwidth\": 1}, \"autotypenumbers\": \"strict\", \"coloraxis\": {\"colorbar\": {\"outlinewidth\": 0, \"ticks\": \"\"}}, \"colorscale\": {\"diverging\": [[0, \"#8e0152\"], [0.1, \"#c51b7d\"], [0.2, \"#de77ae\"], [0.3, \"#f1b6da\"], [0.4, \"#fde0ef\"], [0.5, \"#f7f7f7\"], [0.6, \"#e6f5d0\"], [0.7, \"#b8e186\"], [0.8, \"#7fbc41\"], [0.9, \"#4d9221\"], [1, \"#276419\"]], \"sequential\": [[0.0, \"#0d0887\"], [0.1111111111111111, \"#46039f\"], [0.2222222222222222, \"#7201a8\"], [0.3333333333333333, \"#9c179e\"], [0.4444444444444444, \"#bd3786\"], [0.5555555555555556, \"#d8576b\"], [0.6666666666666666, \"#ed7953\"], [0.7777777777777778, \"#fb9f3a\"], [0.8888888888888888, \"#fdca26\"], [1.0, \"#f0f921\"]], \"sequentialminus\": [[0.0, \"#0d0887\"], [0.1111111111111111, \"#46039f\"], [0.2222222222222222, \"#7201a8\"], [0.3333333333333333, \"#9c179e\"], [0.4444444444444444, \"#bd3786\"], [0.5555555555555556, \"#d8576b\"], [0.6666666666666666, \"#ed7953\"], [0.7777777777777778, \"#fb9f3a\"], [0.8888888888888888, \"#fdca26\"], [1.0, \"#f0f921\"]]}, \"colorway\": [\"#636efa\", \"#EF553B\", \"#00cc96\", \"#ab63fa\", \"#FFA15A\", \"#19d3f3\", \"#FF6692\", \"#B6E880\", \"#FF97FF\", \"#FECB52\"], \"font\": {\"color\": \"#2a3f5f\"}, \"geo\": {\"bgcolor\": \"white\", \"lakecolor\": \"white\", \"landcolor\": \"#E5ECF6\", \"showlakes\": true, \"showland\": true, \"subunitcolor\": \"white\"}, \"hoverlabel\": {\"align\": \"left\"}, \"hovermode\": \"closest\", \"mapbox\": {\"style\": \"light\"}, \"paper_bgcolor\": \"white\", \"plot_bgcolor\": \"#E5ECF6\", \"polar\": {\"angularaxis\": {\"gridcolor\": \"white\", \"linecolor\": \"white\", \"ticks\": \"\"}, \"bgcolor\": \"#E5ECF6\", \"radialaxis\": {\"gridcolor\": \"white\", \"linecolor\": \"white\", \"ticks\": \"\"}}, \"scene\": {\"xaxis\": {\"backgroundcolor\": \"#E5ECF6\", \"gridcolor\": \"white\", \"gridwidth\": 2, \"linecolor\": \"white\", \"showbackground\": true, \"ticks\": \"\", \"zerolinecolor\": \"white\"}, \"yaxis\": {\"backgroundcolor\": \"#E5ECF6\", \"gridcolor\": \"white\", \"gridwidth\": 2, \"linecolor\": \"white\", \"showbackground\": true, \"ticks\": \"\", \"zerolinecolor\": \"white\"}, \"zaxis\": {\"backgroundcolor\": \"#E5ECF6\", \"gridcolor\": \"white\", \"gridwidth\": 2, \"linecolor\": \"white\", \"showbackground\": true, \"ticks\": \"\", \"zerolinecolor\": \"white\"}}, \"shapedefaults\": {\"line\": {\"color\": \"#2a3f5f\"}}, \"ternary\": {\"aaxis\": {\"gridcolor\": \"white\", \"linecolor\": \"white\", \"ticks\": \"\"}, \"baxis\": {\"gridcolor\": \"white\", \"linecolor\": \"white\", \"ticks\": \"\"}, \"bgcolor\": \"#E5ECF6\", \"caxis\": {\"gridcolor\": \"white\", \"linecolor\": \"white\", \"ticks\": \"\"}}, \"title\": {\"x\": 0.05}, \"xaxis\": {\"automargin\": true, \"gridcolor\": \"white\", \"linecolor\": \"white\", \"ticks\": \"\", \"title\": {\"standoff\": 15}, \"zerolinecolor\": \"white\", \"zerolinewidth\": 2}, \"yaxis\": {\"automargin\": true, \"gridcolor\": \"white\", \"linecolor\": \"white\", \"ticks\": \"\", \"title\": {\"standoff\": 15}, \"zerolinecolor\": \"white\", \"zerolinewidth\": 2}}}, \"xaxis\": {\"anchor\": \"y\", \"domain\": [0.0, 0.235], \"title\": {\"text\": \"taps\"}, \"type\": \"log\"}, \"xaxis2\": {\"anchor\": \"y2\", \"domain\": [0.255, 0.49], \"matches\": \"x\", \"title\": {\"text\": \"taps\"}, \"type\": \"log\"}, \"xaxis3\": {\"anchor\": \"y3\", \"domain\": [0.51, 0.745], \"matches\": \"x\", \"title\": {\"text\": \"taps\"}, \"type\": \"log\"}, \"xaxis4\": {\"anchor\": \"y4\", \"domain\": [0.7649999999999999, 0.9999999999999999], \"matches\": \"x\", \"title\": {\"text\": \"taps\"}, \"type\": \"log\"}, \"yaxis\": {\"anchor\": \"x\", \"domain\": [0.0, 1.0], \"title\": {\"text\": \"clbs\"}}, \"yaxis2\": {\"anchor\": \"x2\", \"domain\": [0.0, 1.0], \"matches\": \"y\", \"showticklabels\": false}, \"yaxis3\": {\"anchor\": \"x3\", \"domain\": [0.0, 1.0], \"matches\": \"y\", \"showticklabels\": false}, \"yaxis4\": {\"anchor\": \"x4\", \"domain\": [0.0, 1.0], \"matches\": \"y\", \"showticklabels\": false}},                        {\"responsive\": true}                    ).then(function(){\n",
       "                            \n",
       "var gd = document.getElementById('6b3d9433-af64-447c-810b-f948ba682e7d');\n",
       "var x = new MutationObserver(function (mutations, observer) {{\n",
       "        var display = window.getComputedStyle(gd).display;\n",
       "        if (!display || display === 'none') {{\n",
       "            console.log([gd, 'removed!']);\n",
       "            Plotly.purge(gd);\n",
       "            observer.disconnect();\n",
       "        }}\n",
       "}});\n",
       "\n",
       "// Listen for the removal of the full notebook cells\n",
       "var notebookContainer = gd.closest('#notebook-container');\n",
       "if (notebookContainer) {{\n",
       "    x.observe(notebookContainer, {childList: true});\n",
       "}}\n",
       "\n",
       "// Listen for the clearing of the current output cell\n",
       "var outputEl = gd.closest('.output');\n",
       "if (outputEl) {{\n",
       "    x.observe(outputEl, {childList: true});\n",
       "}}\n",
       "\n",
       "                        })                };                });            </script>        </div>"
      ]
     },
     "metadata": {},
     "output_type": "display_data"
    },
    {
     "data": {
      "application/vnd.plotly.v1+json": {
       "config": {
        "plotlyServerURL": "https://plot.ly"
       },
       "data": [
        {
         "hovertemplate": "structure=PolyDir<br>parallelism=2<br>taps=%{x}<br>luts=%{y}<extra></extra>",
         "legendgroup": "PolyDir",
         "line": {
          "color": "#636efa",
          "dash": "solid"
         },
         "mode": "lines",
         "name": "PolyDir",
         "orientation": "v",
         "showlegend": true,
         "type": "scatter",
         "visible": "legendonly",
         "x": [
          2,
          4,
          8,
          16
         ],
         "xaxis": "x",
         "y": [
          33,
          346,
          1429,
          3491
         ],
         "yaxis": "y"
        },
        {
         "hovertemplate": "structure=PolyDir<br>parallelism=4<br>taps=%{x}<br>luts=%{y}<extra></extra>",
         "legendgroup": "PolyDir",
         "line": {
          "color": "#636efa",
          "dash": "solid"
         },
         "mode": "lines",
         "name": "PolyDir",
         "orientation": "v",
         "showlegend": false,
         "type": "scatter",
         "visible": "legendonly",
         "x": [
          4,
          8,
          16,
          32
         ],
         "xaxis": "x2",
         "y": [
          136,
          2020,
          5887,
          10395
         ],
         "yaxis": "y2"
        },
        {
         "hovertemplate": "structure=PolyDir<br>parallelism=8<br>taps=%{x}<br>luts=%{y}<extra></extra>",
         "legendgroup": "PolyDir",
         "line": {
          "color": "#636efa",
          "dash": "solid"
         },
         "mode": "lines",
         "name": "PolyDir",
         "orientation": "v",
         "showlegend": false,
         "type": "scatter",
         "visible": "legendonly",
         "x": [
          8,
          16,
          32,
          64
         ],
         "xaxis": "x3",
         "y": [
          840,
          7707,
          18287,
          39109
         ],
         "yaxis": "y3"
        },
        {
         "hovertemplate": "structure=PolyDir<br>parallelism=16<br>taps=%{x}<br>luts=%{y}<extra></extra>",
         "legendgroup": "PolyDir",
         "line": {
          "color": "#636efa",
          "dash": "solid"
         },
         "mode": "lines",
         "name": "PolyDir",
         "orientation": "v",
         "showlegend": false,
         "type": "scatter",
         "visible": "legendonly",
         "x": [
          16,
          32,
          64,
          128
         ],
         "xaxis": "x4",
         "y": [
          4032,
          20880,
          69087,
          125215
         ],
         "yaxis": "y4"
        },
        {
         "hovertemplate": "structure=PolyMcm<br>parallelism=2<br>taps=%{x}<br>luts=%{y}<extra></extra>",
         "legendgroup": "PolyMcm",
         "line": {
          "color": "#EF553B",
          "dash": "solid"
         },
         "mode": "lines",
         "name": "PolyMcm",
         "orientation": "v",
         "showlegend": true,
         "type": "scatter",
         "x": [
          2,
          4,
          8,
          16
         ],
         "xaxis": "x",
         "y": [
          303,
          617,
          1318,
          2497
         ],
         "yaxis": "y"
        },
        {
         "hovertemplate": "structure=PolyMcm<br>parallelism=4<br>taps=%{x}<br>luts=%{y}<extra></extra>",
         "legendgroup": "PolyMcm",
         "line": {
          "color": "#EF553B",
          "dash": "solid"
         },
         "mode": "lines",
         "name": "PolyMcm",
         "orientation": "v",
         "showlegend": false,
         "type": "scatter",
         "x": [
          4,
          8,
          16,
          32
         ],
         "xaxis": "x2",
         "y": [
          1236,
          2908,
          5134,
          8826
         ],
         "yaxis": "y2"
        },
        {
         "hovertemplate": "structure=PolyMcm<br>parallelism=8<br>taps=%{x}<br>luts=%{y}<extra></extra>",
         "legendgroup": "PolyMcm",
         "line": {
          "color": "#EF553B",
          "dash": "solid"
         },
         "mode": "lines",
         "name": "PolyMcm",
         "orientation": "v",
         "showlegend": false,
         "type": "scatter",
         "x": [
          8,
          16,
          32,
          64
         ],
         "xaxis": "x3",
         "y": [
          5838,
          10547,
          18559,
          31623
         ],
         "yaxis": "y3"
        },
        {
         "hovertemplate": "structure=PolyMcm<br>parallelism=16<br>taps=%{x}<br>luts=%{y}<extra></extra>",
         "legendgroup": "PolyMcm",
         "line": {
          "color": "#EF553B",
          "dash": "solid"
         },
         "mode": "lines",
         "name": "PolyMcm",
         "orientation": "v",
         "showlegend": false,
         "type": "scatter",
         "x": [
          16,
          32,
          64,
          128
         ],
         "xaxis": "x4",
         "y": [
          22606,
          38281,
          65613,
          109467
         ],
         "yaxis": "y4"
        },
        {
         "hovertemplate": "structure=FfaDir<br>parallelism=2<br>taps=%{x}<br>luts=%{y}<extra></extra>",
         "legendgroup": "FfaDir",
         "line": {
          "color": "#00cc96",
          "dash": "solid"
         },
         "mode": "lines",
         "name": "FfaDir",
         "orientation": "v",
         "showlegend": true,
         "type": "scatter",
         "visible": "legendonly",
         "x": [
          2,
          4,
          8,
          16
         ],
         "xaxis": "x",
         "y": [
          588,
          1176,
          1911,
          4308
         ],
         "yaxis": "y"
        },
        {
         "hovertemplate": "structure=FfaDir<br>parallelism=4<br>taps=%{x}<br>luts=%{y}<extra></extra>",
         "legendgroup": "FfaDir",
         "line": {
          "color": "#00cc96",
          "dash": "solid"
         },
         "mode": "lines",
         "name": "FfaDir",
         "orientation": "v",
         "showlegend": false,
         "type": "scatter",
         "visible": "legendonly",
         "x": [
          4,
          8,
          16,
          32
         ],
         "xaxis": "x2",
         "y": [
          2414,
          3606,
          8074,
          11830
         ],
         "yaxis": "y2"
        },
        {
         "hovertemplate": "structure=FfaDir<br>parallelism=8<br>taps=%{x}<br>luts=%{y}<extra></extra>",
         "legendgroup": "FfaDir",
         "line": {
          "color": "#00cc96",
          "dash": "solid"
         },
         "mode": "lines",
         "name": "FfaDir",
         "orientation": "v",
         "showlegend": false,
         "type": "scatter",
         "visible": "legendonly",
         "x": [
          8,
          16,
          32,
          64
         ],
         "xaxis": "x3",
         "y": [
          7311,
          14946,
          23177,
          38658
         ],
         "yaxis": "y3"
        },
        {
         "hovertemplate": "structure=FfaDir<br>parallelism=16<br>taps=%{x}<br>luts=%{y}<extra></extra>",
         "legendgroup": "FfaDir",
         "line": {
          "color": "#00cc96",
          "dash": "solid"
         },
         "mode": "lines",
         "name": "FfaDir",
         "orientation": "v",
         "showlegend": false,
         "type": "scatter",
         "visible": "legendonly",
         "x": [
          16,
          32,
          64,
          128
         ],
         "xaxis": "x4",
         "y": [
          27061,
          43722,
          71112,
          109018
         ],
         "yaxis": "y4"
        },
        {
         "hovertemplate": "structure=FfaMcm<br>parallelism=2<br>taps=%{x}<br>luts=%{y}<extra></extra>",
         "legendgroup": "FfaMcm",
         "line": {
          "color": "#ab63fa",
          "dash": "solid"
         },
         "mode": "lines",
         "name": "FfaMcm",
         "orientation": "v",
         "showlegend": true,
         "type": "scatter",
         "x": [
          2,
          4,
          8,
          16
         ],
         "xaxis": "x",
         "y": [
          382,
          674,
          1301,
          2170
         ],
         "yaxis": "y"
        },
        {
         "hovertemplate": "structure=FfaMcm<br>parallelism=4<br>taps=%{x}<br>luts=%{y}<extra></extra>",
         "legendgroup": "FfaMcm",
         "line": {
          "color": "#ab63fa",
          "dash": "solid"
         },
         "mode": "lines",
         "name": "FfaMcm",
         "orientation": "v",
         "showlegend": false,
         "type": "scatter",
         "x": [
          4,
          8,
          16,
          32
         ],
         "xaxis": "x2",
         "y": [
          1453,
          2721,
          4295,
          6996
         ],
         "yaxis": "y2"
        },
        {
         "hovertemplate": "structure=FfaMcm<br>parallelism=8<br>taps=%{x}<br>luts=%{y}<extra></extra>",
         "legendgroup": "FfaMcm",
         "line": {
          "color": "#ab63fa",
          "dash": "solid"
         },
         "mode": "lines",
         "name": "FfaMcm",
         "orientation": "v",
         "showlegend": false,
         "type": "scatter",
         "x": [
          8,
          16,
          32,
          64
         ],
         "xaxis": "x3",
         "y": [
          5781,
          8962,
          13793,
          22919
         ],
         "yaxis": "y3"
        },
        {
         "hovertemplate": "structure=FfaMcm<br>parallelism=16<br>taps=%{x}<br>luts=%{y}<extra></extra>",
         "legendgroup": "FfaMcm",
         "line": {
          "color": "#ab63fa",
          "dash": "solid"
         },
         "mode": "lines",
         "name": "FfaMcm",
         "orientation": "v",
         "showlegend": false,
         "type": "scatter",
         "x": [
          16,
          32,
          64,
          128
         ],
         "xaxis": "x4",
         "y": [
          20125,
          29848,
          45106,
          68373
         ],
         "yaxis": "y4"
        }
       ],
       "layout": {
        "annotations": [
         {
          "font": {},
          "showarrow": false,
          "text": "parallelism=2",
          "x": 0.1175,
          "xanchor": "center",
          "xref": "paper",
          "y": 1,
          "yanchor": "bottom",
          "yref": "paper"
         },
         {
          "font": {},
          "showarrow": false,
          "text": "parallelism=4",
          "x": 0.3725,
          "xanchor": "center",
          "xref": "paper",
          "y": 1,
          "yanchor": "bottom",
          "yref": "paper"
         },
         {
          "font": {},
          "showarrow": false,
          "text": "parallelism=8",
          "x": 0.6275,
          "xanchor": "center",
          "xref": "paper",
          "y": 1,
          "yanchor": "bottom",
          "yref": "paper"
         },
         {
          "font": {},
          "showarrow": false,
          "text": "parallelism=16",
          "x": 0.8824999999999998,
          "xanchor": "center",
          "xref": "paper",
          "y": 1,
          "yanchor": "bottom",
          "yref": "paper"
         }
        ],
        "autosize": true,
        "legend": {
         "title": {
          "text": "structure"
         },
         "tracegroupgap": 0
        },
        "margin": {
         "t": 60
        },
        "template": {
         "data": {
          "bar": [
           {
            "error_x": {
             "color": "#2a3f5f"
            },
            "error_y": {
             "color": "#2a3f5f"
            },
            "marker": {
             "line": {
              "color": "#E5ECF6",
              "width": 0.5
             }
            },
            "type": "bar"
           }
          ],
          "barpolar": [
           {
            "marker": {
             "line": {
              "color": "#E5ECF6",
              "width": 0.5
             }
            },
            "type": "barpolar"
           }
          ],
          "carpet": [
           {
            "aaxis": {
             "endlinecolor": "#2a3f5f",
             "gridcolor": "white",
             "linecolor": "white",
             "minorgridcolor": "white",
             "startlinecolor": "#2a3f5f"
            },
            "baxis": {
             "endlinecolor": "#2a3f5f",
             "gridcolor": "white",
             "linecolor": "white",
             "minorgridcolor": "white",
             "startlinecolor": "#2a3f5f"
            },
            "type": "carpet"
           }
          ],
          "choropleth": [
           {
            "colorbar": {
             "outlinewidth": 0,
             "ticks": ""
            },
            "type": "choropleth"
           }
          ],
          "contour": [
           {
            "colorbar": {
             "outlinewidth": 0,
             "ticks": ""
            },
            "colorscale": [
             [
              0,
              "#0d0887"
             ],
             [
              0.1111111111111111,
              "#46039f"
             ],
             [
              0.2222222222222222,
              "#7201a8"
             ],
             [
              0.3333333333333333,
              "#9c179e"
             ],
             [
              0.4444444444444444,
              "#bd3786"
             ],
             [
              0.5555555555555556,
              "#d8576b"
             ],
             [
              0.6666666666666666,
              "#ed7953"
             ],
             [
              0.7777777777777778,
              "#fb9f3a"
             ],
             [
              0.8888888888888888,
              "#fdca26"
             ],
             [
              1,
              "#f0f921"
             ]
            ],
            "type": "contour"
           }
          ],
          "contourcarpet": [
           {
            "colorbar": {
             "outlinewidth": 0,
             "ticks": ""
            },
            "type": "contourcarpet"
           }
          ],
          "heatmap": [
           {
            "colorbar": {
             "outlinewidth": 0,
             "ticks": ""
            },
            "colorscale": [
             [
              0,
              "#0d0887"
             ],
             [
              0.1111111111111111,
              "#46039f"
             ],
             [
              0.2222222222222222,
              "#7201a8"
             ],
             [
              0.3333333333333333,
              "#9c179e"
             ],
             [
              0.4444444444444444,
              "#bd3786"
             ],
             [
              0.5555555555555556,
              "#d8576b"
             ],
             [
              0.6666666666666666,
              "#ed7953"
             ],
             [
              0.7777777777777778,
              "#fb9f3a"
             ],
             [
              0.8888888888888888,
              "#fdca26"
             ],
             [
              1,
              "#f0f921"
             ]
            ],
            "type": "heatmap"
           }
          ],
          "heatmapgl": [
           {
            "colorbar": {
             "outlinewidth": 0,
             "ticks": ""
            },
            "colorscale": [
             [
              0,
              "#0d0887"
             ],
             [
              0.1111111111111111,
              "#46039f"
             ],
             [
              0.2222222222222222,
              "#7201a8"
             ],
             [
              0.3333333333333333,
              "#9c179e"
             ],
             [
              0.4444444444444444,
              "#bd3786"
             ],
             [
              0.5555555555555556,
              "#d8576b"
             ],
             [
              0.6666666666666666,
              "#ed7953"
             ],
             [
              0.7777777777777778,
              "#fb9f3a"
             ],
             [
              0.8888888888888888,
              "#fdca26"
             ],
             [
              1,
              "#f0f921"
             ]
            ],
            "type": "heatmapgl"
           }
          ],
          "histogram": [
           {
            "marker": {
             "colorbar": {
              "outlinewidth": 0,
              "ticks": ""
             }
            },
            "type": "histogram"
           }
          ],
          "histogram2d": [
           {
            "colorbar": {
             "outlinewidth": 0,
             "ticks": ""
            },
            "colorscale": [
             [
              0,
              "#0d0887"
             ],
             [
              0.1111111111111111,
              "#46039f"
             ],
             [
              0.2222222222222222,
              "#7201a8"
             ],
             [
              0.3333333333333333,
              "#9c179e"
             ],
             [
              0.4444444444444444,
              "#bd3786"
             ],
             [
              0.5555555555555556,
              "#d8576b"
             ],
             [
              0.6666666666666666,
              "#ed7953"
             ],
             [
              0.7777777777777778,
              "#fb9f3a"
             ],
             [
              0.8888888888888888,
              "#fdca26"
             ],
             [
              1,
              "#f0f921"
             ]
            ],
            "type": "histogram2d"
           }
          ],
          "histogram2dcontour": [
           {
            "colorbar": {
             "outlinewidth": 0,
             "ticks": ""
            },
            "colorscale": [
             [
              0,
              "#0d0887"
             ],
             [
              0.1111111111111111,
              "#46039f"
             ],
             [
              0.2222222222222222,
              "#7201a8"
             ],
             [
              0.3333333333333333,
              "#9c179e"
             ],
             [
              0.4444444444444444,
              "#bd3786"
             ],
             [
              0.5555555555555556,
              "#d8576b"
             ],
             [
              0.6666666666666666,
              "#ed7953"
             ],
             [
              0.7777777777777778,
              "#fb9f3a"
             ],
             [
              0.8888888888888888,
              "#fdca26"
             ],
             [
              1,
              "#f0f921"
             ]
            ],
            "type": "histogram2dcontour"
           }
          ],
          "mesh3d": [
           {
            "colorbar": {
             "outlinewidth": 0,
             "ticks": ""
            },
            "type": "mesh3d"
           }
          ],
          "parcoords": [
           {
            "line": {
             "colorbar": {
              "outlinewidth": 0,
              "ticks": ""
             }
            },
            "type": "parcoords"
           }
          ],
          "pie": [
           {
            "automargin": true,
            "type": "pie"
           }
          ],
          "scatter": [
           {
            "marker": {
             "colorbar": {
              "outlinewidth": 0,
              "ticks": ""
             }
            },
            "type": "scatter"
           }
          ],
          "scatter3d": [
           {
            "line": {
             "colorbar": {
              "outlinewidth": 0,
              "ticks": ""
             }
            },
            "marker": {
             "colorbar": {
              "outlinewidth": 0,
              "ticks": ""
             }
            },
            "type": "scatter3d"
           }
          ],
          "scattercarpet": [
           {
            "marker": {
             "colorbar": {
              "outlinewidth": 0,
              "ticks": ""
             }
            },
            "type": "scattercarpet"
           }
          ],
          "scattergeo": [
           {
            "marker": {
             "colorbar": {
              "outlinewidth": 0,
              "ticks": ""
             }
            },
            "type": "scattergeo"
           }
          ],
          "scattergl": [
           {
            "marker": {
             "colorbar": {
              "outlinewidth": 0,
              "ticks": ""
             }
            },
            "type": "scattergl"
           }
          ],
          "scattermapbox": [
           {
            "marker": {
             "colorbar": {
              "outlinewidth": 0,
              "ticks": ""
             }
            },
            "type": "scattermapbox"
           }
          ],
          "scatterpolar": [
           {
            "marker": {
             "colorbar": {
              "outlinewidth": 0,
              "ticks": ""
             }
            },
            "type": "scatterpolar"
           }
          ],
          "scatterpolargl": [
           {
            "marker": {
             "colorbar": {
              "outlinewidth": 0,
              "ticks": ""
             }
            },
            "type": "scatterpolargl"
           }
          ],
          "scatterternary": [
           {
            "marker": {
             "colorbar": {
              "outlinewidth": 0,
              "ticks": ""
             }
            },
            "type": "scatterternary"
           }
          ],
          "surface": [
           {
            "colorbar": {
             "outlinewidth": 0,
             "ticks": ""
            },
            "colorscale": [
             [
              0,
              "#0d0887"
             ],
             [
              0.1111111111111111,
              "#46039f"
             ],
             [
              0.2222222222222222,
              "#7201a8"
             ],
             [
              0.3333333333333333,
              "#9c179e"
             ],
             [
              0.4444444444444444,
              "#bd3786"
             ],
             [
              0.5555555555555556,
              "#d8576b"
             ],
             [
              0.6666666666666666,
              "#ed7953"
             ],
             [
              0.7777777777777778,
              "#fb9f3a"
             ],
             [
              0.8888888888888888,
              "#fdca26"
             ],
             [
              1,
              "#f0f921"
             ]
            ],
            "type": "surface"
           }
          ],
          "table": [
           {
            "cells": {
             "fill": {
              "color": "#EBF0F8"
             },
             "line": {
              "color": "white"
             }
            },
            "header": {
             "fill": {
              "color": "#C8D4E3"
             },
             "line": {
              "color": "white"
             }
            },
            "type": "table"
           }
          ]
         },
         "layout": {
          "annotationdefaults": {
           "arrowcolor": "#2a3f5f",
           "arrowhead": 0,
           "arrowwidth": 1
          },
          "autotypenumbers": "strict",
          "coloraxis": {
           "colorbar": {
            "outlinewidth": 0,
            "ticks": ""
           }
          },
          "colorscale": {
           "diverging": [
            [
             0,
             "#8e0152"
            ],
            [
             0.1,
             "#c51b7d"
            ],
            [
             0.2,
             "#de77ae"
            ],
            [
             0.3,
             "#f1b6da"
            ],
            [
             0.4,
             "#fde0ef"
            ],
            [
             0.5,
             "#f7f7f7"
            ],
            [
             0.6,
             "#e6f5d0"
            ],
            [
             0.7,
             "#b8e186"
            ],
            [
             0.8,
             "#7fbc41"
            ],
            [
             0.9,
             "#4d9221"
            ],
            [
             1,
             "#276419"
            ]
           ],
           "sequential": [
            [
             0,
             "#0d0887"
            ],
            [
             0.1111111111111111,
             "#46039f"
            ],
            [
             0.2222222222222222,
             "#7201a8"
            ],
            [
             0.3333333333333333,
             "#9c179e"
            ],
            [
             0.4444444444444444,
             "#bd3786"
            ],
            [
             0.5555555555555556,
             "#d8576b"
            ],
            [
             0.6666666666666666,
             "#ed7953"
            ],
            [
             0.7777777777777778,
             "#fb9f3a"
            ],
            [
             0.8888888888888888,
             "#fdca26"
            ],
            [
             1,
             "#f0f921"
            ]
           ],
           "sequentialminus": [
            [
             0,
             "#0d0887"
            ],
            [
             0.1111111111111111,
             "#46039f"
            ],
            [
             0.2222222222222222,
             "#7201a8"
            ],
            [
             0.3333333333333333,
             "#9c179e"
            ],
            [
             0.4444444444444444,
             "#bd3786"
            ],
            [
             0.5555555555555556,
             "#d8576b"
            ],
            [
             0.6666666666666666,
             "#ed7953"
            ],
            [
             0.7777777777777778,
             "#fb9f3a"
            ],
            [
             0.8888888888888888,
             "#fdca26"
            ],
            [
             1,
             "#f0f921"
            ]
           ]
          },
          "colorway": [
           "#636efa",
           "#EF553B",
           "#00cc96",
           "#ab63fa",
           "#FFA15A",
           "#19d3f3",
           "#FF6692",
           "#B6E880",
           "#FF97FF",
           "#FECB52"
          ],
          "font": {
           "color": "#2a3f5f"
          },
          "geo": {
           "bgcolor": "white",
           "lakecolor": "white",
           "landcolor": "#E5ECF6",
           "showlakes": true,
           "showland": true,
           "subunitcolor": "white"
          },
          "hoverlabel": {
           "align": "left"
          },
          "hovermode": "closest",
          "mapbox": {
           "style": "light"
          },
          "paper_bgcolor": "white",
          "plot_bgcolor": "#E5ECF6",
          "polar": {
           "angularaxis": {
            "gridcolor": "white",
            "linecolor": "white",
            "ticks": ""
           },
           "bgcolor": "#E5ECF6",
           "radialaxis": {
            "gridcolor": "white",
            "linecolor": "white",
            "ticks": ""
           }
          },
          "scene": {
           "xaxis": {
            "backgroundcolor": "#E5ECF6",
            "gridcolor": "white",
            "gridwidth": 2,
            "linecolor": "white",
            "showbackground": true,
            "ticks": "",
            "zerolinecolor": "white"
           },
           "yaxis": {
            "backgroundcolor": "#E5ECF6",
            "gridcolor": "white",
            "gridwidth": 2,
            "linecolor": "white",
            "showbackground": true,
            "ticks": "",
            "zerolinecolor": "white"
           },
           "zaxis": {
            "backgroundcolor": "#E5ECF6",
            "gridcolor": "white",
            "gridwidth": 2,
            "linecolor": "white",
            "showbackground": true,
            "ticks": "",
            "zerolinecolor": "white"
           }
          },
          "shapedefaults": {
           "line": {
            "color": "#2a3f5f"
           }
          },
          "ternary": {
           "aaxis": {
            "gridcolor": "white",
            "linecolor": "white",
            "ticks": ""
           },
           "baxis": {
            "gridcolor": "white",
            "linecolor": "white",
            "ticks": ""
           },
           "bgcolor": "#E5ECF6",
           "caxis": {
            "gridcolor": "white",
            "linecolor": "white",
            "ticks": ""
           }
          },
          "title": {
           "x": 0.05
          },
          "xaxis": {
           "automargin": true,
           "gridcolor": "white",
           "linecolor": "white",
           "ticks": "",
           "title": {
            "standoff": 15
           },
           "zerolinecolor": "white",
           "zerolinewidth": 2
          },
          "yaxis": {
           "automargin": true,
           "gridcolor": "white",
           "linecolor": "white",
           "ticks": "",
           "title": {
            "standoff": 15
           },
           "zerolinecolor": "white",
           "zerolinewidth": 2
          }
         }
        },
        "xaxis": {
         "anchor": "y",
         "autorange": true,
         "domain": [
          0,
          0.235
         ],
         "range": [
          0.30102999566398114,
          2.107209969647868
         ],
         "title": {
          "text": "taps"
         },
         "type": "log"
        },
        "xaxis2": {
         "anchor": "y2",
         "autorange": true,
         "domain": [
          0.255,
          0.49
         ],
         "matches": "x",
         "range": [
          0.30102999566398114,
          2.107209969647868
         ],
         "title": {
          "text": "taps"
         },
         "type": "log"
        },
        "xaxis3": {
         "anchor": "y3",
         "autorange": true,
         "domain": [
          0.51,
          0.745
         ],
         "matches": "x",
         "range": [
          0.30102999566398114,
          2.107209969647868
         ],
         "title": {
          "text": "taps"
         },
         "type": "log"
        },
        "xaxis4": {
         "anchor": "y4",
         "autorange": true,
         "domain": [
          0.7649999999999999,
          0.9999999999999999
         ],
         "matches": "x",
         "range": [
          0.30102999566398114,
          2.107209969647868
         ],
         "title": {
          "text": "taps"
         },
         "type": "log"
        },
        "yaxis": {
         "anchor": "x",
         "autorange": true,
         "domain": [
          0,
          1
         ],
         "range": [
          -5761.666666666667,
          115531.66666666667
         ],
         "title": {
          "text": "luts"
         },
         "type": "linear"
        },
        "yaxis2": {
         "anchor": "x2",
         "autorange": true,
         "domain": [
          0,
          1
         ],
         "matches": "y",
         "range": [
          -5761.666666666667,
          115531.66666666667
         ],
         "showticklabels": false,
         "type": "linear"
        },
        "yaxis3": {
         "anchor": "x3",
         "autorange": true,
         "domain": [
          0,
          1
         ],
         "matches": "y",
         "range": [
          -5761.666666666667,
          115531.66666666667
         ],
         "showticklabels": false,
         "type": "linear"
        },
        "yaxis4": {
         "anchor": "x4",
         "autorange": true,
         "domain": [
          0,
          1
         ],
         "matches": "y",
         "range": [
          -5761.666666666667,
          115531.66666666667
         ],
         "showticklabels": false,
         "type": "linear"
        }
       }
      },
      "image/png": "[encoded data removed]",
      "text/html": [
       "<div>                            <div id=\"b90607b2-8a0c-424c-8d29-f6de8c384070\" class=\"plotly-graph-div\" style=\"height:525px; width:100%;\"></div>            <script type=\"text/javascript\">                require([\"plotly\"], function(Plotly) {                    window.PLOTLYENV=window.PLOTLYENV || {};                                    if (document.getElementById(\"b90607b2-8a0c-424c-8d29-f6de8c384070\")) {                    Plotly.newPlot(                        \"b90607b2-8a0c-424c-8d29-f6de8c384070\",                        [{\"hovertemplate\": \"structure=PolyDir<br>parallelism=2<br>taps=%{x}<br>luts=%{y}<extra></extra>\", \"legendgroup\": \"PolyDir\", \"line\": {\"color\": \"#636efa\", \"dash\": \"solid\"}, \"mode\": \"lines\", \"name\": \"PolyDir\", \"orientation\": \"v\", \"showlegend\": true, \"type\": \"scatter\", \"x\": [2, 4, 8, 16], \"xaxis\": \"x\", \"y\": [33, 346, 1429, 3491], \"yaxis\": \"y\"}, {\"hovertemplate\": \"structure=PolyDir<br>parallelism=4<br>taps=%{x}<br>luts=%{y}<extra></extra>\", \"legendgroup\": \"PolyDir\", \"line\": {\"color\": \"#636efa\", \"dash\": \"solid\"}, \"mode\": \"lines\", \"name\": \"PolyDir\", \"orientation\": \"v\", \"showlegend\": false, \"type\": \"scatter\", \"x\": [4, 8, 16, 32], \"xaxis\": \"x2\", \"y\": [136, 2020, 5887, 10395], \"yaxis\": \"y2\"}, {\"hovertemplate\": \"structure=PolyDir<br>parallelism=8<br>taps=%{x}<br>luts=%{y}<extra></extra>\", \"legendgroup\": \"PolyDir\", \"line\": {\"color\": \"#636efa\", \"dash\": \"solid\"}, \"mode\": \"lines\", \"name\": \"PolyDir\", \"orientation\": \"v\", \"showlegend\": false, \"type\": \"scatter\", \"x\": [8, 16, 32, 64], \"xaxis\": \"x3\", \"y\": [840, 7707, 18287, 39109], \"yaxis\": \"y3\"}, {\"hovertemplate\": \"structure=PolyDir<br>parallelism=16<br>taps=%{x}<br>luts=%{y}<extra></extra>\", \"legendgroup\": \"PolyDir\", \"line\": {\"color\": \"#636efa\", \"dash\": \"solid\"}, \"mode\": \"lines\", \"name\": \"PolyDir\", \"orientation\": \"v\", \"showlegend\": false, \"type\": \"scatter\", \"x\": [16, 32, 64, 128], \"xaxis\": \"x4\", \"y\": [4032, 20880, 69087, 125215], \"yaxis\": \"y4\"}, {\"hovertemplate\": \"structure=PolyMcm<br>parallelism=2<br>taps=%{x}<br>luts=%{y}<extra></extra>\", \"legendgroup\": \"PolyMcm\", \"line\": {\"color\": \"#EF553B\", \"dash\": \"solid\"}, \"mode\": \"lines\", \"name\": \"PolyMcm\", \"orientation\": \"v\", \"showlegend\": true, \"type\": \"scatter\", \"x\": [2, 4, 8, 16], \"xaxis\": \"x\", \"y\": [303, 617, 1318, 2497], \"yaxis\": \"y\"}, {\"hovertemplate\": \"structure=PolyMcm<br>parallelism=4<br>taps=%{x}<br>luts=%{y}<extra></extra>\", \"legendgroup\": \"PolyMcm\", \"line\": {\"color\": \"#EF553B\", \"dash\": \"solid\"}, \"mode\": \"lines\", \"name\": \"PolyMcm\", \"orientation\": \"v\", \"showlegend\": false, \"type\": \"scatter\", \"x\": [4, 8, 16, 32], \"xaxis\": \"x2\", \"y\": [1236, 2908, 5134, 8826], \"yaxis\": \"y2\"}, {\"hovertemplate\": \"structure=PolyMcm<br>parallelism=8<br>taps=%{x}<br>luts=%{y}<extra></extra>\", \"legendgroup\": \"PolyMcm\", \"line\": {\"color\": \"#EF553B\", \"dash\": \"solid\"}, \"mode\": \"lines\", \"name\": \"PolyMcm\", \"orientation\": \"v\", \"showlegend\": false, \"type\": \"scatter\", \"x\": [8, 16, 32, 64], \"xaxis\": \"x3\", \"y\": [5838, 10547, 18559, 31623], \"yaxis\": \"y3\"}, {\"hovertemplate\": \"structure=PolyMcm<br>parallelism=16<br>taps=%{x}<br>luts=%{y}<extra></extra>\", \"legendgroup\": \"PolyMcm\", \"line\": {\"color\": \"#EF553B\", \"dash\": \"solid\"}, \"mode\": \"lines\", \"name\": \"PolyMcm\", \"orientation\": \"v\", \"showlegend\": false, \"type\": \"scatter\", \"x\": [16, 32, 64, 128], \"xaxis\": \"x4\", \"y\": [22606, 38281, 65613, 109467], \"yaxis\": \"y4\"}, {\"hovertemplate\": \"structure=FfaDir<br>parallelism=2<br>taps=%{x}<br>luts=%{y}<extra></extra>\", \"legendgroup\": \"FfaDir\", \"line\": {\"color\": \"#00cc96\", \"dash\": \"solid\"}, \"mode\": \"lines\", \"name\": \"FfaDir\", \"orientation\": \"v\", \"showlegend\": true, \"type\": \"scatter\", \"x\": [2, 4, 8, 16], \"xaxis\": \"x\", \"y\": [588, 1176, 1911, 4308], \"yaxis\": \"y\"}, {\"hovertemplate\": \"structure=FfaDir<br>parallelism=4<br>taps=%{x}<br>luts=%{y}<extra></extra>\", \"legendgroup\": \"FfaDir\", \"line\": {\"color\": \"#00cc96\", \"dash\": \"solid\"}, \"mode\": \"lines\", \"name\": \"FfaDir\", \"orientation\": \"v\", \"showlegend\": false, \"type\": \"scatter\", \"x\": [4, 8, 16, 32], \"xaxis\": \"x2\", \"y\": [2414, 3606, 8074, 11830], \"yaxis\": \"y2\"}, {\"hovertemplate\": \"structure=FfaDir<br>parallelism=8<br>taps=%{x}<br>luts=%{y}<extra></extra>\", \"legendgroup\": \"FfaDir\", \"line\": {\"color\": \"#00cc96\", \"dash\": \"solid\"}, \"mode\": \"lines\", \"name\": \"FfaDir\", \"orientation\": \"v\", \"showlegend\": false, \"type\": \"scatter\", \"x\": [8, 16, 32, 64], \"xaxis\": \"x3\", \"y\": [7311, 14946, 23177, 38658], \"yaxis\": \"y3\"}, {\"hovertemplate\": \"structure=FfaDir<br>parallelism=16<br>taps=%{x}<br>luts=%{y}<extra></extra>\", \"legendgroup\": \"FfaDir\", \"line\": {\"color\": \"#00cc96\", \"dash\": \"solid\"}, \"mode\": \"lines\", \"name\": \"FfaDir\", \"orientation\": \"v\", \"showlegend\": false, \"type\": \"scatter\", \"x\": [16, 32, 64, 128], \"xaxis\": \"x4\", \"y\": [27061, 43722, 71112, 109018], \"yaxis\": \"y4\"}, {\"hovertemplate\": \"structure=FfaMcm<br>parallelism=2<br>taps=%{x}<br>luts=%{y}<extra></extra>\", \"legendgroup\": \"FfaMcm\", \"line\": {\"color\": \"#ab63fa\", \"dash\": \"solid\"}, \"mode\": \"lines\", \"name\": \"FfaMcm\", \"orientation\": \"v\", \"showlegend\": true, \"type\": \"scatter\", \"x\": [2, 4, 8, 16], \"xaxis\": \"x\", \"y\": [382, 674, 1301, 2170], \"yaxis\": \"y\"}, {\"hovertemplate\": \"structure=FfaMcm<br>parallelism=4<br>taps=%{x}<br>luts=%{y}<extra></extra>\", \"legendgroup\": \"FfaMcm\", \"line\": {\"color\": \"#ab63fa\", \"dash\": \"solid\"}, \"mode\": \"lines\", \"name\": \"FfaMcm\", \"orientation\": \"v\", \"showlegend\": false, \"type\": \"scatter\", \"x\": [4, 8, 16, 32], \"xaxis\": \"x2\", \"y\": [1453, 2721, 4295, 6996], \"yaxis\": \"y2\"}, {\"hovertemplate\": \"structure=FfaMcm<br>parallelism=8<br>taps=%{x}<br>luts=%{y}<extra></extra>\", \"legendgroup\": \"FfaMcm\", \"line\": {\"color\": \"#ab63fa\", \"dash\": \"solid\"}, \"mode\": \"lines\", \"name\": \"FfaMcm\", \"orientation\": \"v\", \"showlegend\": false, \"type\": \"scatter\", \"x\": [8, 16, 32, 64], \"xaxis\": \"x3\", \"y\": [5781, 8962, 13793, 22919], \"yaxis\": \"y3\"}, {\"hovertemplate\": \"structure=FfaMcm<br>parallelism=16<br>taps=%{x}<br>luts=%{y}<extra></extra>\", \"legendgroup\": \"FfaMcm\", \"line\": {\"color\": \"#ab63fa\", \"dash\": \"solid\"}, \"mode\": \"lines\", \"name\": \"FfaMcm\", \"orientation\": \"v\", \"showlegend\": false, \"type\": \"scatter\", \"x\": [16, 32, 64, 128], \"xaxis\": \"x4\", \"y\": [20125, 29848, 45106, 68373], \"yaxis\": \"y4\"}],                        {\"annotations\": [{\"font\": {}, \"showarrow\": false, \"text\": \"parallelism=2\", \"x\": 0.1175, \"xanchor\": \"center\", \"xref\": \"paper\", \"y\": 1.0, \"yanchor\": \"bottom\", \"yref\": \"paper\"}, {\"font\": {}, \"showarrow\": false, \"text\": \"parallelism=4\", \"x\": 0.3725, \"xanchor\": \"center\", \"xref\": \"paper\", \"y\": 1.0, \"yanchor\": \"bottom\", \"yref\": \"paper\"}, {\"font\": {}, \"showarrow\": false, \"text\": \"parallelism=8\", \"x\": 0.6275, \"xanchor\": \"center\", \"xref\": \"paper\", \"y\": 1.0, \"yanchor\": \"bottom\", \"yref\": \"paper\"}, {\"font\": {}, \"showarrow\": false, \"text\": \"parallelism=16\", \"x\": 0.8824999999999998, \"xanchor\": \"center\", \"xref\": \"paper\", \"y\": 1.0, \"yanchor\": \"bottom\", \"yref\": \"paper\"}], \"legend\": {\"title\": {\"text\": \"structure\"}, \"tracegroupgap\": 0}, \"margin\": {\"t\": 60}, \"template\": {\"data\": {\"bar\": [{\"error_x\": {\"color\": \"#2a3f5f\"}, \"error_y\": {\"color\": \"#2a3f5f\"}, \"marker\": {\"line\": {\"color\": \"#E5ECF6\", \"width\": 0.5}}, \"type\": \"bar\"}], \"barpolar\": [{\"marker\": {\"line\": {\"color\": \"#E5ECF6\", \"width\": 0.5}}, \"type\": \"barpolar\"}], \"carpet\": [{\"aaxis\": {\"endlinecolor\": \"#2a3f5f\", \"gridcolor\": \"white\", \"linecolor\": \"white\", \"minorgridcolor\": \"white\", \"startlinecolor\": \"#2a3f5f\"}, \"baxis\": {\"endlinecolor\": \"#2a3f5f\", \"gridcolor\": \"white\", \"linecolor\": \"white\", \"minorgridcolor\": \"white\", \"startlinecolor\": \"#2a3f5f\"}, \"type\": \"carpet\"}], \"choropleth\": [{\"colorbar\": {\"outlinewidth\": 0, \"ticks\": \"\"}, \"type\": \"choropleth\"}], \"contour\": [{\"colorbar\": {\"outlinewidth\": 0, \"ticks\": \"\"}, \"colorscale\": [[0.0, \"#0d0887\"], [0.1111111111111111, \"#46039f\"], [0.2222222222222222, \"#7201a8\"], [0.3333333333333333, \"#9c179e\"], [0.4444444444444444, \"#bd3786\"], [0.5555555555555556, \"#d8576b\"], [0.6666666666666666, \"#ed7953\"], [0.7777777777777778, \"#fb9f3a\"], [0.8888888888888888, \"#fdca26\"], [1.0, \"#f0f921\"]], \"type\": \"contour\"}], \"contourcarpet\": [{\"colorbar\": {\"outlinewidth\": 0, \"ticks\": \"\"}, \"type\": \"contourcarpet\"}], \"heatmap\": [{\"colorbar\": {\"outlinewidth\": 0, \"ticks\": \"\"}, \"colorscale\": [[0.0, \"#0d0887\"], [0.1111111111111111, \"#46039f\"], [0.2222222222222222, \"#7201a8\"], [0.3333333333333333, \"#9c179e\"], [0.4444444444444444, \"#bd3786\"], [0.5555555555555556, \"#d8576b\"], [0.6666666666666666, \"#ed7953\"], [0.7777777777777778, \"#fb9f3a\"], [0.8888888888888888, \"#fdca26\"], [1.0, \"#f0f921\"]], \"type\": \"heatmap\"}], \"heatmapgl\": [{\"colorbar\": {\"outlinewidth\": 0, \"ticks\": \"\"}, \"colorscale\": [[0.0, \"#0d0887\"], [0.1111111111111111, \"#46039f\"], [0.2222222222222222, \"#7201a8\"], [0.3333333333333333, \"#9c179e\"], [0.4444444444444444, \"#bd3786\"], [0.5555555555555556, \"#d8576b\"], [0.6666666666666666, \"#ed7953\"], [0.7777777777777778, \"#fb9f3a\"], [0.8888888888888888, \"#fdca26\"], [1.0, \"#f0f921\"]], \"type\": \"heatmapgl\"}], \"histogram\": [{\"marker\": {\"colorbar\": {\"outlinewidth\": 0, \"ticks\": \"\"}}, \"type\": \"histogram\"}], \"histogram2d\": [{\"colorbar\": {\"outlinewidth\": 0, \"ticks\": \"\"}, \"colorscale\": [[0.0, \"#0d0887\"], [0.1111111111111111, \"#46039f\"], [0.2222222222222222, \"#7201a8\"], [0.3333333333333333, \"#9c179e\"], [0.4444444444444444, \"#bd3786\"], [0.5555555555555556, \"#d8576b\"], [0.6666666666666666, \"#ed7953\"], [0.7777777777777778, \"#fb9f3a\"], [0.8888888888888888, \"#fdca26\"], [1.0, \"#f0f921\"]], \"type\": \"histogram2d\"}], \"histogram2dcontour\": [{\"colorbar\": {\"outlinewidth\": 0, \"ticks\": \"\"}, \"colorscale\": [[0.0, \"#0d0887\"], [0.1111111111111111, \"#46039f\"], [0.2222222222222222, \"#7201a8\"], [0.3333333333333333, \"#9c179e\"], [0.4444444444444444, \"#bd3786\"], [0.5555555555555556, \"#d8576b\"], [0.6666666666666666, \"#ed7953\"], [0.7777777777777778, \"#fb9f3a\"], [0.8888888888888888, \"#fdca26\"], [1.0, \"#f0f921\"]], \"type\": \"histogram2dcontour\"}], \"mesh3d\": [{\"colorbar\": {\"outlinewidth\": 0, \"ticks\": \"\"}, \"type\": \"mesh3d\"}], \"parcoords\": [{\"line\": {\"colorbar\": {\"outlinewidth\": 0, \"ticks\": \"\"}}, \"type\": \"parcoords\"}], \"pie\": [{\"automargin\": true, \"type\": \"pie\"}], \"scatter\": [{\"marker\": {\"colorbar\": {\"outlinewidth\": 0, \"ticks\": \"\"}}, \"type\": \"scatter\"}], \"scatter3d\": [{\"line\": {\"colorbar\": {\"outlinewidth\": 0, \"ticks\": \"\"}}, \"marker\": {\"colorbar\": {\"outlinewidth\": 0, \"ticks\": \"\"}}, \"type\": \"scatter3d\"}], \"scattercarpet\": [{\"marker\": {\"colorbar\": {\"outlinewidth\": 0, \"ticks\": \"\"}}, \"type\": \"scattercarpet\"}], \"scattergeo\": [{\"marker\": {\"colorbar\": {\"outlinewidth\": 0, \"ticks\": \"\"}}, \"type\": \"scattergeo\"}], \"scattergl\": [{\"marker\": {\"colorbar\": {\"outlinewidth\": 0, \"ticks\": \"\"}}, \"type\": \"scattergl\"}], \"scattermapbox\": [{\"marker\": {\"colorbar\": {\"outlinewidth\": 0, \"ticks\": \"\"}}, \"type\": \"scattermapbox\"}], \"scatterpolar\": [{\"marker\": {\"colorbar\": {\"outlinewidth\": 0, \"ticks\": \"\"}}, \"type\": \"scatterpolar\"}], \"scatterpolargl\": [{\"marker\": {\"colorbar\": {\"outlinewidth\": 0, \"ticks\": \"\"}}, \"type\": \"scatterpolargl\"}], \"scatterternary\": [{\"marker\": {\"colorbar\": {\"outlinewidth\": 0, \"ticks\": \"\"}}, \"type\": \"scatterternary\"}], \"surface\": [{\"colorbar\": {\"outlinewidth\": 0, \"ticks\": \"\"}, \"colorscale\": [[0.0, \"#0d0887\"], [0.1111111111111111, \"#46039f\"], [0.2222222222222222, \"#7201a8\"], [0.3333333333333333, \"#9c179e\"], [0.4444444444444444, \"#bd3786\"], [0.5555555555555556, \"#d8576b\"], [0.6666666666666666, \"#ed7953\"], [0.7777777777777778, \"#fb9f3a\"], [0.8888888888888888, \"#fdca26\"], [1.0, \"#f0f921\"]], \"type\": \"surface\"}], \"table\": [{\"cells\": {\"fill\": {\"color\": \"#EBF0F8\"}, \"line\": {\"color\": \"white\"}}, \"header\": {\"fill\": {\"color\": \"#C8D4E3\"}, \"line\": {\"color\": \"white\"}}, \"type\": \"table\"}]}, \"layout\": {\"annotationdefaults\": {\"arrowcolor\": \"#2a3f5f\", \"arrowhead\": 0, \"arrowwidth\": 1}, \"autotypenumbers\": \"strict\", \"coloraxis\": {\"colorbar\": {\"outlinewidth\": 0, \"ticks\": \"\"}}, \"colorscale\": {\"diverging\": [[0, \"#8e0152\"], [0.1, \"#c51b7d\"], [0.2, \"#de77ae\"], [0.3, \"#f1b6da\"], [0.4, \"#fde0ef\"], [0.5, \"#f7f7f7\"], [0.6, \"#e6f5d0\"], [0.7, \"#b8e186\"], [0.8, \"#7fbc41\"], [0.9, \"#4d9221\"], [1, \"#276419\"]], \"sequential\": [[0.0, \"#0d0887\"], [0.1111111111111111, \"#46039f\"], [0.2222222222222222, \"#7201a8\"], [0.3333333333333333, \"#9c179e\"], [0.4444444444444444, \"#bd3786\"], [0.5555555555555556, \"#d8576b\"], [0.6666666666666666, \"#ed7953\"], [0.7777777777777778, \"#fb9f3a\"], [0.8888888888888888, \"#fdca26\"], [1.0, \"#f0f921\"]], \"sequentialminus\": [[0.0, \"#0d0887\"], [0.1111111111111111, \"#46039f\"], [0.2222222222222222, \"#7201a8\"], [0.3333333333333333, \"#9c179e\"], [0.4444444444444444, \"#bd3786\"], [0.5555555555555556, \"#d8576b\"], [0.6666666666666666, \"#ed7953\"], [0.7777777777777778, \"#fb9f3a\"], [0.8888888888888888, \"#fdca26\"], [1.0, \"#f0f921\"]]}, \"colorway\": [\"#636efa\", \"#EF553B\", \"#00cc96\", \"#ab63fa\", \"#FFA15A\", \"#19d3f3\", \"#FF6692\", \"#B6E880\", \"#FF97FF\", \"#FECB52\"], \"font\": {\"color\": \"#2a3f5f\"}, \"geo\": {\"bgcolor\": \"white\", \"lakecolor\": \"white\", \"landcolor\": \"#E5ECF6\", \"showlakes\": true, \"showland\": true, \"subunitcolor\": \"white\"}, \"hoverlabel\": {\"align\": \"left\"}, \"hovermode\": \"closest\", \"mapbox\": {\"style\": \"light\"}, \"paper_bgcolor\": \"white\", \"plot_bgcolor\": \"#E5ECF6\", \"polar\": {\"angularaxis\": {\"gridcolor\": \"white\", \"linecolor\": \"white\", \"ticks\": \"\"}, \"bgcolor\": \"#E5ECF6\", \"radialaxis\": {\"gridcolor\": \"white\", \"linecolor\": \"white\", \"ticks\": \"\"}}, \"scene\": {\"xaxis\": {\"backgroundcolor\": \"#E5ECF6\", \"gridcolor\": \"white\", \"gridwidth\": 2, \"linecolor\": \"white\", \"showbackground\": true, \"ticks\": \"\", \"zerolinecolor\": \"white\"}, \"yaxis\": {\"backgroundcolor\": \"#E5ECF6\", \"gridcolor\": \"white\", \"gridwidth\": 2, \"linecolor\": \"white\", \"showbackground\": true, \"ticks\": \"\", \"zerolinecolor\": \"white\"}, \"zaxis\": {\"backgroundcolor\": \"#E5ECF6\", \"gridcolor\": \"white\", \"gridwidth\": 2, \"linecolor\": \"white\", \"showbackground\": true, \"ticks\": \"\", \"zerolinecolor\": \"white\"}}, \"shapedefaults\": {\"line\": {\"color\": \"#2a3f5f\"}}, \"ternary\": {\"aaxis\": {\"gridcolor\": \"white\", \"linecolor\": \"white\", \"ticks\": \"\"}, \"baxis\": {\"gridcolor\": \"white\", \"linecolor\": \"white\", \"ticks\": \"\"}, \"bgcolor\": \"#E5ECF6\", \"caxis\": {\"gridcolor\": \"white\", \"linecolor\": \"white\", \"ticks\": \"\"}}, \"title\": {\"x\": 0.05}, \"xaxis\": {\"automargin\": true, \"gridcolor\": \"white\", \"linecolor\": \"white\", \"ticks\": \"\", \"title\": {\"standoff\": 15}, \"zerolinecolor\": \"white\", \"zerolinewidth\": 2}, \"yaxis\": {\"automargin\": true, \"gridcolor\": \"white\", \"linecolor\": \"white\", \"ticks\": \"\", \"title\": {\"standoff\": 15}, \"zerolinecolor\": \"white\", \"zerolinewidth\": 2}}}, \"xaxis\": {\"anchor\": \"y\", \"domain\": [0.0, 0.235], \"title\": {\"text\": \"taps\"}, \"type\": \"log\"}, \"xaxis2\": {\"anchor\": \"y2\", \"domain\": [0.255, 0.49], \"matches\": \"x\", \"title\": {\"text\": \"taps\"}, \"type\": \"log\"}, \"xaxis3\": {\"anchor\": \"y3\", \"domain\": [0.51, 0.745], \"matches\": \"x\", \"title\": {\"text\": \"taps\"}, \"type\": \"log\"}, \"xaxis4\": {\"anchor\": \"y4\", \"domain\": [0.7649999999999999, 0.9999999999999999], \"matches\": \"x\", \"title\": {\"text\": \"taps\"}, \"type\": \"log\"}, \"yaxis\": {\"anchor\": \"x\", \"domain\": [0.0, 1.0], \"title\": {\"text\": \"luts\"}}, \"yaxis2\": {\"anchor\": \"x2\", \"domain\": [0.0, 1.0], \"matches\": \"y\", \"showticklabels\": false}, \"yaxis3\": {\"anchor\": \"x3\", \"domain\": [0.0, 1.0], \"matches\": \"y\", \"showticklabels\": false}, \"yaxis4\": {\"anchor\": \"x4\", \"domain\": [0.0, 1.0], \"matches\": \"y\", \"showticklabels\": false}},                        {\"responsive\": true}                    ).then(function(){\n",
       "                            \n",
       "var gd = document.getElementById('b90607b2-8a0c-424c-8d29-f6de8c384070');\n",
       "var x = new MutationObserver(function (mutations, observer) {{\n",
       "        var display = window.getComputedStyle(gd).display;\n",
       "        if (!display || display === 'none') {{\n",
       "            console.log([gd, 'removed!']);\n",
       "            Plotly.purge(gd);\n",
       "            observer.disconnect();\n",
       "        }}\n",
       "}});\n",
       "\n",
       "// Listen for the removal of the full notebook cells\n",
       "var notebookContainer = gd.closest('#notebook-container');\n",
       "if (notebookContainer) {{\n",
       "    x.observe(notebookContainer, {childList: true});\n",
       "}}\n",
       "\n",
       "// Listen for the clearing of the current output cell\n",
       "var outputEl = gd.closest('.output');\n",
       "if (outputEl) {{\n",
       "    x.observe(outputEl, {childList: true});\n",
       "}}\n",
       "\n",
       "                        })                };                });            </script>        </div>"
      ]
     },
     "metadata": {},
     "output_type": "display_data"
    },
    {
     "data": {
      "application/vnd.plotly.v1+json": {
       "config": {
        "plotlyServerURL": "https://plot.ly"
       },
       "data": [
        {
         "hovertemplate": "structure=PolyDir<br>parallelism=2<br>taps=%{x}<br>regs=%{y}<extra></extra>",
         "legendgroup": "PolyDir",
         "line": {
          "color": "#636efa",
          "dash": "solid"
         },
         "mode": "lines",
         "name": "PolyDir",
         "orientation": "v",
         "showlegend": true,
         "type": "scatter",
         "visible": "legendonly",
         "x": [
          2,
          4,
          8,
          16
         ],
         "xaxis": "x",
         "y": [
          1,
          58,
          373,
          437
         ],
         "yaxis": "y"
        },
        {
         "hovertemplate": "structure=PolyDir<br>parallelism=4<br>taps=%{x}<br>regs=%{y}<extra></extra>",
         "legendgroup": "PolyDir",
         "line": {
          "color": "#636efa",
          "dash": "solid"
         },
         "mode": "lines",
         "name": "PolyDir",
         "orientation": "v",
         "showlegend": false,
         "type": "scatter",
         "visible": "legendonly",
         "x": [
          4,
          8,
          16,
          32
         ],
         "xaxis": "x2",
         "y": [
          208,
          375,
          1051,
          1327
         ],
         "yaxis": "y2"
        },
        {
         "hovertemplate": "structure=PolyDir<br>parallelism=8<br>taps=%{x}<br>regs=%{y}<extra></extra>",
         "legendgroup": "PolyDir",
         "line": {
          "color": "#636efa",
          "dash": "solid"
         },
         "mode": "lines",
         "name": "PolyDir",
         "orientation": "v",
         "showlegend": false,
         "type": "scatter",
         "visible": "legendonly",
         "x": [
          8,
          16,
          32,
          64
         ],
         "xaxis": "x3",
         "y": [
          926,
          2086,
          4057,
          4772
         ],
         "yaxis": "y3"
        },
        {
         "hovertemplate": "structure=PolyDir<br>parallelism=16<br>taps=%{x}<br>regs=%{y}<extra></extra>",
         "legendgroup": "PolyDir",
         "line": {
          "color": "#636efa",
          "dash": "solid"
         },
         "mode": "lines",
         "name": "PolyDir",
         "orientation": "v",
         "showlegend": false,
         "type": "scatter",
         "visible": "legendonly",
         "x": [
          16,
          32,
          64,
          128
         ],
         "xaxis": "x4",
         "y": [
          4592,
          9983,
          16560,
          17614
         ],
         "yaxis": "y4"
        },
        {
         "hovertemplate": "structure=PolyMcm<br>parallelism=2<br>taps=%{x}<br>regs=%{y}<extra></extra>",
         "legendgroup": "PolyMcm",
         "line": {
          "color": "#EF553B",
          "dash": "solid"
         },
         "mode": "lines",
         "name": "PolyMcm",
         "orientation": "v",
         "showlegend": true,
         "type": "scatter",
         "x": [
          2,
          4,
          8,
          16
         ],
         "xaxis": "x",
         "y": [
          599,
          950,
          1773,
          2961
         ],
         "yaxis": "y"
        },
        {
         "hovertemplate": "structure=PolyMcm<br>parallelism=4<br>taps=%{x}<br>regs=%{y}<extra></extra>",
         "legendgroup": "PolyMcm",
         "line": {
          "color": "#EF553B",
          "dash": "solid"
         },
         "mode": "lines",
         "name": "PolyMcm",
         "orientation": "v",
         "showlegend": false,
         "type": "scatter",
         "x": [
          4,
          8,
          16,
          32
         ],
         "xaxis": "x2",
         "y": [
          2251,
          3962,
          6318,
          11405
         ],
         "yaxis": "y2"
        },
        {
         "hovertemplate": "structure=PolyMcm<br>parallelism=8<br>taps=%{x}<br>regs=%{y}<extra></extra>",
         "legendgroup": "PolyMcm",
         "line": {
          "color": "#EF553B",
          "dash": "solid"
         },
         "mode": "lines",
         "name": "PolyMcm",
         "orientation": "v",
         "showlegend": false,
         "type": "scatter",
         "x": [
          8,
          16,
          32,
          64
         ],
         "xaxis": "x3",
         "y": [
          9470,
          14218,
          24412,
          43229
         ],
         "yaxis": "y3"
        },
        {
         "hovertemplate": "structure=PolyMcm<br>parallelism=16<br>taps=%{x}<br>regs=%{y}<extra></extra>",
         "legendgroup": "PolyMcm",
         "line": {
          "color": "#EF553B",
          "dash": "solid"
         },
         "mode": "lines",
         "name": "PolyMcm",
         "orientation": "v",
         "showlegend": false,
         "type": "scatter",
         "x": [
          16,
          32,
          64,
          128
         ],
         "xaxis": "x4",
         "y": [
          34945,
          54137,
          91858,
          146215
         ],
         "yaxis": "y4"
        },
        {
         "hovertemplate": "structure=FfaDir<br>parallelism=2<br>taps=%{x}<br>regs=%{y}<extra></extra>",
         "legendgroup": "FfaDir",
         "line": {
          "color": "#00cc96",
          "dash": "solid"
         },
         "mode": "lines",
         "name": "FfaDir",
         "orientation": "v",
         "showlegend": true,
         "type": "scatter",
         "visible": "legendonly",
         "x": [
          2,
          4,
          8,
          16
         ],
         "xaxis": "x",
         "y": [
          179,
          277,
          403,
          708
         ],
         "yaxis": "y"
        },
        {
         "hovertemplate": "structure=FfaDir<br>parallelism=4<br>taps=%{x}<br>regs=%{y}<extra></extra>",
         "legendgroup": "FfaDir",
         "line": {
          "color": "#00cc96",
          "dash": "solid"
         },
         "mode": "lines",
         "name": "FfaDir",
         "orientation": "v",
         "showlegend": false,
         "type": "scatter",
         "visible": "legendonly",
         "x": [
          4,
          8,
          16,
          32
         ],
         "xaxis": "x2",
         "y": [
          812,
          1121,
          1708,
          2884
         ],
         "yaxis": "y2"
        },
        {
         "hovertemplate": "structure=FfaDir<br>parallelism=8<br>taps=%{x}<br>regs=%{y}<extra></extra>",
         "legendgroup": "FfaDir",
         "line": {
          "color": "#00cc96",
          "dash": "solid"
         },
         "mode": "lines",
         "name": "FfaDir",
         "orientation": "v",
         "showlegend": false,
         "type": "scatter",
         "visible": "legendonly",
         "x": [
          8,
          16,
          32,
          64
         ],
         "xaxis": "x3",
         "y": [
          3290,
          4389,
          6466,
          10735
         ],
         "yaxis": "y3"
        },
        {
         "hovertemplate": "structure=FfaDir<br>parallelism=16<br>taps=%{x}<br>regs=%{y}<extra></extra>",
         "legendgroup": "FfaDir",
         "line": {
          "color": "#00cc96",
          "dash": "solid"
         },
         "mode": "lines",
         "name": "FfaDir",
         "orientation": "v",
         "showlegend": false,
         "type": "scatter",
         "visible": "legendonly",
         "x": [
          16,
          32,
          64,
          128
         ],
         "xaxis": "x4",
         "y": [
          12351,
          16098,
          23432,
          37901
         ],
         "yaxis": "y4"
        },
        {
         "hovertemplate": "structure=FfaMcm<br>parallelism=2<br>taps=%{x}<br>regs=%{y}<extra></extra>",
         "legendgroup": "FfaMcm",
         "line": {
          "color": "#ab63fa",
          "dash": "solid"
         },
         "mode": "lines",
         "name": "FfaMcm",
         "orientation": "v",
         "showlegend": true,
         "type": "scatter",
         "x": [
          2,
          4,
          8,
          16
         ],
         "xaxis": "x",
         "y": [
          641,
          939,
          1704,
          2767
         ],
         "yaxis": "y"
        },
        {
         "hovertemplate": "structure=FfaMcm<br>parallelism=4<br>taps=%{x}<br>regs=%{y}<extra></extra>",
         "legendgroup": "FfaMcm",
         "line": {
          "color": "#ab63fa",
          "dash": "solid"
         },
         "mode": "lines",
         "name": "FfaMcm",
         "orientation": "v",
         "showlegend": false,
         "type": "scatter",
         "x": [
          4,
          8,
          16,
          32
         ],
         "xaxis": "x2",
         "y": [
          2313,
          3711,
          5555,
          9647
         ],
         "yaxis": "y2"
        },
        {
         "hovertemplate": "structure=FfaMcm<br>parallelism=8<br>taps=%{x}<br>regs=%{y}<extra></extra>",
         "legendgroup": "FfaMcm",
         "line": {
          "color": "#ab63fa",
          "dash": "solid"
         },
         "mode": "lines",
         "name": "FfaMcm",
         "orientation": "v",
         "showlegend": false,
         "type": "scatter",
         "x": [
          8,
          16,
          32,
          64
         ],
         "xaxis": "x3",
         "y": [
          8758,
          12536,
          19525,
          33382
         ],
         "yaxis": "y3"
        },
        {
         "hovertemplate": "structure=FfaMcm<br>parallelism=16<br>taps=%{x}<br>regs=%{y}<extra></extra>",
         "legendgroup": "FfaMcm",
         "line": {
          "color": "#ab63fa",
          "dash": "solid"
         },
         "mode": "lines",
         "name": "FfaMcm",
         "orientation": "v",
         "showlegend": false,
         "type": "scatter",
         "x": [
          16,
          32,
          64,
          128
         ],
         "xaxis": "x4",
         "y": [
          30757,
          43369,
          66290,
          106823
         ],
         "yaxis": "y4"
        }
       ],
       "layout": {
        "annotations": [
         {
          "font": {},
          "showarrow": false,
          "text": "parallelism=2",
          "x": 0.1175,
          "xanchor": "center",
          "xref": "paper",
          "y": 1,
          "yanchor": "bottom",
          "yref": "paper"
         },
         {
          "font": {},
          "showarrow": false,
          "text": "parallelism=4",
          "x": 0.3725,
          "xanchor": "center",
          "xref": "paper",
          "y": 1,
          "yanchor": "bottom",
          "yref": "paper"
         },
         {
          "font": {},
          "showarrow": false,
          "text": "parallelism=8",
          "x": 0.6275,
          "xanchor": "center",
          "xref": "paper",
          "y": 1,
          "yanchor": "bottom",
          "yref": "paper"
         },
         {
          "font": {},
          "showarrow": false,
          "text": "parallelism=16",
          "x": 0.8824999999999998,
          "xanchor": "center",
          "xref": "paper",
          "y": 1,
          "yanchor": "bottom",
          "yref": "paper"
         }
        ],
        "autosize": true,
        "legend": {
         "title": {
          "text": "structure"
         },
         "tracegroupgap": 0
        },
        "margin": {
         "t": 60
        },
        "template": {
         "data": {
          "bar": [
           {
            "error_x": {
             "color": "#2a3f5f"
            },
            "error_y": {
             "color": "#2a3f5f"
            },
            "marker": {
             "line": {
              "color": "#E5ECF6",
              "width": 0.5
             }
            },
            "type": "bar"
           }
          ],
          "barpolar": [
           {
            "marker": {
             "line": {
              "color": "#E5ECF6",
              "width": 0.5
             }
            },
            "type": "barpolar"
           }
          ],
          "carpet": [
           {
            "aaxis": {
             "endlinecolor": "#2a3f5f",
             "gridcolor": "white",
             "linecolor": "white",
             "minorgridcolor": "white",
             "startlinecolor": "#2a3f5f"
            },
            "baxis": {
             "endlinecolor": "#2a3f5f",
             "gridcolor": "white",
             "linecolor": "white",
             "minorgridcolor": "white",
             "startlinecolor": "#2a3f5f"
            },
            "type": "carpet"
           }
          ],
          "choropleth": [
           {
            "colorbar": {
             "outlinewidth": 0,
             "ticks": ""
            },
            "type": "choropleth"
           }
          ],
          "contour": [
           {
            "colorbar": {
             "outlinewidth": 0,
             "ticks": ""
            },
            "colorscale": [
             [
              0,
              "#0d0887"
             ],
             [
              0.1111111111111111,
              "#46039f"
             ],
             [
              0.2222222222222222,
              "#7201a8"
             ],
             [
              0.3333333333333333,
              "#9c179e"
             ],
             [
              0.4444444444444444,
              "#bd3786"
             ],
             [
              0.5555555555555556,
              "#d8576b"
             ],
             [
              0.6666666666666666,
              "#ed7953"
             ],
             [
              0.7777777777777778,
              "#fb9f3a"
             ],
             [
              0.8888888888888888,
              "#fdca26"
             ],
             [
              1,
              "#f0f921"
             ]
            ],
            "type": "contour"
           }
          ],
          "contourcarpet": [
           {
            "colorbar": {
             "outlinewidth": 0,
             "ticks": ""
            },
            "type": "contourcarpet"
           }
          ],
          "heatmap": [
           {
            "colorbar": {
             "outlinewidth": 0,
             "ticks": ""
            },
            "colorscale": [
             [
              0,
              "#0d0887"
             ],
             [
              0.1111111111111111,
              "#46039f"
             ],
             [
              0.2222222222222222,
              "#7201a8"
             ],
             [
              0.3333333333333333,
              "#9c179e"
             ],
             [
              0.4444444444444444,
              "#bd3786"
             ],
             [
              0.5555555555555556,
              "#d8576b"
             ],
             [
              0.6666666666666666,
              "#ed7953"
             ],
             [
              0.7777777777777778,
              "#fb9f3a"
             ],
             [
              0.8888888888888888,
              "#fdca26"
             ],
             [
              1,
              "#f0f921"
             ]
            ],
            "type": "heatmap"
           }
          ],
          "heatmapgl": [
           {
            "colorbar": {
             "outlinewidth": 0,
             "ticks": ""
            },
            "colorscale": [
             [
              0,
              "#0d0887"
             ],
             [
              0.1111111111111111,
              "#46039f"
             ],
             [
              0.2222222222222222,
              "#7201a8"
             ],
             [
              0.3333333333333333,
              "#9c179e"
             ],
             [
              0.4444444444444444,
              "#bd3786"
             ],
             [
              0.5555555555555556,
              "#d8576b"
             ],
             [
              0.6666666666666666,
              "#ed7953"
             ],
             [
              0.7777777777777778,
              "#fb9f3a"
             ],
             [
              0.8888888888888888,
              "#fdca26"
             ],
             [
              1,
              "#f0f921"
             ]
            ],
            "type": "heatmapgl"
           }
          ],
          "histogram": [
           {
            "marker": {
             "colorbar": {
              "outlinewidth": 0,
              "ticks": ""
             }
            },
            "type": "histogram"
           }
          ],
          "histogram2d": [
           {
            "colorbar": {
             "outlinewidth": 0,
             "ticks": ""
            },
            "colorscale": [
             [
              0,
              "#0d0887"
             ],
             [
              0.1111111111111111,
              "#46039f"
             ],
             [
              0.2222222222222222,
              "#7201a8"
             ],
             [
              0.3333333333333333,
              "#9c179e"
             ],
             [
              0.4444444444444444,
              "#bd3786"
             ],
             [
              0.5555555555555556,
              "#d8576b"
             ],
             [
              0.6666666666666666,
              "#ed7953"
             ],
             [
              0.7777777777777778,
              "#fb9f3a"
             ],
             [
              0.8888888888888888,
              "#fdca26"
             ],
             [
              1,
              "#f0f921"
             ]
            ],
            "type": "histogram2d"
           }
          ],
          "histogram2dcontour": [
           {
            "colorbar": {
             "outlinewidth": 0,
             "ticks": ""
            },
            "colorscale": [
             [
              0,
              "#0d0887"
             ],
             [
              0.1111111111111111,
              "#46039f"
             ],
             [
              0.2222222222222222,
              "#7201a8"
             ],
             [
              0.3333333333333333,
              "#9c179e"
             ],
             [
              0.4444444444444444,
              "#bd3786"
             ],
             [
              0.5555555555555556,
              "#d8576b"
             ],
             [
              0.6666666666666666,
              "#ed7953"
             ],
             [
              0.7777777777777778,
              "#fb9f3a"
             ],
             [
              0.8888888888888888,
              "#fdca26"
             ],
             [
              1,
              "#f0f921"
             ]
            ],
            "type": "histogram2dcontour"
           }
          ],
          "mesh3d": [
           {
            "colorbar": {
             "outlinewidth": 0,
             "ticks": ""
            },
            "type": "mesh3d"
           }
          ],
          "parcoords": [
           {
            "line": {
             "colorbar": {
              "outlinewidth": 0,
              "ticks": ""
             }
            },
            "type": "parcoords"
           }
          ],
          "pie": [
           {
            "automargin": true,
            "type": "pie"
           }
          ],
          "scatter": [
           {
            "marker": {
             "colorbar": {
              "outlinewidth": 0,
              "ticks": ""
             }
            },
            "type": "scatter"
           }
          ],
          "scatter3d": [
           {
            "line": {
             "colorbar": {
              "outlinewidth": 0,
              "ticks": ""
             }
            },
            "marker": {
             "colorbar": {
              "outlinewidth": 0,
              "ticks": ""
             }
            },
            "type": "scatter3d"
           }
          ],
          "scattercarpet": [
           {
            "marker": {
             "colorbar": {
              "outlinewidth": 0,
              "ticks": ""
             }
            },
            "type": "scattercarpet"
           }
          ],
          "scattergeo": [
           {
            "marker": {
             "colorbar": {
              "outlinewidth": 0,
              "ticks": ""
             }
            },
            "type": "scattergeo"
           }
          ],
          "scattergl": [
           {
            "marker": {
             "colorbar": {
              "outlinewidth": 0,
              "ticks": ""
             }
            },
            "type": "scattergl"
           }
          ],
          "scattermapbox": [
           {
            "marker": {
             "colorbar": {
              "outlinewidth": 0,
              "ticks": ""
             }
            },
            "type": "scattermapbox"
           }
          ],
          "scatterpolar": [
           {
            "marker": {
             "colorbar": {
              "outlinewidth": 0,
              "ticks": ""
             }
            },
            "type": "scatterpolar"
           }
          ],
          "scatterpolargl": [
           {
            "marker": {
             "colorbar": {
              "outlinewidth": 0,
              "ticks": ""
             }
            },
            "type": "scatterpolargl"
           }
          ],
          "scatterternary": [
           {
            "marker": {
             "colorbar": {
              "outlinewidth": 0,
              "ticks": ""
             }
            },
            "type": "scatterternary"
           }
          ],
          "surface": [
           {
            "colorbar": {
             "outlinewidth": 0,
             "ticks": ""
            },
            "colorscale": [
             [
              0,
              "#0d0887"
             ],
             [
              0.1111111111111111,
              "#46039f"
             ],
             [
              0.2222222222222222,
              "#7201a8"
             ],
             [
              0.3333333333333333,
              "#9c179e"
             ],
             [
              0.4444444444444444,
              "#bd3786"
             ],
             [
              0.5555555555555556,
              "#d8576b"
             ],
             [
              0.6666666666666666,
              "#ed7953"
             ],
             [
              0.7777777777777778,
              "#fb9f3a"
             ],
             [
              0.8888888888888888,
              "#fdca26"
             ],
             [
              1,
              "#f0f921"
             ]
            ],
            "type": "surface"
           }
          ],
          "table": [
           {
            "cells": {
             "fill": {
              "color": "#EBF0F8"
             },
             "line": {
              "color": "white"
             }
            },
            "header": {
             "fill": {
              "color": "#C8D4E3"
             },
             "line": {
              "color": "white"
             }
            },
            "type": "table"
           }
          ]
         },
         "layout": {
          "annotationdefaults": {
           "arrowcolor": "#2a3f5f",
           "arrowhead": 0,
           "arrowwidth": 1
          },
          "autotypenumbers": "strict",
          "coloraxis": {
           "colorbar": {
            "outlinewidth": 0,
            "ticks": ""
           }
          },
          "colorscale": {
           "diverging": [
            [
             0,
             "#8e0152"
            ],
            [
             0.1,
             "#c51b7d"
            ],
            [
             0.2,
             "#de77ae"
            ],
            [
             0.3,
             "#f1b6da"
            ],
            [
             0.4,
             "#fde0ef"
            ],
            [
             0.5,
             "#f7f7f7"
            ],
            [
             0.6,
             "#e6f5d0"
            ],
            [
             0.7,
             "#b8e186"
            ],
            [
             0.8,
             "#7fbc41"
            ],
            [
             0.9,
             "#4d9221"
            ],
            [
             1,
             "#276419"
            ]
           ],
           "sequential": [
            [
             0,
             "#0d0887"
            ],
            [
             0.1111111111111111,
             "#46039f"
            ],
            [
             0.2222222222222222,
             "#7201a8"
            ],
            [
             0.3333333333333333,
             "#9c179e"
            ],
            [
             0.4444444444444444,
             "#bd3786"
            ],
            [
             0.5555555555555556,
             "#d8576b"
            ],
            [
             0.6666666666666666,
             "#ed7953"
            ],
            [
             0.7777777777777778,
             "#fb9f3a"
            ],
            [
             0.8888888888888888,
             "#fdca26"
            ],
            [
             1,
             "#f0f921"
            ]
           ],
           "sequentialminus": [
            [
             0,
             "#0d0887"
            ],
            [
             0.1111111111111111,
             "#46039f"
            ],
            [
             0.2222222222222222,
             "#7201a8"
            ],
            [
             0.3333333333333333,
             "#9c179e"
            ],
            [
             0.4444444444444444,
             "#bd3786"
            ],
            [
             0.5555555555555556,
             "#d8576b"
            ],
            [
             0.6666666666666666,
             "#ed7953"
            ],
            [
             0.7777777777777778,
             "#fb9f3a"
            ],
            [
             0.8888888888888888,
             "#fdca26"
            ],
            [
             1,
             "#f0f921"
            ]
           ]
          },
          "colorway": [
           "#636efa",
           "#EF553B",
           "#00cc96",
           "#ab63fa",
           "#FFA15A",
           "#19d3f3",
           "#FF6692",
           "#B6E880",
           "#FF97FF",
           "#FECB52"
          ],
          "font": {
           "color": "#2a3f5f"
          },
          "geo": {
           "bgcolor": "white",
           "lakecolor": "white",
           "landcolor": "#E5ECF6",
           "showlakes": true,
           "showland": true,
           "subunitcolor": "white"
          },
          "hoverlabel": {
           "align": "left"
          },
          "hovermode": "closest",
          "mapbox": {
           "style": "light"
          },
          "paper_bgcolor": "white",
          "plot_bgcolor": "#E5ECF6",
          "polar": {
           "angularaxis": {
            "gridcolor": "white",
            "linecolor": "white",
            "ticks": ""
           },
           "bgcolor": "#E5ECF6",
           "radialaxis": {
            "gridcolor": "white",
            "linecolor": "white",
            "ticks": ""
           }
          },
          "scene": {
           "xaxis": {
            "backgroundcolor": "#E5ECF6",
            "gridcolor": "white",
            "gridwidth": 2,
            "linecolor": "white",
            "showbackground": true,
            "ticks": "",
            "zerolinecolor": "white"
           },
           "yaxis": {
            "backgroundcolor": "#E5ECF6",
            "gridcolor": "white",
            "gridwidth": 2,
            "linecolor": "white",
            "showbackground": true,
            "ticks": "",
            "zerolinecolor": "white"
           },
           "zaxis": {
            "backgroundcolor": "#E5ECF6",
            "gridcolor": "white",
            "gridwidth": 2,
            "linecolor": "white",
            "showbackground": true,
            "ticks": "",
            "zerolinecolor": "white"
           }
          },
          "shapedefaults": {
           "line": {
            "color": "#2a3f5f"
           }
          },
          "ternary": {
           "aaxis": {
            "gridcolor": "white",
            "linecolor": "white",
            "ticks": ""
           },
           "baxis": {
            "gridcolor": "white",
            "linecolor": "white",
            "ticks": ""
           },
           "bgcolor": "#E5ECF6",
           "caxis": {
            "gridcolor": "white",
            "linecolor": "white",
            "ticks": ""
           }
          },
          "title": {
           "x": 0.05
          },
          "xaxis": {
           "automargin": true,
           "gridcolor": "white",
           "linecolor": "white",
           "ticks": "",
           "title": {
            "standoff": 15
           },
           "zerolinecolor": "white",
           "zerolinewidth": 2
          },
          "yaxis": {
           "automargin": true,
           "gridcolor": "white",
           "linecolor": "white",
           "ticks": "",
           "title": {
            "standoff": 15
           },
           "zerolinecolor": "white",
           "zerolinewidth": 2
          }
         }
        },
        "xaxis": {
         "anchor": "y",
         "autorange": true,
         "domain": [
          0,
          0.235
         ],
         "range": [
          0.30102999566398114,
          2.107209969647868
         ],
         "title": {
          "text": "taps"
         },
         "type": "log"
        },
        "xaxis2": {
         "anchor": "y2",
         "autorange": true,
         "domain": [
          0.255,
          0.49
         ],
         "matches": "x",
         "range": [
          0.30102999566398114,
          2.107209969647868
         ],
         "title": {
          "text": "taps"
         },
         "type": "log"
        },
        "xaxis3": {
         "anchor": "y3",
         "autorange": true,
         "domain": [
          0.51,
          0.745
         ],
         "matches": "x",
         "range": [
          0.30102999566398114,
          2.107209969647868
         ],
         "title": {
          "text": "taps"
         },
         "type": "log"
        },
        "xaxis4": {
         "anchor": "y4",
         "autorange": true,
         "domain": [
          0.7649999999999999,
          0.9999999999999999
         ],
         "matches": "x",
         "range": [
          0.30102999566398114,
          2.107209969647868
         ],
         "title": {
          "text": "taps"
         },
         "type": "log"
        },
        "yaxis": {
         "anchor": "x",
         "autorange": true,
         "domain": [
          0,
          1
         ],
         "range": [
          -7490.777777777777,
          154304.77777777778
         ],
         "title": {
          "text": "regs"
         },
         "type": "linear"
        },
        "yaxis2": {
         "anchor": "x2",
         "autorange": true,
         "domain": [
          0,
          1
         ],
         "matches": "y",
         "range": [
          -7490.777777777777,
          154304.77777777778
         ],
         "showticklabels": false,
         "type": "linear"
        },
        "yaxis3": {
         "anchor": "x3",
         "autorange": true,
         "domain": [
          0,
          1
         ],
         "matches": "y",
         "range": [
          -7490.777777777777,
          154304.77777777778
         ],
         "showticklabels": false,
         "type": "linear"
        },
        "yaxis4": {
         "anchor": "x4",
         "autorange": true,
         "domain": [
          0,
          1
         ],
         "matches": "y",
         "range": [
          -7490.777777777777,
          154304.77777777778
         ],
         "showticklabels": false,
         "type": "linear"
        }
       }
      },
      "image/png": "[encoded data removed]",
      "text/html": [
       "<div>                            <div id=\"81da4873-826f-4378-8071-d0c5894526d0\" class=\"plotly-graph-div\" style=\"height:525px; width:100%;\"></div>            <script type=\"text/javascript\">                require([\"plotly\"], function(Plotly) {                    window.PLOTLYENV=window.PLOTLYENV || {};                                    if (document.getElementById(\"81da4873-826f-4378-8071-d0c5894526d0\")) {                    Plotly.newPlot(                        \"81da4873-826f-4378-8071-d0c5894526d0\",                        [{\"hovertemplate\": \"structure=PolyDir<br>parallelism=2<br>taps=%{x}<br>regs=%{y}<extra></extra>\", \"legendgroup\": \"PolyDir\", \"line\": {\"color\": \"#636efa\", \"dash\": \"solid\"}, \"mode\": \"lines\", \"name\": \"PolyDir\", \"orientation\": \"v\", \"showlegend\": true, \"type\": \"scatter\", \"x\": [2, 4, 8, 16], \"xaxis\": \"x\", \"y\": [1, 58, 373, 437], \"yaxis\": \"y\"}, {\"hovertemplate\": \"structure=PolyDir<br>parallelism=4<br>taps=%{x}<br>regs=%{y}<extra></extra>\", \"legendgroup\": \"PolyDir\", \"line\": {\"color\": \"#636efa\", \"dash\": \"solid\"}, \"mode\": \"lines\", \"name\": \"PolyDir\", \"orientation\": \"v\", \"showlegend\": false, \"type\": \"scatter\", \"x\": [4, 8, 16, 32], \"xaxis\": \"x2\", \"y\": [208, 375, 1051, 1327], \"yaxis\": \"y2\"}, {\"hovertemplate\": \"structure=PolyDir<br>parallelism=8<br>taps=%{x}<br>regs=%{y}<extra></extra>\", \"legendgroup\": \"PolyDir\", \"line\": {\"color\": \"#636efa\", \"dash\": \"solid\"}, \"mode\": \"lines\", \"name\": \"PolyDir\", \"orientation\": \"v\", \"showlegend\": false, \"type\": \"scatter\", \"x\": [8, 16, 32, 64], \"xaxis\": \"x3\", \"y\": [926, 2086, 4057, 4772], \"yaxis\": \"y3\"}, {\"hovertemplate\": \"structure=PolyDir<br>parallelism=16<br>taps=%{x}<br>regs=%{y}<extra></extra>\", \"legendgroup\": \"PolyDir\", \"line\": {\"color\": \"#636efa\", \"dash\": \"solid\"}, \"mode\": \"lines\", \"name\": \"PolyDir\", \"orientation\": \"v\", \"showlegend\": false, \"type\": \"scatter\", \"x\": [16, 32, 64, 128], \"xaxis\": \"x4\", \"y\": [4592, 9983, 16560, 17614], \"yaxis\": \"y4\"}, {\"hovertemplate\": \"structure=PolyMcm<br>parallelism=2<br>taps=%{x}<br>regs=%{y}<extra></extra>\", \"legendgroup\": \"PolyMcm\", \"line\": {\"color\": \"#EF553B\", \"dash\": \"solid\"}, \"mode\": \"lines\", \"name\": \"PolyMcm\", \"orientation\": \"v\", \"showlegend\": true, \"type\": \"scatter\", \"x\": [2, 4, 8, 16], \"xaxis\": \"x\", \"y\": [599, 950, 1773, 2961], \"yaxis\": \"y\"}, {\"hovertemplate\": \"structure=PolyMcm<br>parallelism=4<br>taps=%{x}<br>regs=%{y}<extra></extra>\", \"legendgroup\": \"PolyMcm\", \"line\": {\"color\": \"#EF553B\", \"dash\": \"solid\"}, \"mode\": \"lines\", \"name\": \"PolyMcm\", \"orientation\": \"v\", \"showlegend\": false, \"type\": \"scatter\", \"x\": [4, 8, 16, 32], \"xaxis\": \"x2\", \"y\": [2251, 3962, 6318, 11405], \"yaxis\": \"y2\"}, {\"hovertemplate\": \"structure=PolyMcm<br>parallelism=8<br>taps=%{x}<br>regs=%{y}<extra></extra>\", \"legendgroup\": \"PolyMcm\", \"line\": {\"color\": \"#EF553B\", \"dash\": \"solid\"}, \"mode\": \"lines\", \"name\": \"PolyMcm\", \"orientation\": \"v\", \"showlegend\": false, \"type\": \"scatter\", \"x\": [8, 16, 32, 64], \"xaxis\": \"x3\", \"y\": [9470, 14218, 24412, 43229], \"yaxis\": \"y3\"}, {\"hovertemplate\": \"structure=PolyMcm<br>parallelism=16<br>taps=%{x}<br>regs=%{y}<extra></extra>\", \"legendgroup\": \"PolyMcm\", \"line\": {\"color\": \"#EF553B\", \"dash\": \"solid\"}, \"mode\": \"lines\", \"name\": \"PolyMcm\", \"orientation\": \"v\", \"showlegend\": false, \"type\": \"scatter\", \"x\": [16, 32, 64, 128], \"xaxis\": \"x4\", \"y\": [34945, 54137, 91858, 146215], \"yaxis\": \"y4\"}, {\"hovertemplate\": \"structure=FfaDir<br>parallelism=2<br>taps=%{x}<br>regs=%{y}<extra></extra>\", \"legendgroup\": \"FfaDir\", \"line\": {\"color\": \"#00cc96\", \"dash\": \"solid\"}, \"mode\": \"lines\", \"name\": \"FfaDir\", \"orientation\": \"v\", \"showlegend\": true, \"type\": \"scatter\", \"x\": [2, 4, 8, 16], \"xaxis\": \"x\", \"y\": [179, 277, 403, 708], \"yaxis\": \"y\"}, {\"hovertemplate\": \"structure=FfaDir<br>parallelism=4<br>taps=%{x}<br>regs=%{y}<extra></extra>\", \"legendgroup\": \"FfaDir\", \"line\": {\"color\": \"#00cc96\", \"dash\": \"solid\"}, \"mode\": \"lines\", \"name\": \"FfaDir\", \"orientation\": \"v\", \"showlegend\": false, \"type\": \"scatter\", \"x\": [4, 8, 16, 32], \"xaxis\": \"x2\", \"y\": [812, 1121, 1708, 2884], \"yaxis\": \"y2\"}, {\"hovertemplate\": \"structure=FfaDir<br>parallelism=8<br>taps=%{x}<br>regs=%{y}<extra></extra>\", \"legendgroup\": \"FfaDir\", \"line\": {\"color\": \"#00cc96\", \"dash\": \"solid\"}, \"mode\": \"lines\", \"name\": \"FfaDir\", \"orientation\": \"v\", \"showlegend\": false, \"type\": \"scatter\", \"x\": [8, 16, 32, 64], \"xaxis\": \"x3\", \"y\": [3290, 4389, 6466, 10735], \"yaxis\": \"y3\"}, {\"hovertemplate\": \"structure=FfaDir<br>parallelism=16<br>taps=%{x}<br>regs=%{y}<extra></extra>\", \"legendgroup\": \"FfaDir\", \"line\": {\"color\": \"#00cc96\", \"dash\": \"solid\"}, \"mode\": \"lines\", \"name\": \"FfaDir\", \"orientation\": \"v\", \"showlegend\": false, \"type\": \"scatter\", \"x\": [16, 32, 64, 128], \"xaxis\": \"x4\", \"y\": [12351, 16098, 23432, 37901], \"yaxis\": \"y4\"}, {\"hovertemplate\": \"structure=FfaMcm<br>parallelism=2<br>taps=%{x}<br>regs=%{y}<extra></extra>\", \"legendgroup\": \"FfaMcm\", \"line\": {\"color\": \"#ab63fa\", \"dash\": \"solid\"}, \"mode\": \"lines\", \"name\": \"FfaMcm\", \"orientation\": \"v\", \"showlegend\": true, \"type\": \"scatter\", \"x\": [2, 4, 8, 16], \"xaxis\": \"x\", \"y\": [641, 939, 1704, 2767], \"yaxis\": \"y\"}, {\"hovertemplate\": \"structure=FfaMcm<br>parallelism=4<br>taps=%{x}<br>regs=%{y}<extra></extra>\", \"legendgroup\": \"FfaMcm\", \"line\": {\"color\": \"#ab63fa\", \"dash\": \"solid\"}, \"mode\": \"lines\", \"name\": \"FfaMcm\", \"orientation\": \"v\", \"showlegend\": false, \"type\": \"scatter\", \"x\": [4, 8, 16, 32], \"xaxis\": \"x2\", \"y\": [2313, 3711, 5555, 9647], \"yaxis\": \"y2\"}, {\"hovertemplate\": \"structure=FfaMcm<br>parallelism=8<br>taps=%{x}<br>regs=%{y}<extra></extra>\", \"legendgroup\": \"FfaMcm\", \"line\": {\"color\": \"#ab63fa\", \"dash\": \"solid\"}, \"mode\": \"lines\", \"name\": \"FfaMcm\", \"orientation\": \"v\", \"showlegend\": false, \"type\": \"scatter\", \"x\": [8, 16, 32, 64], \"xaxis\": \"x3\", \"y\": [8758, 12536, 19525, 33382], \"yaxis\": \"y3\"}, {\"hovertemplate\": \"structure=FfaMcm<br>parallelism=16<br>taps=%{x}<br>regs=%{y}<extra></extra>\", \"legendgroup\": \"FfaMcm\", \"line\": {\"color\": \"#ab63fa\", \"dash\": \"solid\"}, \"mode\": \"lines\", \"name\": \"FfaMcm\", \"orientation\": \"v\", \"showlegend\": false, \"type\": \"scatter\", \"x\": [16, 32, 64, 128], \"xaxis\": \"x4\", \"y\": [30757, 43369, 66290, 106823], \"yaxis\": \"y4\"}],                        {\"annotations\": [{\"font\": {}, \"showarrow\": false, \"text\": \"parallelism=2\", \"x\": 0.1175, \"xanchor\": \"center\", \"xref\": \"paper\", \"y\": 1.0, \"yanchor\": \"bottom\", \"yref\": \"paper\"}, {\"font\": {}, \"showarrow\": false, \"text\": \"parallelism=4\", \"x\": 0.3725, \"xanchor\": \"center\", \"xref\": \"paper\", \"y\": 1.0, \"yanchor\": \"bottom\", \"yref\": \"paper\"}, {\"font\": {}, \"showarrow\": false, \"text\": \"parallelism=8\", \"x\": 0.6275, \"xanchor\": \"center\", \"xref\": \"paper\", \"y\": 1.0, \"yanchor\": \"bottom\", \"yref\": \"paper\"}, {\"font\": {}, \"showarrow\": false, \"text\": \"parallelism=16\", \"x\": 0.8824999999999998, \"xanchor\": \"center\", \"xref\": \"paper\", \"y\": 1.0, \"yanchor\": \"bottom\", \"yref\": \"paper\"}], \"legend\": {\"title\": {\"text\": \"structure\"}, \"tracegroupgap\": 0}, \"margin\": {\"t\": 60}, \"template\": {\"data\": {\"bar\": [{\"error_x\": {\"color\": \"#2a3f5f\"}, \"error_y\": {\"color\": \"#2a3f5f\"}, \"marker\": {\"line\": {\"color\": \"#E5ECF6\", \"width\": 0.5}}, \"type\": \"bar\"}], \"barpolar\": [{\"marker\": {\"line\": {\"color\": \"#E5ECF6\", \"width\": 0.5}}, \"type\": \"barpolar\"}], \"carpet\": [{\"aaxis\": {\"endlinecolor\": \"#2a3f5f\", \"gridcolor\": \"white\", \"linecolor\": \"white\", \"minorgridcolor\": \"white\", \"startlinecolor\": \"#2a3f5f\"}, \"baxis\": {\"endlinecolor\": \"#2a3f5f\", \"gridcolor\": \"white\", \"linecolor\": \"white\", \"minorgridcolor\": \"white\", \"startlinecolor\": \"#2a3f5f\"}, \"type\": \"carpet\"}], \"choropleth\": [{\"colorbar\": {\"outlinewidth\": 0, \"ticks\": \"\"}, \"type\": \"choropleth\"}], \"contour\": [{\"colorbar\": {\"outlinewidth\": 0, \"ticks\": \"\"}, \"colorscale\": [[0.0, \"#0d0887\"], [0.1111111111111111, \"#46039f\"], [0.2222222222222222, \"#7201a8\"], [0.3333333333333333, \"#9c179e\"], [0.4444444444444444, \"#bd3786\"], [0.5555555555555556, \"#d8576b\"], [0.6666666666666666, \"#ed7953\"], [0.7777777777777778, \"#fb9f3a\"], [0.8888888888888888, \"#fdca26\"], [1.0, \"#f0f921\"]], \"type\": \"contour\"}], \"contourcarpet\": [{\"colorbar\": {\"outlinewidth\": 0, \"ticks\": \"\"}, \"type\": \"contourcarpet\"}], \"heatmap\": [{\"colorbar\": {\"outlinewidth\": 0, \"ticks\": \"\"}, \"colorscale\": [[0.0, \"#0d0887\"], [0.1111111111111111, \"#46039f\"], [0.2222222222222222, \"#7201a8\"], [0.3333333333333333, \"#9c179e\"], [0.4444444444444444, \"#bd3786\"], [0.5555555555555556, \"#d8576b\"], [0.6666666666666666, \"#ed7953\"], [0.7777777777777778, \"#fb9f3a\"], [0.8888888888888888, \"#fdca26\"], [1.0, \"#f0f921\"]], \"type\": \"heatmap\"}], \"heatmapgl\": [{\"colorbar\": {\"outlinewidth\": 0, \"ticks\": \"\"}, \"colorscale\": [[0.0, \"#0d0887\"], [0.1111111111111111, \"#46039f\"], [0.2222222222222222, \"#7201a8\"], [0.3333333333333333, \"#9c179e\"], [0.4444444444444444, \"#bd3786\"], [0.5555555555555556, \"#d8576b\"], [0.6666666666666666, \"#ed7953\"], [0.7777777777777778, \"#fb9f3a\"], [0.8888888888888888, \"#fdca26\"], [1.0, \"#f0f921\"]], \"type\": \"heatmapgl\"}], \"histogram\": [{\"marker\": {\"colorbar\": {\"outlinewidth\": 0, \"ticks\": \"\"}}, \"type\": \"histogram\"}], \"histogram2d\": [{\"colorbar\": {\"outlinewidth\": 0, \"ticks\": \"\"}, \"colorscale\": [[0.0, \"#0d0887\"], [0.1111111111111111, \"#46039f\"], [0.2222222222222222, \"#7201a8\"], [0.3333333333333333, \"#9c179e\"], [0.4444444444444444, \"#bd3786\"], [0.5555555555555556, \"#d8576b\"], [0.6666666666666666, \"#ed7953\"], [0.7777777777777778, \"#fb9f3a\"], [0.8888888888888888, \"#fdca26\"], [1.0, \"#f0f921\"]], \"type\": \"histogram2d\"}], \"histogram2dcontour\": [{\"colorbar\": {\"outlinewidth\": 0, \"ticks\": \"\"}, \"colorscale\": [[0.0, \"#0d0887\"], [0.1111111111111111, \"#46039f\"], [0.2222222222222222, \"#7201a8\"], [0.3333333333333333, \"#9c179e\"], [0.4444444444444444, \"#bd3786\"], [0.5555555555555556, \"#d8576b\"], [0.6666666666666666, \"#ed7953\"], [0.7777777777777778, \"#fb9f3a\"], [0.8888888888888888, \"#fdca26\"], [1.0, \"#f0f921\"]], \"type\": \"histogram2dcontour\"}], \"mesh3d\": [{\"colorbar\": {\"outlinewidth\": 0, \"ticks\": \"\"}, \"type\": \"mesh3d\"}], \"parcoords\": [{\"line\": {\"colorbar\": {\"outlinewidth\": 0, \"ticks\": \"\"}}, \"type\": \"parcoords\"}], \"pie\": [{\"automargin\": true, \"type\": \"pie\"}], \"scatter\": [{\"marker\": {\"colorbar\": {\"outlinewidth\": 0, \"ticks\": \"\"}}, \"type\": \"scatter\"}], \"scatter3d\": [{\"line\": {\"colorbar\": {\"outlinewidth\": 0, \"ticks\": \"\"}}, \"marker\": {\"colorbar\": {\"outlinewidth\": 0, \"ticks\": \"\"}}, \"type\": \"scatter3d\"}], \"scattercarpet\": [{\"marker\": {\"colorbar\": {\"outlinewidth\": 0, \"ticks\": \"\"}}, \"type\": \"scattercarpet\"}], \"scattergeo\": [{\"marker\": {\"colorbar\": {\"outlinewidth\": 0, \"ticks\": \"\"}}, \"type\": \"scattergeo\"}], \"scattergl\": [{\"marker\": {\"colorbar\": {\"outlinewidth\": 0, \"ticks\": \"\"}}, \"type\": \"scattergl\"}], \"scattermapbox\": [{\"marker\": {\"colorbar\": {\"outlinewidth\": 0, \"ticks\": \"\"}}, \"type\": \"scattermapbox\"}], \"scatterpolar\": [{\"marker\": {\"colorbar\": {\"outlinewidth\": 0, \"ticks\": \"\"}}, \"type\": \"scatterpolar\"}], \"scatterpolargl\": [{\"marker\": {\"colorbar\": {\"outlinewidth\": 0, \"ticks\": \"\"}}, \"type\": \"scatterpolargl\"}], \"scatterternary\": [{\"marker\": {\"colorbar\": {\"outlinewidth\": 0, \"ticks\": \"\"}}, \"type\": \"scatterternary\"}], \"surface\": [{\"colorbar\": {\"outlinewidth\": 0, \"ticks\": \"\"}, \"colorscale\": [[0.0, \"#0d0887\"], [0.1111111111111111, \"#46039f\"], [0.2222222222222222, \"#7201a8\"], [0.3333333333333333, \"#9c179e\"], [0.4444444444444444, \"#bd3786\"], [0.5555555555555556, \"#d8576b\"], [0.6666666666666666, \"#ed7953\"], [0.7777777777777778, \"#fb9f3a\"], [0.8888888888888888, \"#fdca26\"], [1.0, \"#f0f921\"]], \"type\": \"surface\"}], \"table\": [{\"cells\": {\"fill\": {\"color\": \"#EBF0F8\"}, \"line\": {\"color\": \"white\"}}, \"header\": {\"fill\": {\"color\": \"#C8D4E3\"}, \"line\": {\"color\": \"white\"}}, \"type\": \"table\"}]}, \"layout\": {\"annotationdefaults\": {\"arrowcolor\": \"#2a3f5f\", \"arrowhead\": 0, \"arrowwidth\": 1}, \"autotypenumbers\": \"strict\", \"coloraxis\": {\"colorbar\": {\"outlinewidth\": 0, \"ticks\": \"\"}}, \"colorscale\": {\"diverging\": [[0, \"#8e0152\"], [0.1, \"#c51b7d\"], [0.2, \"#de77ae\"], [0.3, \"#f1b6da\"], [0.4, \"#fde0ef\"], [0.5, \"#f7f7f7\"], [0.6, \"#e6f5d0\"], [0.7, \"#b8e186\"], [0.8, \"#7fbc41\"], [0.9, \"#4d9221\"], [1, \"#276419\"]], \"sequential\": [[0.0, \"#0d0887\"], [0.1111111111111111, \"#46039f\"], [0.2222222222222222, \"#7201a8\"], [0.3333333333333333, \"#9c179e\"], [0.4444444444444444, \"#bd3786\"], [0.5555555555555556, \"#d8576b\"], [0.6666666666666666, \"#ed7953\"], [0.7777777777777778, \"#fb9f3a\"], [0.8888888888888888, \"#fdca26\"], [1.0, \"#f0f921\"]], \"sequentialminus\": [[0.0, \"#0d0887\"], [0.1111111111111111, \"#46039f\"], [0.2222222222222222, \"#7201a8\"], [0.3333333333333333, \"#9c179e\"], [0.4444444444444444, \"#bd3786\"], [0.5555555555555556, \"#d8576b\"], [0.6666666666666666, \"#ed7953\"], [0.7777777777777778, \"#fb9f3a\"], [0.8888888888888888, \"#fdca26\"], [1.0, \"#f0f921\"]]}, \"colorway\": [\"#636efa\", \"#EF553B\", \"#00cc96\", \"#ab63fa\", \"#FFA15A\", \"#19d3f3\", \"#FF6692\", \"#B6E880\", \"#FF97FF\", \"#FECB52\"], \"font\": {\"color\": \"#2a3f5f\"}, \"geo\": {\"bgcolor\": \"white\", \"lakecolor\": \"white\", \"landcolor\": \"#E5ECF6\", \"showlakes\": true, \"showland\": true, \"subunitcolor\": \"white\"}, \"hoverlabel\": {\"align\": \"left\"}, \"hovermode\": \"closest\", \"mapbox\": {\"style\": \"light\"}, \"paper_bgcolor\": \"white\", \"plot_bgcolor\": \"#E5ECF6\", \"polar\": {\"angularaxis\": {\"gridcolor\": \"white\", \"linecolor\": \"white\", \"ticks\": \"\"}, \"bgcolor\": \"#E5ECF6\", \"radialaxis\": {\"gridcolor\": \"white\", \"linecolor\": \"white\", \"ticks\": \"\"}}, \"scene\": {\"xaxis\": {\"backgroundcolor\": \"#E5ECF6\", \"gridcolor\": \"white\", \"gridwidth\": 2, \"linecolor\": \"white\", \"showbackground\": true, \"ticks\": \"\", \"zerolinecolor\": \"white\"}, \"yaxis\": {\"backgroundcolor\": \"#E5ECF6\", \"gridcolor\": \"white\", \"gridwidth\": 2, \"linecolor\": \"white\", \"showbackground\": true, \"ticks\": \"\", \"zerolinecolor\": \"white\"}, \"zaxis\": {\"backgroundcolor\": \"#E5ECF6\", \"gridcolor\": \"white\", \"gridwidth\": 2, \"linecolor\": \"white\", \"showbackground\": true, \"ticks\": \"\", \"zerolinecolor\": \"white\"}}, \"shapedefaults\": {\"line\": {\"color\": \"#2a3f5f\"}}, \"ternary\": {\"aaxis\": {\"gridcolor\": \"white\", \"linecolor\": \"white\", \"ticks\": \"\"}, \"baxis\": {\"gridcolor\": \"white\", \"linecolor\": \"white\", \"ticks\": \"\"}, \"bgcolor\": \"#E5ECF6\", \"caxis\": {\"gridcolor\": \"white\", \"linecolor\": \"white\", \"ticks\": \"\"}}, \"title\": {\"x\": 0.05}, \"xaxis\": {\"automargin\": true, \"gridcolor\": \"white\", \"linecolor\": \"white\", \"ticks\": \"\", \"title\": {\"standoff\": 15}, \"zerolinecolor\": \"white\", \"zerolinewidth\": 2}, \"yaxis\": {\"automargin\": true, \"gridcolor\": \"white\", \"linecolor\": \"white\", \"ticks\": \"\", \"title\": {\"standoff\": 15}, \"zerolinecolor\": \"white\", \"zerolinewidth\": 2}}}, \"xaxis\": {\"anchor\": \"y\", \"domain\": [0.0, 0.235], \"title\": {\"text\": \"taps\"}, \"type\": \"log\"}, \"xaxis2\": {\"anchor\": \"y2\", \"domain\": [0.255, 0.49], \"matches\": \"x\", \"title\": {\"text\": \"taps\"}, \"type\": \"log\"}, \"xaxis3\": {\"anchor\": \"y3\", \"domain\": [0.51, 0.745], \"matches\": \"x\", \"title\": {\"text\": \"taps\"}, \"type\": \"log\"}, \"xaxis4\": {\"anchor\": \"y4\", \"domain\": [0.7649999999999999, 0.9999999999999999], \"matches\": \"x\", \"title\": {\"text\": \"taps\"}, \"type\": \"log\"}, \"yaxis\": {\"anchor\": \"x\", \"domain\": [0.0, 1.0], \"title\": {\"text\": \"regs\"}}, \"yaxis2\": {\"anchor\": \"x2\", \"domain\": [0.0, 1.0], \"matches\": \"y\", \"showticklabels\": false}, \"yaxis3\": {\"anchor\": \"x3\", \"domain\": [0.0, 1.0], \"matches\": \"y\", \"showticklabels\": false}, \"yaxis4\": {\"anchor\": \"x4\", \"domain\": [0.0, 1.0], \"matches\": \"y\", \"showticklabels\": false}},                        {\"responsive\": true}                    ).then(function(){\n",
       "                            \n",
       "var gd = document.getElementById('81da4873-826f-4378-8071-d0c5894526d0');\n",
       "var x = new MutationObserver(function (mutations, observer) {{\n",
       "        var display = window.getComputedStyle(gd).display;\n",
       "        if (!display || display === 'none') {{\n",
       "            console.log([gd, 'removed!']);\n",
       "            Plotly.purge(gd);\n",
       "            observer.disconnect();\n",
       "        }}\n",
       "}});\n",
       "\n",
       "// Listen for the removal of the full notebook cells\n",
       "var notebookContainer = gd.closest('#notebook-container');\n",
       "if (notebookContainer) {{\n",
       "    x.observe(notebookContainer, {childList: true});\n",
       "}}\n",
       "\n",
       "// Listen for the clearing of the current output cell\n",
       "var outputEl = gd.closest('.output');\n",
       "if (outputEl) {{\n",
       "    x.observe(outputEl, {childList: true});\n",
       "}}\n",
       "\n",
       "                        })                };                });            </script>        </div>"
      ]
     },
     "metadata": {},
     "output_type": "display_data"
    },
    {
     "data": {
      "application/vnd.plotly.v1+json": {
       "config": {
        "plotlyServerURL": "https://plot.ly"
       },
       "data": [
        {
         "hovertemplate": "structure=PolyDir<br>parallelism=2<br>taps=%{x}<br>dsps=%{y}<extra></extra>",
         "legendgroup": "PolyDir",
         "line": {
          "color": "#636efa",
          "dash": "solid"
         },
         "mode": "lines",
         "name": "PolyDir",
         "orientation": "v",
         "showlegend": true,
         "type": "scatter",
         "x": [
          2,
          4,
          8,
          16
         ],
         "xaxis": "x",
         "y": [
          4,
          6,
          8,
          16
         ],
         "yaxis": "y"
        },
        {
         "hovertemplate": "structure=PolyDir<br>parallelism=4<br>taps=%{x}<br>dsps=%{y}<extra></extra>",
         "legendgroup": "PolyDir",
         "line": {
          "color": "#636efa",
          "dash": "solid"
         },
         "mode": "lines",
         "name": "PolyDir",
         "orientation": "v",
         "showlegend": false,
         "type": "scatter",
         "x": [
          4,
          8,
          16,
          32
         ],
         "xaxis": "x2",
         "y": [
          16,
          24,
          32,
          54
         ],
         "yaxis": "y2"
        },
        {
         "hovertemplate": "structure=PolyDir<br>parallelism=8<br>taps=%{x}<br>dsps=%{y}<extra></extra>",
         "legendgroup": "PolyDir",
         "line": {
          "color": "#636efa",
          "dash": "solid"
         },
         "mode": "lines",
         "name": "PolyDir",
         "orientation": "v",
         "showlegend": false,
         "type": "scatter",
         "x": [
          8,
          16,
          32,
          64
         ],
         "xaxis": "x3",
         "y": [
          64,
          75,
          128,
          181
         ],
         "yaxis": "y3"
        },
        {
         "hovertemplate": "structure=PolyDir<br>parallelism=16<br>taps=%{x}<br>dsps=%{y}<extra></extra>",
         "legendgroup": "PolyDir",
         "line": {
          "color": "#636efa",
          "dash": "solid"
         },
         "mode": "lines",
         "name": "PolyDir",
         "orientation": "v",
         "showlegend": false,
         "type": "scatter",
         "x": [
          16,
          32,
          64,
          128
         ],
         "xaxis": "x4",
         "y": [
          256,
          301,
          501,
          744
         ],
         "yaxis": "y4"
        },
        {
         "hovertemplate": "structure=PolyMcm<br>parallelism=2<br>taps=%{x}<br>dsps=%{y}<extra></extra>",
         "legendgroup": "PolyMcm",
         "line": {
          "color": "#EF553B",
          "dash": "solid"
         },
         "mode": "lines",
         "name": "PolyMcm",
         "orientation": "v",
         "showlegend": true,
         "type": "scatter",
         "x": [
          2,
          4,
          8,
          16
         ],
         "xaxis": "x",
         "y": [
          0,
          0,
          0,
          0
         ],
         "yaxis": "y"
        },
        {
         "hovertemplate": "structure=PolyMcm<br>parallelism=4<br>taps=%{x}<br>dsps=%{y}<extra></extra>",
         "legendgroup": "PolyMcm",
         "line": {
          "color": "#EF553B",
          "dash": "solid"
         },
         "mode": "lines",
         "name": "PolyMcm",
         "orientation": "v",
         "showlegend": false,
         "type": "scatter",
         "x": [
          4,
          8,
          16,
          32
         ],
         "xaxis": "x2",
         "y": [
          0,
          0,
          0,
          0
         ],
         "yaxis": "y2"
        },
        {
         "hovertemplate": "structure=PolyMcm<br>parallelism=8<br>taps=%{x}<br>dsps=%{y}<extra></extra>",
         "legendgroup": "PolyMcm",
         "line": {
          "color": "#EF553B",
          "dash": "solid"
         },
         "mode": "lines",
         "name": "PolyMcm",
         "orientation": "v",
         "showlegend": false,
         "type": "scatter",
         "x": [
          8,
          16,
          32,
          64
         ],
         "xaxis": "x3",
         "y": [
          0,
          0,
          0,
          0
         ],
         "yaxis": "y3"
        },
        {
         "hovertemplate": "structure=PolyMcm<br>parallelism=16<br>taps=%{x}<br>dsps=%{y}<extra></extra>",
         "legendgroup": "PolyMcm",
         "line": {
          "color": "#EF553B",
          "dash": "solid"
         },
         "mode": "lines",
         "name": "PolyMcm",
         "orientation": "v",
         "showlegend": false,
         "type": "scatter",
         "x": [
          16,
          32,
          64,
          128
         ],
         "xaxis": "x4",
         "y": [
          0,
          0,
          0,
          0
         ],
         "yaxis": "y4"
        },
        {
         "hovertemplate": "structure=FfaDir<br>parallelism=2<br>taps=%{x}<br>dsps=%{y}<extra></extra>",
         "legendgroup": "FfaDir",
         "line": {
          "color": "#00cc96",
          "dash": "solid"
         },
         "mode": "lines",
         "name": "FfaDir",
         "orientation": "v",
         "showlegend": true,
         "type": "scatter",
         "x": [
          2,
          4,
          8,
          16
         ],
         "xaxis": "x",
         "y": [
          0,
          0,
          0,
          0
         ],
         "yaxis": "y"
        },
        {
         "hovertemplate": "structure=FfaDir<br>parallelism=4<br>taps=%{x}<br>dsps=%{y}<extra></extra>",
         "legendgroup": "FfaDir",
         "line": {
          "color": "#00cc96",
          "dash": "solid"
         },
         "mode": "lines",
         "name": "FfaDir",
         "orientation": "v",
         "showlegend": false,
         "type": "scatter",
         "x": [
          4,
          8,
          16,
          32
         ],
         "xaxis": "x2",
         "y": [
          0,
          0,
          0,
          0
         ],
         "yaxis": "y2"
        },
        {
         "hovertemplate": "structure=FfaDir<br>parallelism=8<br>taps=%{x}<br>dsps=%{y}<extra></extra>",
         "legendgroup": "FfaDir",
         "line": {
          "color": "#00cc96",
          "dash": "solid"
         },
         "mode": "lines",
         "name": "FfaDir",
         "orientation": "v",
         "showlegend": false,
         "type": "scatter",
         "x": [
          8,
          16,
          32,
          64
         ],
         "xaxis": "x3",
         "y": [
          0,
          0,
          0,
          0
         ],
         "yaxis": "y3"
        },
        {
         "hovertemplate": "structure=FfaDir<br>parallelism=16<br>taps=%{x}<br>dsps=%{y}<extra></extra>",
         "legendgroup": "FfaDir",
         "line": {
          "color": "#00cc96",
          "dash": "solid"
         },
         "mode": "lines",
         "name": "FfaDir",
         "orientation": "v",
         "showlegend": false,
         "type": "scatter",
         "x": [
          16,
          32,
          64,
          128
         ],
         "xaxis": "x4",
         "y": [
          0,
          0,
          0,
          0
         ],
         "yaxis": "y4"
        },
        {
         "hovertemplate": "structure=FfaMcm<br>parallelism=2<br>taps=%{x}<br>dsps=%{y}<extra></extra>",
         "legendgroup": "FfaMcm",
         "line": {
          "color": "#ab63fa",
          "dash": "solid"
         },
         "mode": "lines",
         "name": "FfaMcm",
         "orientation": "v",
         "showlegend": true,
         "type": "scatter",
         "x": [
          2,
          4,
          8,
          16
         ],
         "xaxis": "x",
         "y": [
          0,
          0,
          0,
          0
         ],
         "yaxis": "y"
        },
        {
         "hovertemplate": "structure=FfaMcm<br>parallelism=4<br>taps=%{x}<br>dsps=%{y}<extra></extra>",
         "legendgroup": "FfaMcm",
         "line": {
          "color": "#ab63fa",
          "dash": "solid"
         },
         "mode": "lines",
         "name": "FfaMcm",
         "orientation": "v",
         "showlegend": false,
         "type": "scatter",
         "x": [
          4,
          8,
          16,
          32
         ],
         "xaxis": "x2",
         "y": [
          0,
          0,
          0,
          0
         ],
         "yaxis": "y2"
        },
        {
         "hovertemplate": "structure=FfaMcm<br>parallelism=8<br>taps=%{x}<br>dsps=%{y}<extra></extra>",
         "legendgroup": "FfaMcm",
         "line": {
          "color": "#ab63fa",
          "dash": "solid"
         },
         "mode": "lines",
         "name": "FfaMcm",
         "orientation": "v",
         "showlegend": false,
         "type": "scatter",
         "x": [
          8,
          16,
          32,
          64
         ],
         "xaxis": "x3",
         "y": [
          0,
          0,
          0,
          0
         ],
         "yaxis": "y3"
        },
        {
         "hovertemplate": "structure=FfaMcm<br>parallelism=16<br>taps=%{x}<br>dsps=%{y}<extra></extra>",
         "legendgroup": "FfaMcm",
         "line": {
          "color": "#ab63fa",
          "dash": "solid"
         },
         "mode": "lines",
         "name": "FfaMcm",
         "orientation": "v",
         "showlegend": false,
         "type": "scatter",
         "x": [
          16,
          32,
          64,
          128
         ],
         "xaxis": "x4",
         "y": [
          0,
          0,
          0,
          0
         ],
         "yaxis": "y4"
        }
       ],
       "layout": {
        "annotations": [
         {
          "font": {},
          "showarrow": false,
          "text": "parallelism=2",
          "x": 0.1175,
          "xanchor": "center",
          "xref": "paper",
          "y": 1,
          "yanchor": "bottom",
          "yref": "paper"
         },
         {
          "font": {},
          "showarrow": false,
          "text": "parallelism=4",
          "x": 0.3725,
          "xanchor": "center",
          "xref": "paper",
          "y": 1,
          "yanchor": "bottom",
          "yref": "paper"
         },
         {
          "font": {},
          "showarrow": false,
          "text": "parallelism=8",
          "x": 0.6275,
          "xanchor": "center",
          "xref": "paper",
          "y": 1,
          "yanchor": "bottom",
          "yref": "paper"
         },
         {
          "font": {},
          "showarrow": false,
          "text": "parallelism=16",
          "x": 0.8824999999999998,
          "xanchor": "center",
          "xref": "paper",
          "y": 1,
          "yanchor": "bottom",
          "yref": "paper"
         }
        ],
        "autosize": true,
        "legend": {
         "title": {
          "text": "structure"
         },
         "tracegroupgap": 0
        },
        "margin": {
         "t": 60
        },
        "template": {
         "data": {
          "bar": [
           {
            "error_x": {
             "color": "#2a3f5f"
            },
            "error_y": {
             "color": "#2a3f5f"
            },
            "marker": {
             "line": {
              "color": "#E5ECF6",
              "width": 0.5
             }
            },
            "type": "bar"
           }
          ],
          "barpolar": [
           {
            "marker": {
             "line": {
              "color": "#E5ECF6",
              "width": 0.5
             }
            },
            "type": "barpolar"
           }
          ],
          "carpet": [
           {
            "aaxis": {
             "endlinecolor": "#2a3f5f",
             "gridcolor": "white",
             "linecolor": "white",
             "minorgridcolor": "white",
             "startlinecolor": "#2a3f5f"
            },
            "baxis": {
             "endlinecolor": "#2a3f5f",
             "gridcolor": "white",
             "linecolor": "white",
             "minorgridcolor": "white",
             "startlinecolor": "#2a3f5f"
            },
            "type": "carpet"
           }
          ],
          "choropleth": [
           {
            "colorbar": {
             "outlinewidth": 0,
             "ticks": ""
            },
            "type": "choropleth"
           }
          ],
          "contour": [
           {
            "colorbar": {
             "outlinewidth": 0,
             "ticks": ""
            },
            "colorscale": [
             [
              0,
              "#0d0887"
             ],
             [
              0.1111111111111111,
              "#46039f"
             ],
             [
              0.2222222222222222,
              "#7201a8"
             ],
             [
              0.3333333333333333,
              "#9c179e"
             ],
             [
              0.4444444444444444,
              "#bd3786"
             ],
             [
              0.5555555555555556,
              "#d8576b"
             ],
             [
              0.6666666666666666,
              "#ed7953"
             ],
             [
              0.7777777777777778,
              "#fb9f3a"
             ],
             [
              0.8888888888888888,
              "#fdca26"
             ],
             [
              1,
              "#f0f921"
             ]
            ],
            "type": "contour"
           }
          ],
          "contourcarpet": [
           {
            "colorbar": {
             "outlinewidth": 0,
             "ticks": ""
            },
            "type": "contourcarpet"
           }
          ],
          "heatmap": [
           {
            "colorbar": {
             "outlinewidth": 0,
             "ticks": ""
            },
            "colorscale": [
             [
              0,
              "#0d0887"
             ],
             [
              0.1111111111111111,
              "#46039f"
             ],
             [
              0.2222222222222222,
              "#7201a8"
             ],
             [
              0.3333333333333333,
              "#9c179e"
             ],
             [
              0.4444444444444444,
              "#bd3786"
             ],
             [
              0.5555555555555556,
              "#d8576b"
             ],
             [
              0.6666666666666666,
              "#ed7953"
             ],
             [
              0.7777777777777778,
              "#fb9f3a"
             ],
             [
              0.8888888888888888,
              "#fdca26"
             ],
             [
              1,
              "#f0f921"
             ]
            ],
            "type": "heatmap"
           }
          ],
          "heatmapgl": [
           {
            "colorbar": {
             "outlinewidth": 0,
             "ticks": ""
            },
            "colorscale": [
             [
              0,
              "#0d0887"
             ],
             [
              0.1111111111111111,
              "#46039f"
             ],
             [
              0.2222222222222222,
              "#7201a8"
             ],
             [
              0.3333333333333333,
              "#9c179e"
             ],
             [
              0.4444444444444444,
              "#bd3786"
             ],
             [
              0.5555555555555556,
              "#d8576b"
             ],
             [
              0.6666666666666666,
              "#ed7953"
             ],
             [
              0.7777777777777778,
              "#fb9f3a"
             ],
             [
              0.8888888888888888,
              "#fdca26"
             ],
             [
              1,
              "#f0f921"
             ]
            ],
            "type": "heatmapgl"
           }
          ],
          "histogram": [
           {
            "marker": {
             "colorbar": {
              "outlinewidth": 0,
              "ticks": ""
             }
            },
            "type": "histogram"
           }
          ],
          "histogram2d": [
           {
            "colorbar": {
             "outlinewidth": 0,
             "ticks": ""
            },
            "colorscale": [
             [
              0,
              "#0d0887"
             ],
             [
              0.1111111111111111,
              "#46039f"
             ],
             [
              0.2222222222222222,
              "#7201a8"
             ],
             [
              0.3333333333333333,
              "#9c179e"
             ],
             [
              0.4444444444444444,
              "#bd3786"
             ],
             [
              0.5555555555555556,
              "#d8576b"
             ],
             [
              0.6666666666666666,
              "#ed7953"
             ],
             [
              0.7777777777777778,
              "#fb9f3a"
             ],
             [
              0.8888888888888888,
              "#fdca26"
             ],
             [
              1,
              "#f0f921"
             ]
            ],
            "type": "histogram2d"
           }
          ],
          "histogram2dcontour": [
           {
            "colorbar": {
             "outlinewidth": 0,
             "ticks": ""
            },
            "colorscale": [
             [
              0,
              "#0d0887"
             ],
             [
              0.1111111111111111,
              "#46039f"
             ],
             [
              0.2222222222222222,
              "#7201a8"
             ],
             [
              0.3333333333333333,
              "#9c179e"
             ],
             [
              0.4444444444444444,
              "#bd3786"
             ],
             [
              0.5555555555555556,
              "#d8576b"
             ],
             [
              0.6666666666666666,
              "#ed7953"
             ],
             [
              0.7777777777777778,
              "#fb9f3a"
             ],
             [
              0.8888888888888888,
              "#fdca26"
             ],
             [
              1,
              "#f0f921"
             ]
            ],
            "type": "histogram2dcontour"
           }
          ],
          "mesh3d": [
           {
            "colorbar": {
             "outlinewidth": 0,
             "ticks": ""
            },
            "type": "mesh3d"
           }
          ],
          "parcoords": [
           {
            "line": {
             "colorbar": {
              "outlinewidth": 0,
              "ticks": ""
             }
            },
            "type": "parcoords"
           }
          ],
          "pie": [
           {
            "automargin": true,
            "type": "pie"
           }
          ],
          "scatter": [
           {
            "marker": {
             "colorbar": {
              "outlinewidth": 0,
              "ticks": ""
             }
            },
            "type": "scatter"
           }
          ],
          "scatter3d": [
           {
            "line": {
             "colorbar": {
              "outlinewidth": 0,
              "ticks": ""
             }
            },
            "marker": {
             "colorbar": {
              "outlinewidth": 0,
              "ticks": ""
             }
            },
            "type": "scatter3d"
           }
          ],
          "scattercarpet": [
           {
            "marker": {
             "colorbar": {
              "outlinewidth": 0,
              "ticks": ""
             }
            },
            "type": "scattercarpet"
           }
          ],
          "scattergeo": [
           {
            "marker": {
             "colorbar": {
              "outlinewidth": 0,
              "ticks": ""
             }
            },
            "type": "scattergeo"
           }
          ],
          "scattergl": [
           {
            "marker": {
             "colorbar": {
              "outlinewidth": 0,
              "ticks": ""
             }
            },
            "type": "scattergl"
           }
          ],
          "scattermapbox": [
           {
            "marker": {
             "colorbar": {
              "outlinewidth": 0,
              "ticks": ""
             }
            },
            "type": "scattermapbox"
           }
          ],
          "scatterpolar": [
           {
            "marker": {
             "colorbar": {
              "outlinewidth": 0,
              "ticks": ""
             }
            },
            "type": "scatterpolar"
           }
          ],
          "scatterpolargl": [
           {
            "marker": {
             "colorbar": {
              "outlinewidth": 0,
              "ticks": ""
             }
            },
            "type": "scatterpolargl"
           }
          ],
          "scatterternary": [
           {
            "marker": {
             "colorbar": {
              "outlinewidth": 0,
              "ticks": ""
             }
            },
            "type": "scatterternary"
           }
          ],
          "surface": [
           {
            "colorbar": {
             "outlinewidth": 0,
             "ticks": ""
            },
            "colorscale": [
             [
              0,
              "#0d0887"
             ],
             [
              0.1111111111111111,
              "#46039f"
             ],
             [
              0.2222222222222222,
              "#7201a8"
             ],
             [
              0.3333333333333333,
              "#9c179e"
             ],
             [
              0.4444444444444444,
              "#bd3786"
             ],
             [
              0.5555555555555556,
              "#d8576b"
             ],
             [
              0.6666666666666666,
              "#ed7953"
             ],
             [
              0.7777777777777778,
              "#fb9f3a"
             ],
             [
              0.8888888888888888,
              "#fdca26"
             ],
             [
              1,
              "#f0f921"
             ]
            ],
            "type": "surface"
           }
          ],
          "table": [
           {
            "cells": {
             "fill": {
              "color": "#EBF0F8"
             },
             "line": {
              "color": "white"
             }
            },
            "header": {
             "fill": {
              "color": "#C8D4E3"
             },
             "line": {
              "color": "white"
             }
            },
            "type": "table"
           }
          ]
         },
         "layout": {
          "annotationdefaults": {
           "arrowcolor": "#2a3f5f",
           "arrowhead": 0,
           "arrowwidth": 1
          },
          "autotypenumbers": "strict",
          "coloraxis": {
           "colorbar": {
            "outlinewidth": 0,
            "ticks": ""
           }
          },
          "colorscale": {
           "diverging": [
            [
             0,
             "#8e0152"
            ],
            [
             0.1,
             "#c51b7d"
            ],
            [
             0.2,
             "#de77ae"
            ],
            [
             0.3,
             "#f1b6da"
            ],
            [
             0.4,
             "#fde0ef"
            ],
            [
             0.5,
             "#f7f7f7"
            ],
            [
             0.6,
             "#e6f5d0"
            ],
            [
             0.7,
             "#b8e186"
            ],
            [
             0.8,
             "#7fbc41"
            ],
            [
             0.9,
             "#4d9221"
            ],
            [
             1,
             "#276419"
            ]
           ],
           "sequential": [
            [
             0,
             "#0d0887"
            ],
            [
             0.1111111111111111,
             "#46039f"
            ],
            [
             0.2222222222222222,
             "#7201a8"
            ],
            [
             0.3333333333333333,
             "#9c179e"
            ],
            [
             0.4444444444444444,
             "#bd3786"
            ],
            [
             0.5555555555555556,
             "#d8576b"
            ],
            [
             0.6666666666666666,
             "#ed7953"
            ],
            [
             0.7777777777777778,
             "#fb9f3a"
            ],
            [
             0.8888888888888888,
             "#fdca26"
            ],
            [
             1,
             "#f0f921"
            ]
           ],
           "sequentialminus": [
            [
             0,
             "#0d0887"
            ],
            [
             0.1111111111111111,
             "#46039f"
            ],
            [
             0.2222222222222222,
             "#7201a8"
            ],
            [
             0.3333333333333333,
             "#9c179e"
            ],
            [
             0.4444444444444444,
             "#bd3786"
            ],
            [
             0.5555555555555556,
             "#d8576b"
            ],
            [
             0.6666666666666666,
             "#ed7953"
            ],
            [
             0.7777777777777778,
             "#fb9f3a"
            ],
            [
             0.8888888888888888,
             "#fdca26"
            ],
            [
             1,
             "#f0f921"
            ]
           ]
          },
          "colorway": [
           "#636efa",
           "#EF553B",
           "#00cc96",
           "#ab63fa",
           "#FFA15A",
           "#19d3f3",
           "#FF6692",
           "#B6E880",
           "#FF97FF",
           "#FECB52"
          ],
          "font": {
           "color": "#2a3f5f"
          },
          "geo": {
           "bgcolor": "white",
           "lakecolor": "white",
           "landcolor": "#E5ECF6",
           "showlakes": true,
           "showland": true,
           "subunitcolor": "white"
          },
          "hoverlabel": {
           "align": "left"
          },
          "hovermode": "closest",
          "mapbox": {
           "style": "light"
          },
          "paper_bgcolor": "white",
          "plot_bgcolor": "#E5ECF6",
          "polar": {
           "angularaxis": {
            "gridcolor": "white",
            "linecolor": "white",
            "ticks": ""
           },
           "bgcolor": "#E5ECF6",
           "radialaxis": {
            "gridcolor": "white",
            "linecolor": "white",
            "ticks": ""
           }
          },
          "scene": {
           "xaxis": {
            "backgroundcolor": "#E5ECF6",
            "gridcolor": "white",
            "gridwidth": 2,
            "linecolor": "white",
            "showbackground": true,
            "ticks": "",
            "zerolinecolor": "white"
           },
           "yaxis": {
            "backgroundcolor": "#E5ECF6",
            "gridcolor": "white",
            "gridwidth": 2,
            "linecolor": "white",
            "showbackground": true,
            "ticks": "",
            "zerolinecolor": "white"
           },
           "zaxis": {
            "backgroundcolor": "#E5ECF6",
            "gridcolor": "white",
            "gridwidth": 2,
            "linecolor": "white",
            "showbackground": true,
            "ticks": "",
            "zerolinecolor": "white"
           }
          },
          "shapedefaults": {
           "line": {
            "color": "#2a3f5f"
           }
          },
          "ternary": {
           "aaxis": {
            "gridcolor": "white",
            "linecolor": "white",
            "ticks": ""
           },
           "baxis": {
            "gridcolor": "white",
            "linecolor": "white",
            "ticks": ""
           },
           "bgcolor": "#E5ECF6",
           "caxis": {
            "gridcolor": "white",
            "linecolor": "white",
            "ticks": ""
           }
          },
          "title": {
           "x": 0.05
          },
          "xaxis": {
           "automargin": true,
           "gridcolor": "white",
           "linecolor": "white",
           "ticks": "",
           "title": {
            "standoff": 15
           },
           "zerolinecolor": "white",
           "zerolinewidth": 2
          },
          "yaxis": {
           "automargin": true,
           "gridcolor": "white",
           "linecolor": "white",
           "ticks": "",
           "title": {
            "standoff": 15
           },
           "zerolinecolor": "white",
           "zerolinewidth": 2
          }
         }
        },
        "xaxis": {
         "anchor": "y",
         "autorange": true,
         "domain": [
          0,
          0.235
         ],
         "range": [
          0.30102999566398114,
          2.107209969647868
         ],
         "title": {
          "text": "taps"
         },
         "type": "log"
        },
        "xaxis2": {
         "anchor": "y2",
         "autorange": true,
         "domain": [
          0.255,
          0.49
         ],
         "matches": "x",
         "range": [
          0.30102999566398114,
          2.107209969647868
         ],
         "title": {
          "text": "taps"
         },
         "type": "log"
        },
        "xaxis3": {
         "anchor": "y3",
         "autorange": true,
         "domain": [
          0.51,
          0.745
         ],
         "matches": "x",
         "range": [
          0.30102999566398114,
          2.107209969647868
         ],
         "title": {
          "text": "taps"
         },
         "type": "log"
        },
        "xaxis4": {
         "anchor": "y4",
         "autorange": true,
         "domain": [
          0.7649999999999999,
          0.9999999999999999
         ],
         "matches": "x",
         "range": [
          0.30102999566398114,
          2.107209969647868
         ],
         "title": {
          "text": "taps"
         },
         "type": "log"
        },
        "yaxis": {
         "anchor": "x",
         "autorange": true,
         "domain": [
          0,
          1
         ],
         "range": [
          -41.333333333333336,
          785.3333333333334
         ],
         "title": {
          "text": "dsps"
         },
         "type": "linear"
        },
        "yaxis2": {
         "anchor": "x2",
         "autorange": true,
         "domain": [
          0,
          1
         ],
         "matches": "y",
         "range": [
          -41.333333333333336,
          785.3333333333334
         ],
         "showticklabels": false,
         "type": "linear"
        },
        "yaxis3": {
         "anchor": "x3",
         "autorange": true,
         "domain": [
          0,
          1
         ],
         "matches": "y",
         "range": [
          -41.333333333333336,
          785.3333333333334
         ],
         "showticklabels": false,
         "type": "linear"
        },
        "yaxis4": {
         "anchor": "x4",
         "autorange": true,
         "domain": [
          0,
          1
         ],
         "matches": "y",
         "range": [
          -41.333333333333336,
          785.3333333333334
         ],
         "showticklabels": false,
         "type": "linear"
        }
       }
      },
      "image/png": "[encoded data removed]",
      "text/html": [
       "<div>                            <div id=\"8d18c5a8-337b-44fa-b6bb-222f43c0a22a\" class=\"plotly-graph-div\" style=\"height:525px; width:100%;\"></div>            <script type=\"text/javascript\">                require([\"plotly\"], function(Plotly) {                    window.PLOTLYENV=window.PLOTLYENV || {};                                    if (document.getElementById(\"8d18c5a8-337b-44fa-b6bb-222f43c0a22a\")) {                    Plotly.newPlot(                        \"8d18c5a8-337b-44fa-b6bb-222f43c0a22a\",                        [{\"hovertemplate\": \"structure=PolyDir<br>parallelism=2<br>taps=%{x}<br>dsps=%{y}<extra></extra>\", \"legendgroup\": \"PolyDir\", \"line\": {\"color\": \"#636efa\", \"dash\": \"solid\"}, \"mode\": \"lines\", \"name\": \"PolyDir\", \"orientation\": \"v\", \"showlegend\": true, \"type\": \"scatter\", \"x\": [2, 4, 8, 16], \"xaxis\": \"x\", \"y\": [4, 6, 8, 16], \"yaxis\": \"y\"}, {\"hovertemplate\": \"structure=PolyDir<br>parallelism=4<br>taps=%{x}<br>dsps=%{y}<extra></extra>\", \"legendgroup\": \"PolyDir\", \"line\": {\"color\": \"#636efa\", \"dash\": \"solid\"}, \"mode\": \"lines\", \"name\": \"PolyDir\", \"orientation\": \"v\", \"showlegend\": false, \"type\": \"scatter\", \"x\": [4, 8, 16, 32], \"xaxis\": \"x2\", \"y\": [16, 24, 32, 54], \"yaxis\": \"y2\"}, {\"hovertemplate\": \"structure=PolyDir<br>parallelism=8<br>taps=%{x}<br>dsps=%{y}<extra></extra>\", \"legendgroup\": \"PolyDir\", \"line\": {\"color\": \"#636efa\", \"dash\": \"solid\"}, \"mode\": \"lines\", \"name\": \"PolyDir\", \"orientation\": \"v\", \"showlegend\": false, \"type\": \"scatter\", \"x\": [8, 16, 32, 64], \"xaxis\": \"x3\", \"y\": [64, 75, 128, 181], \"yaxis\": \"y3\"}, {\"hovertemplate\": \"structure=PolyDir<br>parallelism=16<br>taps=%{x}<br>dsps=%{y}<extra></extra>\", \"legendgroup\": \"PolyDir\", \"line\": {\"color\": \"#636efa\", \"dash\": \"solid\"}, \"mode\": \"lines\", \"name\": \"PolyDir\", \"orientation\": \"v\", \"showlegend\": false, \"type\": \"scatter\", \"x\": [16, 32, 64, 128], \"xaxis\": \"x4\", \"y\": [256, 301, 501, 744], \"yaxis\": \"y4\"}, {\"hovertemplate\": \"structure=PolyMcm<br>parallelism=2<br>taps=%{x}<br>dsps=%{y}<extra></extra>\", \"legendgroup\": \"PolyMcm\", \"line\": {\"color\": \"#EF553B\", \"dash\": \"solid\"}, \"mode\": \"lines\", \"name\": \"PolyMcm\", \"orientation\": \"v\", \"showlegend\": true, \"type\": \"scatter\", \"x\": [2, 4, 8, 16], \"xaxis\": \"x\", \"y\": [0, 0, 0, 0], \"yaxis\": \"y\"}, {\"hovertemplate\": \"structure=PolyMcm<br>parallelism=4<br>taps=%{x}<br>dsps=%{y}<extra></extra>\", \"legendgroup\": \"PolyMcm\", \"line\": {\"color\": \"#EF553B\", \"dash\": \"solid\"}, \"mode\": \"lines\", \"name\": \"PolyMcm\", \"orientation\": \"v\", \"showlegend\": false, \"type\": \"scatter\", \"x\": [4, 8, 16, 32], \"xaxis\": \"x2\", \"y\": [0, 0, 0, 0], \"yaxis\": \"y2\"}, {\"hovertemplate\": \"structure=PolyMcm<br>parallelism=8<br>taps=%{x}<br>dsps=%{y}<extra></extra>\", \"legendgroup\": \"PolyMcm\", \"line\": {\"color\": \"#EF553B\", \"dash\": \"solid\"}, \"mode\": \"lines\", \"name\": \"PolyMcm\", \"orientation\": \"v\", \"showlegend\": false, \"type\": \"scatter\", \"x\": [8, 16, 32, 64], \"xaxis\": \"x3\", \"y\": [0, 0, 0, 0], \"yaxis\": \"y3\"}, {\"hovertemplate\": \"structure=PolyMcm<br>parallelism=16<br>taps=%{x}<br>dsps=%{y}<extra></extra>\", \"legendgroup\": \"PolyMcm\", \"line\": {\"color\": \"#EF553B\", \"dash\": \"solid\"}, \"mode\": \"lines\", \"name\": \"PolyMcm\", \"orientation\": \"v\", \"showlegend\": false, \"type\": \"scatter\", \"x\": [16, 32, 64, 128], \"xaxis\": \"x4\", \"y\": [0, 0, 0, 0], \"yaxis\": \"y4\"}, {\"hovertemplate\": \"structure=FfaDir<br>parallelism=2<br>taps=%{x}<br>dsps=%{y}<extra></extra>\", \"legendgroup\": \"FfaDir\", \"line\": {\"color\": \"#00cc96\", \"dash\": \"solid\"}, \"mode\": \"lines\", \"name\": \"FfaDir\", \"orientation\": \"v\", \"showlegend\": true, \"type\": \"scatter\", \"x\": [2, 4, 8, 16], \"xaxis\": \"x\", \"y\": [0, 0, 0, 0], \"yaxis\": \"y\"}, {\"hovertemplate\": \"structure=FfaDir<br>parallelism=4<br>taps=%{x}<br>dsps=%{y}<extra></extra>\", \"legendgroup\": \"FfaDir\", \"line\": {\"color\": \"#00cc96\", \"dash\": \"solid\"}, \"mode\": \"lines\", \"name\": \"FfaDir\", \"orientation\": \"v\", \"showlegend\": false, \"type\": \"scatter\", \"x\": [4, 8, 16, 32], \"xaxis\": \"x2\", \"y\": [0, 0, 0, 0], \"yaxis\": \"y2\"}, {\"hovertemplate\": \"structure=FfaDir<br>parallelism=8<br>taps=%{x}<br>dsps=%{y}<extra></extra>\", \"legendgroup\": \"FfaDir\", \"line\": {\"color\": \"#00cc96\", \"dash\": \"solid\"}, \"mode\": \"lines\", \"name\": \"FfaDir\", \"orientation\": \"v\", \"showlegend\": false, \"type\": \"scatter\", \"x\": [8, 16, 32, 64], \"xaxis\": \"x3\", \"y\": [0, 0, 0, 0], \"yaxis\": \"y3\"}, {\"hovertemplate\": \"structure=FfaDir<br>parallelism=16<br>taps=%{x}<br>dsps=%{y}<extra></extra>\", \"legendgroup\": \"FfaDir\", \"line\": {\"color\": \"#00cc96\", \"dash\": \"solid\"}, \"mode\": \"lines\", \"name\": \"FfaDir\", \"orientation\": \"v\", \"showlegend\": false, \"type\": \"scatter\", \"x\": [16, 32, 64, 128], \"xaxis\": \"x4\", \"y\": [0, 0, 0, 0], \"yaxis\": \"y4\"}, {\"hovertemplate\": \"structure=FfaMcm<br>parallelism=2<br>taps=%{x}<br>dsps=%{y}<extra></extra>\", \"legendgroup\": \"FfaMcm\", \"line\": {\"color\": \"#ab63fa\", \"dash\": \"solid\"}, \"mode\": \"lines\", \"name\": \"FfaMcm\", \"orientation\": \"v\", \"showlegend\": true, \"type\": \"scatter\", \"x\": [2, 4, 8, 16], \"xaxis\": \"x\", \"y\": [0, 0, 0, 0], \"yaxis\": \"y\"}, {\"hovertemplate\": \"structure=FfaMcm<br>parallelism=4<br>taps=%{x}<br>dsps=%{y}<extra></extra>\", \"legendgroup\": \"FfaMcm\", \"line\": {\"color\": \"#ab63fa\", \"dash\": \"solid\"}, \"mode\": \"lines\", \"name\": \"FfaMcm\", \"orientation\": \"v\", \"showlegend\": false, \"type\": \"scatter\", \"x\": [4, 8, 16, 32], \"xaxis\": \"x2\", \"y\": [0, 0, 0, 0], \"yaxis\": \"y2\"}, {\"hovertemplate\": \"structure=FfaMcm<br>parallelism=8<br>taps=%{x}<br>dsps=%{y}<extra></extra>\", \"legendgroup\": \"FfaMcm\", \"line\": {\"color\": \"#ab63fa\", \"dash\": \"solid\"}, \"mode\": \"lines\", \"name\": \"FfaMcm\", \"orientation\": \"v\", \"showlegend\": false, \"type\": \"scatter\", \"x\": [8, 16, 32, 64], \"xaxis\": \"x3\", \"y\": [0, 0, 0, 0], \"yaxis\": \"y3\"}, {\"hovertemplate\": \"structure=FfaMcm<br>parallelism=16<br>taps=%{x}<br>dsps=%{y}<extra></extra>\", \"legendgroup\": \"FfaMcm\", \"line\": {\"color\": \"#ab63fa\", \"dash\": \"solid\"}, \"mode\": \"lines\", \"name\": \"FfaMcm\", \"orientation\": \"v\", \"showlegend\": false, \"type\": \"scatter\", \"x\": [16, 32, 64, 128], \"xaxis\": \"x4\", \"y\": [0, 0, 0, 0], \"yaxis\": \"y4\"}],                        {\"annotations\": [{\"font\": {}, \"showarrow\": false, \"text\": \"parallelism=2\", \"x\": 0.1175, \"xanchor\": \"center\", \"xref\": \"paper\", \"y\": 1.0, \"yanchor\": \"bottom\", \"yref\": \"paper\"}, {\"font\": {}, \"showarrow\": false, \"text\": \"parallelism=4\", \"x\": 0.3725, \"xanchor\": \"center\", \"xref\": \"paper\", \"y\": 1.0, \"yanchor\": \"bottom\", \"yref\": \"paper\"}, {\"font\": {}, \"showarrow\": false, \"text\": \"parallelism=8\", \"x\": 0.6275, \"xanchor\": \"center\", \"xref\": \"paper\", \"y\": 1.0, \"yanchor\": \"bottom\", \"yref\": \"paper\"}, {\"font\": {}, \"showarrow\": false, \"text\": \"parallelism=16\", \"x\": 0.8824999999999998, \"xanchor\": \"center\", \"xref\": \"paper\", \"y\": 1.0, \"yanchor\": \"bottom\", \"yref\": \"paper\"}], \"legend\": {\"title\": {\"text\": \"structure\"}, \"tracegroupgap\": 0}, \"margin\": {\"t\": 60}, \"template\": {\"data\": {\"bar\": [{\"error_x\": {\"color\": \"#2a3f5f\"}, \"error_y\": {\"color\": \"#2a3f5f\"}, \"marker\": {\"line\": {\"color\": \"#E5ECF6\", \"width\": 0.5}}, \"type\": \"bar\"}], \"barpolar\": [{\"marker\": {\"line\": {\"color\": \"#E5ECF6\", \"width\": 0.5}}, \"type\": \"barpolar\"}], \"carpet\": [{\"aaxis\": {\"endlinecolor\": \"#2a3f5f\", \"gridcolor\": \"white\", \"linecolor\": \"white\", \"minorgridcolor\": \"white\", \"startlinecolor\": \"#2a3f5f\"}, \"baxis\": {\"endlinecolor\": \"#2a3f5f\", \"gridcolor\": \"white\", \"linecolor\": \"white\", \"minorgridcolor\": \"white\", \"startlinecolor\": \"#2a3f5f\"}, \"type\": \"carpet\"}], \"choropleth\": [{\"colorbar\": {\"outlinewidth\": 0, \"ticks\": \"\"}, \"type\": \"choropleth\"}], \"contour\": [{\"colorbar\": {\"outlinewidth\": 0, \"ticks\": \"\"}, \"colorscale\": [[0.0, \"#0d0887\"], [0.1111111111111111, \"#46039f\"], [0.2222222222222222, \"#7201a8\"], [0.3333333333333333, \"#9c179e\"], [0.4444444444444444, \"#bd3786\"], [0.5555555555555556, \"#d8576b\"], [0.6666666666666666, \"#ed7953\"], [0.7777777777777778, \"#fb9f3a\"], [0.8888888888888888, \"#fdca26\"], [1.0, \"#f0f921\"]], \"type\": \"contour\"}], \"contourcarpet\": [{\"colorbar\": {\"outlinewidth\": 0, \"ticks\": \"\"}, \"type\": \"contourcarpet\"}], \"heatmap\": [{\"colorbar\": {\"outlinewidth\": 0, \"ticks\": \"\"}, \"colorscale\": [[0.0, \"#0d0887\"], [0.1111111111111111, \"#46039f\"], [0.2222222222222222, \"#7201a8\"], [0.3333333333333333, \"#9c179e\"], [0.4444444444444444, \"#bd3786\"], [0.5555555555555556, \"#d8576b\"], [0.6666666666666666, \"#ed7953\"], [0.7777777777777778, \"#fb9f3a\"], [0.8888888888888888, \"#fdca26\"], [1.0, \"#f0f921\"]], \"type\": \"heatmap\"}], \"heatmapgl\": [{\"colorbar\": {\"outlinewidth\": 0, \"ticks\": \"\"}, \"colorscale\": [[0.0, \"#0d0887\"], [0.1111111111111111, \"#46039f\"], [0.2222222222222222, \"#7201a8\"], [0.3333333333333333, \"#9c179e\"], [0.4444444444444444, \"#bd3786\"], [0.5555555555555556, \"#d8576b\"], [0.6666666666666666, \"#ed7953\"], [0.7777777777777778, \"#fb9f3a\"], [0.8888888888888888, \"#fdca26\"], [1.0, \"#f0f921\"]], \"type\": \"heatmapgl\"}], \"histogram\": [{\"marker\": {\"colorbar\": {\"outlinewidth\": 0, \"ticks\": \"\"}}, \"type\": \"histogram\"}], \"histogram2d\": [{\"colorbar\": {\"outlinewidth\": 0, \"ticks\": \"\"}, \"colorscale\": [[0.0, \"#0d0887\"], [0.1111111111111111, \"#46039f\"], [0.2222222222222222, \"#7201a8\"], [0.3333333333333333, \"#9c179e\"], [0.4444444444444444, \"#bd3786\"], [0.5555555555555556, \"#d8576b\"], [0.6666666666666666, \"#ed7953\"], [0.7777777777777778, \"#fb9f3a\"], [0.8888888888888888, \"#fdca26\"], [1.0, \"#f0f921\"]], \"type\": \"histogram2d\"}], \"histogram2dcontour\": [{\"colorbar\": {\"outlinewidth\": 0, \"ticks\": \"\"}, \"colorscale\": [[0.0, \"#0d0887\"], [0.1111111111111111, \"#46039f\"], [0.2222222222222222, \"#7201a8\"], [0.3333333333333333, \"#9c179e\"], [0.4444444444444444, \"#bd3786\"], [0.5555555555555556, \"#d8576b\"], [0.6666666666666666, \"#ed7953\"], [0.7777777777777778, \"#fb9f3a\"], [0.8888888888888888, \"#fdca26\"], [1.0, \"#f0f921\"]], \"type\": \"histogram2dcontour\"}], \"mesh3d\": [{\"colorbar\": {\"outlinewidth\": 0, \"ticks\": \"\"}, \"type\": \"mesh3d\"}], \"parcoords\": [{\"line\": {\"colorbar\": {\"outlinewidth\": 0, \"ticks\": \"\"}}, \"type\": \"parcoords\"}], \"pie\": [{\"automargin\": true, \"type\": \"pie\"}], \"scatter\": [{\"marker\": {\"colorbar\": {\"outlinewidth\": 0, \"ticks\": \"\"}}, \"type\": \"scatter\"}], \"scatter3d\": [{\"line\": {\"colorbar\": {\"outlinewidth\": 0, \"ticks\": \"\"}}, \"marker\": {\"colorbar\": {\"outlinewidth\": 0, \"ticks\": \"\"}}, \"type\": \"scatter3d\"}], \"scattercarpet\": [{\"marker\": {\"colorbar\": {\"outlinewidth\": 0, \"ticks\": \"\"}}, \"type\": \"scattercarpet\"}], \"scattergeo\": [{\"marker\": {\"colorbar\": {\"outlinewidth\": 0, \"ticks\": \"\"}}, \"type\": \"scattergeo\"}], \"scattergl\": [{\"marker\": {\"colorbar\": {\"outlinewidth\": 0, \"ticks\": \"\"}}, \"type\": \"scattergl\"}], \"scattermapbox\": [{\"marker\": {\"colorbar\": {\"outlinewidth\": 0, \"ticks\": \"\"}}, \"type\": \"scattermapbox\"}], \"scatterpolar\": [{\"marker\": {\"colorbar\": {\"outlinewidth\": 0, \"ticks\": \"\"}}, \"type\": \"scatterpolar\"}], \"scatterpolargl\": [{\"marker\": {\"colorbar\": {\"outlinewidth\": 0, \"ticks\": \"\"}}, \"type\": \"scatterpolargl\"}], \"scatterternary\": [{\"marker\": {\"colorbar\": {\"outlinewidth\": 0, \"ticks\": \"\"}}, \"type\": \"scatterternary\"}], \"surface\": [{\"colorbar\": {\"outlinewidth\": 0, \"ticks\": \"\"}, \"colorscale\": [[0.0, \"#0d0887\"], [0.1111111111111111, \"#46039f\"], [0.2222222222222222, \"#7201a8\"], [0.3333333333333333, \"#9c179e\"], [0.4444444444444444, \"#bd3786\"], [0.5555555555555556, \"#d8576b\"], [0.6666666666666666, \"#ed7953\"], [0.7777777777777778, \"#fb9f3a\"], [0.8888888888888888, \"#fdca26\"], [1.0, \"#f0f921\"]], \"type\": \"surface\"}], \"table\": [{\"cells\": {\"fill\": {\"color\": \"#EBF0F8\"}, \"line\": {\"color\": \"white\"}}, \"header\": {\"fill\": {\"color\": \"#C8D4E3\"}, \"line\": {\"color\": \"white\"}}, \"type\": \"table\"}]}, \"layout\": {\"annotationdefaults\": {\"arrowcolor\": \"#2a3f5f\", \"arrowhead\": 0, \"arrowwidth\": 1}, \"autotypenumbers\": \"strict\", \"coloraxis\": {\"colorbar\": {\"outlinewidth\": 0, \"ticks\": \"\"}}, \"colorscale\": {\"diverging\": [[0, \"#8e0152\"], [0.1, \"#c51b7d\"], [0.2, \"#de77ae\"], [0.3, \"#f1b6da\"], [0.4, \"#fde0ef\"], [0.5, \"#f7f7f7\"], [0.6, \"#e6f5d0\"], [0.7, \"#b8e186\"], [0.8, \"#7fbc41\"], [0.9, \"#4d9221\"], [1, \"#276419\"]], \"sequential\": [[0.0, \"#0d0887\"], [0.1111111111111111, \"#46039f\"], [0.2222222222222222, \"#7201a8\"], [0.3333333333333333, \"#9c179e\"], [0.4444444444444444, \"#bd3786\"], [0.5555555555555556, \"#d8576b\"], [0.6666666666666666, \"#ed7953\"], [0.7777777777777778, \"#fb9f3a\"], [0.8888888888888888, \"#fdca26\"], [1.0, \"#f0f921\"]], \"sequentialminus\": [[0.0, \"#0d0887\"], [0.1111111111111111, \"#46039f\"], [0.2222222222222222, \"#7201a8\"], [0.3333333333333333, \"#9c179e\"], [0.4444444444444444, \"#bd3786\"], [0.5555555555555556, \"#d8576b\"], [0.6666666666666666, \"#ed7953\"], [0.7777777777777778, \"#fb9f3a\"], [0.8888888888888888, \"#fdca26\"], [1.0, \"#f0f921\"]]}, \"colorway\": [\"#636efa\", \"#EF553B\", \"#00cc96\", \"#ab63fa\", \"#FFA15A\", \"#19d3f3\", \"#FF6692\", \"#B6E880\", \"#FF97FF\", \"#FECB52\"], \"font\": {\"color\": \"#2a3f5f\"}, \"geo\": {\"bgcolor\": \"white\", \"lakecolor\": \"white\", \"landcolor\": \"#E5ECF6\", \"showlakes\": true, \"showland\": true, \"subunitcolor\": \"white\"}, \"hoverlabel\": {\"align\": \"left\"}, \"hovermode\": \"closest\", \"mapbox\": {\"style\": \"light\"}, \"paper_bgcolor\": \"white\", \"plot_bgcolor\": \"#E5ECF6\", \"polar\": {\"angularaxis\": {\"gridcolor\": \"white\", \"linecolor\": \"white\", \"ticks\": \"\"}, \"bgcolor\": \"#E5ECF6\", \"radialaxis\": {\"gridcolor\": \"white\", \"linecolor\": \"white\", \"ticks\": \"\"}}, \"scene\": {\"xaxis\": {\"backgroundcolor\": \"#E5ECF6\", \"gridcolor\": \"white\", \"gridwidth\": 2, \"linecolor\": \"white\", \"showbackground\": true, \"ticks\": \"\", \"zerolinecolor\": \"white\"}, \"yaxis\": {\"backgroundcolor\": \"#E5ECF6\", \"gridcolor\": \"white\", \"gridwidth\": 2, \"linecolor\": \"white\", \"showbackground\": true, \"ticks\": \"\", \"zerolinecolor\": \"white\"}, \"zaxis\": {\"backgroundcolor\": \"#E5ECF6\", \"gridcolor\": \"white\", \"gridwidth\": 2, \"linecolor\": \"white\", \"showbackground\": true, \"ticks\": \"\", \"zerolinecolor\": \"white\"}}, \"shapedefaults\": {\"line\": {\"color\": \"#2a3f5f\"}}, \"ternary\": {\"aaxis\": {\"gridcolor\": \"white\", \"linecolor\": \"white\", \"ticks\": \"\"}, \"baxis\": {\"gridcolor\": \"white\", \"linecolor\": \"white\", \"ticks\": \"\"}, \"bgcolor\": \"#E5ECF6\", \"caxis\": {\"gridcolor\": \"white\", \"linecolor\": \"white\", \"ticks\": \"\"}}, \"title\": {\"x\": 0.05}, \"xaxis\": {\"automargin\": true, \"gridcolor\": \"white\", \"linecolor\": \"white\", \"ticks\": \"\", \"title\": {\"standoff\": 15}, \"zerolinecolor\": \"white\", \"zerolinewidth\": 2}, \"yaxis\": {\"automargin\": true, \"gridcolor\": \"white\", \"linecolor\": \"white\", \"ticks\": \"\", \"title\": {\"standoff\": 15}, \"zerolinecolor\": \"white\", \"zerolinewidth\": 2}}}, \"xaxis\": {\"anchor\": \"y\", \"domain\": [0.0, 0.235], \"title\": {\"text\": \"taps\"}, \"type\": \"log\"}, \"xaxis2\": {\"anchor\": \"y2\", \"domain\": [0.255, 0.49], \"matches\": \"x\", \"title\": {\"text\": \"taps\"}, \"type\": \"log\"}, \"xaxis3\": {\"anchor\": \"y3\", \"domain\": [0.51, 0.745], \"matches\": \"x\", \"title\": {\"text\": \"taps\"}, \"type\": \"log\"}, \"xaxis4\": {\"anchor\": \"y4\", \"domain\": [0.7649999999999999, 0.9999999999999999], \"matches\": \"x\", \"title\": {\"text\": \"taps\"}, \"type\": \"log\"}, \"yaxis\": {\"anchor\": \"x\", \"domain\": [0.0, 1.0], \"title\": {\"text\": \"dsps\"}}, \"yaxis2\": {\"anchor\": \"x2\", \"domain\": [0.0, 1.0], \"matches\": \"y\", \"showticklabels\": false}, \"yaxis3\": {\"anchor\": \"x3\", \"domain\": [0.0, 1.0], \"matches\": \"y\", \"showticklabels\": false}, \"yaxis4\": {\"anchor\": \"x4\", \"domain\": [0.0, 1.0], \"matches\": \"y\", \"showticklabels\": false}},                        {\"responsive\": true}                    ).then(function(){\n",
       "                            \n",
       "var gd = document.getElementById('8d18c5a8-337b-44fa-b6bb-222f43c0a22a');\n",
       "var x = new MutationObserver(function (mutations, observer) {{\n",
       "        var display = window.getComputedStyle(gd).display;\n",
       "        if (!display || display === 'none') {{\n",
       "            console.log([gd, 'removed!']);\n",
       "            Plotly.purge(gd);\n",
       "            observer.disconnect();\n",
       "        }}\n",
       "}});\n",
       "\n",
       "// Listen for the removal of the full notebook cells\n",
       "var notebookContainer = gd.closest('#notebook-container');\n",
       "if (notebookContainer) {{\n",
       "    x.observe(notebookContainer, {childList: true});\n",
       "}}\n",
       "\n",
       "// Listen for the clearing of the current output cell\n",
       "var outputEl = gd.closest('.output');\n",
       "if (outputEl) {{\n",
       "    x.observe(outputEl, {childList: true});\n",
       "}}\n",
       "\n",
       "                        })                };                });            </script>        </div>"
      ]
     },
     "metadata": {},
     "output_type": "display_data"
    }
   ],
   "source": [
    "import plotly.express as px\n",
    "display(px.line(df, x='taps', facet_col='parallelism',y='clbs', color='structure', log_x=True))\n",
    "display(px.line(df, x='taps', facet_col='parallelism',y='luts', color='structure', log_x=True))\n",
    "display(px.line(df, x='taps', facet_col='parallelism',y='regs', color='structure', log_x=True))\n",
    "display(px.line(df, x='taps', facet_col='parallelism',y='dsps', color='structure', log_x=True))"
   ]
  },
  {
   "cell_type": "code",
   "execution_count": 16,
   "metadata": {},
   "outputs": [],
   "source": [
    "def run_logicore_synth(test_group, ws, parallelism, fclk=500.0):\n",
    "    \n",
    "    print(f'Starting {test_group}/P{parallelism}_{ws.name}')\n",
    "    synth_dir = f'./outputs/{test_group}/P{parallelism}_{ws.name}'\n",
    "    \n",
    "    !mkdir -p {synth_dir}\n",
    "    !cp -r ./logicore_synth/* {synth_dir}/\n",
    "    \n",
    "    # Write coeffs file\n",
    "    with open(f'{synth_dir}/weights.coe', 'w') as f:\n",
    "            f.write(ws.coeffs_coe)\n",
    "            \n",
    "    # Write timing constraints\n",
    "    with open(f'{synth_dir}/synth.xdc', 'w') as f:\n",
    "        f.write(f'create_clock -period {1000/fclk} -name aclk [get_ports aclk]')\n",
    "    \n",
    "    # Set parallelism in build script\n",
    "    with fileinput.FileInput(f'{synth_dir}/synth.tcl', inplace=True) as f:\n",
    "        for line in f:\n",
    "            print(line.replace('CONFIG.Sample_Frequency {{{fclk}}}', f'CONFIG.Sample_Frequency {{{fclk*parallelism}}}'), end='')\n",
    "        \n",
    "    # Go!\n",
    "    !nix-shell --command 'make -C {synth_dir}' ../shell.nix &> {synth_dir}/build.log"
   ]
  },
  {
   "cell_type": "code",
   "execution_count": 26,
   "metadata": {},
   "outputs": [
    {
     "data": {
      "text/plain": [
       "8888.888888888889"
      ]
     },
     "execution_count": 26,
     "metadata": {},
     "output_type": "execute_result"
    }
   ],
   "source": [
    "1000/(1.25+0.55)*16"
   ]
  },
  {
   "cell_type": "code",
   "execution_count": 12,
   "metadata": {},
   "outputs": [
    {
     "name": "stdout",
     "output_type": "stream",
     "text": [
      "Starting ssr_standard_hb/LP_N2_F0-0.3-0.4-1.0_CB16\n",
      "Starting ssr_standard_hb/LP_N4_F0-0.3-0.4-1.0_CB16\n",
      "Starting ssr_standard_hb/LP_N8_F0-0.3-0.4-1.0_CB16\n",
      "Starting ssr_standard_hb/LP_N16_F0-0.3-0.4-1.0_CB16\n",
      "Starting ssr_standard_hb/LP_N32_F0-0.3-0.4-1.0_CB16\n",
      "Starting ssr_standard_hb/LP_N64_F0-0.3-0.4-1.0_CB16\n",
      "Starting ssr_standard_hb/LP_N128_F0-0.3-0.4-1.0_CB16\n",
      "Starting ssr_standard_hb/LP_N4_F0-0.3-0.4-1.0_CB16\n",
      "Starting ssr_standard_hb/LP_N8_F0-0.3-0.4-1.0_CB16\n",
      "Starting ssr_standard_hb/LP_N16_F0-0.3-0.4-1.0_CB16\n",
      "Starting ssr_standard_hb/LP_N32_F0-0.3-0.4-1.0_CB16\n",
      "Starting ssr_standard_hb/LP_N64_F0-0.3-0.4-1.0_CB16\n",
      "Starting ssr_standard_hb/LP_N128_F0-0.3-0.4-1.0_CB16\n",
      "Starting ssr_standard_hb/LP_N8_F0-0.3-0.4-1.0_CB16\n",
      "Starting ssr_standard_hb/LP_N16_F0-0.3-0.4-1.0_CB16\n",
      "Starting ssr_standard_hb/LP_N32_F0-0.3-0.4-1.0_CB16\n",
      "Starting ssr_standard_hb/LP_N64_F0-0.3-0.4-1.0_CB16\n",
      "Starting ssr_standard_hb/LP_N128_F0-0.3-0.4-1.0_CB16\n",
      "Starting ssr_standard_hb/LP_N16_F0-0.3-0.4-1.0_CB16\n",
      "Starting ssr_standard_hb/LP_N32_F0-0.3-0.4-1.0_CB16\n",
      "Starting ssr_standard_hb/LP_N64_F0-0.3-0.4-1.0_CB16\n",
      "Starting ssr_standard_hb/LP_N128_F0-0.3-0.4-1.0_CB16\n"
     ]
    }
   ],
   "source": [
    "for parallelism in [2,4,8,16]:\n",
    "    for taps in [2,4,8,16,32,64,128]:\n",
    "        if parallelism > taps:\n",
    "            continue\n",
    "        ws = Coeffs(FiltType.LP, taps, [0,0.3,0.4,1.0], 16, half_band=True)\n",
    "        run_logicore_synth('ssr_standard_hb', ws, parallelism)"
   ]
  },
  {
   "cell_type": "code",
   "execution_count": 13,
   "metadata": {},
   "outputs": [
    {
     "name": "stdout",
     "output_type": "stream",
     "text": [
      "Starting ssr_standard_minphase/LP_N2_F0-0.3-0.4-1.0_CB16\n",
      "Starting ssr_standard_minphase/LP_N4_F0-0.3-0.4-1.0_CB16\n",
      "Starting ssr_standard_minphase/LP_N8_F0-0.3-0.4-1.0_CB16\n",
      "Starting ssr_standard_minphase/LP_N16_F0-0.3-0.4-1.0_CB16\n",
      "Starting ssr_standard_minphase/LP_N32_F0-0.3-0.4-1.0_CB16\n",
      "Starting ssr_standard_minphase/LP_N64_F0-0.3-0.4-1.0_CB16\n",
      "Starting ssr_standard_minphase/LP_N128_F0-0.3-0.4-1.0_CB16\n",
      "Starting ssr_standard_minphase/LP_N4_F0-0.3-0.4-1.0_CB16\n",
      "Starting ssr_standard_minphase/LP_N8_F0-0.3-0.4-1.0_CB16\n",
      "Starting ssr_standard_minphase/LP_N16_F0-0.3-0.4-1.0_CB16\n",
      "Starting ssr_standard_minphase/LP_N32_F0-0.3-0.4-1.0_CB16\n",
      "Starting ssr_standard_minphase/LP_N64_F0-0.3-0.4-1.0_CB16\n",
      "Starting ssr_standard_minphase/LP_N128_F0-0.3-0.4-1.0_CB16\n",
      "Starting ssr_standard_minphase/LP_N8_F0-0.3-0.4-1.0_CB16\n",
      "Starting ssr_standard_minphase/LP_N16_F0-0.3-0.4-1.0_CB16\n",
      "Starting ssr_standard_minphase/LP_N32_F0-0.3-0.4-1.0_CB16\n",
      "Starting ssr_standard_minphase/LP_N64_F0-0.3-0.4-1.0_CB16\n",
      "Starting ssr_standard_minphase/LP_N128_F0-0.3-0.4-1.0_CB16\n",
      "Starting ssr_standard_minphase/LP_N16_F0-0.3-0.4-1.0_CB16\n",
      "Starting ssr_standard_minphase/LP_N32_F0-0.3-0.4-1.0_CB16\n",
      "Starting ssr_standard_minphase/LP_N64_F0-0.3-0.4-1.0_CB16\n",
      "Starting ssr_standard_minphase/LP_N128_F0-0.3-0.4-1.0_CB16\n"
     ]
    }
   ],
   "source": [
    "for parallelism in [2,4,8,16]:\n",
    "    for taps in [2,4,8,16,32,64,128]:\n",
    "        if parallelism > taps:\n",
    "            continue\n",
    "        ws = Coeffs(FiltType.LP, taps, [0,0.3,0.4,1.0], 16, min_phase=True)\n",
    "        run_logicore_synth('ssr_standard_minphase', ws, parallelism)"
   ]
  },
  {
   "cell_type": "code",
   "execution_count": 14,
   "metadata": {},
   "outputs": [
    {
     "name": "stdout",
     "output_type": "stream",
     "text": [
      "Starting ssr_standard_type1/LP_N2_F0-0.3-0.4-1.0_CB16\n",
      "Starting ssr_standard_type1/LP_N4_F0-0.3-0.4-1.0_CB16\n",
      "Starting ssr_standard_type1/LP_N8_F0-0.3-0.4-1.0_CB16\n",
      "Starting ssr_standard_type1/LP_N16_F0-0.3-0.4-1.0_CB16\n",
      "Starting ssr_standard_type1/LP_N32_F0-0.3-0.4-1.0_CB16\n",
      "Starting ssr_standard_type1/LP_N64_F0-0.3-0.4-1.0_CB16\n",
      "Starting ssr_standard_type1/LP_N128_F0-0.3-0.4-1.0_CB16\n",
      "Starting ssr_standard_type1/LP_N4_F0-0.3-0.4-1.0_CB16\n",
      "Starting ssr_standard_type1/LP_N8_F0-0.3-0.4-1.0_CB16\n",
      "Starting ssr_standard_type1/LP_N16_F0-0.3-0.4-1.0_CB16\n",
      "Starting ssr_standard_type1/LP_N32_F0-0.3-0.4-1.0_CB16\n",
      "Starting ssr_standard_type1/LP_N64_F0-0.3-0.4-1.0_CB16\n",
      "Starting ssr_standard_type1/LP_N128_F0-0.3-0.4-1.0_CB16\n",
      "Starting ssr_standard_type1/LP_N8_F0-0.3-0.4-1.0_CB16\n",
      "Starting ssr_standard_type1/LP_N16_F0-0.3-0.4-1.0_CB16\n",
      "Starting ssr_standard_type1/LP_N32_F0-0.3-0.4-1.0_CB16\n",
      "Starting ssr_standard_type1/LP_N64_F0-0.3-0.4-1.0_CB16\n",
      "Starting ssr_standard_type1/LP_N128_F0-0.3-0.4-1.0_CB16\n",
      "Starting ssr_standard_type1/LP_N16_F0-0.3-0.4-1.0_CB16\n",
      "Starting ssr_standard_type1/LP_N32_F0-0.3-0.4-1.0_CB16\n",
      "Starting ssr_standard_type1/LP_N64_F0-0.3-0.4-1.0_CB16\n",
      "Starting ssr_standard_type1/LP_N128_F0-0.3-0.4-1.0_CB16\n"
     ]
    }
   ],
   "source": [
    "for parallelism in [2,4,8,16]:\n",
    "    for taps in [2,4,8,16,32,64,128]:\n",
    "        if parallelism > taps:\n",
    "            continue\n",
    "        ws = Coeffs(FiltType.LP, taps, [0,0.3,0.4,1.0], 16, type1=True)\n",
    "        run_logicore_synth('ssr_standard_type1', ws, parallelism)"
   ]
  },
  {
   "cell_type": "code",
   "execution_count": 15,
   "metadata": {},
   "outputs": [
    {
     "name": "stdout",
     "output_type": "stream",
     "text": [
      "Starting ssr_standard_linphase/LP_N2_F0-0.3-0.4-1.0_CB16\n",
      "Starting ssr_standard_linphase/LP_N4_F0-0.3-0.4-1.0_CB16\n",
      "Starting ssr_standard_linphase/LP_N8_F0-0.3-0.4-1.0_CB16\n",
      "Starting ssr_standard_linphase/LP_N16_F0-0.3-0.4-1.0_CB16\n",
      "Starting ssr_standard_linphase/LP_N32_F0-0.3-0.4-1.0_CB16\n",
      "Starting ssr_standard_linphase/LP_N64_F0-0.3-0.4-1.0_CB16\n",
      "Starting ssr_standard_linphase/LP_N128_F0-0.3-0.4-1.0_CB16\n",
      "Starting ssr_standard_linphase/LP_N4_F0-0.3-0.4-1.0_CB16\n",
      "Starting ssr_standard_linphase/LP_N8_F0-0.3-0.4-1.0_CB16\n",
      "Starting ssr_standard_linphase/LP_N16_F0-0.3-0.4-1.0_CB16\n",
      "Starting ssr_standard_linphase/LP_N32_F0-0.3-0.4-1.0_CB16\n",
      "Starting ssr_standard_linphase/LP_N64_F0-0.3-0.4-1.0_CB16\n",
      "Starting ssr_standard_linphase/LP_N128_F0-0.3-0.4-1.0_CB16\n",
      "Starting ssr_standard_linphase/LP_N8_F0-0.3-0.4-1.0_CB16\n",
      "Starting ssr_standard_linphase/LP_N16_F0-0.3-0.4-1.0_CB16\n",
      "Starting ssr_standard_linphase/LP_N32_F0-0.3-0.4-1.0_CB16\n",
      "Starting ssr_standard_linphase/LP_N64_F0-0.3-0.4-1.0_CB16\n",
      "Starting ssr_standard_linphase/LP_N128_F0-0.3-0.4-1.0_CB16\n",
      "Starting ssr_standard_linphase/LP_N16_F0-0.3-0.4-1.0_CB16\n",
      "Starting ssr_standard_linphase/LP_N32_F0-0.3-0.4-1.0_CB16\n",
      "Starting ssr_standard_linphase/LP_N64_F0-0.3-0.4-1.0_CB16\n",
      "Starting ssr_standard_linphase/LP_N128_F0-0.3-0.4-1.0_CB16\n"
     ]
    }
   ],
   "source": [
    "for parallelism in [2,4,8,16]:\n",
    "    for taps in [2,4,8,16,32,64,128]:\n",
    "        if parallelism > taps:\n",
    "            continue\n",
    "        ws = Coeffs(FiltType.LP, taps, [0,0.3,0.4,1.0], 16)\n",
    "        run_logicore_synth('ssr_standard_linphase', ws, parallelism)"
   ]
  }
 ],
 "metadata": {
  "kernelspec": {
   "display_name": "Python3 - python",
   "language": "python",
   "name": "ipython_python"
  },
  "language_info": {
   "codemirror_mode": {
    "name": "ipython",
    "version": 3
   },
   "file_extension": ".py",
   "mimetype": "text/x-python",
   "name": "python",
   "nbconvert_exporter": "python",
   "pygments_lexer": "ipython3",
   "version": "3.8.9"
  }
 },
 "nbformat": 4,
 "nbformat_minor": 4
}
