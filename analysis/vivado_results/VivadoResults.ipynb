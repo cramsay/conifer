{
 "cells": [
  {
   "cell_type": "code",
   "execution_count": null,
   "metadata": {},
   "outputs": [],
   "source": [
    "from random import *\n",
    "from math   import *"
   ]
  },
  {
   "cell_type": "code",
   "execution_count": null,
   "metadata": {},
   "outputs": [],
   "source": [
    "!mkdir outputs"
   ]
  },
  {
   "cell_type": "code",
   "execution_count": null,
   "metadata": {},
   "outputs": [],
   "source": [
    "toplevel_file = lambda algo, coef_w, coefs :f\"\"\"\n",
    "module Top where\n",
    "\n",
    "import ConfigTH\n",
    "import Graph.SingleConstantMult\n",
    "import Graph.Aop\n",
    "import Graph.Util\n",
    "import Graph.MCM\n",
    "import Graph.Pipelined\n",
    "import MultBlock\n",
    "import Clash.Prelude\n",
    "\n",
    "graphDesc = $(mcmPipelinedTH {algo} {coefs})\n",
    "\n",
    "multB = uncurry mkVecHw graphDesc\n",
    "\n",
    "fir x = register 0 $ foldl f 0 (multB $ register 0 x)\n",
    "  where f ac x = register 0 $ ac + x\n",
    "\n",
    "createDomain vSystem{{vName=\"SystemNR\", vResetPolarity=ActiveLow}}\n",
    "\n",
    "topEntity\n",
    "  :: Clock  SystemNR\n",
    "  -> Reset  SystemNR\n",
    "  -> Signal SystemNR (Unsigned 16)\n",
    "  -> Signal SystemNR (Unsigned (16+{coef_w}+CLog 2 {len(coefs)}))\n",
    "topEntity c r x = bundle $ exposeClockResetEnable (fir $ fmap resize x) c r (toEnable $ pure True)\n",
    "\n",
    "\n",
    "{{-# NOINLINE topEntity #-}}\n",
    "{{-# ANN topEntity\n",
    "  (Synthesize\n",
    "    {{ t_name   = \"fir_rsg\"\n",
    "    , t_inputs = [ PortName \"clk\"\n",
    "                 , PortName \"rst\"\n",
    "                 , PortName \"x\" ]\n",
    "    , t_output = PortName \"y\"\n",
    "    }}) #-}}\n",
    "\"\"\""
   ]
  },
  {
   "cell_type": "code",
   "execution_count": null,
   "metadata": {},
   "outputs": [],
   "source": [
    "def gen_coefs(b,n):\n",
    "    return [ randint(1, 2**b-1) for _ in range(n)]"
   ]
  },
  {
   "cell_type": "code",
   "execution_count": null,
   "metadata": {},
   "outputs": [],
   "source": [
    "def run_test(algo, n, coefs, coef_w, run):\n",
    "    name = f'mcm_{algo}_n{n}_width{coef_w}_run{run}'\n",
    "    print(\"Starting run for \" + name)\n",
    "\n",
    "    !make clean\n",
    "\n",
    "    print(\"Building clash\")\n",
    "    !make build_dir\n",
    "    with open('./build/clash/TopLevel.hs', 'w') as f:\n",
    "        f.write(toplevel_file(algo,coef_w,coefs))\n",
    "    !make verilog > ./build/xil/clash.log\n",
    "\n",
    "    print(\"Building vivado\")\n",
    "    !make vivado_raw > ./build/xil/xilinx.log\n",
    "\n",
    "    mv_results=f\"mkdir outputs/{name}; cp build/xil/*.log outputs/{name}/; cp build/xil/post_route* outputs/{name}/\"\n",
    "    !$mv_results\n",
    "\n",
    "    with open(f'./outputs/{name}/coefs.txt', 'w') as f:\n",
    "        f.write(str(coefs))"
   ]
  },
  {
   "cell_type": "code",
   "execution_count": null,
   "metadata": {
    "tags": []
   },
   "outputs": [],
   "source": [
    "import os\n",
    "\n",
    "for run in range(10):\n",
    "    for coef_w in [12,14,16,18,19]:\n",
    "        for n in [1, 10, 20, 30, 40, 50, 60, 70, 80, 90, 100]:\n",
    "            if (run == 0) & (coef_w < 16):\n",
    "                continue\n",
    "                \n",
    "            coefs = gen_coefs(coef_w,n)\n",
    "\n",
    "            for algo in ['RSG','RAGn', 'Hcub', 'HcubShallow']:\n",
    "                run_test(algo, n, coefs, coef_w, run)"
   ]
  },
  {
   "cell_type": "code",
   "execution_count": null,
   "metadata": {
    "tags": []
   },
   "outputs": [],
   "source": [
    "slice_regs = []\n",
    "\n",
    "for run in range(10):\n",
    "    for coef_w in range(12,27,2):\n",
    "        for n in [1, 10, 20, 30, 40, 50, 60, 70, 80, 90, 100]:\n",
    "            for algo in ['RSG','RAGn', 'Hcub', 'HcubShallow']:\n",
    "\n",
    "                name = f'mcm_{algo}_n{n}_width{coef_w}_run{run}'\n",
    "                \n",
    "                lut_cmd = f'grep \"CLB LUTs\" outputs/{name}/post_route_util.rpt | cut -d\"|\" -f3'\n",
    "                lut_result=!$lut_cmd\n",
    "                reg_cmd = f'grep \"CLB Registers\" outputs/{name}/post_route_util.rpt | head -n 1 | cut -d\"|\" -f3'\n",
    "                reg_result=!$reg_cmd\n",
    "                clb_cmd = f'grep \"| CLB  \" outputs/{name}/post_route_util.rpt | head -n 1 | cut -d\"|\" -f3'\n",
    "                clb_result=!$clb_cmd\n",
    "\n",
    "                try:\n",
    "                    slice_regs.append({\n",
    "                        'run': run,\n",
    "                        'coef_w': coef_w,\n",
    "                        'n': n,\n",
    "                        'algo': algo,\n",
    "                        'luts' : int(lut_result.s),\n",
    "                        'regs' : int(reg_result.s),\n",
    "                        'clbs' : int(clb_result.s)\n",
    "                    })\n",
    "                except:\n",
    "                    print(f\"Couldn't parse result for {name}. Did it fail synthesis?\")"
   ]
  },
  {
   "cell_type": "code",
   "execution_count": null,
   "metadata": {},
   "outputs": [],
   "source": [
    "import pandas as pd\n",
    "df = pd.DataFrame(slice_regs)"
   ]
  },
  {
   "cell_type": "code",
   "execution_count": null,
   "metadata": {},
   "outputs": [],
   "source": [
    "df"
   ]
  },
  {
   "cell_type": "code",
   "execution_count": null,
   "metadata": {},
   "outputs": [],
   "source": [
    "import plotly.express as px\n",
    "px.line(df[df['coef_w']==15], x='n',y='clbs', color='algo')"
   ]
  }
 ],
 "metadata": {
  "kernelspec": {
   "display_name": "Python 3",
   "language": "python",
   "name": "python3"
  },
  "language_info": {
   "codemirror_mode": {
    "name": "ipython",
    "version": 3
   },
   "file_extension": ".py",
   "mimetype": "text/x-python",
   "name": "python",
   "nbconvert_exporter": "python",
   "pygments_lexer": "ipython3",
   "version": "3.8.10"
  }
 },
 "nbformat": 4,
 "nbformat_minor": 4
}
