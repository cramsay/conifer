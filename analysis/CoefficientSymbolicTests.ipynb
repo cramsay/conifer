{
 "cells": [
  {
   "cell_type": "code",
   "execution_count": 1,
   "id": "turkish-match",
   "metadata": {},
   "outputs": [],
   "source": [
    "import sympy as sym\n",
    "import pandas as pd\n",
    "from math import ceil, floor, log2\n",
    "import enum"
   ]
  },
  {
   "cell_type": "code",
   "execution_count": 2,
   "id": "incredible-thread",
   "metadata": {},
   "outputs": [],
   "source": [
    "class CoeffType(enum.Enum):\n",
    "    Type1Pad = 1\n",
    "    Type2 = 2\n",
    "    Type3Pad = 3\n",
    "    Type4 = 4\n",
    "    NonLinPhase = 5\n",
    "    HalfBand = 6\n",
    "\n",
    "def hffa(p, ws):\n",
    "    if p==1:\n",
    "        return [ws]\n",
    "    return hffa(p//2, ws[0::2]) + \\\n",
    "           hffa(p//2, [a+b for (a,b) in zip(ws[0::2],ws[1::2])]) + \\\n",
    "           hffa(p//2, ws[1::2])\n",
    "\n",
    "def hpoly(p, ws):\n",
    "    return [ws for _ in range(p)]\n",
    "\n",
    "def eqTerms(x, y):\n",
    "    return 0 == sym.simplify(x-y)\n",
    "\n",
    "# NOTE: We aren't checking if one term is a bitshifted version of an existing one... can we prove this will not happen?\n",
    "def uniqAbsTerms(xs):\n",
    "    uniqs = []\n",
    "    for x in xs:\n",
    "        if not ( any([eqTerms(sym.Abs(x),u) for u in uniqs]) or \\\n",
    "                 eqTerms(x,0) ):\n",
    "            uniqs.append(sym.Abs(x))\n",
    "    return uniqs\n",
    "\n",
    "def countMults(h):\n",
    "    return sum([len(ws) for ws in h])\n",
    "\n",
    "_nonlinPhase = lambda n : [sym.Symbol('w'+str(i)) for i in range(n)]\n",
    "\n",
    "_type2 = lambda n : [sym.Symbol('w'+str(i)) for i in range(n//2)] + \\\n",
    "                    [sym.Symbol('w'+str(i)) for i in range(n//2-1,-1,-1)]\n",
    "\n",
    "_type4 = lambda n : [sym.Symbol('w'+str(i)) for i in range(n//2)] + \\\n",
    "                    [(-1)*sym.Symbol('w'+str(i)) for i in range(n//2-1,-1,-1)]\n",
    "\n",
    "_type1Padded = lambda n : [sym.Symbol('w'+str(i)) for i in range(n//2 - 1)] + \\\n",
    "                          [sym.Symbol('w'+str(n//2-1))] + \\\n",
    "                          [sym.Symbol('w'+str(i)) for i in range(n//2-1-1,-1,-1)] + \\\n",
    "                          [0]\n",
    "\n",
    "_type3Padded = lambda n : [sym.Symbol('w'+str(i)) for i in range(n//2 - 1)] + \\\n",
    "                          [sym.Symbol('w'+str(n//2-1))] + \\\n",
    "                          [(-1)*sym.Symbol('w'+str(i)) for i in range(n//2-1-1,-1,-1)] + \\\n",
    "                          [0]\n",
    "\n",
    "def _halfBand(n):\n",
    "    if n == 2:\n",
    "        return [0,0]\n",
    "    ws = [0 for _ in range(n)]\n",
    "    if n//2 % 2 == 1:\n",
    "        ws[::2] = _type1Padded(n//2+1)[:-1]\n",
    "    else:\n",
    "        ws[::2] = _type1Padded(n//2)\n",
    "    return ws\n",
    "\n",
    "def genCoeffs(coeffType, n):\n",
    "    if coeffType == CoeffType.Type1Pad:\n",
    "        return _type1Padded(n)\n",
    "    if coeffType == CoeffType.Type2:\n",
    "        return _type2(n)\n",
    "    if coeffType == CoeffType.Type3Pad:\n",
    "        return _type3Padded(n)\n",
    "    if coeffType == CoeffType.Type4:\n",
    "        return _type4(n)\n",
    "    if coeffType == CoeffType.NonLinPhase:\n",
    "        return _nonlinPhase(n)\n",
    "    if coeffType == CoeffType.HalfBand:\n",
    "        return _halfBand(n)"
   ]
  },
  {
   "cell_type": "code",
   "execution_count": 73,
   "id": "00714e86-2708-4455-bb22-9a64e5b3506a",
   "metadata": {},
   "outputs": [
    {
     "name": "stdout",
     "output_type": "stream",
     "text": [
      "Running p2\n",
      "Running nByP1\n",
      "Running nByP2\n",
      "Running nByP3\n",
      "Running nByP4\n",
      "Running p4\n",
      "Running nByP1\n",
      "Running nByP2\n",
      "Running nByP3\n",
      "Running nByP4\n",
      "Running p8\n",
      "Running nByP1\n",
      "Running nByP2\n",
      "Running nByP3\n",
      "Running nByP4\n",
      "Running p16\n",
      "Running nByP1\n",
      "Running nByP2\n",
      "Running nByP3\n",
      "Running nByP4\n"
     ]
    }
   ],
   "source": [
    "frame = pd.DataFrame(columns=['FIR', 'CoeffType', 'Parallelism', 'N', 'SubfiltN', 'Mults'])\n",
    "\n",
    "def ffa_hnlp(par, n):\n",
    "    p = int(log2(par))\n",
    "    return n*3**(p)\n",
    "\n",
    "def ffa_htype2(par, n):\n",
    "    p = int(log2(par))\n",
    "    return ceil(n/2.0)+2*n*sum([3**i for i in range(0,p)])\n",
    "\n",
    "def ffa_htype4(par, n):\n",
    "    p = int(log2(par))\n",
    "    return floor(n/2.0)+2*n*sum([3**i for i in range(0,p)])\n",
    "\n",
    "def ffa_htype1(par, n):\n",
    "    p = int(log2(par))\n",
    "    return 2*n + n*sum([3**k for k in range(1,p)]) + (p-1)*(ceil(n/2.0))+2*n*sum([sum ([3**i for j in range(0,i-1)]) for i in range(0,p-2)])\n",
    "\n",
    "for p in [2,4,8,16]:\n",
    "    print(f'Running p{p}')\n",
    "    for nByP in [1,2,3,4]:\n",
    "        print(f'Running nByP{nByP}')\n",
    "        for coeffType in [CoeffType.Type1Pad]:\n",
    "            ws = genCoeffs(coeffType, p*nByP)\n",
    "            mults = countMults([uniqAbsTerms(h) for h in hffa(p, ws)])\n",
    "            frame = frame.append(dict(FIR='FFA', CoeffType=coeffType.name, Parallelism=p, N=(p*nByP), SubfiltN=nByP, Mults=mults), ignore_index=True)\n",
    "            \n",
    "            frame = frame.append(dict(FIR='Guess', CoeffType=coeffType.name, Parallelism=p, N=(p*nByP), SubfiltN=nByP, Mults=ffa_htype1(p,nByP), MultsPerChannel=guess(p,nByP)/p), ignore_index=True)"
   ]
  },
  {
   "cell_type": "code",
   "execution_count": 74,
   "id": "423c834f-b4eb-4a43-96ec-ecd735dcf177",
   "metadata": {},
   "outputs": [
    {
     "data": {
      "text/html": [
       "<div>\n",
       "<style scoped>\n",
       "    .dataframe tbody tr th:only-of-type {\n",
       "        vertical-align: middle;\n",
       "    }\n",
       "\n",
       "    .dataframe tbody tr th {\n",
       "        vertical-align: top;\n",
       "    }\n",
       "\n",
       "    .dataframe thead th {\n",
       "        text-align: right;\n",
       "    }\n",
       "</style>\n",
       "<table border=\"1\" class=\"dataframe\">\n",
       "  <thead>\n",
       "    <tr style=\"text-align: right;\">\n",
       "      <th></th>\n",
       "      <th>FIR</th>\n",
       "      <th>CoeffType</th>\n",
       "      <th>Parallelism</th>\n",
       "      <th>N</th>\n",
       "      <th>SubfiltN</th>\n",
       "      <th>Mults</th>\n",
       "      <th>MultsPerChannel</th>\n",
       "    </tr>\n",
       "  </thead>\n",
       "  <tbody>\n",
       "    <tr>\n",
       "      <th>0</th>\n",
       "      <td>FFA</td>\n",
       "      <td>Type1Pad</td>\n",
       "      <td>2</td>\n",
       "      <td>2</td>\n",
       "      <td>1</td>\n",
       "      <td>2</td>\n",
       "      <td>NaN</td>\n",
       "    </tr>\n",
       "    <tr>\n",
       "      <th>1</th>\n",
       "      <td>Guess</td>\n",
       "      <td>Type1Pad</td>\n",
       "      <td>2</td>\n",
       "      <td>2</td>\n",
       "      <td>1</td>\n",
       "      <td>2</td>\n",
       "      <td>1.0000</td>\n",
       "    </tr>\n",
       "    <tr>\n",
       "      <th>2</th>\n",
       "      <td>FFA</td>\n",
       "      <td>Type1Pad</td>\n",
       "      <td>2</td>\n",
       "      <td>4</td>\n",
       "      <td>2</td>\n",
       "      <td>4</td>\n",
       "      <td>NaN</td>\n",
       "    </tr>\n",
       "    <tr>\n",
       "      <th>3</th>\n",
       "      <td>Guess</td>\n",
       "      <td>Type1Pad</td>\n",
       "      <td>2</td>\n",
       "      <td>4</td>\n",
       "      <td>2</td>\n",
       "      <td>4</td>\n",
       "      <td>2.5000</td>\n",
       "    </tr>\n",
       "    <tr>\n",
       "      <th>4</th>\n",
       "      <td>FFA</td>\n",
       "      <td>Type1Pad</td>\n",
       "      <td>2</td>\n",
       "      <td>6</td>\n",
       "      <td>3</td>\n",
       "      <td>6</td>\n",
       "      <td>NaN</td>\n",
       "    </tr>\n",
       "    <tr>\n",
       "      <th>5</th>\n",
       "      <td>Guess</td>\n",
       "      <td>Type1Pad</td>\n",
       "      <td>2</td>\n",
       "      <td>6</td>\n",
       "      <td>3</td>\n",
       "      <td>6</td>\n",
       "      <td>3.5000</td>\n",
       "    </tr>\n",
       "    <tr>\n",
       "      <th>6</th>\n",
       "      <td>FFA</td>\n",
       "      <td>Type1Pad</td>\n",
       "      <td>2</td>\n",
       "      <td>8</td>\n",
       "      <td>4</td>\n",
       "      <td>8</td>\n",
       "      <td>NaN</td>\n",
       "    </tr>\n",
       "    <tr>\n",
       "      <th>7</th>\n",
       "      <td>Guess</td>\n",
       "      <td>Type1Pad</td>\n",
       "      <td>2</td>\n",
       "      <td>8</td>\n",
       "      <td>4</td>\n",
       "      <td>8</td>\n",
       "      <td>5.0000</td>\n",
       "    </tr>\n",
       "    <tr>\n",
       "      <th>8</th>\n",
       "      <td>FFA</td>\n",
       "      <td>Type1Pad</td>\n",
       "      <td>4</td>\n",
       "      <td>4</td>\n",
       "      <td>1</td>\n",
       "      <td>8</td>\n",
       "      <td>NaN</td>\n",
       "    </tr>\n",
       "    <tr>\n",
       "      <th>9</th>\n",
       "      <td>Guess</td>\n",
       "      <td>Type1Pad</td>\n",
       "      <td>4</td>\n",
       "      <td>4</td>\n",
       "      <td>1</td>\n",
       "      <td>6</td>\n",
       "      <td>2.0000</td>\n",
       "    </tr>\n",
       "    <tr>\n",
       "      <th>10</th>\n",
       "      <td>FFA</td>\n",
       "      <td>Type1Pad</td>\n",
       "      <td>4</td>\n",
       "      <td>8</td>\n",
       "      <td>2</td>\n",
       "      <td>15</td>\n",
       "      <td>NaN</td>\n",
       "    </tr>\n",
       "    <tr>\n",
       "      <th>11</th>\n",
       "      <td>Guess</td>\n",
       "      <td>Type1Pad</td>\n",
       "      <td>4</td>\n",
       "      <td>8</td>\n",
       "      <td>2</td>\n",
       "      <td>11</td>\n",
       "      <td>4.2500</td>\n",
       "    </tr>\n",
       "    <tr>\n",
       "      <th>12</th>\n",
       "      <td>FFA</td>\n",
       "      <td>Type1Pad</td>\n",
       "      <td>4</td>\n",
       "      <td>12</td>\n",
       "      <td>3</td>\n",
       "      <td>23</td>\n",
       "      <td>NaN</td>\n",
       "    </tr>\n",
       "    <tr>\n",
       "      <th>13</th>\n",
       "      <td>Guess</td>\n",
       "      <td>Type1Pad</td>\n",
       "      <td>4</td>\n",
       "      <td>12</td>\n",
       "      <td>3</td>\n",
       "      <td>17</td>\n",
       "      <td>6.2500</td>\n",
       "    </tr>\n",
       "    <tr>\n",
       "      <th>14</th>\n",
       "      <td>FFA</td>\n",
       "      <td>Type1Pad</td>\n",
       "      <td>4</td>\n",
       "      <td>16</td>\n",
       "      <td>4</td>\n",
       "      <td>30</td>\n",
       "      <td>NaN</td>\n",
       "    </tr>\n",
       "    <tr>\n",
       "      <th>15</th>\n",
       "      <td>Guess</td>\n",
       "      <td>Type1Pad</td>\n",
       "      <td>4</td>\n",
       "      <td>16</td>\n",
       "      <td>4</td>\n",
       "      <td>22</td>\n",
       "      <td>8.5000</td>\n",
       "    </tr>\n",
       "    <tr>\n",
       "      <th>16</th>\n",
       "      <td>FFA</td>\n",
       "      <td>Type1Pad</td>\n",
       "      <td>8</td>\n",
       "      <td>8</td>\n",
       "      <td>1</td>\n",
       "      <td>26</td>\n",
       "      <td>NaN</td>\n",
       "    </tr>\n",
       "    <tr>\n",
       "      <th>17</th>\n",
       "      <td>Guess</td>\n",
       "      <td>Type1Pad</td>\n",
       "      <td>8</td>\n",
       "      <td>8</td>\n",
       "      <td>1</td>\n",
       "      <td>16</td>\n",
       "      <td>3.2500</td>\n",
       "    </tr>\n",
       "    <tr>\n",
       "      <th>18</th>\n",
       "      <td>FFA</td>\n",
       "      <td>Type1Pad</td>\n",
       "      <td>8</td>\n",
       "      <td>16</td>\n",
       "      <td>2</td>\n",
       "      <td>50</td>\n",
       "      <td>NaN</td>\n",
       "    </tr>\n",
       "    <tr>\n",
       "      <th>19</th>\n",
       "      <td>Guess</td>\n",
       "      <td>Type1Pad</td>\n",
       "      <td>8</td>\n",
       "      <td>16</td>\n",
       "      <td>2</td>\n",
       "      <td>30</td>\n",
       "      <td>6.6250</td>\n",
       "    </tr>\n",
       "    <tr>\n",
       "      <th>20</th>\n",
       "      <td>FFA</td>\n",
       "      <td>Type1Pad</td>\n",
       "      <td>8</td>\n",
       "      <td>24</td>\n",
       "      <td>3</td>\n",
       "      <td>76</td>\n",
       "      <td>NaN</td>\n",
       "    </tr>\n",
       "    <tr>\n",
       "      <th>21</th>\n",
       "      <td>Guess</td>\n",
       "      <td>Type1Pad</td>\n",
       "      <td>8</td>\n",
       "      <td>24</td>\n",
       "      <td>3</td>\n",
       "      <td>46</td>\n",
       "      <td>9.8750</td>\n",
       "    </tr>\n",
       "    <tr>\n",
       "      <th>22</th>\n",
       "      <td>FFA</td>\n",
       "      <td>Type1Pad</td>\n",
       "      <td>8</td>\n",
       "      <td>32</td>\n",
       "      <td>4</td>\n",
       "      <td>100</td>\n",
       "      <td>NaN</td>\n",
       "    </tr>\n",
       "    <tr>\n",
       "      <th>23</th>\n",
       "      <td>Guess</td>\n",
       "      <td>Type1Pad</td>\n",
       "      <td>8</td>\n",
       "      <td>32</td>\n",
       "      <td>4</td>\n",
       "      <td>60</td>\n",
       "      <td>13.2500</td>\n",
       "    </tr>\n",
       "    <tr>\n",
       "      <th>24</th>\n",
       "      <td>FFA</td>\n",
       "      <td>Type1Pad</td>\n",
       "      <td>16</td>\n",
       "      <td>16</td>\n",
       "      <td>1</td>\n",
       "      <td>80</td>\n",
       "      <td>NaN</td>\n",
       "    </tr>\n",
       "    <tr>\n",
       "      <th>25</th>\n",
       "      <td>Guess</td>\n",
       "      <td>Type1Pad</td>\n",
       "      <td>16</td>\n",
       "      <td>16</td>\n",
       "      <td>1</td>\n",
       "      <td>44</td>\n",
       "      <td>5.0000</td>\n",
       "    </tr>\n",
       "    <tr>\n",
       "      <th>26</th>\n",
       "      <td>FFA</td>\n",
       "      <td>Type1Pad</td>\n",
       "      <td>16</td>\n",
       "      <td>32</td>\n",
       "      <td>2</td>\n",
       "      <td>157</td>\n",
       "      <td>NaN</td>\n",
       "    </tr>\n",
       "    <tr>\n",
       "      <th>27</th>\n",
       "      <td>Guess</td>\n",
       "      <td>Type1Pad</td>\n",
       "      <td>16</td>\n",
       "      <td>32</td>\n",
       "      <td>2</td>\n",
       "      <td>85</td>\n",
       "      <td>10.0625</td>\n",
       "    </tr>\n",
       "    <tr>\n",
       "      <th>28</th>\n",
       "      <td>FFA</td>\n",
       "      <td>Type1Pad</td>\n",
       "      <td>16</td>\n",
       "      <td>48</td>\n",
       "      <td>3</td>\n",
       "      <td>237</td>\n",
       "      <td>NaN</td>\n",
       "    </tr>\n",
       "    <tr>\n",
       "      <th>29</th>\n",
       "      <td>Guess</td>\n",
       "      <td>Type1Pad</td>\n",
       "      <td>16</td>\n",
       "      <td>48</td>\n",
       "      <td>3</td>\n",
       "      <td>129</td>\n",
       "      <td>15.0625</td>\n",
       "    </tr>\n",
       "    <tr>\n",
       "      <th>30</th>\n",
       "      <td>FFA</td>\n",
       "      <td>Type1Pad</td>\n",
       "      <td>16</td>\n",
       "      <td>64</td>\n",
       "      <td>4</td>\n",
       "      <td>314</td>\n",
       "      <td>NaN</td>\n",
       "    </tr>\n",
       "    <tr>\n",
       "      <th>31</th>\n",
       "      <td>Guess</td>\n",
       "      <td>Type1Pad</td>\n",
       "      <td>16</td>\n",
       "      <td>64</td>\n",
       "      <td>4</td>\n",
       "      <td>170</td>\n",
       "      <td>20.1250</td>\n",
       "    </tr>\n",
       "  </tbody>\n",
       "</table>\n",
       "</div>"
      ],
      "text/plain": [
       "      FIR CoeffType Parallelism   N SubfiltN Mults  MultsPerChannel\n",
       "0     FFA  Type1Pad           2   2        1     2              NaN\n",
       "1   Guess  Type1Pad           2   2        1     2           1.0000\n",
       "2     FFA  Type1Pad           2   4        2     4              NaN\n",
       "3   Guess  Type1Pad           2   4        2     4           2.5000\n",
       "4     FFA  Type1Pad           2   6        3     6              NaN\n",
       "5   Guess  Type1Pad           2   6        3     6           3.5000\n",
       "6     FFA  Type1Pad           2   8        4     8              NaN\n",
       "7   Guess  Type1Pad           2   8        4     8           5.0000\n",
       "8     FFA  Type1Pad           4   4        1     8              NaN\n",
       "9   Guess  Type1Pad           4   4        1     6           2.0000\n",
       "10    FFA  Type1Pad           4   8        2    15              NaN\n",
       "11  Guess  Type1Pad           4   8        2    11           4.2500\n",
       "12    FFA  Type1Pad           4  12        3    23              NaN\n",
       "13  Guess  Type1Pad           4  12        3    17           6.2500\n",
       "14    FFA  Type1Pad           4  16        4    30              NaN\n",
       "15  Guess  Type1Pad           4  16        4    22           8.5000\n",
       "16    FFA  Type1Pad           8   8        1    26              NaN\n",
       "17  Guess  Type1Pad           8   8        1    16           3.2500\n",
       "18    FFA  Type1Pad           8  16        2    50              NaN\n",
       "19  Guess  Type1Pad           8  16        2    30           6.6250\n",
       "20    FFA  Type1Pad           8  24        3    76              NaN\n",
       "21  Guess  Type1Pad           8  24        3    46           9.8750\n",
       "22    FFA  Type1Pad           8  32        4   100              NaN\n",
       "23  Guess  Type1Pad           8  32        4    60          13.2500\n",
       "24    FFA  Type1Pad          16  16        1    80              NaN\n",
       "25  Guess  Type1Pad          16  16        1    44           5.0000\n",
       "26    FFA  Type1Pad          16  32        2   157              NaN\n",
       "27  Guess  Type1Pad          16  32        2    85          10.0625\n",
       "28    FFA  Type1Pad          16  48        3   237              NaN\n",
       "29  Guess  Type1Pad          16  48        3   129          15.0625\n",
       "30    FFA  Type1Pad          16  64        4   314              NaN\n",
       "31  Guess  Type1Pad          16  64        4   170          20.1250"
      ]
     },
     "execution_count": 74,
     "metadata": {},
     "output_type": "execute_result"
    }
   ],
   "source": [
    "frame"
   ]
  },
  {
   "cell_type": "code",
   "execution_count": 71,
   "id": "af987a7b-082f-45c6-be0b-07fee85b48fe",
   "metadata": {},
   "outputs": [
    {
     "name": "stdout",
     "output_type": "stream",
     "text": [
      "3\n",
      "5\n",
      "7\n",
      "9\n",
      "8\n",
      "12\n",
      "17\n",
      "21\n",
      "29\n",
      "47\n",
      "67\n",
      "85\n",
      "110\n",
      "190\n",
      "273\n",
      "353\n"
     ]
    }
   ],
   "source": []
  },
  {
   "cell_type": "code",
   "execution_count": 8,
   "id": "quantitative-apache",
   "metadata": {},
   "outputs": [
    {
     "name": "stdout",
     "output_type": "stream",
     "text": [
      "Running p2\n",
      "Running nByP1\n",
      "Running nByP2\n",
      "Running nByP3\n",
      "Running nByP4\n",
      "Running p4\n",
      "Running nByP1\n",
      "Running nByP2\n",
      "Running nByP3\n",
      "Running nByP4\n"
     ]
    },
    {
     "ename": "KeyboardInterrupt",
     "evalue": "",
     "output_type": "error",
     "traceback": [
      "\u001b[0;31m---------------------------------------------------------------------------\u001b[0m",
      "\u001b[0;31mKeyboardInterrupt\u001b[0m                         Traceback (most recent call last)",
      "\u001b[0;32m<ipython-input-8-159a656701d3>\u001b[0m in \u001b[0;36m<module>\u001b[0;34m\u001b[0m\n\u001b[1;32m     10\u001b[0m             \u001b[0mframe\u001b[0m \u001b[0;34m=\u001b[0m \u001b[0mframe\u001b[0m\u001b[0;34m.\u001b[0m\u001b[0mappend\u001b[0m\u001b[0;34m(\u001b[0m\u001b[0mdict\u001b[0m\u001b[0;34m(\u001b[0m\u001b[0mFIR\u001b[0m\u001b[0;34m=\u001b[0m\u001b[0;34m'FFA'\u001b[0m\u001b[0;34m,\u001b[0m \u001b[0mCoeffType\u001b[0m\u001b[0;34m=\u001b[0m\u001b[0mcoeffType\u001b[0m\u001b[0;34m.\u001b[0m\u001b[0mname\u001b[0m\u001b[0;34m,\u001b[0m \u001b[0mParallelism\u001b[0m\u001b[0;34m=\u001b[0m\u001b[0mp\u001b[0m\u001b[0;34m,\u001b[0m \u001b[0mN\u001b[0m\u001b[0;34m=\u001b[0m\u001b[0;34m(\u001b[0m\u001b[0mp\u001b[0m\u001b[0;34m*\u001b[0m\u001b[0mnByP\u001b[0m\u001b[0;34m)\u001b[0m\u001b[0;34m,\u001b[0m \u001b[0mSubfiltN\u001b[0m\u001b[0;34m=\u001b[0m\u001b[0mnByP\u001b[0m\u001b[0;34m,\u001b[0m \u001b[0mMults\u001b[0m\u001b[0;34m=\u001b[0m\u001b[0mmults\u001b[0m\u001b[0;34m)\u001b[0m\u001b[0;34m,\u001b[0m \u001b[0mignore_index\u001b[0m\u001b[0;34m=\u001b[0m\u001b[0;32mTrue\u001b[0m\u001b[0;34m)\u001b[0m\u001b[0;34m\u001b[0m\u001b[0;34m\u001b[0m\u001b[0m\n\u001b[1;32m     11\u001b[0m \u001b[0;34m\u001b[0m\u001b[0m\n\u001b[0;32m---> 12\u001b[0;31m             \u001b[0mmults\u001b[0m \u001b[0;34m=\u001b[0m \u001b[0mcountMults\u001b[0m\u001b[0;34m(\u001b[0m\u001b[0;34m[\u001b[0m\u001b[0muniqAbsTerms\u001b[0m\u001b[0;34m(\u001b[0m\u001b[0mh\u001b[0m\u001b[0;34m)\u001b[0m \u001b[0;32mfor\u001b[0m \u001b[0mh\u001b[0m \u001b[0;32min\u001b[0m \u001b[0mhpoly\u001b[0m\u001b[0;34m(\u001b[0m\u001b[0mp\u001b[0m\u001b[0;34m,\u001b[0m \u001b[0mws\u001b[0m\u001b[0;34m)\u001b[0m\u001b[0;34m]\u001b[0m\u001b[0;34m)\u001b[0m\u001b[0;34m\u001b[0m\u001b[0;34m\u001b[0m\u001b[0m\n\u001b[0m\u001b[1;32m     13\u001b[0m             \u001b[0mframe\u001b[0m \u001b[0;34m=\u001b[0m \u001b[0mframe\u001b[0m\u001b[0;34m.\u001b[0m\u001b[0mappend\u001b[0m\u001b[0;34m(\u001b[0m\u001b[0mdict\u001b[0m\u001b[0;34m(\u001b[0m\u001b[0mFIR\u001b[0m\u001b[0;34m=\u001b[0m\u001b[0;34m'Poly'\u001b[0m\u001b[0;34m,\u001b[0m \u001b[0mCoeffType\u001b[0m\u001b[0;34m=\u001b[0m\u001b[0mcoeffType\u001b[0m\u001b[0;34m.\u001b[0m\u001b[0mname\u001b[0m\u001b[0;34m,\u001b[0m \u001b[0mParallelism\u001b[0m\u001b[0;34m=\u001b[0m\u001b[0mp\u001b[0m\u001b[0;34m,\u001b[0m \u001b[0mN\u001b[0m\u001b[0;34m=\u001b[0m\u001b[0;34m(\u001b[0m\u001b[0mp\u001b[0m\u001b[0;34m*\u001b[0m\u001b[0mnByP\u001b[0m\u001b[0;34m)\u001b[0m\u001b[0;34m,\u001b[0m \u001b[0mSubfiltN\u001b[0m\u001b[0;34m=\u001b[0m\u001b[0mnByP\u001b[0m\u001b[0;34m,\u001b[0m \u001b[0mMults\u001b[0m\u001b[0;34m=\u001b[0m\u001b[0mmults\u001b[0m\u001b[0;34m,\u001b[0m \u001b[0mMultsPerChannel\u001b[0m\u001b[0;34m=\u001b[0m\u001b[0mmults\u001b[0m\u001b[0;34m/\u001b[0m\u001b[0mp\u001b[0m\u001b[0;34m)\u001b[0m\u001b[0;34m,\u001b[0m \u001b[0mignore_index\u001b[0m\u001b[0;34m=\u001b[0m\u001b[0;32mTrue\u001b[0m\u001b[0;34m)\u001b[0m\u001b[0;34m\u001b[0m\u001b[0;34m\u001b[0m\u001b[0m\n",
      "\u001b[0;32m<ipython-input-8-159a656701d3>\u001b[0m in \u001b[0;36m<listcomp>\u001b[0;34m(.0)\u001b[0m\n\u001b[1;32m     10\u001b[0m             \u001b[0mframe\u001b[0m \u001b[0;34m=\u001b[0m \u001b[0mframe\u001b[0m\u001b[0;34m.\u001b[0m\u001b[0mappend\u001b[0m\u001b[0;34m(\u001b[0m\u001b[0mdict\u001b[0m\u001b[0;34m(\u001b[0m\u001b[0mFIR\u001b[0m\u001b[0;34m=\u001b[0m\u001b[0;34m'FFA'\u001b[0m\u001b[0;34m,\u001b[0m \u001b[0mCoeffType\u001b[0m\u001b[0;34m=\u001b[0m\u001b[0mcoeffType\u001b[0m\u001b[0;34m.\u001b[0m\u001b[0mname\u001b[0m\u001b[0;34m,\u001b[0m \u001b[0mParallelism\u001b[0m\u001b[0;34m=\u001b[0m\u001b[0mp\u001b[0m\u001b[0;34m,\u001b[0m \u001b[0mN\u001b[0m\u001b[0;34m=\u001b[0m\u001b[0;34m(\u001b[0m\u001b[0mp\u001b[0m\u001b[0;34m*\u001b[0m\u001b[0mnByP\u001b[0m\u001b[0;34m)\u001b[0m\u001b[0;34m,\u001b[0m \u001b[0mSubfiltN\u001b[0m\u001b[0;34m=\u001b[0m\u001b[0mnByP\u001b[0m\u001b[0;34m,\u001b[0m \u001b[0mMults\u001b[0m\u001b[0;34m=\u001b[0m\u001b[0mmults\u001b[0m\u001b[0;34m)\u001b[0m\u001b[0;34m,\u001b[0m \u001b[0mignore_index\u001b[0m\u001b[0;34m=\u001b[0m\u001b[0;32mTrue\u001b[0m\u001b[0;34m)\u001b[0m\u001b[0;34m\u001b[0m\u001b[0;34m\u001b[0m\u001b[0m\n\u001b[1;32m     11\u001b[0m \u001b[0;34m\u001b[0m\u001b[0m\n\u001b[0;32m---> 12\u001b[0;31m             \u001b[0mmults\u001b[0m \u001b[0;34m=\u001b[0m \u001b[0mcountMults\u001b[0m\u001b[0;34m(\u001b[0m\u001b[0;34m[\u001b[0m\u001b[0muniqAbsTerms\u001b[0m\u001b[0;34m(\u001b[0m\u001b[0mh\u001b[0m\u001b[0;34m)\u001b[0m \u001b[0;32mfor\u001b[0m \u001b[0mh\u001b[0m \u001b[0;32min\u001b[0m \u001b[0mhpoly\u001b[0m\u001b[0;34m(\u001b[0m\u001b[0mp\u001b[0m\u001b[0;34m,\u001b[0m \u001b[0mws\u001b[0m\u001b[0;34m)\u001b[0m\u001b[0;34m]\u001b[0m\u001b[0;34m)\u001b[0m\u001b[0;34m\u001b[0m\u001b[0;34m\u001b[0m\u001b[0m\n\u001b[0m\u001b[1;32m     13\u001b[0m             \u001b[0mframe\u001b[0m \u001b[0;34m=\u001b[0m \u001b[0mframe\u001b[0m\u001b[0;34m.\u001b[0m\u001b[0mappend\u001b[0m\u001b[0;34m(\u001b[0m\u001b[0mdict\u001b[0m\u001b[0;34m(\u001b[0m\u001b[0mFIR\u001b[0m\u001b[0;34m=\u001b[0m\u001b[0;34m'Poly'\u001b[0m\u001b[0;34m,\u001b[0m \u001b[0mCoeffType\u001b[0m\u001b[0;34m=\u001b[0m\u001b[0mcoeffType\u001b[0m\u001b[0;34m.\u001b[0m\u001b[0mname\u001b[0m\u001b[0;34m,\u001b[0m \u001b[0mParallelism\u001b[0m\u001b[0;34m=\u001b[0m\u001b[0mp\u001b[0m\u001b[0;34m,\u001b[0m \u001b[0mN\u001b[0m\u001b[0;34m=\u001b[0m\u001b[0;34m(\u001b[0m\u001b[0mp\u001b[0m\u001b[0;34m*\u001b[0m\u001b[0mnByP\u001b[0m\u001b[0;34m)\u001b[0m\u001b[0;34m,\u001b[0m \u001b[0mSubfiltN\u001b[0m\u001b[0;34m=\u001b[0m\u001b[0mnByP\u001b[0m\u001b[0;34m,\u001b[0m \u001b[0mMults\u001b[0m\u001b[0;34m=\u001b[0m\u001b[0mmults\u001b[0m\u001b[0;34m,\u001b[0m \u001b[0mMultsPerChannel\u001b[0m\u001b[0;34m=\u001b[0m\u001b[0mmults\u001b[0m\u001b[0;34m/\u001b[0m\u001b[0mp\u001b[0m\u001b[0;34m)\u001b[0m\u001b[0;34m,\u001b[0m \u001b[0mignore_index\u001b[0m\u001b[0;34m=\u001b[0m\u001b[0;32mTrue\u001b[0m\u001b[0;34m)\u001b[0m\u001b[0;34m\u001b[0m\u001b[0;34m\u001b[0m\u001b[0m\n",
      "\u001b[0;32m<ipython-input-7-7814bbbf2c4b>\u001b[0m in \u001b[0;36muniqAbsTerms\u001b[0;34m(xs)\u001b[0m\n\u001b[1;32m     24\u001b[0m     \u001b[0muniqs\u001b[0m \u001b[0;34m=\u001b[0m \u001b[0;34m[\u001b[0m\u001b[0;34m]\u001b[0m\u001b[0;34m\u001b[0m\u001b[0;34m\u001b[0m\u001b[0m\n\u001b[1;32m     25\u001b[0m     \u001b[0;32mfor\u001b[0m \u001b[0mx\u001b[0m \u001b[0;32min\u001b[0m \u001b[0mxs\u001b[0m\u001b[0;34m:\u001b[0m\u001b[0;34m\u001b[0m\u001b[0;34m\u001b[0m\u001b[0m\n\u001b[0;32m---> 26\u001b[0;31m         \u001b[0;32mif\u001b[0m \u001b[0;32mnot\u001b[0m \u001b[0many\u001b[0m\u001b[0;34m(\u001b[0m\u001b[0;34m[\u001b[0m\u001b[0meqTerms\u001b[0m\u001b[0;34m(\u001b[0m\u001b[0msym\u001b[0m\u001b[0;34m.\u001b[0m\u001b[0mAbs\u001b[0m\u001b[0;34m(\u001b[0m\u001b[0mx\u001b[0m\u001b[0;34m)\u001b[0m\u001b[0;34m,\u001b[0m\u001b[0mu\u001b[0m\u001b[0;34m)\u001b[0m \u001b[0;32mor\u001b[0m \u001b[0meqTerms\u001b[0m\u001b[0;34m(\u001b[0m\u001b[0mx\u001b[0m\u001b[0;34m,\u001b[0m\u001b[0;36m0\u001b[0m\u001b[0;34m)\u001b[0m \u001b[0;32mfor\u001b[0m \u001b[0mu\u001b[0m \u001b[0;32min\u001b[0m \u001b[0muniqs\u001b[0m\u001b[0;34m]\u001b[0m\u001b[0;34m)\u001b[0m\u001b[0;34m:\u001b[0m\u001b[0;34m\u001b[0m\u001b[0;34m\u001b[0m\u001b[0m\n\u001b[0m\u001b[1;32m     27\u001b[0m             \u001b[0muniqs\u001b[0m\u001b[0;34m.\u001b[0m\u001b[0mappend\u001b[0m\u001b[0;34m(\u001b[0m\u001b[0msym\u001b[0m\u001b[0;34m.\u001b[0m\u001b[0mAbs\u001b[0m\u001b[0;34m(\u001b[0m\u001b[0mx\u001b[0m\u001b[0;34m)\u001b[0m\u001b[0;34m)\u001b[0m\u001b[0;34m\u001b[0m\u001b[0;34m\u001b[0m\u001b[0m\n\u001b[1;32m     28\u001b[0m     \u001b[0;32mreturn\u001b[0m \u001b[0muniqs\u001b[0m\u001b[0;34m\u001b[0m\u001b[0;34m\u001b[0m\u001b[0m\n",
      "\u001b[0;32m<ipython-input-7-7814bbbf2c4b>\u001b[0m in \u001b[0;36m<listcomp>\u001b[0;34m(.0)\u001b[0m\n\u001b[1;32m     24\u001b[0m     \u001b[0muniqs\u001b[0m \u001b[0;34m=\u001b[0m \u001b[0;34m[\u001b[0m\u001b[0;34m]\u001b[0m\u001b[0;34m\u001b[0m\u001b[0;34m\u001b[0m\u001b[0m\n\u001b[1;32m     25\u001b[0m     \u001b[0;32mfor\u001b[0m \u001b[0mx\u001b[0m \u001b[0;32min\u001b[0m \u001b[0mxs\u001b[0m\u001b[0;34m:\u001b[0m\u001b[0;34m\u001b[0m\u001b[0;34m\u001b[0m\u001b[0m\n\u001b[0;32m---> 26\u001b[0;31m         \u001b[0;32mif\u001b[0m \u001b[0;32mnot\u001b[0m \u001b[0many\u001b[0m\u001b[0;34m(\u001b[0m\u001b[0;34m[\u001b[0m\u001b[0meqTerms\u001b[0m\u001b[0;34m(\u001b[0m\u001b[0msym\u001b[0m\u001b[0;34m.\u001b[0m\u001b[0mAbs\u001b[0m\u001b[0;34m(\u001b[0m\u001b[0mx\u001b[0m\u001b[0;34m)\u001b[0m\u001b[0;34m,\u001b[0m\u001b[0mu\u001b[0m\u001b[0;34m)\u001b[0m \u001b[0;32mor\u001b[0m \u001b[0meqTerms\u001b[0m\u001b[0;34m(\u001b[0m\u001b[0mx\u001b[0m\u001b[0;34m,\u001b[0m\u001b[0;36m0\u001b[0m\u001b[0;34m)\u001b[0m \u001b[0;32mfor\u001b[0m \u001b[0mu\u001b[0m \u001b[0;32min\u001b[0m \u001b[0muniqs\u001b[0m\u001b[0;34m]\u001b[0m\u001b[0;34m)\u001b[0m\u001b[0;34m:\u001b[0m\u001b[0;34m\u001b[0m\u001b[0;34m\u001b[0m\u001b[0m\n\u001b[0m\u001b[1;32m     27\u001b[0m             \u001b[0muniqs\u001b[0m\u001b[0;34m.\u001b[0m\u001b[0mappend\u001b[0m\u001b[0;34m(\u001b[0m\u001b[0msym\u001b[0m\u001b[0;34m.\u001b[0m\u001b[0mAbs\u001b[0m\u001b[0;34m(\u001b[0m\u001b[0mx\u001b[0m\u001b[0;34m)\u001b[0m\u001b[0;34m)\u001b[0m\u001b[0;34m\u001b[0m\u001b[0;34m\u001b[0m\u001b[0m\n\u001b[1;32m     28\u001b[0m     \u001b[0;32mreturn\u001b[0m \u001b[0muniqs\u001b[0m\u001b[0;34m\u001b[0m\u001b[0;34m\u001b[0m\u001b[0m\n",
      "\u001b[0;32m<ipython-input-7-7814bbbf2c4b>\u001b[0m in \u001b[0;36meqTerms\u001b[0;34m(x, y)\u001b[0m\n\u001b[1;32m     18\u001b[0m \u001b[0;34m\u001b[0m\u001b[0m\n\u001b[1;32m     19\u001b[0m \u001b[0;32mdef\u001b[0m \u001b[0meqTerms\u001b[0m\u001b[0;34m(\u001b[0m\u001b[0mx\u001b[0m\u001b[0;34m,\u001b[0m \u001b[0my\u001b[0m\u001b[0;34m)\u001b[0m\u001b[0;34m:\u001b[0m\u001b[0;34m\u001b[0m\u001b[0;34m\u001b[0m\u001b[0m\n\u001b[0;32m---> 20\u001b[0;31m     \u001b[0;32mreturn\u001b[0m \u001b[0;36m0\u001b[0m \u001b[0;34m==\u001b[0m \u001b[0msym\u001b[0m\u001b[0;34m.\u001b[0m\u001b[0msimplify\u001b[0m\u001b[0;34m(\u001b[0m\u001b[0mx\u001b[0m\u001b[0;34m-\u001b[0m\u001b[0my\u001b[0m\u001b[0;34m)\u001b[0m\u001b[0;34m\u001b[0m\u001b[0;34m\u001b[0m\u001b[0m\n\u001b[0m\u001b[1;32m     21\u001b[0m \u001b[0;34m\u001b[0m\u001b[0m\n\u001b[1;32m     22\u001b[0m \u001b[0;31m# NOTE: We aren't checking if one term is a bitshifted version of an existing one... can we prove this will not happen?\u001b[0m\u001b[0;34m\u001b[0m\u001b[0;34m\u001b[0m\u001b[0;34m\u001b[0m\u001b[0m\n",
      "\u001b[0;32m/nix/store/fvqhr5l056lmnaqxi37dhfjx462w07x1-python3-3.8.9-env/lib/python3.8/site-packages/sympy/simplify/simplify.py\u001b[0m in \u001b[0;36msimplify\u001b[0;34m(expr, ratio, measure, rational, inverse, doit, **kwargs)\u001b[0m\n\u001b[1;32m    690\u001b[0m \u001b[0;34m\u001b[0m\u001b[0m\n\u001b[1;32m    691\u001b[0m     \u001b[0mshort\u001b[0m \u001b[0;34m=\u001b[0m \u001b[0mshorter\u001b[0m\u001b[0;34m(\u001b[0m\u001b[0mpowsimp\u001b[0m\u001b[0;34m(\u001b[0m\u001b[0mexpr\u001b[0m\u001b[0;34m,\u001b[0m \u001b[0mcombine\u001b[0m\u001b[0;34m=\u001b[0m\u001b[0;34m'exp'\u001b[0m\u001b[0;34m,\u001b[0m \u001b[0mdeep\u001b[0m\u001b[0;34m=\u001b[0m\u001b[0;32mTrue\u001b[0m\u001b[0;34m)\u001b[0m\u001b[0;34m,\u001b[0m \u001b[0mpowsimp\u001b[0m\u001b[0;34m(\u001b[0m\u001b[0mexpr\u001b[0m\u001b[0;34m)\u001b[0m\u001b[0;34m,\u001b[0m \u001b[0mexpr\u001b[0m\u001b[0;34m)\u001b[0m\u001b[0;34m\u001b[0m\u001b[0;34m\u001b[0m\u001b[0m\n\u001b[0;32m--> 692\u001b[0;31m     \u001b[0mshort\u001b[0m \u001b[0;34m=\u001b[0m \u001b[0mshorter\u001b[0m\u001b[0;34m(\u001b[0m\u001b[0mshort\u001b[0m\u001b[0;34m,\u001b[0m \u001b[0mcancel\u001b[0m\u001b[0;34m(\u001b[0m\u001b[0mshort\u001b[0m\u001b[0;34m)\u001b[0m\u001b[0;34m)\u001b[0m\u001b[0;34m\u001b[0m\u001b[0;34m\u001b[0m\u001b[0m\n\u001b[0m\u001b[1;32m    693\u001b[0m     \u001b[0mshort\u001b[0m \u001b[0;34m=\u001b[0m \u001b[0mshorter\u001b[0m\u001b[0;34m(\u001b[0m\u001b[0mshort\u001b[0m\u001b[0;34m,\u001b[0m \u001b[0mfactor_terms\u001b[0m\u001b[0;34m(\u001b[0m\u001b[0mshort\u001b[0m\u001b[0;34m)\u001b[0m\u001b[0;34m,\u001b[0m \u001b[0mexpand_power_exp\u001b[0m\u001b[0;34m(\u001b[0m\u001b[0mexpand_mul\u001b[0m\u001b[0;34m(\u001b[0m\u001b[0mshort\u001b[0m\u001b[0;34m)\u001b[0m\u001b[0;34m)\u001b[0m\u001b[0;34m)\u001b[0m\u001b[0;34m\u001b[0m\u001b[0;34m\u001b[0m\u001b[0m\n\u001b[1;32m    694\u001b[0m     \u001b[0;32mif\u001b[0m \u001b[0mshort\u001b[0m\u001b[0;34m.\u001b[0m\u001b[0mhas\u001b[0m\u001b[0;34m(\u001b[0m\u001b[0mTrigonometricFunction\u001b[0m\u001b[0;34m,\u001b[0m \u001b[0mHyperbolicFunction\u001b[0m\u001b[0;34m,\u001b[0m \u001b[0mExpBase\u001b[0m\u001b[0;34m)\u001b[0m\u001b[0;34m:\u001b[0m\u001b[0;34m\u001b[0m\u001b[0;34m\u001b[0m\u001b[0m\n",
      "\u001b[0;32m/nix/store/fvqhr5l056lmnaqxi37dhfjx462w07x1-python3-3.8.9-env/lib/python3.8/site-packages/sympy/polys/polytools.py\u001b[0m in \u001b[0;36mcancel\u001b[0;34m(f, *gens, **args)\u001b[0m\n\u001b[1;32m   6666\u001b[0m         \u001b[0;32mif\u001b[0m \u001b[0mf\u001b[0m\u001b[0;34m.\u001b[0m\u001b[0mis_Number\u001b[0m \u001b[0;32mor\u001b[0m \u001b[0misinstance\u001b[0m\u001b[0;34m(\u001b[0m\u001b[0mf\u001b[0m\u001b[0;34m,\u001b[0m \u001b[0mRelational\u001b[0m\u001b[0;34m)\u001b[0m \u001b[0;32mor\u001b[0m \u001b[0;32mnot\u001b[0m \u001b[0misinstance\u001b[0m\u001b[0;34m(\u001b[0m\u001b[0mf\u001b[0m\u001b[0;34m,\u001b[0m \u001b[0mExpr\u001b[0m\u001b[0;34m)\u001b[0m\u001b[0;34m:\u001b[0m\u001b[0;34m\u001b[0m\u001b[0;34m\u001b[0m\u001b[0m\n\u001b[1;32m   6667\u001b[0m             \u001b[0;32mreturn\u001b[0m \u001b[0mf\u001b[0m\u001b[0;34m\u001b[0m\u001b[0;34m\u001b[0m\u001b[0m\n\u001b[0;32m-> 6668\u001b[0;31m         \u001b[0mf\u001b[0m \u001b[0;34m=\u001b[0m \u001b[0mfactor_terms\u001b[0m\u001b[0;34m(\u001b[0m\u001b[0mf\u001b[0m\u001b[0;34m,\u001b[0m \u001b[0mradical\u001b[0m\u001b[0;34m=\u001b[0m\u001b[0;32mTrue\u001b[0m\u001b[0;34m)\u001b[0m\u001b[0;34m\u001b[0m\u001b[0;34m\u001b[0m\u001b[0m\n\u001b[0m\u001b[1;32m   6669\u001b[0m         \u001b[0mp\u001b[0m\u001b[0;34m,\u001b[0m \u001b[0mq\u001b[0m \u001b[0;34m=\u001b[0m \u001b[0mf\u001b[0m\u001b[0;34m.\u001b[0m\u001b[0mas_numer_denom\u001b[0m\u001b[0;34m(\u001b[0m\u001b[0;34m)\u001b[0m\u001b[0;34m\u001b[0m\u001b[0;34m\u001b[0m\u001b[0m\n\u001b[1;32m   6670\u001b[0m \u001b[0;34m\u001b[0m\u001b[0m\n",
      "\u001b[0;32m/nix/store/fvqhr5l056lmnaqxi37dhfjx462w07x1-python3-3.8.9-env/lib/python3.8/site-packages/sympy/core/exprtools.py\u001b[0m in \u001b[0;36mfactor_terms\u001b[0;34m(expr, radical, clear, fraction, sign)\u001b[0m\n\u001b[1;32m   1272\u001b[0m         \u001b[0;32mreturn\u001b[0m \u001b[0mrv\u001b[0m\u001b[0;34m\u001b[0m\u001b[0;34m\u001b[0m\u001b[0m\n\u001b[1;32m   1273\u001b[0m     \u001b[0mexpr\u001b[0m \u001b[0;34m=\u001b[0m \u001b[0msympify\u001b[0m\u001b[0;34m(\u001b[0m\u001b[0mexpr\u001b[0m\u001b[0;34m)\u001b[0m\u001b[0;34m\u001b[0m\u001b[0;34m\u001b[0m\u001b[0m\n\u001b[0;32m-> 1274\u001b[0;31m     \u001b[0;32mreturn\u001b[0m \u001b[0mdo\u001b[0m\u001b[0;34m(\u001b[0m\u001b[0mexpr\u001b[0m\u001b[0;34m)\u001b[0m\u001b[0;34m\u001b[0m\u001b[0;34m\u001b[0m\u001b[0m\n\u001b[0m\u001b[1;32m   1275\u001b[0m \u001b[0;34m\u001b[0m\u001b[0m\n\u001b[1;32m   1276\u001b[0m \u001b[0;34m\u001b[0m\u001b[0m\n",
      "\u001b[0;32m/nix/store/fvqhr5l056lmnaqxi37dhfjx462w07x1-python3-3.8.9-env/lib/python3.8/site-packages/sympy/core/exprtools.py\u001b[0m in \u001b[0;36mdo\u001b[0;34m(expr)\u001b[0m\n\u001b[1;32m   1249\u001b[0m             \u001b[0mlist_args\u001b[0m \u001b[0;34m=\u001b[0m \u001b[0;34m[\u001b[0m\u001b[0mdo\u001b[0m\u001b[0;34m(\u001b[0m\u001b[0ma\u001b[0m\u001b[0;34m)\u001b[0m \u001b[0;32mfor\u001b[0m \u001b[0ma\u001b[0m \u001b[0;32min\u001b[0m \u001b[0mAdd\u001b[0m\u001b[0;34m.\u001b[0m\u001b[0mmake_args\u001b[0m\u001b[0;34m(\u001b[0m\u001b[0mp\u001b[0m\u001b[0;34m)\u001b[0m\u001b[0;34m]\u001b[0m\u001b[0;34m\u001b[0m\u001b[0;34m\u001b[0m\u001b[0m\n\u001b[1;32m   1250\u001b[0m             \u001b[0;31m# get a common negative (if there) which gcd_terms does not remove\u001b[0m\u001b[0;34m\u001b[0m\u001b[0;34m\u001b[0m\u001b[0;34m\u001b[0m\u001b[0m\n\u001b[0;32m-> 1251\u001b[0;31m             if all(a.as_coeff_Mul()[0].extract_multiplicatively(-1) is not None\n\u001b[0m\u001b[1;32m   1252\u001b[0m                    for a in list_args):\n\u001b[1;32m   1253\u001b[0m                 \u001b[0mcont\u001b[0m \u001b[0;34m=\u001b[0m \u001b[0;34m-\u001b[0m\u001b[0mcont\u001b[0m\u001b[0;34m\u001b[0m\u001b[0;34m\u001b[0m\u001b[0m\n",
      "\u001b[0;32m/nix/store/fvqhr5l056lmnaqxi37dhfjx462w07x1-python3-3.8.9-env/lib/python3.8/site-packages/sympy/core/exprtools.py\u001b[0m in \u001b[0;36m<genexpr>\u001b[0;34m(.0)\u001b[0m\n\u001b[1;32m   1249\u001b[0m             \u001b[0mlist_args\u001b[0m \u001b[0;34m=\u001b[0m \u001b[0;34m[\u001b[0m\u001b[0mdo\u001b[0m\u001b[0;34m(\u001b[0m\u001b[0ma\u001b[0m\u001b[0;34m)\u001b[0m \u001b[0;32mfor\u001b[0m \u001b[0ma\u001b[0m \u001b[0;32min\u001b[0m \u001b[0mAdd\u001b[0m\u001b[0;34m.\u001b[0m\u001b[0mmake_args\u001b[0m\u001b[0;34m(\u001b[0m\u001b[0mp\u001b[0m\u001b[0;34m)\u001b[0m\u001b[0;34m]\u001b[0m\u001b[0;34m\u001b[0m\u001b[0;34m\u001b[0m\u001b[0m\n\u001b[1;32m   1250\u001b[0m             \u001b[0;31m# get a common negative (if there) which gcd_terms does not remove\u001b[0m\u001b[0;34m\u001b[0m\u001b[0;34m\u001b[0m\u001b[0;34m\u001b[0m\u001b[0m\n\u001b[0;32m-> 1251\u001b[0;31m             if all(a.as_coeff_Mul()[0].extract_multiplicatively(-1) is not None\n\u001b[0m\u001b[1;32m   1252\u001b[0m                    for a in list_args):\n\u001b[1;32m   1253\u001b[0m                 \u001b[0mcont\u001b[0m \u001b[0;34m=\u001b[0m \u001b[0;34m-\u001b[0m\u001b[0mcont\u001b[0m\u001b[0;34m\u001b[0m\u001b[0;34m\u001b[0m\u001b[0m\n",
      "\u001b[0;31mKeyboardInterrupt\u001b[0m: "
     ]
    }
   ],
   "source": [
    "frame = pd.DataFrame(columns=['FIR', 'CoeffType', 'Parallelism', 'N', 'SubfiltN', 'Mults'])\n",
    "\n",
    "for p in [2,4,8,16]:\n",
    "    print(f'Running p{p}')\n",
    "    for nByP in [1,2,3,4]:\n",
    "        print(f'Running nByP{nByP}')\n",
    "        for coeffType in CoeffType:\n",
    "            ws = genCoeffs(coeffType, p*nByP)\n",
    "            mults = countMults([uniqAbsTerms(h) for h in hffa(p, ws)])\n",
    "            frame = frame.append(dict(FIR='FFA', CoeffType=coeffType.name, Parallelism=p, N=(p*nByP), SubfiltN=nByP, Mults=mults), ignore_index=True)\n",
    "            \n",
    "            mults = countMults([uniqAbsTerms(h) for h in hpoly(p, ws)])\n",
    "            frame = frame.append(dict(FIR='Poly', CoeffType=coeffType.name, Parallelism=p, N=(p*nByP), SubfiltN=nByP, Mults=mults, MultsPerChannel=mults/p), ignore_index=True)"
   ]
  },
  {
   "cell_type": "code",
   "execution_count": 4,
   "id": "accepting-binary",
   "metadata": {},
   "outputs": [],
   "source": [
    "frame.to_cpd.read_csv(\"data.csv\")sv('outputs/coeffSyms.csv', index = False, header=True)"
   ]
  },
  {
   "cell_type": "code",
   "execution_count": 3,
   "id": "ac6caa95-3b7c-4724-a5c5-45bf4c3fc482",
   "metadata": {},
   "outputs": [],
   "source": [
    "frame = pd.read_csv(\"outputs/coeffSyms.csv\")"
   ]
  },
  {
   "cell_type": "code",
   "execution_count": 45,
   "id": "ceeab8f4-51b4-43bc-83db-abd03fc5e168",
   "metadata": {},
   "outputs": [
    {
     "name": "stderr",
     "output_type": "stream",
     "text": [
      "<ipython-input-45-4f4599e2da2d>:1: UserWarning:\n",
      "\n",
      "Boolean Series key will be reindexed to match DataFrame index.\n",
      "\n"
     ]
    },
    {
     "data": {
      "text/html": [
       "<div>\n",
       "<style scoped>\n",
       "    .dataframe tbody tr th:only-of-type {\n",
       "        vertical-align: middle;\n",
       "    }\n",
       "\n",
       "    .dataframe tbody tr th {\n",
       "        vertical-align: top;\n",
       "    }\n",
       "\n",
       "    .dataframe thead th {\n",
       "        text-align: right;\n",
       "    }\n",
       "</style>\n",
       "<table border=\"1\" class=\"dataframe\">\n",
       "  <thead>\n",
       "    <tr style=\"text-align: right;\">\n",
       "      <th></th>\n",
       "      <th>FIR</th>\n",
       "      <th>CoeffType</th>\n",
       "      <th>Parallelism</th>\n",
       "      <th>N</th>\n",
       "      <th>SubfiltN</th>\n",
       "      <th>Mults</th>\n",
       "      <th>MultsPerChannel</th>\n",
       "    </tr>\n",
       "  </thead>\n",
       "  <tbody>\n",
       "    <tr>\n",
       "      <th>2</th>\n",
       "      <td>FFA</td>\n",
       "      <td>Type2</td>\n",
       "      <td>2</td>\n",
       "      <td>2</td>\n",
       "      <td>1</td>\n",
       "      <td>3</td>\n",
       "      <td>NaN</td>\n",
       "    </tr>\n",
       "    <tr>\n",
       "      <th>6</th>\n",
       "      <td>FFA</td>\n",
       "      <td>Type4</td>\n",
       "      <td>2</td>\n",
       "      <td>2</td>\n",
       "      <td>1</td>\n",
       "      <td>3</td>\n",
       "      <td>NaN</td>\n",
       "    </tr>\n",
       "    <tr>\n",
       "      <th>14</th>\n",
       "      <td>FFA</td>\n",
       "      <td>Type2</td>\n",
       "      <td>2</td>\n",
       "      <td>4</td>\n",
       "      <td>2</td>\n",
       "      <td>5</td>\n",
       "      <td>NaN</td>\n",
       "    </tr>\n",
       "    <tr>\n",
       "      <th>18</th>\n",
       "      <td>FFA</td>\n",
       "      <td>Type4</td>\n",
       "      <td>2</td>\n",
       "      <td>4</td>\n",
       "      <td>2</td>\n",
       "      <td>5</td>\n",
       "      <td>NaN</td>\n",
       "    </tr>\n",
       "    <tr>\n",
       "      <th>26</th>\n",
       "      <td>FFA</td>\n",
       "      <td>Type2</td>\n",
       "      <td>2</td>\n",
       "      <td>6</td>\n",
       "      <td>3</td>\n",
       "      <td>8</td>\n",
       "      <td>NaN</td>\n",
       "    </tr>\n",
       "    <tr>\n",
       "      <th>30</th>\n",
       "      <td>FFA</td>\n",
       "      <td>Type4</td>\n",
       "      <td>2</td>\n",
       "      <td>6</td>\n",
       "      <td>3</td>\n",
       "      <td>7</td>\n",
       "      <td>NaN</td>\n",
       "    </tr>\n",
       "    <tr>\n",
       "      <th>38</th>\n",
       "      <td>FFA</td>\n",
       "      <td>Type2</td>\n",
       "      <td>2</td>\n",
       "      <td>8</td>\n",
       "      <td>4</td>\n",
       "      <td>10</td>\n",
       "      <td>NaN</td>\n",
       "    </tr>\n",
       "    <tr>\n",
       "      <th>42</th>\n",
       "      <td>FFA</td>\n",
       "      <td>Type4</td>\n",
       "      <td>2</td>\n",
       "      <td>8</td>\n",
       "      <td>4</td>\n",
       "      <td>10</td>\n",
       "      <td>NaN</td>\n",
       "    </tr>\n",
       "    <tr>\n",
       "      <th>50</th>\n",
       "      <td>FFA</td>\n",
       "      <td>Type2</td>\n",
       "      <td>4</td>\n",
       "      <td>4</td>\n",
       "      <td>1</td>\n",
       "      <td>9</td>\n",
       "      <td>NaN</td>\n",
       "    </tr>\n",
       "    <tr>\n",
       "      <th>54</th>\n",
       "      <td>FFA</td>\n",
       "      <td>Type4</td>\n",
       "      <td>4</td>\n",
       "      <td>4</td>\n",
       "      <td>1</td>\n",
       "      <td>9</td>\n",
       "      <td>NaN</td>\n",
       "    </tr>\n",
       "    <tr>\n",
       "      <th>62</th>\n",
       "      <td>FFA</td>\n",
       "      <td>Type2</td>\n",
       "      <td>4</td>\n",
       "      <td>8</td>\n",
       "      <td>2</td>\n",
       "      <td>17</td>\n",
       "      <td>NaN</td>\n",
       "    </tr>\n",
       "    <tr>\n",
       "      <th>66</th>\n",
       "      <td>FFA</td>\n",
       "      <td>Type4</td>\n",
       "      <td>4</td>\n",
       "      <td>8</td>\n",
       "      <td>2</td>\n",
       "      <td>17</td>\n",
       "      <td>NaN</td>\n",
       "    </tr>\n",
       "    <tr>\n",
       "      <th>74</th>\n",
       "      <td>FFA</td>\n",
       "      <td>Type2</td>\n",
       "      <td>4</td>\n",
       "      <td>12</td>\n",
       "      <td>3</td>\n",
       "      <td>26</td>\n",
       "      <td>NaN</td>\n",
       "    </tr>\n",
       "    <tr>\n",
       "      <th>78</th>\n",
       "      <td>FFA</td>\n",
       "      <td>Type4</td>\n",
       "      <td>4</td>\n",
       "      <td>12</td>\n",
       "      <td>3</td>\n",
       "      <td>25</td>\n",
       "      <td>NaN</td>\n",
       "    </tr>\n",
       "    <tr>\n",
       "      <th>86</th>\n",
       "      <td>FFA</td>\n",
       "      <td>Type2</td>\n",
       "      <td>4</td>\n",
       "      <td>16</td>\n",
       "      <td>4</td>\n",
       "      <td>34</td>\n",
       "      <td>NaN</td>\n",
       "    </tr>\n",
       "    <tr>\n",
       "      <th>90</th>\n",
       "      <td>FFA</td>\n",
       "      <td>Type4</td>\n",
       "      <td>4</td>\n",
       "      <td>16</td>\n",
       "      <td>4</td>\n",
       "      <td>34</td>\n",
       "      <td>NaN</td>\n",
       "    </tr>\n",
       "    <tr>\n",
       "      <th>98</th>\n",
       "      <td>FFA</td>\n",
       "      <td>Type2</td>\n",
       "      <td>8</td>\n",
       "      <td>8</td>\n",
       "      <td>1</td>\n",
       "      <td>27</td>\n",
       "      <td>NaN</td>\n",
       "    </tr>\n",
       "    <tr>\n",
       "      <th>102</th>\n",
       "      <td>FFA</td>\n",
       "      <td>Type4</td>\n",
       "      <td>8</td>\n",
       "      <td>8</td>\n",
       "      <td>1</td>\n",
       "      <td>27</td>\n",
       "      <td>NaN</td>\n",
       "    </tr>\n",
       "    <tr>\n",
       "      <th>110</th>\n",
       "      <td>FFA</td>\n",
       "      <td>Type2</td>\n",
       "      <td>8</td>\n",
       "      <td>16</td>\n",
       "      <td>2</td>\n",
       "      <td>53</td>\n",
       "      <td>NaN</td>\n",
       "    </tr>\n",
       "    <tr>\n",
       "      <th>114</th>\n",
       "      <td>FFA</td>\n",
       "      <td>Type4</td>\n",
       "      <td>8</td>\n",
       "      <td>16</td>\n",
       "      <td>2</td>\n",
       "      <td>53</td>\n",
       "      <td>NaN</td>\n",
       "    </tr>\n",
       "    <tr>\n",
       "      <th>122</th>\n",
       "      <td>FFA</td>\n",
       "      <td>Type2</td>\n",
       "      <td>8</td>\n",
       "      <td>24</td>\n",
       "      <td>3</td>\n",
       "      <td>80</td>\n",
       "      <td>NaN</td>\n",
       "    </tr>\n",
       "    <tr>\n",
       "      <th>126</th>\n",
       "      <td>FFA</td>\n",
       "      <td>Type4</td>\n",
       "      <td>8</td>\n",
       "      <td>24</td>\n",
       "      <td>3</td>\n",
       "      <td>79</td>\n",
       "      <td>NaN</td>\n",
       "    </tr>\n",
       "    <tr>\n",
       "      <th>134</th>\n",
       "      <td>FFA</td>\n",
       "      <td>Type2</td>\n",
       "      <td>8</td>\n",
       "      <td>32</td>\n",
       "      <td>4</td>\n",
       "      <td>106</td>\n",
       "      <td>NaN</td>\n",
       "    </tr>\n",
       "    <tr>\n",
       "      <th>138</th>\n",
       "      <td>FFA</td>\n",
       "      <td>Type4</td>\n",
       "      <td>8</td>\n",
       "      <td>32</td>\n",
       "      <td>4</td>\n",
       "      <td>106</td>\n",
       "      <td>NaN</td>\n",
       "    </tr>\n",
       "    <tr>\n",
       "      <th>146</th>\n",
       "      <td>FFA</td>\n",
       "      <td>Type2</td>\n",
       "      <td>16</td>\n",
       "      <td>16</td>\n",
       "      <td>1</td>\n",
       "      <td>81</td>\n",
       "      <td>NaN</td>\n",
       "    </tr>\n",
       "    <tr>\n",
       "      <th>150</th>\n",
       "      <td>FFA</td>\n",
       "      <td>Type4</td>\n",
       "      <td>16</td>\n",
       "      <td>16</td>\n",
       "      <td>1</td>\n",
       "      <td>81</td>\n",
       "      <td>NaN</td>\n",
       "    </tr>\n",
       "    <tr>\n",
       "      <th>158</th>\n",
       "      <td>FFA</td>\n",
       "      <td>Type2</td>\n",
       "      <td>16</td>\n",
       "      <td>32</td>\n",
       "      <td>2</td>\n",
       "      <td>161</td>\n",
       "      <td>NaN</td>\n",
       "    </tr>\n",
       "    <tr>\n",
       "      <th>162</th>\n",
       "      <td>FFA</td>\n",
       "      <td>Type4</td>\n",
       "      <td>16</td>\n",
       "      <td>32</td>\n",
       "      <td>2</td>\n",
       "      <td>161</td>\n",
       "      <td>NaN</td>\n",
       "    </tr>\n",
       "    <tr>\n",
       "      <th>170</th>\n",
       "      <td>FFA</td>\n",
       "      <td>Type2</td>\n",
       "      <td>16</td>\n",
       "      <td>48</td>\n",
       "      <td>3</td>\n",
       "      <td>242</td>\n",
       "      <td>NaN</td>\n",
       "    </tr>\n",
       "    <tr>\n",
       "      <th>174</th>\n",
       "      <td>FFA</td>\n",
       "      <td>Type4</td>\n",
       "      <td>16</td>\n",
       "      <td>48</td>\n",
       "      <td>3</td>\n",
       "      <td>241</td>\n",
       "      <td>NaN</td>\n",
       "    </tr>\n",
       "    <tr>\n",
       "      <th>182</th>\n",
       "      <td>FFA</td>\n",
       "      <td>Type2</td>\n",
       "      <td>16</td>\n",
       "      <td>64</td>\n",
       "      <td>4</td>\n",
       "      <td>322</td>\n",
       "      <td>NaN</td>\n",
       "    </tr>\n",
       "    <tr>\n",
       "      <th>186</th>\n",
       "      <td>FFA</td>\n",
       "      <td>Type4</td>\n",
       "      <td>16</td>\n",
       "      <td>64</td>\n",
       "      <td>4</td>\n",
       "      <td>322</td>\n",
       "      <td>NaN</td>\n",
       "    </tr>\n",
       "  </tbody>\n",
       "</table>\n",
       "</div>"
      ],
      "text/plain": [
       "     FIR CoeffType  Parallelism   N  SubfiltN  Mults  MultsPerChannel\n",
       "2    FFA     Type2            2   2         1      3              NaN\n",
       "6    FFA     Type4            2   2         1      3              NaN\n",
       "14   FFA     Type2            2   4         2      5              NaN\n",
       "18   FFA     Type4            2   4         2      5              NaN\n",
       "26   FFA     Type2            2   6         3      8              NaN\n",
       "30   FFA     Type4            2   6         3      7              NaN\n",
       "38   FFA     Type2            2   8         4     10              NaN\n",
       "42   FFA     Type4            2   8         4     10              NaN\n",
       "50   FFA     Type2            4   4         1      9              NaN\n",
       "54   FFA     Type4            4   4         1      9              NaN\n",
       "62   FFA     Type2            4   8         2     17              NaN\n",
       "66   FFA     Type4            4   8         2     17              NaN\n",
       "74   FFA     Type2            4  12         3     26              NaN\n",
       "78   FFA     Type4            4  12         3     25              NaN\n",
       "86   FFA     Type2            4  16         4     34              NaN\n",
       "90   FFA     Type4            4  16         4     34              NaN\n",
       "98   FFA     Type2            8   8         1     27              NaN\n",
       "102  FFA     Type4            8   8         1     27              NaN\n",
       "110  FFA     Type2            8  16         2     53              NaN\n",
       "114  FFA     Type4            8  16         2     53              NaN\n",
       "122  FFA     Type2            8  24         3     80              NaN\n",
       "126  FFA     Type4            8  24         3     79              NaN\n",
       "134  FFA     Type2            8  32         4    106              NaN\n",
       "138  FFA     Type4            8  32         4    106              NaN\n",
       "146  FFA     Type2           16  16         1     81              NaN\n",
       "150  FFA     Type4           16  16         1     81              NaN\n",
       "158  FFA     Type2           16  32         2    161              NaN\n",
       "162  FFA     Type4           16  32         2    161              NaN\n",
       "170  FFA     Type2           16  48         3    242              NaN\n",
       "174  FFA     Type4           16  48         3    241              NaN\n",
       "182  FFA     Type2           16  64         4    322              NaN\n",
       "186  FFA     Type4           16  64         4    322              NaN"
      ]
     },
     "execution_count": 45,
     "metadata": {},
     "output_type": "execute_result"
    }
   ],
   "source": [
    "in_frame[in_frame['FIR']=='FFA'][in_frame['CoeffType'] != 'Type1Pad'][in_frame['CoeffType'] != 'Type3Pad'][in_frame['CoeffType'] != 'NonLinPhase'][in_frame['CoeffType'] != 'HalfBand']"
   ]
  },
  {
   "cell_type": "code",
   "execution_count": 6,
   "id": "intense-lithuania",
   "metadata": {},
   "outputs": [
    {
     "data": {
      "application/vnd.plotly.v1+json": {
       "config": {
        "plotlyServerURL": "https://plot.ly"
       },
       "data": [
        {
         "hovertemplate": "FIR=FFA<br>Parallelism=2<br>CoeffType=Type1Pad<br>SubfiltN=%{x}<br>Mults=%{y}<extra></extra>",
         "legendgroup": "FFA",
         "line": {
          "color": "#636efa",
          "dash": "solid"
         },
         "mode": "lines",
         "name": "FFA",
         "orientation": "v",
         "showlegend": true,
         "type": "scatter",
         "x": [
          1,
          2,
          3,
          4
         ],
         "xaxis": "x19",
         "y": [
          3,
          4,
          6,
          8
         ],
         "yaxis": "y19"
        },
        {
         "hovertemplate": "FIR=FFA<br>Parallelism=2<br>CoeffType=Type2<br>SubfiltN=%{x}<br>Mults=%{y}<extra></extra>",
         "legendgroup": "FFA",
         "line": {
          "color": "#636efa",
          "dash": "solid"
         },
         "mode": "lines",
         "name": "FFA",
         "orientation": "v",
         "showlegend": false,
         "type": "scatter",
         "x": [
          1,
          2,
          3,
          4
         ],
         "xaxis": "x20",
         "y": [
          3,
          5,
          8,
          10
         ],
         "yaxis": "y20"
        },
        {
         "hovertemplate": "FIR=FFA<br>Parallelism=2<br>CoeffType=Type3Pad<br>SubfiltN=%{x}<br>Mults=%{y}<extra></extra>",
         "legendgroup": "FFA",
         "line": {
          "color": "#636efa",
          "dash": "solid"
         },
         "mode": "lines",
         "name": "FFA",
         "orientation": "v",
         "showlegend": false,
         "type": "scatter",
         "x": [
          1,
          2,
          3,
          4
         ],
         "xaxis": "x21",
         "y": [
          3,
          4,
          6,
          8
         ],
         "yaxis": "y21"
        },
        {
         "hovertemplate": "FIR=FFA<br>Parallelism=2<br>CoeffType=Type4<br>SubfiltN=%{x}<br>Mults=%{y}<extra></extra>",
         "legendgroup": "FFA",
         "line": {
          "color": "#636efa",
          "dash": "solid"
         },
         "mode": "lines",
         "name": "FFA",
         "orientation": "v",
         "showlegend": false,
         "type": "scatter",
         "x": [
          1,
          2,
          3,
          4
         ],
         "xaxis": "x22",
         "y": [
          3,
          5,
          7,
          10
         ],
         "yaxis": "y22"
        },
        {
         "hovertemplate": "FIR=FFA<br>Parallelism=2<br>CoeffType=NonLinPhase<br>SubfiltN=%{x}<br>Mults=%{y}<extra></extra>",
         "legendgroup": "FFA",
         "line": {
          "color": "#636efa",
          "dash": "solid"
         },
         "mode": "lines",
         "name": "FFA",
         "orientation": "v",
         "showlegend": false,
         "type": "scatter",
         "x": [
          1,
          2,
          3,
          4
         ],
         "xaxis": "x23",
         "y": [
          3,
          6,
          9,
          12
         ],
         "yaxis": "y23"
        },
        {
         "hovertemplate": "FIR=FFA<br>Parallelism=2<br>CoeffType=HalfBand<br>SubfiltN=%{x}<br>Mults=%{y}<extra></extra>",
         "legendgroup": "FFA",
         "line": {
          "color": "#636efa",
          "dash": "solid"
         },
         "mode": "lines",
         "name": "FFA",
         "orientation": "v",
         "showlegend": false,
         "type": "scatter",
         "x": [
          1,
          2,
          3,
          4
         ],
         "xaxis": "x24",
         "y": [
          3,
          3,
          5,
          5
         ],
         "yaxis": "y24"
        },
        {
         "hovertemplate": "FIR=FFA<br>Parallelism=4<br>CoeffType=Type1Pad<br>SubfiltN=%{x}<br>Mults=%{y}<extra></extra>",
         "legendgroup": "FFA",
         "line": {
          "color": "#636efa",
          "dash": "solid"
         },
         "mode": "lines",
         "name": "FFA",
         "orientation": "v",
         "showlegend": false,
         "type": "scatter",
         "x": [
          1,
          2,
          3,
          4
         ],
         "xaxis": "x13",
         "y": [
          9,
          15,
          23,
          30
         ],
         "yaxis": "y13"
        },
        {
         "hovertemplate": "FIR=FFA<br>Parallelism=4<br>CoeffType=Type2<br>SubfiltN=%{x}<br>Mults=%{y}<extra></extra>",
         "legendgroup": "FFA",
         "line": {
          "color": "#636efa",
          "dash": "solid"
         },
         "mode": "lines",
         "name": "FFA",
         "orientation": "v",
         "showlegend": false,
         "type": "scatter",
         "x": [
          1,
          2,
          3,
          4
         ],
         "xaxis": "x14",
         "y": [
          9,
          17,
          26,
          34
         ],
         "yaxis": "y14"
        },
        {
         "hovertemplate": "FIR=FFA<br>Parallelism=4<br>CoeffType=Type3Pad<br>SubfiltN=%{x}<br>Mults=%{y}<extra></extra>",
         "legendgroup": "FFA",
         "line": {
          "color": "#636efa",
          "dash": "solid"
         },
         "mode": "lines",
         "name": "FFA",
         "orientation": "v",
         "showlegend": false,
         "type": "scatter",
         "x": [
          1,
          2,
          3,
          4
         ],
         "xaxis": "x15",
         "y": [
          9,
          15,
          22,
          30
         ],
         "yaxis": "y15"
        },
        {
         "hovertemplate": "FIR=FFA<br>Parallelism=4<br>CoeffType=Type4<br>SubfiltN=%{x}<br>Mults=%{y}<extra></extra>",
         "legendgroup": "FFA",
         "line": {
          "color": "#636efa",
          "dash": "solid"
         },
         "mode": "lines",
         "name": "FFA",
         "orientation": "v",
         "showlegend": false,
         "type": "scatter",
         "x": [
          1,
          2,
          3,
          4
         ],
         "xaxis": "x16",
         "y": [
          9,
          17,
          25,
          34
         ],
         "yaxis": "y16"
        },
        {
         "hovertemplate": "FIR=FFA<br>Parallelism=4<br>CoeffType=NonLinPhase<br>SubfiltN=%{x}<br>Mults=%{y}<extra></extra>",
         "legendgroup": "FFA",
         "line": {
          "color": "#636efa",
          "dash": "solid"
         },
         "mode": "lines",
         "name": "FFA",
         "orientation": "v",
         "showlegend": false,
         "type": "scatter",
         "x": [
          1,
          2,
          3,
          4
         ],
         "xaxis": "x17",
         "y": [
          9,
          18,
          27,
          36
         ],
         "yaxis": "y17"
        },
        {
         "hovertemplate": "FIR=FFA<br>Parallelism=4<br>CoeffType=HalfBand<br>SubfiltN=%{x}<br>Mults=%{y}<extra></extra>",
         "legendgroup": "FFA",
         "line": {
          "color": "#636efa",
          "dash": "solid"
         },
         "mode": "lines",
         "name": "FFA",
         "orientation": "v",
         "showlegend": false,
         "type": "scatter",
         "x": [
          1,
          2,
          3,
          4
         ],
         "xaxis": "x18",
         "y": [
          9,
          11,
          15,
          19
         ],
         "yaxis": "y18"
        },
        {
         "hovertemplate": "FIR=FFA<br>Parallelism=8<br>CoeffType=Type1Pad<br>SubfiltN=%{x}<br>Mults=%{y}<extra></extra>",
         "legendgroup": "FFA",
         "line": {
          "color": "#636efa",
          "dash": "solid"
         },
         "mode": "lines",
         "name": "FFA",
         "orientation": "v",
         "showlegend": false,
         "type": "scatter",
         "x": [
          1,
          2,
          3,
          4
         ],
         "xaxis": "x7",
         "y": [
          27,
          50,
          76,
          100
         ],
         "yaxis": "y7"
        },
        {
         "hovertemplate": "FIR=FFA<br>Parallelism=8<br>CoeffType=Type2<br>SubfiltN=%{x}<br>Mults=%{y}<extra></extra>",
         "legendgroup": "FFA",
         "line": {
          "color": "#636efa",
          "dash": "solid"
         },
         "mode": "lines",
         "name": "FFA",
         "orientation": "v",
         "showlegend": false,
         "type": "scatter",
         "x": [
          1,
          2,
          3,
          4
         ],
         "xaxis": "x8",
         "y": [
          27,
          53,
          80,
          106
         ],
         "yaxis": "y8"
        },
        {
         "hovertemplate": "FIR=FFA<br>Parallelism=8<br>CoeffType=Type3Pad<br>SubfiltN=%{x}<br>Mults=%{y}<extra></extra>",
         "legendgroup": "FFA",
         "line": {
          "color": "#636efa",
          "dash": "solid"
         },
         "mode": "lines",
         "name": "FFA",
         "orientation": "v",
         "showlegend": false,
         "type": "scatter",
         "x": [
          1,
          2,
          3,
          4
         ],
         "xaxis": "x9",
         "y": [
          27,
          50,
          74,
          100
         ],
         "yaxis": "y9"
        },
        {
         "hovertemplate": "FIR=FFA<br>Parallelism=8<br>CoeffType=Type4<br>SubfiltN=%{x}<br>Mults=%{y}<extra></extra>",
         "legendgroup": "FFA",
         "line": {
          "color": "#636efa",
          "dash": "solid"
         },
         "mode": "lines",
         "name": "FFA",
         "orientation": "v",
         "showlegend": false,
         "type": "scatter",
         "x": [
          1,
          2,
          3,
          4
         ],
         "xaxis": "x10",
         "y": [
          27,
          53,
          79,
          106
         ],
         "yaxis": "y10"
        },
        {
         "hovertemplate": "FIR=FFA<br>Parallelism=8<br>CoeffType=NonLinPhase<br>SubfiltN=%{x}<br>Mults=%{y}<extra></extra>",
         "legendgroup": "FFA",
         "line": {
          "color": "#636efa",
          "dash": "solid"
         },
         "mode": "lines",
         "name": "FFA",
         "orientation": "v",
         "showlegend": false,
         "type": "scatter",
         "x": [
          1,
          2,
          3,
          4
         ],
         "xaxis": "x11",
         "y": [
          27,
          54,
          81,
          108
         ],
         "yaxis": "y11"
        },
        {
         "hovertemplate": "FIR=FFA<br>Parallelism=8<br>CoeffType=HalfBand<br>SubfiltN=%{x}<br>Mults=%{y}<extra></extra>",
         "legendgroup": "FFA",
         "line": {
          "color": "#636efa",
          "dash": "solid"
         },
         "mode": "lines",
         "name": "FFA",
         "orientation": "v",
         "showlegend": false,
         "type": "scatter",
         "x": [
          1,
          2,
          3,
          4
         ],
         "xaxis": "x12",
         "y": [
          27,
          39,
          55,
          69
         ],
         "yaxis": "y12"
        },
        {
         "hovertemplate": "FIR=FFA<br>Parallelism=16<br>CoeffType=Type1Pad<br>SubfiltN=%{x}<br>Mults=%{y}<extra></extra>",
         "legendgroup": "FFA",
         "line": {
          "color": "#636efa",
          "dash": "solid"
         },
         "mode": "lines",
         "name": "FFA",
         "orientation": "v",
         "showlegend": false,
         "type": "scatter",
         "x": [
          1,
          2,
          3,
          4
         ],
         "xaxis": "x",
         "y": [
          81,
          157,
          237,
          314
         ],
         "yaxis": "y"
        },
        {
         "hovertemplate": "FIR=FFA<br>Parallelism=16<br>CoeffType=Type2<br>SubfiltN=%{x}<br>Mults=%{y}<extra></extra>",
         "legendgroup": "FFA",
         "line": {
          "color": "#636efa",
          "dash": "solid"
         },
         "mode": "lines",
         "name": "FFA",
         "orientation": "v",
         "showlegend": false,
         "type": "scatter",
         "x": [
          1,
          2,
          3,
          4
         ],
         "xaxis": "x2",
         "y": [
          81,
          161,
          242,
          322
         ],
         "yaxis": "y2"
        },
        {
         "hovertemplate": "FIR=FFA<br>Parallelism=16<br>CoeffType=Type3Pad<br>SubfiltN=%{x}<br>Mults=%{y}<extra></extra>",
         "legendgroup": "FFA",
         "line": {
          "color": "#636efa",
          "dash": "solid"
         },
         "mode": "lines",
         "name": "FFA",
         "orientation": "v",
         "showlegend": false,
         "type": "scatter",
         "x": [
          1,
          2,
          3,
          4
         ],
         "xaxis": "x3",
         "y": [
          81,
          157,
          234,
          314
         ],
         "yaxis": "y3"
        },
        {
         "hovertemplate": "FIR=FFA<br>Parallelism=16<br>CoeffType=Type4<br>SubfiltN=%{x}<br>Mults=%{y}<extra></extra>",
         "legendgroup": "FFA",
         "line": {
          "color": "#636efa",
          "dash": "solid"
         },
         "mode": "lines",
         "name": "FFA",
         "orientation": "v",
         "showlegend": false,
         "type": "scatter",
         "x": [
          1,
          2,
          3,
          4
         ],
         "xaxis": "x4",
         "y": [
          81,
          161,
          241,
          322
         ],
         "yaxis": "y4"
        },
        {
         "hovertemplate": "FIR=FFA<br>Parallelism=16<br>CoeffType=NonLinPhase<br>SubfiltN=%{x}<br>Mults=%{y}<extra></extra>",
         "legendgroup": "FFA",
         "line": {
          "color": "#636efa",
          "dash": "solid"
         },
         "mode": "lines",
         "name": "FFA",
         "orientation": "v",
         "showlegend": false,
         "type": "scatter",
         "x": [
          1,
          2,
          3,
          4
         ],
         "xaxis": "x5",
         "y": [
          81,
          162,
          243,
          324
         ],
         "yaxis": "y5"
        },
        {
         "hovertemplate": "FIR=FFA<br>Parallelism=16<br>CoeffType=HalfBand<br>SubfiltN=%{x}<br>Mults=%{y}<extra></extra>",
         "legendgroup": "FFA",
         "line": {
          "color": "#636efa",
          "dash": "solid"
         },
         "mode": "lines",
         "name": "FFA",
         "orientation": "v",
         "showlegend": false,
         "type": "scatter",
         "x": [
          1,
          2,
          3,
          4
         ],
         "xaxis": "x6",
         "y": [
          81,
          127,
          179,
          227
         ],
         "yaxis": "y6"
        },
        {
         "hovertemplate": "FIR=Poly<br>Parallelism=2<br>CoeffType=Type1Pad<br>SubfiltN=%{x}<br>Mults=%{y}<extra></extra>",
         "legendgroup": "Poly",
         "line": {
          "color": "#EF553B",
          "dash": "solid"
         },
         "mode": "lines",
         "name": "Poly",
         "orientation": "v",
         "showlegend": true,
         "type": "scatter",
         "x": [
          1,
          2,
          3,
          4
         ],
         "xaxis": "x19",
         "y": [
          2,
          4,
          6,
          8
         ],
         "yaxis": "y19"
        },
        {
         "hovertemplate": "FIR=Poly<br>Parallelism=2<br>CoeffType=Type2<br>SubfiltN=%{x}<br>Mults=%{y}<extra></extra>",
         "legendgroup": "Poly",
         "line": {
          "color": "#EF553B",
          "dash": "solid"
         },
         "mode": "lines",
         "name": "Poly",
         "orientation": "v",
         "showlegend": false,
         "type": "scatter",
         "x": [
          1,
          2,
          3,
          4
         ],
         "xaxis": "x20",
         "y": [
          2,
          4,
          6,
          8
         ],
         "yaxis": "y20"
        },
        {
         "hovertemplate": "FIR=Poly<br>Parallelism=2<br>CoeffType=Type3Pad<br>SubfiltN=%{x}<br>Mults=%{y}<extra></extra>",
         "legendgroup": "Poly",
         "line": {
          "color": "#EF553B",
          "dash": "solid"
         },
         "mode": "lines",
         "name": "Poly",
         "orientation": "v",
         "showlegend": false,
         "type": "scatter",
         "x": [
          1,
          2,
          3,
          4
         ],
         "xaxis": "x21",
         "y": [
          2,
          4,
          6,
          8
         ],
         "yaxis": "y21"
        },
        {
         "hovertemplate": "FIR=Poly<br>Parallelism=2<br>CoeffType=Type4<br>SubfiltN=%{x}<br>Mults=%{y}<extra></extra>",
         "legendgroup": "Poly",
         "line": {
          "color": "#EF553B",
          "dash": "solid"
         },
         "mode": "lines",
         "name": "Poly",
         "orientation": "v",
         "showlegend": false,
         "type": "scatter",
         "x": [
          1,
          2,
          3,
          4
         ],
         "xaxis": "x22",
         "y": [
          2,
          4,
          6,
          8
         ],
         "yaxis": "y22"
        },
        {
         "hovertemplate": "FIR=Poly<br>Parallelism=2<br>CoeffType=NonLinPhase<br>SubfiltN=%{x}<br>Mults=%{y}<extra></extra>",
         "legendgroup": "Poly",
         "line": {
          "color": "#EF553B",
          "dash": "solid"
         },
         "mode": "lines",
         "name": "Poly",
         "orientation": "v",
         "showlegend": false,
         "type": "scatter",
         "x": [
          1,
          2,
          3,
          4
         ],
         "xaxis": "x23",
         "y": [
          4,
          8,
          12,
          16
         ],
         "yaxis": "y23"
        },
        {
         "hovertemplate": "FIR=Poly<br>Parallelism=2<br>CoeffType=HalfBand<br>SubfiltN=%{x}<br>Mults=%{y}<extra></extra>",
         "legendgroup": "Poly",
         "line": {
          "color": "#EF553B",
          "dash": "solid"
         },
         "mode": "lines",
         "name": "Poly",
         "orientation": "v",
         "showlegend": false,
         "type": "scatter",
         "x": [
          1,
          2,
          3,
          4
         ],
         "xaxis": "x24",
         "y": [
          2,
          2,
          4,
          4
         ],
         "yaxis": "y24"
        },
        {
         "hovertemplate": "FIR=Poly<br>Parallelism=4<br>CoeffType=Type1Pad<br>SubfiltN=%{x}<br>Mults=%{y}<extra></extra>",
         "legendgroup": "Poly",
         "line": {
          "color": "#EF553B",
          "dash": "solid"
         },
         "mode": "lines",
         "name": "Poly",
         "orientation": "v",
         "showlegend": false,
         "type": "scatter",
         "x": [
          1,
          2,
          3,
          4
         ],
         "xaxis": "x13",
         "y": [
          8,
          16,
          24,
          32
         ],
         "yaxis": "y13"
        },
        {
         "hovertemplate": "FIR=Poly<br>Parallelism=4<br>CoeffType=Type2<br>SubfiltN=%{x}<br>Mults=%{y}<extra></extra>",
         "legendgroup": "Poly",
         "line": {
          "color": "#EF553B",
          "dash": "solid"
         },
         "mode": "lines",
         "name": "Poly",
         "orientation": "v",
         "showlegend": false,
         "type": "scatter",
         "x": [
          1,
          2,
          3,
          4
         ],
         "xaxis": "x14",
         "y": [
          8,
          16,
          24,
          32
         ],
         "yaxis": "y14"
        },
        {
         "hovertemplate": "FIR=Poly<br>Parallelism=4<br>CoeffType=Type3Pad<br>SubfiltN=%{x}<br>Mults=%{y}<extra></extra>",
         "legendgroup": "Poly",
         "line": {
          "color": "#EF553B",
          "dash": "solid"
         },
         "mode": "lines",
         "name": "Poly",
         "orientation": "v",
         "showlegend": false,
         "type": "scatter",
         "x": [
          1,
          2,
          3,
          4
         ],
         "xaxis": "x15",
         "y": [
          8,
          16,
          24,
          32
         ],
         "yaxis": "y15"
        },
        {
         "hovertemplate": "FIR=Poly<br>Parallelism=4<br>CoeffType=Type4<br>SubfiltN=%{x}<br>Mults=%{y}<extra></extra>",
         "legendgroup": "Poly",
         "line": {
          "color": "#EF553B",
          "dash": "solid"
         },
         "mode": "lines",
         "name": "Poly",
         "orientation": "v",
         "showlegend": false,
         "type": "scatter",
         "x": [
          1,
          2,
          3,
          4
         ],
         "xaxis": "x16",
         "y": [
          8,
          16,
          24,
          32
         ],
         "yaxis": "y16"
        },
        {
         "hovertemplate": "FIR=Poly<br>Parallelism=4<br>CoeffType=NonLinPhase<br>SubfiltN=%{x}<br>Mults=%{y}<extra></extra>",
         "legendgroup": "Poly",
         "line": {
          "color": "#EF553B",
          "dash": "solid"
         },
         "mode": "lines",
         "name": "Poly",
         "orientation": "v",
         "showlegend": false,
         "type": "scatter",
         "x": [
          1,
          2,
          3,
          4
         ],
         "xaxis": "x17",
         "y": [
          16,
          32,
          48,
          64
         ],
         "yaxis": "y17"
        },
        {
         "hovertemplate": "FIR=Poly<br>Parallelism=4<br>CoeffType=HalfBand<br>SubfiltN=%{x}<br>Mults=%{y}<extra></extra>",
         "legendgroup": "Poly",
         "line": {
          "color": "#EF553B",
          "dash": "solid"
         },
         "mode": "lines",
         "name": "Poly",
         "orientation": "v",
         "showlegend": false,
         "type": "scatter",
         "x": [
          1,
          2,
          3,
          4
         ],
         "xaxis": "x18",
         "y": [
          4,
          8,
          12,
          16
         ],
         "yaxis": "y18"
        },
        {
         "hovertemplate": "FIR=Poly<br>Parallelism=8<br>CoeffType=Type1Pad<br>SubfiltN=%{x}<br>Mults=%{y}<extra></extra>",
         "legendgroup": "Poly",
         "line": {
          "color": "#EF553B",
          "dash": "solid"
         },
         "mode": "lines",
         "name": "Poly",
         "orientation": "v",
         "showlegend": false,
         "type": "scatter",
         "x": [
          1,
          2,
          3,
          4
         ],
         "xaxis": "x7",
         "y": [
          32,
          64,
          96,
          128
         ],
         "yaxis": "y7"
        },
        {
         "hovertemplate": "FIR=Poly<br>Parallelism=8<br>CoeffType=Type2<br>SubfiltN=%{x}<br>Mults=%{y}<extra></extra>",
         "legendgroup": "Poly",
         "line": {
          "color": "#EF553B",
          "dash": "solid"
         },
         "mode": "lines",
         "name": "Poly",
         "orientation": "v",
         "showlegend": false,
         "type": "scatter",
         "x": [
          1,
          2,
          3,
          4
         ],
         "xaxis": "x8",
         "y": [
          32,
          64,
          96,
          128
         ],
         "yaxis": "y8"
        },
        {
         "hovertemplate": "FIR=Poly<br>Parallelism=8<br>CoeffType=Type3Pad<br>SubfiltN=%{x}<br>Mults=%{y}<extra></extra>",
         "legendgroup": "Poly",
         "line": {
          "color": "#EF553B",
          "dash": "solid"
         },
         "mode": "lines",
         "name": "Poly",
         "orientation": "v",
         "showlegend": false,
         "type": "scatter",
         "x": [
          1,
          2,
          3,
          4
         ],
         "xaxis": "x9",
         "y": [
          32,
          64,
          96,
          128
         ],
         "yaxis": "y9"
        },
        {
         "hovertemplate": "FIR=Poly<br>Parallelism=8<br>CoeffType=Type4<br>SubfiltN=%{x}<br>Mults=%{y}<extra></extra>",
         "legendgroup": "Poly",
         "line": {
          "color": "#EF553B",
          "dash": "solid"
         },
         "mode": "lines",
         "name": "Poly",
         "orientation": "v",
         "showlegend": false,
         "type": "scatter",
         "x": [
          1,
          2,
          3,
          4
         ],
         "xaxis": "x10",
         "y": [
          32,
          64,
          96,
          128
         ],
         "yaxis": "y10"
        },
        {
         "hovertemplate": "FIR=Poly<br>Parallelism=8<br>CoeffType=NonLinPhase<br>SubfiltN=%{x}<br>Mults=%{y}<extra></extra>",
         "legendgroup": "Poly",
         "line": {
          "color": "#EF553B",
          "dash": "solid"
         },
         "mode": "lines",
         "name": "Poly",
         "orientation": "v",
         "showlegend": false,
         "type": "scatter",
         "x": [
          1,
          2,
          3,
          4
         ],
         "xaxis": "x11",
         "y": [
          64,
          128,
          192,
          256
         ],
         "yaxis": "y11"
        },
        {
         "hovertemplate": "FIR=Poly<br>Parallelism=8<br>CoeffType=HalfBand<br>SubfiltN=%{x}<br>Mults=%{y}<extra></extra>",
         "legendgroup": "Poly",
         "line": {
          "color": "#EF553B",
          "dash": "solid"
         },
         "mode": "lines",
         "name": "Poly",
         "orientation": "v",
         "showlegend": false,
         "type": "scatter",
         "x": [
          1,
          2,
          3,
          4
         ],
         "xaxis": "x12",
         "y": [
          16,
          32,
          48,
          64
         ],
         "yaxis": "y12"
        },
        {
         "hovertemplate": "FIR=Poly<br>Parallelism=16<br>CoeffType=Type1Pad<br>SubfiltN=%{x}<br>Mults=%{y}<extra></extra>",
         "legendgroup": "Poly",
         "line": {
          "color": "#EF553B",
          "dash": "solid"
         },
         "mode": "lines",
         "name": "Poly",
         "orientation": "v",
         "showlegend": false,
         "type": "scatter",
         "x": [
          1,
          2,
          3,
          4
         ],
         "xaxis": "x",
         "y": [
          128,
          256,
          384,
          512
         ],
         "yaxis": "y"
        },
        {
         "hovertemplate": "FIR=Poly<br>Parallelism=16<br>CoeffType=Type2<br>SubfiltN=%{x}<br>Mults=%{y}<extra></extra>",
         "legendgroup": "Poly",
         "line": {
          "color": "#EF553B",
          "dash": "solid"
         },
         "mode": "lines",
         "name": "Poly",
         "orientation": "v",
         "showlegend": false,
         "type": "scatter",
         "x": [
          1,
          2,
          3,
          4
         ],
         "xaxis": "x2",
         "y": [
          128,
          256,
          384,
          512
         ],
         "yaxis": "y2"
        },
        {
         "hovertemplate": "FIR=Poly<br>Parallelism=16<br>CoeffType=Type3Pad<br>SubfiltN=%{x}<br>Mults=%{y}<extra></extra>",
         "legendgroup": "Poly",
         "line": {
          "color": "#EF553B",
          "dash": "solid"
         },
         "mode": "lines",
         "name": "Poly",
         "orientation": "v",
         "showlegend": false,
         "type": "scatter",
         "x": [
          1,
          2,
          3,
          4
         ],
         "xaxis": "x3",
         "y": [
          128,
          256,
          384,
          512
         ],
         "yaxis": "y3"
        },
        {
         "hovertemplate": "FIR=Poly<br>Parallelism=16<br>CoeffType=Type4<br>SubfiltN=%{x}<br>Mults=%{y}<extra></extra>",
         "legendgroup": "Poly",
         "line": {
          "color": "#EF553B",
          "dash": "solid"
         },
         "mode": "lines",
         "name": "Poly",
         "orientation": "v",
         "showlegend": false,
         "type": "scatter",
         "x": [
          1,
          2,
          3,
          4
         ],
         "xaxis": "x4",
         "y": [
          128,
          256,
          384,
          512
         ],
         "yaxis": "y4"
        },
        {
         "hovertemplate": "FIR=Poly<br>Parallelism=16<br>CoeffType=NonLinPhase<br>SubfiltN=%{x}<br>Mults=%{y}<extra></extra>",
         "legendgroup": "Poly",
         "line": {
          "color": "#EF553B",
          "dash": "solid"
         },
         "mode": "lines",
         "name": "Poly",
         "orientation": "v",
         "showlegend": false,
         "type": "scatter",
         "x": [
          1,
          2,
          3,
          4
         ],
         "xaxis": "x5",
         "y": [
          256,
          512,
          768,
          1024
         ],
         "yaxis": "y5"
        },
        {
         "hovertemplate": "FIR=Poly<br>Parallelism=16<br>CoeffType=HalfBand<br>SubfiltN=%{x}<br>Mults=%{y}<extra></extra>",
         "legendgroup": "Poly",
         "line": {
          "color": "#EF553B",
          "dash": "solid"
         },
         "mode": "lines",
         "name": "Poly",
         "orientation": "v",
         "showlegend": false,
         "type": "scatter",
         "x": [
          1,
          2,
          3,
          4
         ],
         "xaxis": "x6",
         "y": [
          64,
          128,
          192,
          256
         ],
         "yaxis": "y6"
        }
       ],
       "layout": {
        "annotations": [
         {
          "font": {},
          "showarrow": false,
          "text": "CoeffType=Type1Pad",
          "x": 0.07333333333333333,
          "xanchor": "center",
          "xref": "paper",
          "y": 1,
          "yanchor": "bottom",
          "yref": "paper"
         },
         {
          "font": {},
          "showarrow": false,
          "text": "CoeffType=Type2",
          "x": 0.24,
          "xanchor": "center",
          "xref": "paper",
          "y": 1,
          "yanchor": "bottom",
          "yref": "paper"
         },
         {
          "font": {},
          "showarrow": false,
          "text": "CoeffType=Type3Pad",
          "x": 0.4066666666666666,
          "xanchor": "center",
          "xref": "paper",
          "y": 1,
          "yanchor": "bottom",
          "yref": "paper"
         },
         {
          "font": {},
          "showarrow": false,
          "text": "CoeffType=Type4",
          "x": 0.5733333333333334,
          "xanchor": "center",
          "xref": "paper",
          "y": 1,
          "yanchor": "bottom",
          "yref": "paper"
         },
         {
          "font": {},
          "showarrow": false,
          "text": "CoeffType=NonLinPhase",
          "x": 0.74,
          "xanchor": "center",
          "xref": "paper",
          "y": 1,
          "yanchor": "bottom",
          "yref": "paper"
         },
         {
          "font": {},
          "showarrow": false,
          "text": "CoeffType=HalfBand",
          "x": 0.9066666666666667,
          "xanchor": "center",
          "xref": "paper",
          "y": 1,
          "yanchor": "bottom",
          "yref": "paper"
         },
         {
          "font": {},
          "showarrow": false,
          "text": "Parallelism=16",
          "textangle": 90,
          "x": 0.98,
          "xanchor": "left",
          "xref": "paper",
          "y": 0.11375,
          "yanchor": "middle",
          "yref": "paper"
         },
         {
          "font": {},
          "showarrow": false,
          "text": "Parallelism=8",
          "textangle": 90,
          "x": 0.98,
          "xanchor": "left",
          "xref": "paper",
          "y": 0.37124999999999997,
          "yanchor": "middle",
          "yref": "paper"
         },
         {
          "font": {},
          "showarrow": false,
          "text": "Parallelism=4",
          "textangle": 90,
          "x": 0.98,
          "xanchor": "left",
          "xref": "paper",
          "y": 0.62875,
          "yanchor": "middle",
          "yref": "paper"
         },
         {
          "font": {},
          "showarrow": false,
          "text": "Parallelism=2",
          "textangle": 90,
          "x": 0.98,
          "xanchor": "left",
          "xref": "paper",
          "y": 0.88625,
          "yanchor": "middle",
          "yref": "paper"
         }
        ],
        "autosize": true,
        "legend": {
         "title": {
          "text": "FIR"
         },
         "tracegroupgap": 0
        },
        "margin": {
         "t": 60
        },
        "template": {
         "data": {
          "bar": [
           {
            "error_x": {
             "color": "#2a3f5f"
            },
            "error_y": {
             "color": "#2a3f5f"
            },
            "marker": {
             "line": {
              "color": "#E5ECF6",
              "width": 0.5
             }
            },
            "type": "bar"
           }
          ],
          "barpolar": [
           {
            "marker": {
             "line": {
              "color": "#E5ECF6",
              "width": 0.5
             }
            },
            "type": "barpolar"
           }
          ],
          "carpet": [
           {
            "aaxis": {
             "endlinecolor": "#2a3f5f",
             "gridcolor": "white",
             "linecolor": "white",
             "minorgridcolor": "white",
             "startlinecolor": "#2a3f5f"
            },
            "baxis": {
             "endlinecolor": "#2a3f5f",
             "gridcolor": "white",
             "linecolor": "white",
             "minorgridcolor": "white",
             "startlinecolor": "#2a3f5f"
            },
            "type": "carpet"
           }
          ],
          "choropleth": [
           {
            "colorbar": {
             "outlinewidth": 0,
             "ticks": ""
            },
            "type": "choropleth"
           }
          ],
          "contour": [
           {
            "colorbar": {
             "outlinewidth": 0,
             "ticks": ""
            },
            "colorscale": [
             [
              0,
              "#0d0887"
             ],
             [
              0.1111111111111111,
              "#46039f"
             ],
             [
              0.2222222222222222,
              "#7201a8"
             ],
             [
              0.3333333333333333,
              "#9c179e"
             ],
             [
              0.4444444444444444,
              "#bd3786"
             ],
             [
              0.5555555555555556,
              "#d8576b"
             ],
             [
              0.6666666666666666,
              "#ed7953"
             ],
             [
              0.7777777777777778,
              "#fb9f3a"
             ],
             [
              0.8888888888888888,
              "#fdca26"
             ],
             [
              1,
              "#f0f921"
             ]
            ],
            "type": "contour"
           }
          ],
          "contourcarpet": [
           {
            "colorbar": {
             "outlinewidth": 0,
             "ticks": ""
            },
            "type": "contourcarpet"
           }
          ],
          "heatmap": [
           {
            "colorbar": {
             "outlinewidth": 0,
             "ticks": ""
            },
            "colorscale": [
             [
              0,
              "#0d0887"
             ],
             [
              0.1111111111111111,
              "#46039f"
             ],
             [
              0.2222222222222222,
              "#7201a8"
             ],
             [
              0.3333333333333333,
              "#9c179e"
             ],
             [
              0.4444444444444444,
              "#bd3786"
             ],
             [
              0.5555555555555556,
              "#d8576b"
             ],
             [
              0.6666666666666666,
              "#ed7953"
             ],
             [
              0.7777777777777778,
              "#fb9f3a"
             ],
             [
              0.8888888888888888,
              "#fdca26"
             ],
             [
              1,
              "#f0f921"
             ]
            ],
            "type": "heatmap"
           }
          ],
          "heatmapgl": [
           {
            "colorbar": {
             "outlinewidth": 0,
             "ticks": ""
            },
            "colorscale": [
             [
              0,
              "#0d0887"
             ],
             [
              0.1111111111111111,
              "#46039f"
             ],
             [
              0.2222222222222222,
              "#7201a8"
             ],
             [
              0.3333333333333333,
              "#9c179e"
             ],
             [
              0.4444444444444444,
              "#bd3786"
             ],
             [
              0.5555555555555556,
              "#d8576b"
             ],
             [
              0.6666666666666666,
              "#ed7953"
             ],
             [
              0.7777777777777778,
              "#fb9f3a"
             ],
             [
              0.8888888888888888,
              "#fdca26"
             ],
             [
              1,
              "#f0f921"
             ]
            ],
            "type": "heatmapgl"
           }
          ],
          "histogram": [
           {
            "marker": {
             "colorbar": {
              "outlinewidth": 0,
              "ticks": ""
             }
            },
            "type": "histogram"
           }
          ],
          "histogram2d": [
           {
            "colorbar": {
             "outlinewidth": 0,
             "ticks": ""
            },
            "colorscale": [
             [
              0,
              "#0d0887"
             ],
             [
              0.1111111111111111,
              "#46039f"
             ],
             [
              0.2222222222222222,
              "#7201a8"
             ],
             [
              0.3333333333333333,
              "#9c179e"
             ],
             [
              0.4444444444444444,
              "#bd3786"
             ],
             [
              0.5555555555555556,
              "#d8576b"
             ],
             [
              0.6666666666666666,
              "#ed7953"
             ],
             [
              0.7777777777777778,
              "#fb9f3a"
             ],
             [
              0.8888888888888888,
              "#fdca26"
             ],
             [
              1,
              "#f0f921"
             ]
            ],
            "type": "histogram2d"
           }
          ],
          "histogram2dcontour": [
           {
            "colorbar": {
             "outlinewidth": 0,
             "ticks": ""
            },
            "colorscale": [
             [
              0,
              "#0d0887"
             ],
             [
              0.1111111111111111,
              "#46039f"
             ],
             [
              0.2222222222222222,
              "#7201a8"
             ],
             [
              0.3333333333333333,
              "#9c179e"
             ],
             [
              0.4444444444444444,
              "#bd3786"
             ],
             [
              0.5555555555555556,
              "#d8576b"
             ],
             [
              0.6666666666666666,
              "#ed7953"
             ],
             [
              0.7777777777777778,
              "#fb9f3a"
             ],
             [
              0.8888888888888888,
              "#fdca26"
             ],
             [
              1,
              "#f0f921"
             ]
            ],
            "type": "histogram2dcontour"
           }
          ],
          "mesh3d": [
           {
            "colorbar": {
             "outlinewidth": 0,
             "ticks": ""
            },
            "type": "mesh3d"
           }
          ],
          "parcoords": [
           {
            "line": {
             "colorbar": {
              "outlinewidth": 0,
              "ticks": ""
             }
            },
            "type": "parcoords"
           }
          ],
          "pie": [
           {
            "automargin": true,
            "type": "pie"
           }
          ],
          "scatter": [
           {
            "marker": {
             "colorbar": {
              "outlinewidth": 0,
              "ticks": ""
             }
            },
            "type": "scatter"
           }
          ],
          "scatter3d": [
           {
            "line": {
             "colorbar": {
              "outlinewidth": 0,
              "ticks": ""
             }
            },
            "marker": {
             "colorbar": {
              "outlinewidth": 0,
              "ticks": ""
             }
            },
            "type": "scatter3d"
           }
          ],
          "scattercarpet": [
           {
            "marker": {
             "colorbar": {
              "outlinewidth": 0,
              "ticks": ""
             }
            },
            "type": "scattercarpet"
           }
          ],
          "scattergeo": [
           {
            "marker": {
             "colorbar": {
              "outlinewidth": 0,
              "ticks": ""
             }
            },
            "type": "scattergeo"
           }
          ],
          "scattergl": [
           {
            "marker": {
             "colorbar": {
              "outlinewidth": 0,
              "ticks": ""
             }
            },
            "type": "scattergl"
           }
          ],
          "scattermapbox": [
           {
            "marker": {
             "colorbar": {
              "outlinewidth": 0,
              "ticks": ""
             }
            },
            "type": "scattermapbox"
           }
          ],
          "scatterpolar": [
           {
            "marker": {
             "colorbar": {
              "outlinewidth": 0,
              "ticks": ""
             }
            },
            "type": "scatterpolar"
           }
          ],
          "scatterpolargl": [
           {
            "marker": {
             "colorbar": {
              "outlinewidth": 0,
              "ticks": ""
             }
            },
            "type": "scatterpolargl"
           }
          ],
          "scatterternary": [
           {
            "marker": {
             "colorbar": {
              "outlinewidth": 0,
              "ticks": ""
             }
            },
            "type": "scatterternary"
           }
          ],
          "surface": [
           {
            "colorbar": {
             "outlinewidth": 0,
             "ticks": ""
            },
            "colorscale": [
             [
              0,
              "#0d0887"
             ],
             [
              0.1111111111111111,
              "#46039f"
             ],
             [
              0.2222222222222222,
              "#7201a8"
             ],
             [
              0.3333333333333333,
              "#9c179e"
             ],
             [
              0.4444444444444444,
              "#bd3786"
             ],
             [
              0.5555555555555556,
              "#d8576b"
             ],
             [
              0.6666666666666666,
              "#ed7953"
             ],
             [
              0.7777777777777778,
              "#fb9f3a"
             ],
             [
              0.8888888888888888,
              "#fdca26"
             ],
             [
              1,
              "#f0f921"
             ]
            ],
            "type": "surface"
           }
          ],
          "table": [
           {
            "cells": {
             "fill": {
              "color": "#EBF0F8"
             },
             "line": {
              "color": "white"
             }
            },
            "header": {
             "fill": {
              "color": "#C8D4E3"
             },
             "line": {
              "color": "white"
             }
            },
            "type": "table"
           }
          ]
         },
         "layout": {
          "annotationdefaults": {
           "arrowcolor": "#2a3f5f",
           "arrowhead": 0,
           "arrowwidth": 1
          },
          "autotypenumbers": "strict",
          "coloraxis": {
           "colorbar": {
            "outlinewidth": 0,
            "ticks": ""
           }
          },
          "colorscale": {
           "diverging": [
            [
             0,
             "#8e0152"
            ],
            [
             0.1,
             "#c51b7d"
            ],
            [
             0.2,
             "#de77ae"
            ],
            [
             0.3,
             "#f1b6da"
            ],
            [
             0.4,
             "#fde0ef"
            ],
            [
             0.5,
             "#f7f7f7"
            ],
            [
             0.6,
             "#e6f5d0"
            ],
            [
             0.7,
             "#b8e186"
            ],
            [
             0.8,
             "#7fbc41"
            ],
            [
             0.9,
             "#4d9221"
            ],
            [
             1,
             "#276419"
            ]
           ],
           "sequential": [
            [
             0,
             "#0d0887"
            ],
            [
             0.1111111111111111,
             "#46039f"
            ],
            [
             0.2222222222222222,
             "#7201a8"
            ],
            [
             0.3333333333333333,
             "#9c179e"
            ],
            [
             0.4444444444444444,
             "#bd3786"
            ],
            [
             0.5555555555555556,
             "#d8576b"
            ],
            [
             0.6666666666666666,
             "#ed7953"
            ],
            [
             0.7777777777777778,
             "#fb9f3a"
            ],
            [
             0.8888888888888888,
             "#fdca26"
            ],
            [
             1,
             "#f0f921"
            ]
           ],
           "sequentialminus": [
            [
             0,
             "#0d0887"
            ],
            [
             0.1111111111111111,
             "#46039f"
            ],
            [
             0.2222222222222222,
             "#7201a8"
            ],
            [
             0.3333333333333333,
             "#9c179e"
            ],
            [
             0.4444444444444444,
             "#bd3786"
            ],
            [
             0.5555555555555556,
             "#d8576b"
            ],
            [
             0.6666666666666666,
             "#ed7953"
            ],
            [
             0.7777777777777778,
             "#fb9f3a"
            ],
            [
             0.8888888888888888,
             "#fdca26"
            ],
            [
             1,
             "#f0f921"
            ]
           ]
          },
          "colorway": [
           "#636efa",
           "#EF553B",
           "#00cc96",
           "#ab63fa",
           "#FFA15A",
           "#19d3f3",
           "#FF6692",
           "#B6E880",
           "#FF97FF",
           "#FECB52"
          ],
          "font": {
           "color": "#2a3f5f"
          },
          "geo": {
           "bgcolor": "white",
           "lakecolor": "white",
           "landcolor": "#E5ECF6",
           "showlakes": true,
           "showland": true,
           "subunitcolor": "white"
          },
          "hoverlabel": {
           "align": "left"
          },
          "hovermode": "closest",
          "mapbox": {
           "style": "light"
          },
          "paper_bgcolor": "white",
          "plot_bgcolor": "#E5ECF6",
          "polar": {
           "angularaxis": {
            "gridcolor": "white",
            "linecolor": "white",
            "ticks": ""
           },
           "bgcolor": "#E5ECF6",
           "radialaxis": {
            "gridcolor": "white",
            "linecolor": "white",
            "ticks": ""
           }
          },
          "scene": {
           "xaxis": {
            "backgroundcolor": "#E5ECF6",
            "gridcolor": "white",
            "gridwidth": 2,
            "linecolor": "white",
            "showbackground": true,
            "ticks": "",
            "zerolinecolor": "white"
           },
           "yaxis": {
            "backgroundcolor": "#E5ECF6",
            "gridcolor": "white",
            "gridwidth": 2,
            "linecolor": "white",
            "showbackground": true,
            "ticks": "",
            "zerolinecolor": "white"
           },
           "zaxis": {
            "backgroundcolor": "#E5ECF6",
            "gridcolor": "white",
            "gridwidth": 2,
            "linecolor": "white",
            "showbackground": true,
            "ticks": "",
            "zerolinecolor": "white"
           }
          },
          "shapedefaults": {
           "line": {
            "color": "#2a3f5f"
           }
          },
          "ternary": {
           "aaxis": {
            "gridcolor": "white",
            "linecolor": "white",
            "ticks": ""
           },
           "baxis": {
            "gridcolor": "white",
            "linecolor": "white",
            "ticks": ""
           },
           "bgcolor": "#E5ECF6",
           "caxis": {
            "gridcolor": "white",
            "linecolor": "white",
            "ticks": ""
           }
          },
          "title": {
           "x": 0.05
          },
          "xaxis": {
           "automargin": true,
           "gridcolor": "white",
           "linecolor": "white",
           "ticks": "",
           "title": {
            "standoff": 15
           },
           "zerolinecolor": "white",
           "zerolinewidth": 2
          },
          "yaxis": {
           "automargin": true,
           "gridcolor": "white",
           "linecolor": "white",
           "ticks": "",
           "title": {
            "standoff": 15
           },
           "zerolinecolor": "white",
           "zerolinewidth": 2
          }
         }
        },
        "xaxis": {
         "anchor": "y",
         "autorange": true,
         "domain": [
          0,
          0.14666666666666667
         ],
         "range": [
          1,
          4
         ],
         "title": {
          "text": "SubfiltN"
         },
         "type": "linear"
        },
        "xaxis10": {
         "anchor": "y10",
         "autorange": true,
         "domain": [
          0.5,
          0.6466666666666667
         ],
         "matches": "x",
         "range": [
          1,
          4
         ],
         "showticklabels": false,
         "type": "linear"
        },
        "xaxis11": {
         "anchor": "y11",
         "autorange": true,
         "domain": [
          0.6666666666666666,
          0.8133333333333332
         ],
         "matches": "x",
         "range": [
          1,
          4
         ],
         "showticklabels": false,
         "type": "linear"
        },
        "xaxis12": {
         "anchor": "y12",
         "autorange": true,
         "domain": [
          0.8333333333333334,
          0.98
         ],
         "matches": "x",
         "range": [
          1,
          4
         ],
         "showticklabels": false,
         "type": "linear"
        },
        "xaxis13": {
         "anchor": "y13",
         "autorange": true,
         "domain": [
          0,
          0.14666666666666667
         ],
         "matches": "x",
         "range": [
          1,
          4
         ],
         "showticklabels": false,
         "type": "linear"
        },
        "xaxis14": {
         "anchor": "y14",
         "autorange": true,
         "domain": [
          0.16666666666666666,
          0.31333333333333335
         ],
         "matches": "x",
         "range": [
          1,
          4
         ],
         "showticklabels": false,
         "type": "linear"
        },
        "xaxis15": {
         "anchor": "y15",
         "autorange": true,
         "domain": [
          0.3333333333333333,
          0.48
         ],
         "matches": "x",
         "range": [
          1,
          4
         ],
         "showticklabels": false,
         "type": "linear"
        },
        "xaxis16": {
         "anchor": "y16",
         "autorange": true,
         "domain": [
          0.5,
          0.6466666666666667
         ],
         "matches": "x",
         "range": [
          1,
          4
         ],
         "showticklabels": false,
         "type": "linear"
        },
        "xaxis17": {
         "anchor": "y17",
         "autorange": true,
         "domain": [
          0.6666666666666666,
          0.8133333333333332
         ],
         "matches": "x",
         "range": [
          1,
          4
         ],
         "showticklabels": false,
         "type": "linear"
        },
        "xaxis18": {
         "anchor": "y18",
         "autorange": true,
         "domain": [
          0.8333333333333334,
          0.98
         ],
         "matches": "x",
         "range": [
          1,
          4
         ],
         "showticklabels": false,
         "type": "linear"
        },
        "xaxis19": {
         "anchor": "y19",
         "autorange": true,
         "domain": [
          0,
          0.14666666666666667
         ],
         "matches": "x",
         "range": [
          1,
          4
         ],
         "showticklabels": false,
         "type": "linear"
        },
        "xaxis2": {
         "anchor": "y2",
         "autorange": true,
         "domain": [
          0.16666666666666666,
          0.31333333333333335
         ],
         "matches": "x",
         "range": [
          1,
          4
         ],
         "title": {
          "text": "SubfiltN"
         },
         "type": "linear"
        },
        "xaxis20": {
         "anchor": "y20",
         "autorange": true,
         "domain": [
          0.16666666666666666,
          0.31333333333333335
         ],
         "matches": "x",
         "range": [
          1,
          4
         ],
         "showticklabels": false,
         "type": "linear"
        },
        "xaxis21": {
         "anchor": "y21",
         "autorange": true,
         "domain": [
          0.3333333333333333,
          0.48
         ],
         "matches": "x",
         "range": [
          1,
          4
         ],
         "showticklabels": false,
         "type": "linear"
        },
        "xaxis22": {
         "anchor": "y22",
         "autorange": true,
         "domain": [
          0.5,
          0.6466666666666667
         ],
         "matches": "x",
         "range": [
          1,
          4
         ],
         "showticklabels": false,
         "type": "linear"
        },
        "xaxis23": {
         "anchor": "y23",
         "autorange": true,
         "domain": [
          0.6666666666666666,
          0.8133333333333332
         ],
         "matches": "x",
         "range": [
          1,
          4
         ],
         "showticklabels": false,
         "type": "linear"
        },
        "xaxis24": {
         "anchor": "y24",
         "autorange": true,
         "domain": [
          0.8333333333333334,
          0.98
         ],
         "matches": "x",
         "range": [
          1,
          4
         ],
         "showticklabels": false,
         "type": "linear"
        },
        "xaxis3": {
         "anchor": "y3",
         "autorange": true,
         "domain": [
          0.3333333333333333,
          0.48
         ],
         "matches": "x",
         "range": [
          1,
          4
         ],
         "title": {
          "text": "SubfiltN"
         },
         "type": "linear"
        },
        "xaxis4": {
         "anchor": "y4",
         "autorange": true,
         "domain": [
          0.5,
          0.6466666666666667
         ],
         "matches": "x",
         "range": [
          1,
          4
         ],
         "title": {
          "text": "SubfiltN"
         },
         "type": "linear"
        },
        "xaxis5": {
         "anchor": "y5",
         "autorange": true,
         "domain": [
          0.6666666666666666,
          0.8133333333333332
         ],
         "matches": "x",
         "range": [
          1,
          4
         ],
         "title": {
          "text": "SubfiltN"
         },
         "type": "linear"
        },
        "xaxis6": {
         "anchor": "y6",
         "autorange": true,
         "domain": [
          0.8333333333333334,
          0.98
         ],
         "matches": "x",
         "range": [
          1,
          4
         ],
         "title": {
          "text": "SubfiltN"
         },
         "type": "linear"
        },
        "xaxis7": {
         "anchor": "y7",
         "autorange": true,
         "domain": [
          0,
          0.14666666666666667
         ],
         "matches": "x",
         "range": [
          1,
          4
         ],
         "showticklabels": false,
         "type": "linear"
        },
        "xaxis8": {
         "anchor": "y8",
         "autorange": true,
         "domain": [
          0.16666666666666666,
          0.31333333333333335
         ],
         "matches": "x",
         "range": [
          1,
          4
         ],
         "showticklabels": false,
         "type": "linear"
        },
        "xaxis9": {
         "anchor": "y9",
         "autorange": true,
         "domain": [
          0.3333333333333333,
          0.48
         ],
         "matches": "x",
         "range": [
          1,
          4
         ],
         "showticklabels": false,
         "type": "linear"
        },
        "yaxis": {
         "anchor": "x",
         "autorange": true,
         "domain": [
          0,
          0.2275
         ],
         "range": [
          -54.77777777777777,
          1080.7777777777778
         ],
         "title": {
          "text": "Mults"
         },
         "type": "linear"
        },
        "yaxis10": {
         "anchor": "x10",
         "autorange": true,
         "domain": [
          0.2575,
          0.485
         ],
         "matches": "y",
         "range": [
          -54.77777777777777,
          1080.7777777777778
         ],
         "showticklabels": false,
         "type": "linear"
        },
        "yaxis11": {
         "anchor": "x11",
         "autorange": true,
         "domain": [
          0.2575,
          0.485
         ],
         "matches": "y",
         "range": [
          -54.77777777777777,
          1080.7777777777778
         ],
         "showticklabels": false,
         "type": "linear"
        },
        "yaxis12": {
         "anchor": "x12",
         "autorange": true,
         "domain": [
          0.2575,
          0.485
         ],
         "matches": "y",
         "range": [
          -54.77777777777777,
          1080.7777777777778
         ],
         "showticklabels": false,
         "type": "linear"
        },
        "yaxis13": {
         "anchor": "x13",
         "autorange": true,
         "domain": [
          0.515,
          0.7425
         ],
         "matches": "y",
         "range": [
          -54.77777777777777,
          1080.7777777777778
         ],
         "title": {
          "text": "Mults"
         },
         "type": "linear"
        },
        "yaxis14": {
         "anchor": "x14",
         "autorange": true,
         "domain": [
          0.515,
          0.7425
         ],
         "matches": "y",
         "range": [
          -54.77777777777777,
          1080.7777777777778
         ],
         "showticklabels": false,
         "type": "linear"
        },
        "yaxis15": {
         "anchor": "x15",
         "autorange": true,
         "domain": [
          0.515,
          0.7425
         ],
         "matches": "y",
         "range": [
          -54.77777777777777,
          1080.7777777777778
         ],
         "showticklabels": false,
         "type": "linear"
        },
        "yaxis16": {
         "anchor": "x16",
         "autorange": true,
         "domain": [
          0.515,
          0.7425
         ],
         "matches": "y",
         "range": [
          -54.77777777777777,
          1080.7777777777778
         ],
         "showticklabels": false,
         "type": "linear"
        },
        "yaxis17": {
         "anchor": "x17",
         "autorange": true,
         "domain": [
          0.515,
          0.7425
         ],
         "matches": "y",
         "range": [
          -54.77777777777777,
          1080.7777777777778
         ],
         "showticklabels": false,
         "type": "linear"
        },
        "yaxis18": {
         "anchor": "x18",
         "autorange": true,
         "domain": [
          0.515,
          0.7425
         ],
         "matches": "y",
         "range": [
          -54.77777777777777,
          1080.7777777777778
         ],
         "showticklabels": false,
         "type": "linear"
        },
        "yaxis19": {
         "anchor": "x19",
         "autorange": true,
         "domain": [
          0.7725,
          1
         ],
         "matches": "y",
         "range": [
          -54.77777777777777,
          1080.7777777777778
         ],
         "title": {
          "text": "Mults"
         },
         "type": "linear"
        },
        "yaxis2": {
         "anchor": "x2",
         "autorange": true,
         "domain": [
          0,
          0.2275
         ],
         "matches": "y",
         "range": [
          -54.77777777777777,
          1080.7777777777778
         ],
         "showticklabels": false,
         "type": "linear"
        },
        "yaxis20": {
         "anchor": "x20",
         "autorange": true,
         "domain": [
          0.7725,
          1
         ],
         "matches": "y",
         "range": [
          -54.77777777777777,
          1080.7777777777778
         ],
         "showticklabels": false,
         "type": "linear"
        },
        "yaxis21": {
         "anchor": "x21",
         "autorange": true,
         "domain": [
          0.7725,
          1
         ],
         "matches": "y",
         "range": [
          -54.77777777777777,
          1080.7777777777778
         ],
         "showticklabels": false,
         "type": "linear"
        },
        "yaxis22": {
         "anchor": "x22",
         "autorange": true,
         "domain": [
          0.7725,
          1
         ],
         "matches": "y",
         "range": [
          -54.77777777777777,
          1080.7777777777778
         ],
         "showticklabels": false,
         "type": "linear"
        },
        "yaxis23": {
         "anchor": "x23",
         "autorange": true,
         "domain": [
          0.7725,
          1
         ],
         "matches": "y",
         "range": [
          -54.77777777777777,
          1080.7777777777778
         ],
         "showticklabels": false,
         "type": "linear"
        },
        "yaxis24": {
         "anchor": "x24",
         "autorange": true,
         "domain": [
          0.7725,
          1
         ],
         "matches": "y",
         "range": [
          -54.77777777777777,
          1080.7777777777778
         ],
         "showticklabels": false,
         "type": "linear"
        },
        "yaxis3": {
         "anchor": "x3",
         "autorange": true,
         "domain": [
          0,
          0.2275
         ],
         "matches": "y",
         "range": [
          -54.77777777777777,
          1080.7777777777778
         ],
         "showticklabels": false,
         "type": "linear"
        },
        "yaxis4": {
         "anchor": "x4",
         "autorange": true,
         "domain": [
          0,
          0.2275
         ],
         "matches": "y",
         "range": [
          -54.77777777777777,
          1080.7777777777778
         ],
         "showticklabels": false,
         "type": "linear"
        },
        "yaxis5": {
         "anchor": "x5",
         "autorange": true,
         "domain": [
          0,
          0.2275
         ],
         "matches": "y",
         "range": [
          -54.77777777777777,
          1080.7777777777778
         ],
         "showticklabels": false,
         "type": "linear"
        },
        "yaxis6": {
         "anchor": "x6",
         "autorange": true,
         "domain": [
          0,
          0.2275
         ],
         "matches": "y",
         "range": [
          -54.77777777777777,
          1080.7777777777778
         ],
         "showticklabels": false,
         "type": "linear"
        },
        "yaxis7": {
         "anchor": "x7",
         "autorange": true,
         "domain": [
          0.2575,
          0.485
         ],
         "matches": "y",
         "range": [
          -54.77777777777777,
          1080.7777777777778
         ],
         "title": {
          "text": "Mults"
         },
         "type": "linear"
        },
        "yaxis8": {
         "anchor": "x8",
         "autorange": true,
         "domain": [
          0.2575,
          0.485
         ],
         "matches": "y",
         "range": [
          -54.77777777777777,
          1080.7777777777778
         ],
         "showticklabels": false,
         "type": "linear"
        },
        "yaxis9": {
         "anchor": "x9",
         "autorange": true,
         "domain": [
          0.2575,
          0.485
         ],
         "matches": "y",
         "range": [
          -54.77777777777777,
          1080.7777777777778
         ],
         "showticklabels": false,
         "type": "linear"
        }
       }
      },
      "image/png": "[encoded data removed]",
      "text/html": [
       "<div>                            <div id=\"defbb27e-7d9d-4411-9b7b-9d5d940184eb\" class=\"plotly-graph-div\" style=\"height:1000px; width:100%;\"></div>            <script type=\"text/javascript\">                require([\"plotly\"], function(Plotly) {                    window.PLOTLYENV=window.PLOTLYENV || {};                                    if (document.getElementById(\"defbb27e-7d9d-4411-9b7b-9d5d940184eb\")) {                    Plotly.newPlot(                        \"defbb27e-7d9d-4411-9b7b-9d5d940184eb\",                        [{\"hovertemplate\": \"FIR=FFA<br>Parallelism=2<br>CoeffType=Type1Pad<br>SubfiltN=%{x}<br>Mults=%{y}<extra></extra>\", \"legendgroup\": \"FFA\", \"line\": {\"color\": \"#636efa\", \"dash\": \"solid\"}, \"mode\": \"lines\", \"name\": \"FFA\", \"orientation\": \"v\", \"showlegend\": true, \"type\": \"scatter\", \"x\": [1, 2, 3, 4], \"xaxis\": \"x19\", \"y\": [3, 4, 6, 8], \"yaxis\": \"y19\"}, {\"hovertemplate\": \"FIR=FFA<br>Parallelism=2<br>CoeffType=Type2<br>SubfiltN=%{x}<br>Mults=%{y}<extra></extra>\", \"legendgroup\": \"FFA\", \"line\": {\"color\": \"#636efa\", \"dash\": \"solid\"}, \"mode\": \"lines\", \"name\": \"FFA\", \"orientation\": \"v\", \"showlegend\": false, \"type\": \"scatter\", \"x\": [1, 2, 3, 4], \"xaxis\": \"x20\", \"y\": [3, 5, 8, 10], \"yaxis\": \"y20\"}, {\"hovertemplate\": \"FIR=FFA<br>Parallelism=2<br>CoeffType=Type3Pad<br>SubfiltN=%{x}<br>Mults=%{y}<extra></extra>\", \"legendgroup\": \"FFA\", \"line\": {\"color\": \"#636efa\", \"dash\": \"solid\"}, \"mode\": \"lines\", \"name\": \"FFA\", \"orientation\": \"v\", \"showlegend\": false, \"type\": \"scatter\", \"x\": [1, 2, 3, 4], \"xaxis\": \"x21\", \"y\": [3, 4, 6, 8], \"yaxis\": \"y21\"}, {\"hovertemplate\": \"FIR=FFA<br>Parallelism=2<br>CoeffType=Type4<br>SubfiltN=%{x}<br>Mults=%{y}<extra></extra>\", \"legendgroup\": \"FFA\", \"line\": {\"color\": \"#636efa\", \"dash\": \"solid\"}, \"mode\": \"lines\", \"name\": \"FFA\", \"orientation\": \"v\", \"showlegend\": false, \"type\": \"scatter\", \"x\": [1, 2, 3, 4], \"xaxis\": \"x22\", \"y\": [3, 5, 7, 10], \"yaxis\": \"y22\"}, {\"hovertemplate\": \"FIR=FFA<br>Parallelism=2<br>CoeffType=NonLinPhase<br>SubfiltN=%{x}<br>Mults=%{y}<extra></extra>\", \"legendgroup\": \"FFA\", \"line\": {\"color\": \"#636efa\", \"dash\": \"solid\"}, \"mode\": \"lines\", \"name\": \"FFA\", \"orientation\": \"v\", \"showlegend\": false, \"type\": \"scatter\", \"x\": [1, 2, 3, 4], \"xaxis\": \"x23\", \"y\": [3, 6, 9, 12], \"yaxis\": \"y23\"}, {\"hovertemplate\": \"FIR=FFA<br>Parallelism=2<br>CoeffType=HalfBand<br>SubfiltN=%{x}<br>Mults=%{y}<extra></extra>\", \"legendgroup\": \"FFA\", \"line\": {\"color\": \"#636efa\", \"dash\": \"solid\"}, \"mode\": \"lines\", \"name\": \"FFA\", \"orientation\": \"v\", \"showlegend\": false, \"type\": \"scatter\", \"x\": [1, 2, 3, 4], \"xaxis\": \"x24\", \"y\": [3, 3, 5, 5], \"yaxis\": \"y24\"}, {\"hovertemplate\": \"FIR=FFA<br>Parallelism=4<br>CoeffType=Type1Pad<br>SubfiltN=%{x}<br>Mults=%{y}<extra></extra>\", \"legendgroup\": \"FFA\", \"line\": {\"color\": \"#636efa\", \"dash\": \"solid\"}, \"mode\": \"lines\", \"name\": \"FFA\", \"orientation\": \"v\", \"showlegend\": false, \"type\": \"scatter\", \"x\": [1, 2, 3, 4], \"xaxis\": \"x13\", \"y\": [9, 15, 23, 30], \"yaxis\": \"y13\"}, {\"hovertemplate\": \"FIR=FFA<br>Parallelism=4<br>CoeffType=Type2<br>SubfiltN=%{x}<br>Mults=%{y}<extra></extra>\", \"legendgroup\": \"FFA\", \"line\": {\"color\": \"#636efa\", \"dash\": \"solid\"}, \"mode\": \"lines\", \"name\": \"FFA\", \"orientation\": \"v\", \"showlegend\": false, \"type\": \"scatter\", \"x\": [1, 2, 3, 4], \"xaxis\": \"x14\", \"y\": [9, 17, 26, 34], \"yaxis\": \"y14\"}, {\"hovertemplate\": \"FIR=FFA<br>Parallelism=4<br>CoeffType=Type3Pad<br>SubfiltN=%{x}<br>Mults=%{y}<extra></extra>\", \"legendgroup\": \"FFA\", \"line\": {\"color\": \"#636efa\", \"dash\": \"solid\"}, \"mode\": \"lines\", \"name\": \"FFA\", \"orientation\": \"v\", \"showlegend\": false, \"type\": \"scatter\", \"x\": [1, 2, 3, 4], \"xaxis\": \"x15\", \"y\": [9, 15, 22, 30], \"yaxis\": \"y15\"}, {\"hovertemplate\": \"FIR=FFA<br>Parallelism=4<br>CoeffType=Type4<br>SubfiltN=%{x}<br>Mults=%{y}<extra></extra>\", \"legendgroup\": \"FFA\", \"line\": {\"color\": \"#636efa\", \"dash\": \"solid\"}, \"mode\": \"lines\", \"name\": \"FFA\", \"orientation\": \"v\", \"showlegend\": false, \"type\": \"scatter\", \"x\": [1, 2, 3, 4], \"xaxis\": \"x16\", \"y\": [9, 17, 25, 34], \"yaxis\": \"y16\"}, {\"hovertemplate\": \"FIR=FFA<br>Parallelism=4<br>CoeffType=NonLinPhase<br>SubfiltN=%{x}<br>Mults=%{y}<extra></extra>\", \"legendgroup\": \"FFA\", \"line\": {\"color\": \"#636efa\", \"dash\": \"solid\"}, \"mode\": \"lines\", \"name\": \"FFA\", \"orientation\": \"v\", \"showlegend\": false, \"type\": \"scatter\", \"x\": [1, 2, 3, 4], \"xaxis\": \"x17\", \"y\": [9, 18, 27, 36], \"yaxis\": \"y17\"}, {\"hovertemplate\": \"FIR=FFA<br>Parallelism=4<br>CoeffType=HalfBand<br>SubfiltN=%{x}<br>Mults=%{y}<extra></extra>\", \"legendgroup\": \"FFA\", \"line\": {\"color\": \"#636efa\", \"dash\": \"solid\"}, \"mode\": \"lines\", \"name\": \"FFA\", \"orientation\": \"v\", \"showlegend\": false, \"type\": \"scatter\", \"x\": [1, 2, 3, 4], \"xaxis\": \"x18\", \"y\": [9, 11, 15, 19], \"yaxis\": \"y18\"}, {\"hovertemplate\": \"FIR=FFA<br>Parallelism=8<br>CoeffType=Type1Pad<br>SubfiltN=%{x}<br>Mults=%{y}<extra></extra>\", \"legendgroup\": \"FFA\", \"line\": {\"color\": \"#636efa\", \"dash\": \"solid\"}, \"mode\": \"lines\", \"name\": \"FFA\", \"orientation\": \"v\", \"showlegend\": false, \"type\": \"scatter\", \"x\": [1, 2, 3, 4], \"xaxis\": \"x7\", \"y\": [27, 50, 76, 100], \"yaxis\": \"y7\"}, {\"hovertemplate\": \"FIR=FFA<br>Parallelism=8<br>CoeffType=Type2<br>SubfiltN=%{x}<br>Mults=%{y}<extra></extra>\", \"legendgroup\": \"FFA\", \"line\": {\"color\": \"#636efa\", \"dash\": \"solid\"}, \"mode\": \"lines\", \"name\": \"FFA\", \"orientation\": \"v\", \"showlegend\": false, \"type\": \"scatter\", \"x\": [1, 2, 3, 4], \"xaxis\": \"x8\", \"y\": [27, 53, 80, 106], \"yaxis\": \"y8\"}, {\"hovertemplate\": \"FIR=FFA<br>Parallelism=8<br>CoeffType=Type3Pad<br>SubfiltN=%{x}<br>Mults=%{y}<extra></extra>\", \"legendgroup\": \"FFA\", \"line\": {\"color\": \"#636efa\", \"dash\": \"solid\"}, \"mode\": \"lines\", \"name\": \"FFA\", \"orientation\": \"v\", \"showlegend\": false, \"type\": \"scatter\", \"x\": [1, 2, 3, 4], \"xaxis\": \"x9\", \"y\": [27, 50, 74, 100], \"yaxis\": \"y9\"}, {\"hovertemplate\": \"FIR=FFA<br>Parallelism=8<br>CoeffType=Type4<br>SubfiltN=%{x}<br>Mults=%{y}<extra></extra>\", \"legendgroup\": \"FFA\", \"line\": {\"color\": \"#636efa\", \"dash\": \"solid\"}, \"mode\": \"lines\", \"name\": \"FFA\", \"orientation\": \"v\", \"showlegend\": false, \"type\": \"scatter\", \"x\": [1, 2, 3, 4], \"xaxis\": \"x10\", \"y\": [27, 53, 79, 106], \"yaxis\": \"y10\"}, {\"hovertemplate\": \"FIR=FFA<br>Parallelism=8<br>CoeffType=NonLinPhase<br>SubfiltN=%{x}<br>Mults=%{y}<extra></extra>\", \"legendgroup\": \"FFA\", \"line\": {\"color\": \"#636efa\", \"dash\": \"solid\"}, \"mode\": \"lines\", \"name\": \"FFA\", \"orientation\": \"v\", \"showlegend\": false, \"type\": \"scatter\", \"x\": [1, 2, 3, 4], \"xaxis\": \"x11\", \"y\": [27, 54, 81, 108], \"yaxis\": \"y11\"}, {\"hovertemplate\": \"FIR=FFA<br>Parallelism=8<br>CoeffType=HalfBand<br>SubfiltN=%{x}<br>Mults=%{y}<extra></extra>\", \"legendgroup\": \"FFA\", \"line\": {\"color\": \"#636efa\", \"dash\": \"solid\"}, \"mode\": \"lines\", \"name\": \"FFA\", \"orientation\": \"v\", \"showlegend\": false, \"type\": \"scatter\", \"x\": [1, 2, 3, 4], \"xaxis\": \"x12\", \"y\": [27, 39, 55, 69], \"yaxis\": \"y12\"}, {\"hovertemplate\": \"FIR=FFA<br>Parallelism=16<br>CoeffType=Type1Pad<br>SubfiltN=%{x}<br>Mults=%{y}<extra></extra>\", \"legendgroup\": \"FFA\", \"line\": {\"color\": \"#636efa\", \"dash\": \"solid\"}, \"mode\": \"lines\", \"name\": \"FFA\", \"orientation\": \"v\", \"showlegend\": false, \"type\": \"scatter\", \"x\": [1, 2, 3, 4], \"xaxis\": \"x\", \"y\": [81, 157, 237, 314], \"yaxis\": \"y\"}, {\"hovertemplate\": \"FIR=FFA<br>Parallelism=16<br>CoeffType=Type2<br>SubfiltN=%{x}<br>Mults=%{y}<extra></extra>\", \"legendgroup\": \"FFA\", \"line\": {\"color\": \"#636efa\", \"dash\": \"solid\"}, \"mode\": \"lines\", \"name\": \"FFA\", \"orientation\": \"v\", \"showlegend\": false, \"type\": \"scatter\", \"x\": [1, 2, 3, 4], \"xaxis\": \"x2\", \"y\": [81, 161, 242, 322], \"yaxis\": \"y2\"}, {\"hovertemplate\": \"FIR=FFA<br>Parallelism=16<br>CoeffType=Type3Pad<br>SubfiltN=%{x}<br>Mults=%{y}<extra></extra>\", \"legendgroup\": \"FFA\", \"line\": {\"color\": \"#636efa\", \"dash\": \"solid\"}, \"mode\": \"lines\", \"name\": \"FFA\", \"orientation\": \"v\", \"showlegend\": false, \"type\": \"scatter\", \"x\": [1, 2, 3, 4], \"xaxis\": \"x3\", \"y\": [81, 157, 234, 314], \"yaxis\": \"y3\"}, {\"hovertemplate\": \"FIR=FFA<br>Parallelism=16<br>CoeffType=Type4<br>SubfiltN=%{x}<br>Mults=%{y}<extra></extra>\", \"legendgroup\": \"FFA\", \"line\": {\"color\": \"#636efa\", \"dash\": \"solid\"}, \"mode\": \"lines\", \"name\": \"FFA\", \"orientation\": \"v\", \"showlegend\": false, \"type\": \"scatter\", \"x\": [1, 2, 3, 4], \"xaxis\": \"x4\", \"y\": [81, 161, 241, 322], \"yaxis\": \"y4\"}, {\"hovertemplate\": \"FIR=FFA<br>Parallelism=16<br>CoeffType=NonLinPhase<br>SubfiltN=%{x}<br>Mults=%{y}<extra></extra>\", \"legendgroup\": \"FFA\", \"line\": {\"color\": \"#636efa\", \"dash\": \"solid\"}, \"mode\": \"lines\", \"name\": \"FFA\", \"orientation\": \"v\", \"showlegend\": false, \"type\": \"scatter\", \"x\": [1, 2, 3, 4], \"xaxis\": \"x5\", \"y\": [81, 162, 243, 324], \"yaxis\": \"y5\"}, {\"hovertemplate\": \"FIR=FFA<br>Parallelism=16<br>CoeffType=HalfBand<br>SubfiltN=%{x}<br>Mults=%{y}<extra></extra>\", \"legendgroup\": \"FFA\", \"line\": {\"color\": \"#636efa\", \"dash\": \"solid\"}, \"mode\": \"lines\", \"name\": \"FFA\", \"orientation\": \"v\", \"showlegend\": false, \"type\": \"scatter\", \"x\": [1, 2, 3, 4], \"xaxis\": \"x6\", \"y\": [81, 127, 179, 227], \"yaxis\": \"y6\"}, {\"hovertemplate\": \"FIR=Poly<br>Parallelism=2<br>CoeffType=Type1Pad<br>SubfiltN=%{x}<br>Mults=%{y}<extra></extra>\", \"legendgroup\": \"Poly\", \"line\": {\"color\": \"#EF553B\", \"dash\": \"solid\"}, \"mode\": \"lines\", \"name\": \"Poly\", \"orientation\": \"v\", \"showlegend\": true, \"type\": \"scatter\", \"x\": [1, 2, 3, 4], \"xaxis\": \"x19\", \"y\": [2, 4, 6, 8], \"yaxis\": \"y19\"}, {\"hovertemplate\": \"FIR=Poly<br>Parallelism=2<br>CoeffType=Type2<br>SubfiltN=%{x}<br>Mults=%{y}<extra></extra>\", \"legendgroup\": \"Poly\", \"line\": {\"color\": \"#EF553B\", \"dash\": \"solid\"}, \"mode\": \"lines\", \"name\": \"Poly\", \"orientation\": \"v\", \"showlegend\": false, \"type\": \"scatter\", \"x\": [1, 2, 3, 4], \"xaxis\": \"x20\", \"y\": [2, 4, 6, 8], \"yaxis\": \"y20\"}, {\"hovertemplate\": \"FIR=Poly<br>Parallelism=2<br>CoeffType=Type3Pad<br>SubfiltN=%{x}<br>Mults=%{y}<extra></extra>\", \"legendgroup\": \"Poly\", \"line\": {\"color\": \"#EF553B\", \"dash\": \"solid\"}, \"mode\": \"lines\", \"name\": \"Poly\", \"orientation\": \"v\", \"showlegend\": false, \"type\": \"scatter\", \"x\": [1, 2, 3, 4], \"xaxis\": \"x21\", \"y\": [2, 4, 6, 8], \"yaxis\": \"y21\"}, {\"hovertemplate\": \"FIR=Poly<br>Parallelism=2<br>CoeffType=Type4<br>SubfiltN=%{x}<br>Mults=%{y}<extra></extra>\", \"legendgroup\": \"Poly\", \"line\": {\"color\": \"#EF553B\", \"dash\": \"solid\"}, \"mode\": \"lines\", \"name\": \"Poly\", \"orientation\": \"v\", \"showlegend\": false, \"type\": \"scatter\", \"x\": [1, 2, 3, 4], \"xaxis\": \"x22\", \"y\": [2, 4, 6, 8], \"yaxis\": \"y22\"}, {\"hovertemplate\": \"FIR=Poly<br>Parallelism=2<br>CoeffType=NonLinPhase<br>SubfiltN=%{x}<br>Mults=%{y}<extra></extra>\", \"legendgroup\": \"Poly\", \"line\": {\"color\": \"#EF553B\", \"dash\": \"solid\"}, \"mode\": \"lines\", \"name\": \"Poly\", \"orientation\": \"v\", \"showlegend\": false, \"type\": \"scatter\", \"x\": [1, 2, 3, 4], \"xaxis\": \"x23\", \"y\": [4, 8, 12, 16], \"yaxis\": \"y23\"}, {\"hovertemplate\": \"FIR=Poly<br>Parallelism=2<br>CoeffType=HalfBand<br>SubfiltN=%{x}<br>Mults=%{y}<extra></extra>\", \"legendgroup\": \"Poly\", \"line\": {\"color\": \"#EF553B\", \"dash\": \"solid\"}, \"mode\": \"lines\", \"name\": \"Poly\", \"orientation\": \"v\", \"showlegend\": false, \"type\": \"scatter\", \"x\": [1, 2, 3, 4], \"xaxis\": \"x24\", \"y\": [2, 2, 4, 4], \"yaxis\": \"y24\"}, {\"hovertemplate\": \"FIR=Poly<br>Parallelism=4<br>CoeffType=Type1Pad<br>SubfiltN=%{x}<br>Mults=%{y}<extra></extra>\", \"legendgroup\": \"Poly\", \"line\": {\"color\": \"#EF553B\", \"dash\": \"solid\"}, \"mode\": \"lines\", \"name\": \"Poly\", \"orientation\": \"v\", \"showlegend\": false, \"type\": \"scatter\", \"x\": [1, 2, 3, 4], \"xaxis\": \"x13\", \"y\": [8, 16, 24, 32], \"yaxis\": \"y13\"}, {\"hovertemplate\": \"FIR=Poly<br>Parallelism=4<br>CoeffType=Type2<br>SubfiltN=%{x}<br>Mults=%{y}<extra></extra>\", \"legendgroup\": \"Poly\", \"line\": {\"color\": \"#EF553B\", \"dash\": \"solid\"}, \"mode\": \"lines\", \"name\": \"Poly\", \"orientation\": \"v\", \"showlegend\": false, \"type\": \"scatter\", \"x\": [1, 2, 3, 4], \"xaxis\": \"x14\", \"y\": [8, 16, 24, 32], \"yaxis\": \"y14\"}, {\"hovertemplate\": \"FIR=Poly<br>Parallelism=4<br>CoeffType=Type3Pad<br>SubfiltN=%{x}<br>Mults=%{y}<extra></extra>\", \"legendgroup\": \"Poly\", \"line\": {\"color\": \"#EF553B\", \"dash\": \"solid\"}, \"mode\": \"lines\", \"name\": \"Poly\", \"orientation\": \"v\", \"showlegend\": false, \"type\": \"scatter\", \"x\": [1, 2, 3, 4], \"xaxis\": \"x15\", \"y\": [8, 16, 24, 32], \"yaxis\": \"y15\"}, {\"hovertemplate\": \"FIR=Poly<br>Parallelism=4<br>CoeffType=Type4<br>SubfiltN=%{x}<br>Mults=%{y}<extra></extra>\", \"legendgroup\": \"Poly\", \"line\": {\"color\": \"#EF553B\", \"dash\": \"solid\"}, \"mode\": \"lines\", \"name\": \"Poly\", \"orientation\": \"v\", \"showlegend\": false, \"type\": \"scatter\", \"x\": [1, 2, 3, 4], \"xaxis\": \"x16\", \"y\": [8, 16, 24, 32], \"yaxis\": \"y16\"}, {\"hovertemplate\": \"FIR=Poly<br>Parallelism=4<br>CoeffType=NonLinPhase<br>SubfiltN=%{x}<br>Mults=%{y}<extra></extra>\", \"legendgroup\": \"Poly\", \"line\": {\"color\": \"#EF553B\", \"dash\": \"solid\"}, \"mode\": \"lines\", \"name\": \"Poly\", \"orientation\": \"v\", \"showlegend\": false, \"type\": \"scatter\", \"x\": [1, 2, 3, 4], \"xaxis\": \"x17\", \"y\": [16, 32, 48, 64], \"yaxis\": \"y17\"}, {\"hovertemplate\": \"FIR=Poly<br>Parallelism=4<br>CoeffType=HalfBand<br>SubfiltN=%{x}<br>Mults=%{y}<extra></extra>\", \"legendgroup\": \"Poly\", \"line\": {\"color\": \"#EF553B\", \"dash\": \"solid\"}, \"mode\": \"lines\", \"name\": \"Poly\", \"orientation\": \"v\", \"showlegend\": false, \"type\": \"scatter\", \"x\": [1, 2, 3, 4], \"xaxis\": \"x18\", \"y\": [4, 8, 12, 16], \"yaxis\": \"y18\"}, {\"hovertemplate\": \"FIR=Poly<br>Parallelism=8<br>CoeffType=Type1Pad<br>SubfiltN=%{x}<br>Mults=%{y}<extra></extra>\", \"legendgroup\": \"Poly\", \"line\": {\"color\": \"#EF553B\", \"dash\": \"solid\"}, \"mode\": \"lines\", \"name\": \"Poly\", \"orientation\": \"v\", \"showlegend\": false, \"type\": \"scatter\", \"x\": [1, 2, 3, 4], \"xaxis\": \"x7\", \"y\": [32, 64, 96, 128], \"yaxis\": \"y7\"}, {\"hovertemplate\": \"FIR=Poly<br>Parallelism=8<br>CoeffType=Type2<br>SubfiltN=%{x}<br>Mults=%{y}<extra></extra>\", \"legendgroup\": \"Poly\", \"line\": {\"color\": \"#EF553B\", \"dash\": \"solid\"}, \"mode\": \"lines\", \"name\": \"Poly\", \"orientation\": \"v\", \"showlegend\": false, \"type\": \"scatter\", \"x\": [1, 2, 3, 4], \"xaxis\": \"x8\", \"y\": [32, 64, 96, 128], \"yaxis\": \"y8\"}, {\"hovertemplate\": \"FIR=Poly<br>Parallelism=8<br>CoeffType=Type3Pad<br>SubfiltN=%{x}<br>Mults=%{y}<extra></extra>\", \"legendgroup\": \"Poly\", \"line\": {\"color\": \"#EF553B\", \"dash\": \"solid\"}, \"mode\": \"lines\", \"name\": \"Poly\", \"orientation\": \"v\", \"showlegend\": false, \"type\": \"scatter\", \"x\": [1, 2, 3, 4], \"xaxis\": \"x9\", \"y\": [32, 64, 96, 128], \"yaxis\": \"y9\"}, {\"hovertemplate\": \"FIR=Poly<br>Parallelism=8<br>CoeffType=Type4<br>SubfiltN=%{x}<br>Mults=%{y}<extra></extra>\", \"legendgroup\": \"Poly\", \"line\": {\"color\": \"#EF553B\", \"dash\": \"solid\"}, \"mode\": \"lines\", \"name\": \"Poly\", \"orientation\": \"v\", \"showlegend\": false, \"type\": \"scatter\", \"x\": [1, 2, 3, 4], \"xaxis\": \"x10\", \"y\": [32, 64, 96, 128], \"yaxis\": \"y10\"}, {\"hovertemplate\": \"FIR=Poly<br>Parallelism=8<br>CoeffType=NonLinPhase<br>SubfiltN=%{x}<br>Mults=%{y}<extra></extra>\", \"legendgroup\": \"Poly\", \"line\": {\"color\": \"#EF553B\", \"dash\": \"solid\"}, \"mode\": \"lines\", \"name\": \"Poly\", \"orientation\": \"v\", \"showlegend\": false, \"type\": \"scatter\", \"x\": [1, 2, 3, 4], \"xaxis\": \"x11\", \"y\": [64, 128, 192, 256], \"yaxis\": \"y11\"}, {\"hovertemplate\": \"FIR=Poly<br>Parallelism=8<br>CoeffType=HalfBand<br>SubfiltN=%{x}<br>Mults=%{y}<extra></extra>\", \"legendgroup\": \"Poly\", \"line\": {\"color\": \"#EF553B\", \"dash\": \"solid\"}, \"mode\": \"lines\", \"name\": \"Poly\", \"orientation\": \"v\", \"showlegend\": false, \"type\": \"scatter\", \"x\": [1, 2, 3, 4], \"xaxis\": \"x12\", \"y\": [16, 32, 48, 64], \"yaxis\": \"y12\"}, {\"hovertemplate\": \"FIR=Poly<br>Parallelism=16<br>CoeffType=Type1Pad<br>SubfiltN=%{x}<br>Mults=%{y}<extra></extra>\", \"legendgroup\": \"Poly\", \"line\": {\"color\": \"#EF553B\", \"dash\": \"solid\"}, \"mode\": \"lines\", \"name\": \"Poly\", \"orientation\": \"v\", \"showlegend\": false, \"type\": \"scatter\", \"x\": [1, 2, 3, 4], \"xaxis\": \"x\", \"y\": [128, 256, 384, 512], \"yaxis\": \"y\"}, {\"hovertemplate\": \"FIR=Poly<br>Parallelism=16<br>CoeffType=Type2<br>SubfiltN=%{x}<br>Mults=%{y}<extra></extra>\", \"legendgroup\": \"Poly\", \"line\": {\"color\": \"#EF553B\", \"dash\": \"solid\"}, \"mode\": \"lines\", \"name\": \"Poly\", \"orientation\": \"v\", \"showlegend\": false, \"type\": \"scatter\", \"x\": [1, 2, 3, 4], \"xaxis\": \"x2\", \"y\": [128, 256, 384, 512], \"yaxis\": \"y2\"}, {\"hovertemplate\": \"FIR=Poly<br>Parallelism=16<br>CoeffType=Type3Pad<br>SubfiltN=%{x}<br>Mults=%{y}<extra></extra>\", \"legendgroup\": \"Poly\", \"line\": {\"color\": \"#EF553B\", \"dash\": \"solid\"}, \"mode\": \"lines\", \"name\": \"Poly\", \"orientation\": \"v\", \"showlegend\": false, \"type\": \"scatter\", \"x\": [1, 2, 3, 4], \"xaxis\": \"x3\", \"y\": [128, 256, 384, 512], \"yaxis\": \"y3\"}, {\"hovertemplate\": \"FIR=Poly<br>Parallelism=16<br>CoeffType=Type4<br>SubfiltN=%{x}<br>Mults=%{y}<extra></extra>\", \"legendgroup\": \"Poly\", \"line\": {\"color\": \"#EF553B\", \"dash\": \"solid\"}, \"mode\": \"lines\", \"name\": \"Poly\", \"orientation\": \"v\", \"showlegend\": false, \"type\": \"scatter\", \"x\": [1, 2, 3, 4], \"xaxis\": \"x4\", \"y\": [128, 256, 384, 512], \"yaxis\": \"y4\"}, {\"hovertemplate\": \"FIR=Poly<br>Parallelism=16<br>CoeffType=NonLinPhase<br>SubfiltN=%{x}<br>Mults=%{y}<extra></extra>\", \"legendgroup\": \"Poly\", \"line\": {\"color\": \"#EF553B\", \"dash\": \"solid\"}, \"mode\": \"lines\", \"name\": \"Poly\", \"orientation\": \"v\", \"showlegend\": false, \"type\": \"scatter\", \"x\": [1, 2, 3, 4], \"xaxis\": \"x5\", \"y\": [256, 512, 768, 1024], \"yaxis\": \"y5\"}, {\"hovertemplate\": \"FIR=Poly<br>Parallelism=16<br>CoeffType=HalfBand<br>SubfiltN=%{x}<br>Mults=%{y}<extra></extra>\", \"legendgroup\": \"Poly\", \"line\": {\"color\": \"#EF553B\", \"dash\": \"solid\"}, \"mode\": \"lines\", \"name\": \"Poly\", \"orientation\": \"v\", \"showlegend\": false, \"type\": \"scatter\", \"x\": [1, 2, 3, 4], \"xaxis\": \"x6\", \"y\": [64, 128, 192, 256], \"yaxis\": \"y6\"}],                        {\"annotations\": [{\"font\": {}, \"showarrow\": false, \"text\": \"CoeffType=Type1Pad\", \"x\": 0.07333333333333333, \"xanchor\": \"center\", \"xref\": \"paper\", \"y\": 1.0, \"yanchor\": \"bottom\", \"yref\": \"paper\"}, {\"font\": {}, \"showarrow\": false, \"text\": \"CoeffType=Type2\", \"x\": 0.24, \"xanchor\": \"center\", \"xref\": \"paper\", \"y\": 1.0, \"yanchor\": \"bottom\", \"yref\": \"paper\"}, {\"font\": {}, \"showarrow\": false, \"text\": \"CoeffType=Type3Pad\", \"x\": 0.4066666666666666, \"xanchor\": \"center\", \"xref\": \"paper\", \"y\": 1.0, \"yanchor\": \"bottom\", \"yref\": \"paper\"}, {\"font\": {}, \"showarrow\": false, \"text\": \"CoeffType=Type4\", \"x\": 0.5733333333333334, \"xanchor\": \"center\", \"xref\": \"paper\", \"y\": 1.0, \"yanchor\": \"bottom\", \"yref\": \"paper\"}, {\"font\": {}, \"showarrow\": false, \"text\": \"CoeffType=NonLinPhase\", \"x\": 0.74, \"xanchor\": \"center\", \"xref\": \"paper\", \"y\": 1.0, \"yanchor\": \"bottom\", \"yref\": \"paper\"}, {\"font\": {}, \"showarrow\": false, \"text\": \"CoeffType=HalfBand\", \"x\": 0.9066666666666667, \"xanchor\": \"center\", \"xref\": \"paper\", \"y\": 1.0, \"yanchor\": \"bottom\", \"yref\": \"paper\"}, {\"font\": {}, \"showarrow\": false, \"text\": \"Parallelism=16\", \"textangle\": 90, \"x\": 0.98, \"xanchor\": \"left\", \"xref\": \"paper\", \"y\": 0.11375, \"yanchor\": \"middle\", \"yref\": \"paper\"}, {\"font\": {}, \"showarrow\": false, \"text\": \"Parallelism=8\", \"textangle\": 90, \"x\": 0.98, \"xanchor\": \"left\", \"xref\": \"paper\", \"y\": 0.37124999999999997, \"yanchor\": \"middle\", \"yref\": \"paper\"}, {\"font\": {}, \"showarrow\": false, \"text\": \"Parallelism=4\", \"textangle\": 90, \"x\": 0.98, \"xanchor\": \"left\", \"xref\": \"paper\", \"y\": 0.62875, \"yanchor\": \"middle\", \"yref\": \"paper\"}, {\"font\": {}, \"showarrow\": false, \"text\": \"Parallelism=2\", \"textangle\": 90, \"x\": 0.98, \"xanchor\": \"left\", \"xref\": \"paper\", \"y\": 0.88625, \"yanchor\": \"middle\", \"yref\": \"paper\"}], \"height\": 1000, \"legend\": {\"title\": {\"text\": \"FIR\"}, \"tracegroupgap\": 0}, \"margin\": {\"t\": 60}, \"template\": {\"data\": {\"bar\": [{\"error_x\": {\"color\": \"#2a3f5f\"}, \"error_y\": {\"color\": \"#2a3f5f\"}, \"marker\": {\"line\": {\"color\": \"#E5ECF6\", \"width\": 0.5}}, \"type\": \"bar\"}], \"barpolar\": [{\"marker\": {\"line\": {\"color\": \"#E5ECF6\", \"width\": 0.5}}, \"type\": \"barpolar\"}], \"carpet\": [{\"aaxis\": {\"endlinecolor\": \"#2a3f5f\", \"gridcolor\": \"white\", \"linecolor\": \"white\", \"minorgridcolor\": \"white\", \"startlinecolor\": \"#2a3f5f\"}, \"baxis\": {\"endlinecolor\": \"#2a3f5f\", \"gridcolor\": \"white\", \"linecolor\": \"white\", \"minorgridcolor\": \"white\", \"startlinecolor\": \"#2a3f5f\"}, \"type\": \"carpet\"}], \"choropleth\": [{\"colorbar\": {\"outlinewidth\": 0, \"ticks\": \"\"}, \"type\": \"choropleth\"}], \"contour\": [{\"colorbar\": {\"outlinewidth\": 0, \"ticks\": \"\"}, \"colorscale\": [[0.0, \"#0d0887\"], [0.1111111111111111, \"#46039f\"], [0.2222222222222222, \"#7201a8\"], [0.3333333333333333, \"#9c179e\"], [0.4444444444444444, \"#bd3786\"], [0.5555555555555556, \"#d8576b\"], [0.6666666666666666, \"#ed7953\"], [0.7777777777777778, \"#fb9f3a\"], [0.8888888888888888, \"#fdca26\"], [1.0, \"#f0f921\"]], \"type\": \"contour\"}], \"contourcarpet\": [{\"colorbar\": {\"outlinewidth\": 0, \"ticks\": \"\"}, \"type\": \"contourcarpet\"}], \"heatmap\": [{\"colorbar\": {\"outlinewidth\": 0, \"ticks\": \"\"}, \"colorscale\": [[0.0, \"#0d0887\"], [0.1111111111111111, \"#46039f\"], [0.2222222222222222, \"#7201a8\"], [0.3333333333333333, \"#9c179e\"], [0.4444444444444444, \"#bd3786\"], [0.5555555555555556, \"#d8576b\"], [0.6666666666666666, \"#ed7953\"], [0.7777777777777778, \"#fb9f3a\"], [0.8888888888888888, \"#fdca26\"], [1.0, \"#f0f921\"]], \"type\": \"heatmap\"}], \"heatmapgl\": [{\"colorbar\": {\"outlinewidth\": 0, \"ticks\": \"\"}, \"colorscale\": [[0.0, \"#0d0887\"], [0.1111111111111111, \"#46039f\"], [0.2222222222222222, \"#7201a8\"], [0.3333333333333333, \"#9c179e\"], [0.4444444444444444, \"#bd3786\"], [0.5555555555555556, \"#d8576b\"], [0.6666666666666666, \"#ed7953\"], [0.7777777777777778, \"#fb9f3a\"], [0.8888888888888888, \"#fdca26\"], [1.0, \"#f0f921\"]], \"type\": \"heatmapgl\"}], \"histogram\": [{\"marker\": {\"colorbar\": {\"outlinewidth\": 0, \"ticks\": \"\"}}, \"type\": \"histogram\"}], \"histogram2d\": [{\"colorbar\": {\"outlinewidth\": 0, \"ticks\": \"\"}, \"colorscale\": [[0.0, \"#0d0887\"], [0.1111111111111111, \"#46039f\"], [0.2222222222222222, \"#7201a8\"], [0.3333333333333333, \"#9c179e\"], [0.4444444444444444, \"#bd3786\"], [0.5555555555555556, \"#d8576b\"], [0.6666666666666666, \"#ed7953\"], [0.7777777777777778, \"#fb9f3a\"], [0.8888888888888888, \"#fdca26\"], [1.0, \"#f0f921\"]], \"type\": \"histogram2d\"}], \"histogram2dcontour\": [{\"colorbar\": {\"outlinewidth\": 0, \"ticks\": \"\"}, \"colorscale\": [[0.0, \"#0d0887\"], [0.1111111111111111, \"#46039f\"], [0.2222222222222222, \"#7201a8\"], [0.3333333333333333, \"#9c179e\"], [0.4444444444444444, \"#bd3786\"], [0.5555555555555556, \"#d8576b\"], [0.6666666666666666, \"#ed7953\"], [0.7777777777777778, \"#fb9f3a\"], [0.8888888888888888, \"#fdca26\"], [1.0, \"#f0f921\"]], \"type\": \"histogram2dcontour\"}], \"mesh3d\": [{\"colorbar\": {\"outlinewidth\": 0, \"ticks\": \"\"}, \"type\": \"mesh3d\"}], \"parcoords\": [{\"line\": {\"colorbar\": {\"outlinewidth\": 0, \"ticks\": \"\"}}, \"type\": \"parcoords\"}], \"pie\": [{\"automargin\": true, \"type\": \"pie\"}], \"scatter\": [{\"marker\": {\"colorbar\": {\"outlinewidth\": 0, \"ticks\": \"\"}}, \"type\": \"scatter\"}], \"scatter3d\": [{\"line\": {\"colorbar\": {\"outlinewidth\": 0, \"ticks\": \"\"}}, \"marker\": {\"colorbar\": {\"outlinewidth\": 0, \"ticks\": \"\"}}, \"type\": \"scatter3d\"}], \"scattercarpet\": [{\"marker\": {\"colorbar\": {\"outlinewidth\": 0, \"ticks\": \"\"}}, \"type\": \"scattercarpet\"}], \"scattergeo\": [{\"marker\": {\"colorbar\": {\"outlinewidth\": 0, \"ticks\": \"\"}}, \"type\": \"scattergeo\"}], \"scattergl\": [{\"marker\": {\"colorbar\": {\"outlinewidth\": 0, \"ticks\": \"\"}}, \"type\": \"scattergl\"}], \"scattermapbox\": [{\"marker\": {\"colorbar\": {\"outlinewidth\": 0, \"ticks\": \"\"}}, \"type\": \"scattermapbox\"}], \"scatterpolar\": [{\"marker\": {\"colorbar\": {\"outlinewidth\": 0, \"ticks\": \"\"}}, \"type\": \"scatterpolar\"}], \"scatterpolargl\": [{\"marker\": {\"colorbar\": {\"outlinewidth\": 0, \"ticks\": \"\"}}, \"type\": \"scatterpolargl\"}], \"scatterternary\": [{\"marker\": {\"colorbar\": {\"outlinewidth\": 0, \"ticks\": \"\"}}, \"type\": \"scatterternary\"}], \"surface\": [{\"colorbar\": {\"outlinewidth\": 0, \"ticks\": \"\"}, \"colorscale\": [[0.0, \"#0d0887\"], [0.1111111111111111, \"#46039f\"], [0.2222222222222222, \"#7201a8\"], [0.3333333333333333, \"#9c179e\"], [0.4444444444444444, \"#bd3786\"], [0.5555555555555556, \"#d8576b\"], [0.6666666666666666, \"#ed7953\"], [0.7777777777777778, \"#fb9f3a\"], [0.8888888888888888, \"#fdca26\"], [1.0, \"#f0f921\"]], \"type\": \"surface\"}], \"table\": [{\"cells\": {\"fill\": {\"color\": \"#EBF0F8\"}, \"line\": {\"color\": \"white\"}}, \"header\": {\"fill\": {\"color\": \"#C8D4E3\"}, \"line\": {\"color\": \"white\"}}, \"type\": \"table\"}]}, \"layout\": {\"annotationdefaults\": {\"arrowcolor\": \"#2a3f5f\", \"arrowhead\": 0, \"arrowwidth\": 1}, \"autotypenumbers\": \"strict\", \"coloraxis\": {\"colorbar\": {\"outlinewidth\": 0, \"ticks\": \"\"}}, \"colorscale\": {\"diverging\": [[0, \"#8e0152\"], [0.1, \"#c51b7d\"], [0.2, \"#de77ae\"], [0.3, \"#f1b6da\"], [0.4, \"#fde0ef\"], [0.5, \"#f7f7f7\"], [0.6, \"#e6f5d0\"], [0.7, \"#b8e186\"], [0.8, \"#7fbc41\"], [0.9, \"#4d9221\"], [1, \"#276419\"]], \"sequential\": [[0.0, \"#0d0887\"], [0.1111111111111111, \"#46039f\"], [0.2222222222222222, \"#7201a8\"], [0.3333333333333333, \"#9c179e\"], [0.4444444444444444, \"#bd3786\"], [0.5555555555555556, \"#d8576b\"], [0.6666666666666666, \"#ed7953\"], [0.7777777777777778, \"#fb9f3a\"], [0.8888888888888888, \"#fdca26\"], [1.0, \"#f0f921\"]], \"sequentialminus\": [[0.0, \"#0d0887\"], [0.1111111111111111, \"#46039f\"], [0.2222222222222222, \"#7201a8\"], [0.3333333333333333, \"#9c179e\"], [0.4444444444444444, \"#bd3786\"], [0.5555555555555556, \"#d8576b\"], [0.6666666666666666, \"#ed7953\"], [0.7777777777777778, \"#fb9f3a\"], [0.8888888888888888, \"#fdca26\"], [1.0, \"#f0f921\"]]}, \"colorway\": [\"#636efa\", \"#EF553B\", \"#00cc96\", \"#ab63fa\", \"#FFA15A\", \"#19d3f3\", \"#FF6692\", \"#B6E880\", \"#FF97FF\", \"#FECB52\"], \"font\": {\"color\": \"#2a3f5f\"}, \"geo\": {\"bgcolor\": \"white\", \"lakecolor\": \"white\", \"landcolor\": \"#E5ECF6\", \"showlakes\": true, \"showland\": true, \"subunitcolor\": \"white\"}, \"hoverlabel\": {\"align\": \"left\"}, \"hovermode\": \"closest\", \"mapbox\": {\"style\": \"light\"}, \"paper_bgcolor\": \"white\", \"plot_bgcolor\": \"#E5ECF6\", \"polar\": {\"angularaxis\": {\"gridcolor\": \"white\", \"linecolor\": \"white\", \"ticks\": \"\"}, \"bgcolor\": \"#E5ECF6\", \"radialaxis\": {\"gridcolor\": \"white\", \"linecolor\": \"white\", \"ticks\": \"\"}}, \"scene\": {\"xaxis\": {\"backgroundcolor\": \"#E5ECF6\", \"gridcolor\": \"white\", \"gridwidth\": 2, \"linecolor\": \"white\", \"showbackground\": true, \"ticks\": \"\", \"zerolinecolor\": \"white\"}, \"yaxis\": {\"backgroundcolor\": \"#E5ECF6\", \"gridcolor\": \"white\", \"gridwidth\": 2, \"linecolor\": \"white\", \"showbackground\": true, \"ticks\": \"\", \"zerolinecolor\": \"white\"}, \"zaxis\": {\"backgroundcolor\": \"#E5ECF6\", \"gridcolor\": \"white\", \"gridwidth\": 2, \"linecolor\": \"white\", \"showbackground\": true, \"ticks\": \"\", \"zerolinecolor\": \"white\"}}, \"shapedefaults\": {\"line\": {\"color\": \"#2a3f5f\"}}, \"ternary\": {\"aaxis\": {\"gridcolor\": \"white\", \"linecolor\": \"white\", \"ticks\": \"\"}, \"baxis\": {\"gridcolor\": \"white\", \"linecolor\": \"white\", \"ticks\": \"\"}, \"bgcolor\": \"#E5ECF6\", \"caxis\": {\"gridcolor\": \"white\", \"linecolor\": \"white\", \"ticks\": \"\"}}, \"title\": {\"x\": 0.05}, \"xaxis\": {\"automargin\": true, \"gridcolor\": \"white\", \"linecolor\": \"white\", \"ticks\": \"\", \"title\": {\"standoff\": 15}, \"zerolinecolor\": \"white\", \"zerolinewidth\": 2}, \"yaxis\": {\"automargin\": true, \"gridcolor\": \"white\", \"linecolor\": \"white\", \"ticks\": \"\", \"title\": {\"standoff\": 15}, \"zerolinecolor\": \"white\", \"zerolinewidth\": 2}}}, \"xaxis\": {\"anchor\": \"y\", \"domain\": [0.0, 0.14666666666666667], \"title\": {\"text\": \"SubfiltN\"}}, \"xaxis10\": {\"anchor\": \"y10\", \"domain\": [0.5, 0.6466666666666667], \"matches\": \"x\", \"showticklabels\": false}, \"xaxis11\": {\"anchor\": \"y11\", \"domain\": [0.6666666666666666, 0.8133333333333332], \"matches\": \"x\", \"showticklabels\": false}, \"xaxis12\": {\"anchor\": \"y12\", \"domain\": [0.8333333333333334, 0.98], \"matches\": \"x\", \"showticklabels\": false}, \"xaxis13\": {\"anchor\": \"y13\", \"domain\": [0.0, 0.14666666666666667], \"matches\": \"x\", \"showticklabels\": false}, \"xaxis14\": {\"anchor\": \"y14\", \"domain\": [0.16666666666666666, 0.31333333333333335], \"matches\": \"x\", \"showticklabels\": false}, \"xaxis15\": {\"anchor\": \"y15\", \"domain\": [0.3333333333333333, 0.48], \"matches\": \"x\", \"showticklabels\": false}, \"xaxis16\": {\"anchor\": \"y16\", \"domain\": [0.5, 0.6466666666666667], \"matches\": \"x\", \"showticklabels\": false}, \"xaxis17\": {\"anchor\": \"y17\", \"domain\": [0.6666666666666666, 0.8133333333333332], \"matches\": \"x\", \"showticklabels\": false}, \"xaxis18\": {\"anchor\": \"y18\", \"domain\": [0.8333333333333334, 0.98], \"matches\": \"x\", \"showticklabels\": false}, \"xaxis19\": {\"anchor\": \"y19\", \"domain\": [0.0, 0.14666666666666667], \"matches\": \"x\", \"showticklabels\": false}, \"xaxis2\": {\"anchor\": \"y2\", \"domain\": [0.16666666666666666, 0.31333333333333335], \"matches\": \"x\", \"title\": {\"text\": \"SubfiltN\"}}, \"xaxis20\": {\"anchor\": \"y20\", \"domain\": [0.16666666666666666, 0.31333333333333335], \"matches\": \"x\", \"showticklabels\": false}, \"xaxis21\": {\"anchor\": \"y21\", \"domain\": [0.3333333333333333, 0.48], \"matches\": \"x\", \"showticklabels\": false}, \"xaxis22\": {\"anchor\": \"y22\", \"domain\": [0.5, 0.6466666666666667], \"matches\": \"x\", \"showticklabels\": false}, \"xaxis23\": {\"anchor\": \"y23\", \"domain\": [0.6666666666666666, 0.8133333333333332], \"matches\": \"x\", \"showticklabels\": false}, \"xaxis24\": {\"anchor\": \"y24\", \"domain\": [0.8333333333333334, 0.98], \"matches\": \"x\", \"showticklabels\": false}, \"xaxis3\": {\"anchor\": \"y3\", \"domain\": [0.3333333333333333, 0.48], \"matches\": \"x\", \"title\": {\"text\": \"SubfiltN\"}}, \"xaxis4\": {\"anchor\": \"y4\", \"domain\": [0.5, 0.6466666666666667], \"matches\": \"x\", \"title\": {\"text\": \"SubfiltN\"}}, \"xaxis5\": {\"anchor\": \"y5\", \"domain\": [0.6666666666666666, 0.8133333333333332], \"matches\": \"x\", \"title\": {\"text\": \"SubfiltN\"}}, \"xaxis6\": {\"anchor\": \"y6\", \"domain\": [0.8333333333333334, 0.98], \"matches\": \"x\", \"title\": {\"text\": \"SubfiltN\"}}, \"xaxis7\": {\"anchor\": \"y7\", \"domain\": [0.0, 0.14666666666666667], \"matches\": \"x\", \"showticklabels\": false}, \"xaxis8\": {\"anchor\": \"y8\", \"domain\": [0.16666666666666666, 0.31333333333333335], \"matches\": \"x\", \"showticklabels\": false}, \"xaxis9\": {\"anchor\": \"y9\", \"domain\": [0.3333333333333333, 0.48], \"matches\": \"x\", \"showticklabels\": false}, \"yaxis\": {\"anchor\": \"x\", \"domain\": [0.0, 0.2275], \"title\": {\"text\": \"Mults\"}}, \"yaxis10\": {\"anchor\": \"x10\", \"domain\": [0.2575, 0.485], \"matches\": \"y\", \"showticklabels\": false}, \"yaxis11\": {\"anchor\": \"x11\", \"domain\": [0.2575, 0.485], \"matches\": \"y\", \"showticklabels\": false}, \"yaxis12\": {\"anchor\": \"x12\", \"domain\": [0.2575, 0.485], \"matches\": \"y\", \"showticklabels\": false}, \"yaxis13\": {\"anchor\": \"x13\", \"domain\": [0.515, 0.7425], \"matches\": \"y\", \"title\": {\"text\": \"Mults\"}}, \"yaxis14\": {\"anchor\": \"x14\", \"domain\": [0.515, 0.7425], \"matches\": \"y\", \"showticklabels\": false}, \"yaxis15\": {\"anchor\": \"x15\", \"domain\": [0.515, 0.7425], \"matches\": \"y\", \"showticklabels\": false}, \"yaxis16\": {\"anchor\": \"x16\", \"domain\": [0.515, 0.7425], \"matches\": \"y\", \"showticklabels\": false}, \"yaxis17\": {\"anchor\": \"x17\", \"domain\": [0.515, 0.7425], \"matches\": \"y\", \"showticklabels\": false}, \"yaxis18\": {\"anchor\": \"x18\", \"domain\": [0.515, 0.7425], \"matches\": \"y\", \"showticklabels\": false}, \"yaxis19\": {\"anchor\": \"x19\", \"domain\": [0.7725, 1.0], \"matches\": \"y\", \"title\": {\"text\": \"Mults\"}}, \"yaxis2\": {\"anchor\": \"x2\", \"domain\": [0.0, 0.2275], \"matches\": \"y\", \"showticklabels\": false}, \"yaxis20\": {\"anchor\": \"x20\", \"domain\": [0.7725, 1.0], \"matches\": \"y\", \"showticklabels\": false}, \"yaxis21\": {\"anchor\": \"x21\", \"domain\": [0.7725, 1.0], \"matches\": \"y\", \"showticklabels\": false}, \"yaxis22\": {\"anchor\": \"x22\", \"domain\": [0.7725, 1.0], \"matches\": \"y\", \"showticklabels\": false}, \"yaxis23\": {\"anchor\": \"x23\", \"domain\": [0.7725, 1.0], \"matches\": \"y\", \"showticklabels\": false}, \"yaxis24\": {\"anchor\": \"x24\", \"domain\": [0.7725, 1.0], \"matches\": \"y\", \"showticklabels\": false}, \"yaxis3\": {\"anchor\": \"x3\", \"domain\": [0.0, 0.2275], \"matches\": \"y\", \"showticklabels\": false}, \"yaxis4\": {\"anchor\": \"x4\", \"domain\": [0.0, 0.2275], \"matches\": \"y\", \"showticklabels\": false}, \"yaxis5\": {\"anchor\": \"x5\", \"domain\": [0.0, 0.2275], \"matches\": \"y\", \"showticklabels\": false}, \"yaxis6\": {\"anchor\": \"x6\", \"domain\": [0.0, 0.2275], \"matches\": \"y\", \"showticklabels\": false}, \"yaxis7\": {\"anchor\": \"x7\", \"domain\": [0.2575, 0.485], \"matches\": \"y\", \"title\": {\"text\": \"Mults\"}}, \"yaxis8\": {\"anchor\": \"x8\", \"domain\": [0.2575, 0.485], \"matches\": \"y\", \"showticklabels\": false}, \"yaxis9\": {\"anchor\": \"x9\", \"domain\": [0.2575, 0.485], \"matches\": \"y\", \"showticklabels\": false}},                        {\"responsive\": true}                    ).then(function(){\n",
       "                            \n",
       "var gd = document.getElementById('defbb27e-7d9d-4411-9b7b-9d5d940184eb');\n",
       "var x = new MutationObserver(function (mutations, observer) {{\n",
       "        var display = window.getComputedStyle(gd).display;\n",
       "        if (!display || display === 'none') {{\n",
       "            console.log([gd, 'removed!']);\n",
       "            Plotly.purge(gd);\n",
       "            observer.disconnect();\n",
       "        }}\n",
       "}});\n",
       "\n",
       "// Listen for the removal of the full notebook cells\n",
       "var notebookContainer = gd.closest('#notebook-container');\n",
       "if (notebookContainer) {{\n",
       "    x.observe(notebookContainer, {childList: true});\n",
       "}}\n",
       "\n",
       "// Listen for the clearing of the current output cell\n",
       "var outputEl = gd.closest('.output');\n",
       "if (outputEl) {{\n",
       "    x.observe(outputEl, {childList: true});\n",
       "}}\n",
       "\n",
       "                        })                };                });            </script>        </div>"
      ]
     },
     "metadata": {},
     "output_type": "display_data"
    }
   ],
   "source": [
    "import plotly.express as px\n",
    "px.line(frame, x='SubfiltN',y='Mults', color='FIR', facet_row='Parallelism', facet_col='CoeffType', height=1000)"
   ]
  },
  {
   "cell_type": "code",
   "execution_count": null,
   "id": "563bd381-8f15-45b5-85c4-1794eaf3fd43",
   "metadata": {},
   "outputs": [],
   "source": []
  }
 ],
 "metadata": {
  "kernelspec": {
   "display_name": "Python3 - python",
   "language": "python",
   "name": "ipython_python"
  },
  "language_info": {
   "codemirror_mode": {
    "name": "ipython",
    "version": 3
   },
   "file_extension": ".py",
   "mimetype": "text/x-python",
   "name": "python",
   "nbconvert_exporter": "python",
   "pygments_lexer": "ipython3",
   "version": "3.8.9"
  }
 },
 "nbformat": 4,
 "nbformat_minor": 5
}
