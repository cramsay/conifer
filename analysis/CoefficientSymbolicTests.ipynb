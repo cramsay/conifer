{
 "cells": [
  {
   "cell_type": "markdown",
   "id": "d07f170e-9934-4fb6-89e7-bab1ac0444dd",
   "metadata": {},
   "source": [
    "# Coefficient Symmetry Under Parallelism\n",
    "\n",
    "Here we will try to verify our (manually) derived equations, describing how many MCM multiplications we will really need to implement given different coefficient symmetries. We'll be comparing polyphase structures (with a shared MCM block per phase) to FFA structures (where each MCM block is isolated).\n",
    "\n",
    "We'll do this verification by implementing our equations and checking the results against a reference, using symbolic programming. This reference will:\n",
    "\n",
    "  1. Generate symbols (using `sympy`) for each style of coefficient symmetry\n",
    "  2. Rearrange and combine these coefficient sets into the appropriate subfilters for FFA or polyphase\n",
    "  3. Simplify these terms and remove any duplicates, zeros, or negations of other terms\n",
    "  4. Count the remaining terms!\n",
    "\n",
    "Let's get started"
   ]
  },
  {
   "cell_type": "code",
   "execution_count": null,
   "id": "fitting-replication",
   "metadata": {},
   "outputs": [],
   "source": [
    "import sympy as sym\n",
    "import pandas as pd\n",
    "from math import ceil, floor, log2\n",
    "import enum"
   ]
  },
  {
   "cell_type": "markdown",
   "id": "ecfe5a37-1253-4827-bb5f-38b7efff4ad9",
   "metadata": {},
   "source": [
    "First, let's go from a flat set of coefficients to a nested list, describing equivalent FFA and polyphase subfilters."
   ]
  },
  {
   "cell_type": "code",
   "execution_count": null,
   "id": "c58a8c2f-b593-444d-8afb-347c405b9b16",
   "metadata": {},
   "outputs": [],
   "source": [
    "def hffa(p, ws):\n",
    "    \"\"\" Get all subfilter coefficient sets for FFA structures.\n",
    "    \n",
    "        `p` is the level of parallelism (should be a power-of-2)\n",
    "        `ws` is the list of coefficients (values or symbols)\n",
    "    \"\"\"\n",
    "    if p==1:\n",
    "        return [ws]\n",
    "    return hffa(p//2, ws[0::2]) + \\\n",
    "           hffa(p//2, [a+b for (a,b) in zip(ws[0::2],ws[1::2])]) + \\\n",
    "           hffa(p//2, ws[1::2])\n",
    "\n",
    "\n",
    "def hpoly(p, ws):\n",
    "    \"\"\" Get all subfilter coefficient sets for polyphase structures.\n",
    "    \n",
    "        `p` is the level of parallelism\n",
    "        `ws` is the list of coefficients (values or symbols)\n",
    "    \"\"\"\n",
    "    return [ws for _ in range(p)]"
   ]
  },
  {
   "cell_type": "markdown",
   "id": "c96dac49-66d0-4bcf-8de2-6fb97b11eb0e",
   "metadata": {},
   "source": [
    "Now we'll define helpers for our reference, including checking equality symbolically, filtering out duplicates, and counting the survivors."
   ]
  },
  {
   "cell_type": "code",
   "execution_count": null,
   "id": "dd6867cc-f26f-484a-823b-c345eb8914d1",
   "metadata": {},
   "outputs": [],
   "source": [
    "def eqTerms(x, y):\n",
    "    \"\"\" Check if two terms are symbolically equivalent.\n",
    "    \n",
    "        `x` and `y` are symbols or expressions from the `sympy` library\n",
    "    \"\"\"\n",
    "    return 0 == sym.simplify(x-y)\n",
    "\n",
    "\n",
    "def uniqAbsTerms(xs):\n",
    "    \"\"\" Filter our any convertible terms from a list.\n",
    "    \n",
    "        Two terms are _convertible_ if they are zero, equal, or the negation of each other.\n",
    "        \n",
    "        `xs` is a list of terms to check\n",
    "    \"\"\"\n",
    "    uniqs = []\n",
    "    for x in xs:\n",
    "        xabs = sym.Abs(x)\n",
    "        if not ( eqTerms(x,0) or any([eqTerms(xabs,u) for u in uniqs]) ):\n",
    "            uniqs.append(xabs)\n",
    "    # NOTE: We aren't checking if one term is a bitshifted version of an existing one...\n",
    "    #       Can we prove this will not happen?\n",
    "    return uniqs\n",
    "\n",
    "def countMults(h):\n",
    "    \"\"\" Count the number of multiplications in a set of subfilter sets.\n",
    "    \n",
    "        `h` is the list of subfilter coefficient sets\n",
    "    \"\"\"\n",
    "    return sum([len(ws) for ws in h])"
   ]
  },
  {
   "cell_type": "markdown",
   "id": "90c34444-4d9d-48f9-b8b5-9815244085e2",
   "metadata": {},
   "source": [
    "We also need to generate coefficient symbols for each style. Let's do this as one helper function, `genCoeffs`. "
   ]
  },
  {
   "cell_type": "code",
   "execution_count": null,
   "id": "1234614d-8079-416d-99f8-a05d69e0e37c",
   "metadata": {},
   "outputs": [],
   "source": [
    "_nonlinPhase = lambda n : [sym.Symbol('w'+str(i)) for i in range(n)]\n",
    "\n",
    "_type2 = lambda n :       [sym.Symbol('w'+str(i)) for i in range(n//2)] + \\\n",
    "                          [sym.Symbol('w'+str(i)) for i in range(n//2-1,-1,-1)]\n",
    "\n",
    "_type4 = lambda n :       [sym.Symbol('w'+str(i)) for i in range(n//2)] + \\\n",
    "                          [(-1)*sym.Symbol('w'+str(i)) for i in range(n//2-1,-1,-1)]\n",
    "\n",
    "_type1Padded = lambda n : [sym.Symbol('w'+str(i)) for i in range(n//2 - 1)] + \\\n",
    "                          [sym.Symbol('w'+str(n//2-1))] + \\\n",
    "                          [sym.Symbol('w'+str(i)) for i in range(n//2-1-1,-1,-1)] + \\\n",
    "                          [0]\n",
    "\n",
    "_type3Padded = lambda n : [sym.Symbol('w'+str(i)) for i in range(n//2 - 1)] + \\\n",
    "                          [sym.Symbol('w'+str(n//2-1))] + \\\n",
    "                          [(-1)*sym.Symbol('w'+str(i)) for i in range(n//2-1-1,-1,-1)] + \\\n",
    "                          [0]\n",
    "\n",
    "def _halfBand(n):\n",
    "    ws = [0 for _ in range(n)]\n",
    "    if n//2 % 2 == 1:\n",
    "        ws[::2] = _type1Padded(n//2+1)[:-1]\n",
    "    else:\n",
    "        ws[::2] = _type1Padded(n//2)\n",
    "    return ws\n",
    "\n",
    "class CoeffType(enum.Enum):\n",
    "    \"\"\" Enum for coefficient set types \"\"\"\n",
    "    Type1Pad = 1\n",
    "    Type2 = 2\n",
    "    Type3Pad = 3\n",
    "    Type4 = 4\n",
    "    NonLinPhase = 5\n",
    "    HalfBand = 6\n",
    "\n",
    "def genCoeffs(coeffType, n):\n",
    "    \"\"\" Generate symbolic coefficient sets for a given style\n",
    "    \n",
    "        `coeffType` is a `CoeffType` enum\n",
    "        `n` is the number of taps\n",
    "    \"\"\"\n",
    "    if coeffType == CoeffType.Type1Pad:\n",
    "        return _type1Padded(n)\n",
    "    if coeffType == CoeffType.Type2:\n",
    "        return _type2(n)\n",
    "    if coeffType == CoeffType.Type3Pad:\n",
    "        return _type3Padded(n)\n",
    "    if coeffType == CoeffType.Type4:\n",
    "        return _type4(n)\n",
    "    if coeffType == CoeffType.NonLinPhase:\n",
    "        return _nonlinPhase(n)\n",
    "    if coeffType == CoeffType.HalfBand:\n",
    "        return _halfBand(n)"
   ]
  },
  {
   "cell_type": "markdown",
   "id": "da96b416-eb9f-4440-b100-3a4dee8b430f",
   "metadata": {},
   "source": [
    "We'll also implement the equations we have derived for each of these styles. We collect them up into the `ffa_eqns` and `poly_eqns` functions."
   ]
  },
  {
   "cell_type": "code",
   "execution_count": null,
   "id": "surgical-retreat",
   "metadata": {},
   "outputs": [],
   "source": [
    "def ffa_hnlp(par, n):\n",
    "    p = int(log2(par))\n",
    "    return n*3**(p)\n",
    "\n",
    "def ffa_htype2(par, n):\n",
    "    p = int(log2(par))\n",
    "    return ceil(n/2.0)+2*n*sum([3**i for i in range(0,p)])\n",
    "\n",
    "def ffa_htype4(par, n):\n",
    "    p = int(log2(par))\n",
    "    return floor(n/2.0)+2*n*sum([3**i for i in range(0,p)])\n",
    "\n",
    "def ffa_htype1(par, n):\n",
    "    p = int(log2(par))\n",
    "    return n*(2 + sum([3**k for k in range(1,p)]) + 2*sum([sum ([3**j for j in range(0,i+1)]) for i in range(0,p-1)])) + (p-1)*(ceil(n/2.0))\n",
    "\n",
    "def ffa_htype3(par, n):\n",
    "    p = int(log2(par))\n",
    "    return n*(2 + sum([3**k for k in range(1,p)]) + 2*sum([sum ([3**j for j in range(0,i+1)]) for i in range(0,p-1)])) + (p-1)*(floor(n/2.0))\n",
    "\n",
    "def ffa_hhb(par, n):\n",
    "    p = int(log2(par))\n",
    "    if p == 1:\n",
    "        return 2*ceil(n/2.0)\n",
    "    return 2 * ffa_htype1(2**(p-1), n)\n",
    "\n",
    "def ffa_eqns(ctype, par, n):\n",
    "    if ctype == CoeffType.Type1Pad:\n",
    "        return ffa_htype1(par, n)\n",
    "    if ctype == CoeffType.Type2:\n",
    "        return ffa_htype2(par, n)\n",
    "    if ctype == CoeffType.Type3Pad:\n",
    "        return ffa_htype3(par, n)\n",
    "    if ctype == CoeffType.Type4:\n",
    "        return ffa_htype4(par, n)\n",
    "    if ctype == CoeffType.NonLinPhase:\n",
    "        return ffa_hnlp(par, n)\n",
    "    if ctype == CoeffType.HalfBand:\n",
    "        return ffa_hhb(par,n)\n",
    "\n",
    "def poly_eqns(ctype, par, n):\n",
    "    taps = par*n\n",
    "    if ctype == CoeffType.Type1Pad:\n",
    "        return par*ceil(taps/2.0)\n",
    "    if ctype == CoeffType.Type2:\n",
    "        return par*floor(taps/2.0)\n",
    "    if ctype == CoeffType.Type3Pad:\n",
    "        return par*ceil(taps/2.0)\n",
    "    if ctype == CoeffType.Type4:\n",
    "        return par*floor(taps/2.0)\n",
    "    if ctype == CoeffType.NonLinPhase:\n",
    "        return par*taps\n",
    "    if ctype == CoeffType.HalfBand:\n",
    "        return par*ceil(taps/4.0)"
   ]
  },
  {
   "cell_type": "markdown",
   "id": "da08ea2f-bb7b-487f-a2e9-47e723611585",
   "metadata": {},
   "source": [
    "Let's iterate through a set of parallelisms and taps, recording the symbolic reference and our equation results for FFA and polyphase filters. This might take a few minutes!"
   ]
  },
  {
   "cell_type": "code",
   "execution_count": null,
   "id": "yellow-tissue",
   "metadata": {},
   "outputs": [],
   "source": [
    "frame = pd.DataFrame(columns=['FIR', 'CoeffType', 'Parallelism', 'N', 'SubfiltN', 'Mults'])\n",
    "\n",
    "for p in [2,4,8,16]:\n",
    "    print(f'Running p{p}')\n",
    "    for nByP in [1,2,3,4]:\n",
    "        print(f'Running nByP{nByP}')\n",
    "        for coeffType in CoeffType:\n",
    "            ws = genCoeffs(coeffType, p*nByP)\n",
    "            \n",
    "            mults = ffa_eqns(coeffType, p, nByP)\n",
    "            frame = frame.append(dict(FIR='FFAEqn', CoeffType=coeffType.name, Parallelism=p, N=(p*nByP), SubfiltN=nByP, Mults=mults, MultsPerChannel=mults/p), ignore_index=True)\n",
    "            \n",
    "            mults = countMults([uniqAbsTerms(h) for h in hffa(p, ws)])\n",
    "            frame = frame.append(dict(FIR='FFA'  , CoeffType=coeffType.name, Parallelism=p, N=(p*nByP), SubfiltN=nByP, Mults=mults, MultsPerChannel=mults/p), ignore_index=True)\n",
    "            \n",
    "            mults = poly_eqns(coeffType, p, nByP)\n",
    "            frame = frame.append(dict(FIR='PolyEqn', CoeffType=coeffType.name, Parallelism=p, N=(p*nByP), SubfiltN=nByP, Mults=mults, MultsPerChannel=mults/p), ignore_index=True)\n",
    "            \n",
    "            mults = countMults([uniqAbsTerms(h) for h in hpoly(p, ws)])\n",
    "            frame = frame.append(dict(FIR='Poly' , CoeffType=coeffType.name, Parallelism=p, N=(p*nByP), SubfiltN=nByP, Mults=mults, MultsPerChannel=mults/p), ignore_index=True)"
   ]
  },
  {
   "cell_type": "code",
   "execution_count": null,
   "id": "literary-future",
   "metadata": {},
   "outputs": [],
   "source": [
    "frame.to_csv('./outputs/coeffs_sym_and_eqn.csv', index=False, header=True)"
   ]
  },
  {
   "cell_type": "markdown",
   "id": "e23bc503-45a5-4d6f-9873-650636dbd6e4",
   "metadata": {},
   "source": [
    "Most importantly, let's check that our equation outputs match the symbolic reference _exactly_."
   ]
  },
  {
   "cell_type": "code",
   "execution_count": null,
   "id": "a3a8dca9-e651-4406-8d43-c330786bd7c4",
   "metadata": {},
   "outputs": [],
   "source": [
    "all(frame[frame['FIR']=='FFAEqn']['Mults'].values == frame[frame['FIR']=='FFA']['Mults'].values)"
   ]
  },
  {
   "cell_type": "code",
   "execution_count": null,
   "id": "ff239e19-710f-4063-a57a-49a4f8fa45b3",
   "metadata": {},
   "outputs": [],
   "source": [
    "all(frame[frame['FIR']=='PolyEqn']['Mults'].values == frame[frame['FIR']=='Poly']['Mults'].values)"
   ]
  },
  {
   "cell_type": "markdown",
   "id": "dacaef26-ba8b-48d0-8216-3bc0032fdf6a",
   "metadata": {},
   "source": [
    "Woo hoo! We can also plot this if you'd like to explore the results a little more."
   ]
  },
  {
   "cell_type": "code",
   "execution_count": null,
   "id": "suburban-organizer",
   "metadata": {},
   "outputs": [],
   "source": [
    "import plotly.express as px\n",
    "px.line(frame, x='SubfiltN',y='MultsPerChannel', color='FIR', facet_row='Parallelism', facet_col='CoeffType',  category_orders={\"CoeffType\": ['NonLinPhase','Type1Pad','Type2','HalfBand']}, height=1000)"
   ]
  },
  {
   "cell_type": "markdown",
   "id": "0a9e8ebb-8903-4516-903d-dbb18b76958b",
   "metadata": {},
   "source": [
    "We'll re-run our equations only this time... just to generate a small set of results and output it to a set of CSV files for use in the paper, slides, and poster."
   ]
  },
  {
   "cell_type": "code",
   "execution_count": null,
   "id": "colonial-flood",
   "metadata": {},
   "outputs": [],
   "source": [
    "frame = pd.DataFrame(columns=['p', 'structure', 'coeff_type', 'N', 'mults'])\n",
    "\n",
    "for p in [2,4,8,16]:\n",
    "    for coeffType in CoeffType:\n",
    "        for nByP in [1,2,3,4,5]:\n",
    "            ws = genCoeffs(coeffType, p*nByP)\n",
    "            frame = frame.append(dict(\n",
    "                p=p,\n",
    "                structure='FFA',\n",
    "                coeff_type = coeffType.name,\n",
    "                N=(p*nByP),\n",
    "                mults=ffa_eqns(coeffType, p, nByP)\n",
    "            ), ignore_index=True).append(dict(\n",
    "                p=p,\n",
    "                structure='Poly',\n",
    "                coeff_type = coeffType.name,\n",
    "                N=(p*nByP),\n",
    "                mults=poly_eqns(coeffType, p, nByP)\n",
    "            ), ignore_index=True)\n",
    "            \n",
    "frame = frame.pivot(index=['N'], columns=['structure','p', 'coeff_type'], values='mults')\n",
    "frame.columns = ['_'.join([str(c) for c in col]) for col in frame.columns.values]\n",
    "frame.to_csv(f'outputs/coeffs_eqns.csv', index = True, header=True)"
   ]
  }
 ],
 "metadata": {
  "kernelspec": {
   "display_name": "Python3 - python",
   "language": "python",
   "name": "ipython_python"
  },
  "language_info": {
   "codemirror_mode": {
    "name": "ipython",
    "version": 3
   },
   "file_extension": ".py",
   "mimetype": "text/x-python",
   "name": "python",
   "nbconvert_exporter": "python",
   "pygments_lexer": "ipython3",
   "version": "3.8.9"
  }
 },
 "nbformat": 4,
 "nbformat_minor": 5
}
