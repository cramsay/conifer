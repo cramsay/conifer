{
 "cells": [
  {
   "cell_type": "code",
   "execution_count": 1,
   "metadata": {},
   "outputs": [],
   "source": [
    "import numpy as np\n",
    "import pandas as pd\n",
    "from math import *\n",
    "\n",
    "from coeffs import ResponseType, CoeffsMinPhase, CoeffsType1Pad, CoeffsType2, CoeffsHalfBand\n",
    "from filters import SsrFilter, FfaMcmFilter, PolyMcmFilter"
   ]
  },
  {
   "cell_type": "code",
   "execution_count": null,
   "metadata": {},
   "outputs": [
    {
     "name": "stdout",
     "output_type": "stream",
     "text": [
      "{'group': './outputs', 'name': 'Ssr_P2_IB16_FCLK775.0_WS_N2_CB16_minphase_LP_F0-0.3-0.4-1.0', 'structure': 'Ssr', 'in_width': 16, 'c_width': 16, 'parallelism': 2, 'fclk_actual': 1029.8661174047372, 'taps': 2, 'luts': 26, 'regs': 155, 'clbs': 16, 'dsps': 4}\n",
      "{'group': './outputs', 'name': 'PolyMcm_P2_IB16_FCLK775.0_WS_N2_CB16_minphase_LP_F0-0.3-0.4-1.0', 'structure': 'PolyMcm', 'in_width': 16, 'c_width': 16, 'parallelism': 2, 'fclk_actual': 816.9934640522875, 'taps': 2, 'luts': 306, 'regs': 605, 'clbs': 66, 'dsps': 0}\n",
      "{'group': './outputs', 'name': 'FfaMcm_P2_IB16_FCLK775.0_WS_N2_CB16_minphase_LP_F0-0.3-0.4-1.0', 'structure': 'FfaMcm', 'in_width': 16, 'c_width': 16, 'parallelism': 2, 'fclk_actual': 586.8544600938967, 'taps': 2, 'luts': 409, 'regs': 654, 'clbs': 73, 'dsps': 0}\n",
      "{'group': './outputs', 'name': 'Ssr_P2_IB16_FCLK775.0_WS_N2_CB16_type1p_LP_F0-0.3-0.4-1.0', 'structure': 'Ssr', 'in_width': 16, 'c_width': 16, 'parallelism': 2, 'fclk_actual': 977.5171065493645, 'taps': 2, 'luts': 26, 'regs': 153, 'clbs': 15, 'dsps': 4}\n",
      "{'group': './outputs', 'name': 'PolyMcm_P2_IB16_FCLK775.0_WS_N2_CB16_type1p_LP_F0-0.3-0.4-1.0', 'structure': 'PolyMcm', 'in_width': 16, 'c_width': 16, 'parallelism': 2, 'fclk_actual': 1069.51871657754, 'taps': 2, 'luts': 49, 'regs': 68, 'clbs': 11, 'dsps': 0}\n",
      "{'group': './outputs', 'name': 'FfaMcm_P2_IB16_FCLK775.0_WS_N2_CB16_type1p_LP_F0-0.3-0.4-1.0', 'structure': 'FfaMcm', 'in_width': 16, 'c_width': 16, 'parallelism': 2, 'fclk_actual': 798.7220447284345, 'taps': 2, 'luts': 105, 'regs': 169, 'clbs': 24, 'dsps': 0}\n"
     ]
    }
   ],
   "source": [
    "coeff_constrs = [\n",
    "    lambda taps : CoeffsMinPhase(ResponseType.LP, [0,0.3,0.4,1.0], taps, 16),\n",
    "    lambda taps : CoeffsType1Pad(ResponseType.LP, [0,0.3,0.4,1.0], taps, 16),\n",
    "    lambda taps :    CoeffsType2(ResponseType.LP, [0,0.3,0.4,1.0], taps, 16),\n",
    "    lambda taps : CoeffsHalfBand(taps, 16)\n",
    "]\n",
    "\n",
    "fir_constrs = [\n",
    "    lambda par, taps, ws, out_dir :     SsrFilter(par, 16, ws, 775.0, out_dir),\n",
    "    lambda par, taps, ws, out_dir : PolyMcmFilter(par, 16, ws, 775.0, out_dir),\n",
    "    lambda par, taps, ws, out_dir :  FfaMcmFilter(par, 16, ws, 775.0, out_dir),\n",
    "]\n",
    "\n",
    "results = []\n",
    "\n",
    "for par in [2,4,8,16]:\n",
    "    for taps in [2,4,8,16,32,64,128]:\n",
    "        if par > taps:\n",
    "            continue\n",
    "        for f_coef in coeff_constrs:\n",
    "            for f_fir in fir_constrs:\n",
    "                ws = f_coef(taps)\n",
    "                fir = f_fir(par, taps, ws, './outputs')\n",
    "                res = fir.impl()\n",
    "                print(res)\n",
    "                results.append(res)"
   ]
  },
  {
   "cell_type": "code",
   "execution_count": null,
   "metadata": {},
   "outputs": [],
   "source": [
    "import plotly.express as px\n",
    "display(px.line(df, x='taps', facet_col='parallelism',y='clbs', color='structure', log_x=True))\n",
    "display(px.line(df, x='taps', facet_col='parallelism',y='luts', color='structure', log_x=True))\n",
    "display(px.line(df, x='taps', facet_col='parallelism',y='regs', color='structure', log_x=True))\n",
    "display(px.line(df, x='taps', facet_col='parallelism',y='dsps', color='structure', log_x=True))"
   ]
  },
  {
   "cell_type": "code",
   "execution_count": 83,
   "metadata": {},
   "outputs": [],
   "source": [
    "df_export = df.copy()\n",
    "df_export['dsps'] = df_export['dsps']*100/4272\n",
    "df_export = df_export.pivot(index=['taps'], columns=['structure','parallelism'], values='dsps')\n",
    "df_export.columns = ['_'.join([str(c) for c in col]) for col in df_export.columns.values]\n",
    "\n",
    "df_export.to_csv(f'outputs/dsps_{group}.csv', index = True, header=True)"
   ]
  },
  {
   "cell_type": "code",
   "execution_count": 70,
   "metadata": {},
   "outputs": [],
   "source": [
    "df_export = df.copy()\n",
    "df_export['clbs'] = df_export['clbs']*100/53160\n",
    "df_export = df_export.pivot(index=['taps'], columns=['structure','parallelism'], values='clbs')\n",
    "df_export.columns = ['_'.join([str(c) for c in col]) for col in df_export.columns.values]\n",
    "\n",
    "df_export.to_csv(f'outputs/clbs_{group}.csv', index = True, header=True)"
   ]
  }
 ],
 "metadata": {
  "kernelspec": {
   "display_name": "Python3 - python",
   "language": "python",
   "name": "ipython_python"
  },
  "language_info": {
   "codemirror_mode": {
    "name": "ipython",
    "version": 3
   },
   "file_extension": ".py",
   "mimetype": "text/x-python",
   "name": "python",
   "nbconvert_exporter": "python",
   "pygments_lexer": "ipython3",
   "version": "3.8.9"
  }
 },
 "nbformat": 4,
 "nbformat_minor": 4
}
