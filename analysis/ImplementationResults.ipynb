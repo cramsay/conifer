{
 "cells": [
  {
   "cell_type": "markdown",
   "metadata": {},
   "source": [
    "# Generating Implementation Results\n",
    "\n",
    "Here we will programmatically generate implementation results for different instances of our filter designs with Vivado.\n",
    "\n",
    "We'll do a parameter sweep over:\n",
    "  * parallelisms\n",
    "  * number of taps\n",
    "  * type of coefficient set (i.e. minimum/non-linear phase, types I/II/III/IV, or half-band)\n",
    "  * and filter structure (our FFA + MCM, our Polyphase + MMC, and LogiCORE FIR Compiler)\n",
    "\n",
    "Representations of the different coefficient sets are defined in `coeffs.py` and representations and implementation functions for each filter structure are defined in `filters.py`."
   ]
  },
  {
   "cell_type": "code",
   "execution_count": null,
   "metadata": {
    "tags": []
   },
   "outputs": [],
   "source": [
    "import numpy as np\n",
    "import pandas as pd\n",
    "import plotly.express as px\n",
    "from math import *\n",
    "\n",
    "from coeffs import ResponseType, CoeffsMinPhase, CoeffsType1Pad, CoeffsType2, CoeffsHalfBand\n",
    "from filters import SsrFilter, FfaMcmFilter, PolyMcmFilter"
   ]
  },
  {
   "cell_type": "markdown",
   "metadata": {},
   "source": [
    "## Utilisation Results\n",
    "\n",
    "This section generates results for circuit resource usage --- including DSPs, CLBs, LUTs, and FFs.\n",
    "\n",
    "Let's define a few lists of constructors for each coefficient style and each filter structure. After that, all we need is a few nested loops around our `fir.impl()` call. This will take a _while_... somewhere in the order of a whole weekend!"
   ]
  },
  {
   "cell_type": "code",
   "execution_count": null,
   "metadata": {
    "tags": []
   },
   "outputs": [],
   "source": [
    "coeff_constrs = [\n",
    "    lambda taps : CoeffsMinPhase(ResponseType.LP, [0,0.3,0.4,1.0], taps, 16),\n",
    "    lambda taps : CoeffsType1Pad(ResponseType.LP, [0,0.3,0.4,1.0], taps, 16),\n",
    "    lambda taps :    CoeffsType2(ResponseType.LP, [0,0.3,0.4,1.0], taps, 16),\n",
    "    lambda taps : CoeffsHalfBand(taps, 16)\n",
    "]\n",
    "\n",
    "fir_constrs = [\n",
    "    lambda par, taps, ws, out_dir :     SsrFilter(par, 16, ws, 775.0, out_dir),\n",
    "    lambda par, taps, ws, out_dir : PolyMcmFilter(par, 16, ws, 775.0, out_dir),\n",
    "    lambda par, taps, ws, out_dir :  FfaMcmFilter(par, 16, ws, 775.0, out_dir),\n",
    "]\n",
    "\n",
    "results = []\n",
    "\n",
    "for par in [2,4,8,16]:\n",
    "    for taps in [2,4,8,16,32,64,128]:\n",
    "        if par > taps:\n",
    "            continue\n",
    "        for f_coef in coeff_constrs:\n",
    "            for f_fir in fir_constrs:\n",
    "                ws = f_coef(taps)\n",
    "                fir = f_fir(par, taps, ws, './outputs')\n",
    "                res = fir.impl()\n",
    "                print(res)\n",
    "                results.append(res)"
   ]
  },
  {
   "cell_type": "markdown",
   "metadata": {},
   "source": [
    "So we've generated everything we need! All the Vivado runs will be in the `outputs/` folder. While we have the parsed results in memory though, let's save them as a CSV for posterity."
   ]
  },
  {
   "cell_type": "code",
   "execution_count": null,
   "metadata": {},
   "outputs": [],
   "source": [
    "df = pd.DataFrame(results)\n",
    "\n",
    "df.to_csv('outputs/full_impl.csv')"
   ]
  },
  {
   "cell_type": "markdown",
   "metadata": {},
   "source": [
    "And of course, if you want to load the results back in again, you can run `df = pd.read_csv('outputs/full_impl.csv')`.\n",
    "\n",
    "Below we will plot our results for CLB usage, DSP usage."
   ]
  },
  {
   "cell_type": "code",
   "execution_count": null,
   "metadata": {},
   "outputs": [],
   "source": [
    "display(px.line(df, x='taps', facet_col='parallelism', facet_row='coeff_class',y='clbs', color='structure', height=1000))"
   ]
  },
  {
   "cell_type": "code",
   "execution_count": null,
   "metadata": {},
   "outputs": [],
   "source": [
    "display(px.line(df, x='taps', facet_col='parallelism', facet_row='coeff_class',y='dsps', color='structure', height=1000))"
   ]
  },
  {
   "cell_type": "markdown",
   "metadata": {},
   "source": [
    "Let's export a flattened CSV file for each of these metrics. This is a little bit easier to work with in LaTeX/pgfplots than the earlier CSV."
   ]
  },
  {
   "cell_type": "code",
   "execution_count": null,
   "metadata": {},
   "outputs": [],
   "source": [
    "for (field, scale) in [('dsps', 100/4272), ('clbs', 100/53160)]:\n",
    "    df_export = df.copy()\n",
    "    df_export[field] = df_export[field]*scale\n",
    "    df_export = df_export.pivot(index=['taps'], columns=['structure','parallelism', 'coeff_class'], values=field)\n",
    "    df_export.columns = ['_'.join([str(c) for c in col]) for col in df_export.columns.values]\n",
    "\n",
    "    df_export.to_csv(f'outputs/summary_{field}.csv', index = True, header=True)"
   ]
  },
  {
   "cell_type": "markdown",
   "metadata": {},
   "source": [
    "## Maximum Clock Frequency Results\n",
    "\n",
    "We'll rerun a subset of the above tests (let's say only the x8 parallel half-band filters) and try to estimate the maximum clock frequency. We'll implement each design multiple times, searching through a range of frequencies for the highest target frequency which meets timing. The search is directed by the `clkT - WNS` estimate of achieved clock rate.\n",
    "\n",
    "Let's start by implementing our frequency search helper."
   ]
  },
  {
   "cell_type": "code",
   "execution_count": null,
   "metadata": {},
   "outputs": [],
   "source": [
    "def fmax_search(impl_fun, iters, f_start, f_max, f_min):\n",
    "    f_cur = f_start\n",
    "    f_best = 0\n",
    "    res_best = {}\n",
    "    \n",
    "    # Run iterations\n",
    "    for _ in range(iters):\n",
    "        print(f'Trying {f_cur} with range ({f_min}->{f_max})')\n",
    "        \n",
    "        result = impl_fun(f_cur)\n",
    "        f_got = min(f_max, result['fclk_actual']) # Restrict actual range to physically possible\n",
    "        met_timing = result['met_timing']\n",
    "        \n",
    "        print(f'Got clk of {f_got} and met = {met_timing}')\n",
    "        \n",
    "        # Run passed\n",
    "        if met_timing:\n",
    "            if f_cur > f_best:\n",
    "                f_best = f_cur\n",
    "                res_best = result\n",
    "                \n",
    "            if f_max - f_cur < 1:\n",
    "                print(f'Got pretty close to maximum with {f_cur}, stopping early')\n",
    "                return f_best, res_best\n",
    "            # Adjust range to between achieved and max\n",
    "            else:\n",
    "                f_min = max(f_got, f_best)\n",
    "                f_cur = (f_max + f_min)/2\n",
    "\n",
    "        # Run failed, move range left\n",
    "        else:\n",
    "            f_max = max(f_cur, f_best)\n",
    "            f_min = max(f_got, f_best)\n",
    "            f_cur = f_min\n",
    "            \n",
    "    return f_best, res_best"
   ]
  },
  {
   "cell_type": "markdown",
   "metadata": {},
   "source": [
    "Now let's loop through our tests, similar to the utilisation results. Note that we're using the \"loopback\" run now, which implements a full design (not out-of-context) where the filter is in a loop with only AXIS data width converter and AXIS clock converter blocks. We're doing this because the out-of-context implementation doesn't appear to place clocking routing, giving an unrealistic set of timing results. We're implementing with the `Performance_Explore` strategy."
   ]
  },
  {
   "cell_type": "code",
   "execution_count": null,
   "metadata": {
    "tags": []
   },
   "outputs": [],
   "source": [
    "coeff_constrs = [lambda taps : CoeffsHalfBand(taps, 16)]\n",
    "\n",
    "fir_constrs = [\n",
    "    lambda par, taps, ws, out_dir : (lambda f :  FfaMcmFilter(par, 16, ws, f, out_dir).impl(run='loopback')),\n",
    "    lambda par, taps, ws, out_dir : (lambda f : PolyMcmFilter(par, 16, ws, f, out_dir).impl(run='loopback')),\n",
    "    lambda par, taps, ws, out_dir : (lambda f :     SsrFilter(par, 16, ws, f, out_dir).impl(run='loopback')),\n",
    "]\n",
    "\n",
    "clk_results = []\n",
    "\n",
    "for par in [8]:\n",
    "    for taps in [8,16,32,64,128]:\n",
    "        for f_coef in coeff_constrs:\n",
    "            for f_fir in fir_constrs:\n",
    "                ws = f_coef(taps)\n",
    "                f_best, res = fmax_search(\n",
    "                    f_fir(par, taps, ws, './outputs/fmax'),\n",
    "                    6, 775, 775, 400\n",
    "                )\n",
    "                res['fclk_max'] = f_best\n",
    "                print(res)\n",
    "                clk_results.append(res)"
   ]
  },
  {
   "cell_type": "markdown",
   "metadata": {},
   "source": [
    "Let's package the results up as a Pandas dataframe then export the full and summary resutls to CSV."
   ]
  },
  {
   "cell_type": "code",
   "execution_count": null,
   "metadata": {
    "tags": []
   },
   "outputs": [],
   "source": [
    "df_fmax = pd.DataFrame(clk_results)\n",
    "df_fmax.to_csv('outputs/full_fmax.csv')\n",
    "\n",
    "df_export = df_fmax.copy().pivot(index=['taps'], columns=['structure','parallelism', 'coeff_class'], values='fclk_max')\n",
    "df_export.columns = ['_'.join([str(c) for c in col]) for col in df_export.columns.values]\n",
    "df_export.to_csv('outputs/summary_fmax.csv', index = True, header=True)"
   ]
  },
  {
   "cell_type": "markdown",
   "metadata": {},
   "source": [
    "...and a finally we'll plot the results below."
   ]
  },
  {
   "cell_type": "code",
   "execution_count": null,
   "metadata": {},
   "outputs": [],
   "source": [
    "display(px.line(df_fmax, x='taps', facet_col='parallelism', facet_row='coeff_class',y='fclk_max', color='structure'))"
   ]
  }
 ],
 "metadata": {
  "kernelspec": {
   "display_name": "Python3 - python",
   "language": "python",
   "name": "ipython_python"
  },
  "language_info": {
   "codemirror_mode": {
    "name": "ipython",
    "version": 3
   },
   "file_extension": ".py",
   "mimetype": "text/x-python",
   "name": "python",
   "nbconvert_exporter": "python",
   "pygments_lexer": "ipython3",
   "version": "3.8.9"
  }
 },
 "nbformat": 4,
 "nbformat_minor": 4
}
