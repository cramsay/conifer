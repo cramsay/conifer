{
 "cells": [
  {
   "cell_type": "markdown",
   "metadata": {},
   "source": [
    "# Generating Implementation Results\n",
    "\n",
    "Here we will programmatically generate implementation results for different instances of our filter designs with Vivado.\n",
    "\n",
    "We'll do a parameter sweep over:\n",
    "  * parallelisms\n",
    "  * number of taps\n",
    "  * type of coefficient set (i.e. minimum/non-linear phase, types I/II/III/IV, or half-band)\n",
    "  * and filter structure (our FFA + MCM, our Polyphase + MMC, and LogiCORE FIR Compiler)\n",
    "\n",
    "Representations of the different coefficient sets are defined in `coeffs.py` and representations and implementation functions for each filter structure are defined in `filters.py`."
   ]
  },
  {
   "cell_type": "code",
   "execution_count": null,
   "metadata": {
    "tags": []
   },
   "outputs": [],
   "source": [
    "import numpy as np\n",
    "import pandas as pd\n",
    "import plotly.express as px\n",
    "from math import *\n",
    "\n",
    "from coeffs import ResponseType, CoeffsMinPhase, CoeffsType1Pad, CoeffsType2, CoeffsHalfBand\n",
    "from filters import SsrFilter, FfaMcmFilter, PolyMcmFilter"
   ]
  },
  {
   "cell_type": "markdown",
   "metadata": {},
   "source": [
    "Let's define a few lists of constructors for each coefficient style and each filter structure. After that, all we need is a few nested loops around our `fir.impl()` call. This will take a _while_... somewhere in the order of a whole weekend!"
   ]
  },
  {
   "cell_type": "code",
   "execution_count": null,
   "metadata": {
    "tags": []
   },
   "outputs": [],
   "source": [
    "coeff_constrs = [\n",
    "    lambda taps : CoeffsMinPhase(ResponseType.LP, [0,0.3,0.4,1.0], taps, 16),\n",
    "    lambda taps : CoeffsType1Pad(ResponseType.LP, [0,0.3,0.4,1.0], taps, 16),\n",
    "    lambda taps :    CoeffsType2(ResponseType.LP, [0,0.3,0.4,1.0], taps, 16),\n",
    "    lambda taps : CoeffsHalfBand(taps, 16)\n",
    "]\n",
    "\n",
    "fir_constrs = [\n",
    "    lambda par, taps, ws, out_dir :     SsrFilter(par, 16, ws, 775.0, out_dir),\n",
    "    lambda par, taps, ws, out_dir : PolyMcmFilter(par, 16, ws, 775.0, out_dir),\n",
    "    lambda par, taps, ws, out_dir :  FfaMcmFilter(par, 16, ws, 775.0, out_dir),\n",
    "]\n",
    "\n",
    "results = []\n",
    "\n",
    "for par in [2,4,8,16]:\n",
    "    for taps in [2,4,8,16,32,64,128]:\n",
    "        if par > taps:\n",
    "            continue\n",
    "        for f_coef in coeff_constrs:\n",
    "            for f_fir in fir_constrs:\n",
    "                ws = f_coef(taps)\n",
    "                fir = f_fir(par, taps, ws, './outputs')\n",
    "                res = fir.impl()\n",
    "                print(res)\n",
    "                results.append(res)"
   ]
  },
  {
   "cell_type": "markdown",
   "metadata": {},
   "source": [
    "So we've generated everything we need! All the Vivado runs will be in the `outputs/` folder. While we have the parsed results in memory though, let's save them as a CSV for posterity."
   ]
  },
  {
   "cell_type": "code",
   "execution_count": null,
   "metadata": {},
   "outputs": [],
   "source": [
    "df = pd.DataFrame(results)\n",
    "\n",
    "df.to_csv('outputs/full_impl.csv')"
   ]
  },
  {
   "cell_type": "markdown",
   "metadata": {},
   "source": [
    "And of course, if you want to load the results back in again, you can run `df = pd.read_csv('outputs/full_impl.csv')`.\n",
    "\n",
    "Below we will plot our results for CLB usage, DSP usage, and estimated achieved frequency."
   ]
  },
  {
   "cell_type": "code",
   "execution_count": null,
   "metadata": {},
   "outputs": [],
   "source": [
    "display(px.line(df, x='taps', facet_col='parallelism', facet_row='coeff_class',y='clbs', color='structure', height=1000))"
   ]
  },
  {
   "cell_type": "code",
   "execution_count": null,
   "metadata": {},
   "outputs": [],
   "source": [
    "display(px.line(df, x='taps', facet_col='parallelism', facet_row='coeff_class',y='dsps', color='structure', height=1000))"
   ]
  },
  {
   "cell_type": "code",
   "execution_count": null,
   "metadata": {},
   "outputs": [],
   "source": [
    "display(px.line(df, x='taps', facet_col='parallelism', facet_row='coeff_class',y='fclk_actual', color='structure', height=1000))"
   ]
  },
  {
   "cell_type": "markdown",
   "metadata": {},
   "source": [
    "Let's export a flattened CSV file for each of these metrics. This is a little bit easier to work with in LaTeX/pgfplots than the earlier CSV."
   ]
  },
  {
   "cell_type": "code",
   "execution_count": null,
   "metadata": {},
   "outputs": [],
   "source": [
    "for (field, scale) in [('dsps', 100/4272), ('clbs', 100/53160), ('fclk_actual', 1)]:\n",
    "    df_export = df.copy()\n",
    "    df_export[field] = df_export[field]*scale\n",
    "    df_export = df_export.pivot(index=['taps'], columns=['structure','parallelism', 'coeff_class'], values=field)\n",
    "    df_export.columns = ['_'.join([str(c) for c in col]) for col in df_export.columns.values]\n",
    "\n",
    "    df_export.to_csv(f'outputs/summary_{field}.csv', index = True, header=True)"
   ]
  }
 ],
 "metadata": {
  "kernelspec": {
   "display_name": "Python3 - python",
   "language": "python",
   "name": "ipython_python"
  },
  "language_info": {
   "codemirror_mode": {
    "name": "ipython",
    "version": 3
   },
   "file_extension": ".py",
   "mimetype": "text/x-python",
   "name": "python",
   "nbconvert_exporter": "python",
   "pygments_lexer": "ipython3",
   "version": "3.8.9"
  }
 },
 "nbformat": 4,
 "nbformat_minor": 4
}
